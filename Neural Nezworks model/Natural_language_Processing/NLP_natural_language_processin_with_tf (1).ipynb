{
  "nbformat": 4,
  "nbformat_minor": 0,
  "metadata": {
    "colab": {
      "provenance": [],
      "gpuType": "T4",
      "toc_visible": true
    },
    "kernelspec": {
      "name": "python3",
      "display_name": "Python 3"
    },
    "language_info": {
      "name": "python"
    },
    "accelerator": "GPU",
    "widgets": {
      "application/vnd.jupyter.widget-state+json": {
        "2e1444bef99841838edf5aa9c32ecec2": {
          "model_module": "@jupyter-widgets/controls",
          "model_name": "HBoxModel",
          "model_module_version": "1.5.0",
          "state": {
            "_dom_classes": [],
            "_model_module": "@jupyter-widgets/controls",
            "_model_module_version": "1.5.0",
            "_model_name": "HBoxModel",
            "_view_count": null,
            "_view_module": "@jupyter-widgets/controls",
            "_view_module_version": "1.5.0",
            "_view_name": "HBoxView",
            "box_style": "",
            "children": [
              "IPY_MODEL_175d4096f5984d72ad3dd9b80a772882",
              "IPY_MODEL_02531582c4ab40e1a06294f7e2f69a7a",
              "IPY_MODEL_0a8ba0cf78e549e6a84abe89fa032fa4"
            ],
            "layout": "IPY_MODEL_73f80334dd004f7daf017e691f5a7898"
          }
        },
        "175d4096f5984d72ad3dd9b80a772882": {
          "model_module": "@jupyter-widgets/controls",
          "model_name": "HTMLModel",
          "model_module_version": "1.5.0",
          "state": {
            "_dom_classes": [],
            "_model_module": "@jupyter-widgets/controls",
            "_model_module_version": "1.5.0",
            "_model_name": "HTMLModel",
            "_view_count": null,
            "_view_module": "@jupyter-widgets/controls",
            "_view_module_version": "1.5.0",
            "_view_name": "HTMLView",
            "description": "",
            "description_tooltip": null,
            "layout": "IPY_MODEL_0fb0713114f34380926179d8b2d0f0a4",
            "placeholder": "​",
            "style": "IPY_MODEL_f32c078169f844238f203715a92cb2b4",
            "value": "tokenizer_config.json: 100%"
          }
        },
        "02531582c4ab40e1a06294f7e2f69a7a": {
          "model_module": "@jupyter-widgets/controls",
          "model_name": "FloatProgressModel",
          "model_module_version": "1.5.0",
          "state": {
            "_dom_classes": [],
            "_model_module": "@jupyter-widgets/controls",
            "_model_module_version": "1.5.0",
            "_model_name": "FloatProgressModel",
            "_view_count": null,
            "_view_module": "@jupyter-widgets/controls",
            "_view_module_version": "1.5.0",
            "_view_name": "ProgressView",
            "bar_style": "success",
            "description": "",
            "description_tooltip": null,
            "layout": "IPY_MODEL_bc4b9b0f7f6e484688e7300030d6bef4",
            "max": 28,
            "min": 0,
            "orientation": "horizontal",
            "style": "IPY_MODEL_9e88da3ba27443c5bc35e0299a642c51",
            "value": 28
          }
        },
        "0a8ba0cf78e549e6a84abe89fa032fa4": {
          "model_module": "@jupyter-widgets/controls",
          "model_name": "HTMLModel",
          "model_module_version": "1.5.0",
          "state": {
            "_dom_classes": [],
            "_model_module": "@jupyter-widgets/controls",
            "_model_module_version": "1.5.0",
            "_model_name": "HTMLModel",
            "_view_count": null,
            "_view_module": "@jupyter-widgets/controls",
            "_view_module_version": "1.5.0",
            "_view_name": "HTMLView",
            "description": "",
            "description_tooltip": null,
            "layout": "IPY_MODEL_2e62f4e89aab4c74992946ad4da63a56",
            "placeholder": "​",
            "style": "IPY_MODEL_cb19de06115647f489745b3bf14886e2",
            "value": " 28.0/28.0 [00:00&lt;00:00, 1.97kB/s]"
          }
        },
        "73f80334dd004f7daf017e691f5a7898": {
          "model_module": "@jupyter-widgets/base",
          "model_name": "LayoutModel",
          "model_module_version": "1.2.0",
          "state": {
            "_model_module": "@jupyter-widgets/base",
            "_model_module_version": "1.2.0",
            "_model_name": "LayoutModel",
            "_view_count": null,
            "_view_module": "@jupyter-widgets/base",
            "_view_module_version": "1.2.0",
            "_view_name": "LayoutView",
            "align_content": null,
            "align_items": null,
            "align_self": null,
            "border": null,
            "bottom": null,
            "display": null,
            "flex": null,
            "flex_flow": null,
            "grid_area": null,
            "grid_auto_columns": null,
            "grid_auto_flow": null,
            "grid_auto_rows": null,
            "grid_column": null,
            "grid_gap": null,
            "grid_row": null,
            "grid_template_areas": null,
            "grid_template_columns": null,
            "grid_template_rows": null,
            "height": null,
            "justify_content": null,
            "justify_items": null,
            "left": null,
            "margin": null,
            "max_height": null,
            "max_width": null,
            "min_height": null,
            "min_width": null,
            "object_fit": null,
            "object_position": null,
            "order": null,
            "overflow": null,
            "overflow_x": null,
            "overflow_y": null,
            "padding": null,
            "right": null,
            "top": null,
            "visibility": null,
            "width": null
          }
        },
        "0fb0713114f34380926179d8b2d0f0a4": {
          "model_module": "@jupyter-widgets/base",
          "model_name": "LayoutModel",
          "model_module_version": "1.2.0",
          "state": {
            "_model_module": "@jupyter-widgets/base",
            "_model_module_version": "1.2.0",
            "_model_name": "LayoutModel",
            "_view_count": null,
            "_view_module": "@jupyter-widgets/base",
            "_view_module_version": "1.2.0",
            "_view_name": "LayoutView",
            "align_content": null,
            "align_items": null,
            "align_self": null,
            "border": null,
            "bottom": null,
            "display": null,
            "flex": null,
            "flex_flow": null,
            "grid_area": null,
            "grid_auto_columns": null,
            "grid_auto_flow": null,
            "grid_auto_rows": null,
            "grid_column": null,
            "grid_gap": null,
            "grid_row": null,
            "grid_template_areas": null,
            "grid_template_columns": null,
            "grid_template_rows": null,
            "height": null,
            "justify_content": null,
            "justify_items": null,
            "left": null,
            "margin": null,
            "max_height": null,
            "max_width": null,
            "min_height": null,
            "min_width": null,
            "object_fit": null,
            "object_position": null,
            "order": null,
            "overflow": null,
            "overflow_x": null,
            "overflow_y": null,
            "padding": null,
            "right": null,
            "top": null,
            "visibility": null,
            "width": null
          }
        },
        "f32c078169f844238f203715a92cb2b4": {
          "model_module": "@jupyter-widgets/controls",
          "model_name": "DescriptionStyleModel",
          "model_module_version": "1.5.0",
          "state": {
            "_model_module": "@jupyter-widgets/controls",
            "_model_module_version": "1.5.0",
            "_model_name": "DescriptionStyleModel",
            "_view_count": null,
            "_view_module": "@jupyter-widgets/base",
            "_view_module_version": "1.2.0",
            "_view_name": "StyleView",
            "description_width": ""
          }
        },
        "bc4b9b0f7f6e484688e7300030d6bef4": {
          "model_module": "@jupyter-widgets/base",
          "model_name": "LayoutModel",
          "model_module_version": "1.2.0",
          "state": {
            "_model_module": "@jupyter-widgets/base",
            "_model_module_version": "1.2.0",
            "_model_name": "LayoutModel",
            "_view_count": null,
            "_view_module": "@jupyter-widgets/base",
            "_view_module_version": "1.2.0",
            "_view_name": "LayoutView",
            "align_content": null,
            "align_items": null,
            "align_self": null,
            "border": null,
            "bottom": null,
            "display": null,
            "flex": null,
            "flex_flow": null,
            "grid_area": null,
            "grid_auto_columns": null,
            "grid_auto_flow": null,
            "grid_auto_rows": null,
            "grid_column": null,
            "grid_gap": null,
            "grid_row": null,
            "grid_template_areas": null,
            "grid_template_columns": null,
            "grid_template_rows": null,
            "height": null,
            "justify_content": null,
            "justify_items": null,
            "left": null,
            "margin": null,
            "max_height": null,
            "max_width": null,
            "min_height": null,
            "min_width": null,
            "object_fit": null,
            "object_position": null,
            "order": null,
            "overflow": null,
            "overflow_x": null,
            "overflow_y": null,
            "padding": null,
            "right": null,
            "top": null,
            "visibility": null,
            "width": null
          }
        },
        "9e88da3ba27443c5bc35e0299a642c51": {
          "model_module": "@jupyter-widgets/controls",
          "model_name": "ProgressStyleModel",
          "model_module_version": "1.5.0",
          "state": {
            "_model_module": "@jupyter-widgets/controls",
            "_model_module_version": "1.5.0",
            "_model_name": "ProgressStyleModel",
            "_view_count": null,
            "_view_module": "@jupyter-widgets/base",
            "_view_module_version": "1.2.0",
            "_view_name": "StyleView",
            "bar_color": null,
            "description_width": ""
          }
        },
        "2e62f4e89aab4c74992946ad4da63a56": {
          "model_module": "@jupyter-widgets/base",
          "model_name": "LayoutModel",
          "model_module_version": "1.2.0",
          "state": {
            "_model_module": "@jupyter-widgets/base",
            "_model_module_version": "1.2.0",
            "_model_name": "LayoutModel",
            "_view_count": null,
            "_view_module": "@jupyter-widgets/base",
            "_view_module_version": "1.2.0",
            "_view_name": "LayoutView",
            "align_content": null,
            "align_items": null,
            "align_self": null,
            "border": null,
            "bottom": null,
            "display": null,
            "flex": null,
            "flex_flow": null,
            "grid_area": null,
            "grid_auto_columns": null,
            "grid_auto_flow": null,
            "grid_auto_rows": null,
            "grid_column": null,
            "grid_gap": null,
            "grid_row": null,
            "grid_template_areas": null,
            "grid_template_columns": null,
            "grid_template_rows": null,
            "height": null,
            "justify_content": null,
            "justify_items": null,
            "left": null,
            "margin": null,
            "max_height": null,
            "max_width": null,
            "min_height": null,
            "min_width": null,
            "object_fit": null,
            "object_position": null,
            "order": null,
            "overflow": null,
            "overflow_x": null,
            "overflow_y": null,
            "padding": null,
            "right": null,
            "top": null,
            "visibility": null,
            "width": null
          }
        },
        "cb19de06115647f489745b3bf14886e2": {
          "model_module": "@jupyter-widgets/controls",
          "model_name": "DescriptionStyleModel",
          "model_module_version": "1.5.0",
          "state": {
            "_model_module": "@jupyter-widgets/controls",
            "_model_module_version": "1.5.0",
            "_model_name": "DescriptionStyleModel",
            "_view_count": null,
            "_view_module": "@jupyter-widgets/base",
            "_view_module_version": "1.2.0",
            "_view_name": "StyleView",
            "description_width": ""
          }
        },
        "2526e0e933e94a07b7a6f74d30c885b0": {
          "model_module": "@jupyter-widgets/controls",
          "model_name": "HBoxModel",
          "model_module_version": "1.5.0",
          "state": {
            "_dom_classes": [],
            "_model_module": "@jupyter-widgets/controls",
            "_model_module_version": "1.5.0",
            "_model_name": "HBoxModel",
            "_view_count": null,
            "_view_module": "@jupyter-widgets/controls",
            "_view_module_version": "1.5.0",
            "_view_name": "HBoxView",
            "box_style": "",
            "children": [
              "IPY_MODEL_bf6947f81c674f52a41b743365973210",
              "IPY_MODEL_67be9d46f5f64ba7a8c2b0ce9ba353f4",
              "IPY_MODEL_f601195760b245409f54512ee484f675"
            ],
            "layout": "IPY_MODEL_7a54fba7b2ad40cf8dd53d8f0088792b"
          }
        },
        "bf6947f81c674f52a41b743365973210": {
          "model_module": "@jupyter-widgets/controls",
          "model_name": "HTMLModel",
          "model_module_version": "1.5.0",
          "state": {
            "_dom_classes": [],
            "_model_module": "@jupyter-widgets/controls",
            "_model_module_version": "1.5.0",
            "_model_name": "HTMLModel",
            "_view_count": null,
            "_view_module": "@jupyter-widgets/controls",
            "_view_module_version": "1.5.0",
            "_view_name": "HTMLView",
            "description": "",
            "description_tooltip": null,
            "layout": "IPY_MODEL_57479f5a27774c78a6aceb288a2e1b28",
            "placeholder": "​",
            "style": "IPY_MODEL_66d10a3faf184a9b813deebe3388c1f2",
            "value": "vocab.txt: 100%"
          }
        },
        "67be9d46f5f64ba7a8c2b0ce9ba353f4": {
          "model_module": "@jupyter-widgets/controls",
          "model_name": "FloatProgressModel",
          "model_module_version": "1.5.0",
          "state": {
            "_dom_classes": [],
            "_model_module": "@jupyter-widgets/controls",
            "_model_module_version": "1.5.0",
            "_model_name": "FloatProgressModel",
            "_view_count": null,
            "_view_module": "@jupyter-widgets/controls",
            "_view_module_version": "1.5.0",
            "_view_name": "ProgressView",
            "bar_style": "success",
            "description": "",
            "description_tooltip": null,
            "layout": "IPY_MODEL_b012a5dfea134a7ea8ffe994fce5831b",
            "max": 231508,
            "min": 0,
            "orientation": "horizontal",
            "style": "IPY_MODEL_aa28ab4c221f4dc4bdae5742bba0e376",
            "value": 231508
          }
        },
        "f601195760b245409f54512ee484f675": {
          "model_module": "@jupyter-widgets/controls",
          "model_name": "HTMLModel",
          "model_module_version": "1.5.0",
          "state": {
            "_dom_classes": [],
            "_model_module": "@jupyter-widgets/controls",
            "_model_module_version": "1.5.0",
            "_model_name": "HTMLModel",
            "_view_count": null,
            "_view_module": "@jupyter-widgets/controls",
            "_view_module_version": "1.5.0",
            "_view_name": "HTMLView",
            "description": "",
            "description_tooltip": null,
            "layout": "IPY_MODEL_956aff487e5d47dfbf70c046066daee2",
            "placeholder": "​",
            "style": "IPY_MODEL_728781fffd8d49e587c38676ee84476a",
            "value": " 232k/232k [00:00&lt;00:00, 5.26MB/s]"
          }
        },
        "7a54fba7b2ad40cf8dd53d8f0088792b": {
          "model_module": "@jupyter-widgets/base",
          "model_name": "LayoutModel",
          "model_module_version": "1.2.0",
          "state": {
            "_model_module": "@jupyter-widgets/base",
            "_model_module_version": "1.2.0",
            "_model_name": "LayoutModel",
            "_view_count": null,
            "_view_module": "@jupyter-widgets/base",
            "_view_module_version": "1.2.0",
            "_view_name": "LayoutView",
            "align_content": null,
            "align_items": null,
            "align_self": null,
            "border": null,
            "bottom": null,
            "display": null,
            "flex": null,
            "flex_flow": null,
            "grid_area": null,
            "grid_auto_columns": null,
            "grid_auto_flow": null,
            "grid_auto_rows": null,
            "grid_column": null,
            "grid_gap": null,
            "grid_row": null,
            "grid_template_areas": null,
            "grid_template_columns": null,
            "grid_template_rows": null,
            "height": null,
            "justify_content": null,
            "justify_items": null,
            "left": null,
            "margin": null,
            "max_height": null,
            "max_width": null,
            "min_height": null,
            "min_width": null,
            "object_fit": null,
            "object_position": null,
            "order": null,
            "overflow": null,
            "overflow_x": null,
            "overflow_y": null,
            "padding": null,
            "right": null,
            "top": null,
            "visibility": null,
            "width": null
          }
        },
        "57479f5a27774c78a6aceb288a2e1b28": {
          "model_module": "@jupyter-widgets/base",
          "model_name": "LayoutModel",
          "model_module_version": "1.2.0",
          "state": {
            "_model_module": "@jupyter-widgets/base",
            "_model_module_version": "1.2.0",
            "_model_name": "LayoutModel",
            "_view_count": null,
            "_view_module": "@jupyter-widgets/base",
            "_view_module_version": "1.2.0",
            "_view_name": "LayoutView",
            "align_content": null,
            "align_items": null,
            "align_self": null,
            "border": null,
            "bottom": null,
            "display": null,
            "flex": null,
            "flex_flow": null,
            "grid_area": null,
            "grid_auto_columns": null,
            "grid_auto_flow": null,
            "grid_auto_rows": null,
            "grid_column": null,
            "grid_gap": null,
            "grid_row": null,
            "grid_template_areas": null,
            "grid_template_columns": null,
            "grid_template_rows": null,
            "height": null,
            "justify_content": null,
            "justify_items": null,
            "left": null,
            "margin": null,
            "max_height": null,
            "max_width": null,
            "min_height": null,
            "min_width": null,
            "object_fit": null,
            "object_position": null,
            "order": null,
            "overflow": null,
            "overflow_x": null,
            "overflow_y": null,
            "padding": null,
            "right": null,
            "top": null,
            "visibility": null,
            "width": null
          }
        },
        "66d10a3faf184a9b813deebe3388c1f2": {
          "model_module": "@jupyter-widgets/controls",
          "model_name": "DescriptionStyleModel",
          "model_module_version": "1.5.0",
          "state": {
            "_model_module": "@jupyter-widgets/controls",
            "_model_module_version": "1.5.0",
            "_model_name": "DescriptionStyleModel",
            "_view_count": null,
            "_view_module": "@jupyter-widgets/base",
            "_view_module_version": "1.2.0",
            "_view_name": "StyleView",
            "description_width": ""
          }
        },
        "b012a5dfea134a7ea8ffe994fce5831b": {
          "model_module": "@jupyter-widgets/base",
          "model_name": "LayoutModel",
          "model_module_version": "1.2.0",
          "state": {
            "_model_module": "@jupyter-widgets/base",
            "_model_module_version": "1.2.0",
            "_model_name": "LayoutModel",
            "_view_count": null,
            "_view_module": "@jupyter-widgets/base",
            "_view_module_version": "1.2.0",
            "_view_name": "LayoutView",
            "align_content": null,
            "align_items": null,
            "align_self": null,
            "border": null,
            "bottom": null,
            "display": null,
            "flex": null,
            "flex_flow": null,
            "grid_area": null,
            "grid_auto_columns": null,
            "grid_auto_flow": null,
            "grid_auto_rows": null,
            "grid_column": null,
            "grid_gap": null,
            "grid_row": null,
            "grid_template_areas": null,
            "grid_template_columns": null,
            "grid_template_rows": null,
            "height": null,
            "justify_content": null,
            "justify_items": null,
            "left": null,
            "margin": null,
            "max_height": null,
            "max_width": null,
            "min_height": null,
            "min_width": null,
            "object_fit": null,
            "object_position": null,
            "order": null,
            "overflow": null,
            "overflow_x": null,
            "overflow_y": null,
            "padding": null,
            "right": null,
            "top": null,
            "visibility": null,
            "width": null
          }
        },
        "aa28ab4c221f4dc4bdae5742bba0e376": {
          "model_module": "@jupyter-widgets/controls",
          "model_name": "ProgressStyleModel",
          "model_module_version": "1.5.0",
          "state": {
            "_model_module": "@jupyter-widgets/controls",
            "_model_module_version": "1.5.0",
            "_model_name": "ProgressStyleModel",
            "_view_count": null,
            "_view_module": "@jupyter-widgets/base",
            "_view_module_version": "1.2.0",
            "_view_name": "StyleView",
            "bar_color": null,
            "description_width": ""
          }
        },
        "956aff487e5d47dfbf70c046066daee2": {
          "model_module": "@jupyter-widgets/base",
          "model_name": "LayoutModel",
          "model_module_version": "1.2.0",
          "state": {
            "_model_module": "@jupyter-widgets/base",
            "_model_module_version": "1.2.0",
            "_model_name": "LayoutModel",
            "_view_count": null,
            "_view_module": "@jupyter-widgets/base",
            "_view_module_version": "1.2.0",
            "_view_name": "LayoutView",
            "align_content": null,
            "align_items": null,
            "align_self": null,
            "border": null,
            "bottom": null,
            "display": null,
            "flex": null,
            "flex_flow": null,
            "grid_area": null,
            "grid_auto_columns": null,
            "grid_auto_flow": null,
            "grid_auto_rows": null,
            "grid_column": null,
            "grid_gap": null,
            "grid_row": null,
            "grid_template_areas": null,
            "grid_template_columns": null,
            "grid_template_rows": null,
            "height": null,
            "justify_content": null,
            "justify_items": null,
            "left": null,
            "margin": null,
            "max_height": null,
            "max_width": null,
            "min_height": null,
            "min_width": null,
            "object_fit": null,
            "object_position": null,
            "order": null,
            "overflow": null,
            "overflow_x": null,
            "overflow_y": null,
            "padding": null,
            "right": null,
            "top": null,
            "visibility": null,
            "width": null
          }
        },
        "728781fffd8d49e587c38676ee84476a": {
          "model_module": "@jupyter-widgets/controls",
          "model_name": "DescriptionStyleModel",
          "model_module_version": "1.5.0",
          "state": {
            "_model_module": "@jupyter-widgets/controls",
            "_model_module_version": "1.5.0",
            "_model_name": "DescriptionStyleModel",
            "_view_count": null,
            "_view_module": "@jupyter-widgets/base",
            "_view_module_version": "1.2.0",
            "_view_name": "StyleView",
            "description_width": ""
          }
        },
        "bc63b948ba9b4881baa621593d57ff6c": {
          "model_module": "@jupyter-widgets/controls",
          "model_name": "HBoxModel",
          "model_module_version": "1.5.0",
          "state": {
            "_dom_classes": [],
            "_model_module": "@jupyter-widgets/controls",
            "_model_module_version": "1.5.0",
            "_model_name": "HBoxModel",
            "_view_count": null,
            "_view_module": "@jupyter-widgets/controls",
            "_view_module_version": "1.5.0",
            "_view_name": "HBoxView",
            "box_style": "",
            "children": [
              "IPY_MODEL_81543e7bd79b4a0fbc174d2e21c447dc",
              "IPY_MODEL_9ecc834404a349a4b0a57180c47d4371",
              "IPY_MODEL_5a389a23e6cf471eaf71e8c73fda604a"
            ],
            "layout": "IPY_MODEL_bf10a788de644ab4b34b13249166bcf4"
          }
        },
        "81543e7bd79b4a0fbc174d2e21c447dc": {
          "model_module": "@jupyter-widgets/controls",
          "model_name": "HTMLModel",
          "model_module_version": "1.5.0",
          "state": {
            "_dom_classes": [],
            "_model_module": "@jupyter-widgets/controls",
            "_model_module_version": "1.5.0",
            "_model_name": "HTMLModel",
            "_view_count": null,
            "_view_module": "@jupyter-widgets/controls",
            "_view_module_version": "1.5.0",
            "_view_name": "HTMLView",
            "description": "",
            "description_tooltip": null,
            "layout": "IPY_MODEL_f32eeb236ccb452aa63f78e700d09eef",
            "placeholder": "​",
            "style": "IPY_MODEL_7601d4c84bf745f1b24e6afe4a5c9bb4",
            "value": "tokenizer.json: 100%"
          }
        },
        "9ecc834404a349a4b0a57180c47d4371": {
          "model_module": "@jupyter-widgets/controls",
          "model_name": "FloatProgressModel",
          "model_module_version": "1.5.0",
          "state": {
            "_dom_classes": [],
            "_model_module": "@jupyter-widgets/controls",
            "_model_module_version": "1.5.0",
            "_model_name": "FloatProgressModel",
            "_view_count": null,
            "_view_module": "@jupyter-widgets/controls",
            "_view_module_version": "1.5.0",
            "_view_name": "ProgressView",
            "bar_style": "success",
            "description": "",
            "description_tooltip": null,
            "layout": "IPY_MODEL_f53f618473894c068b0a2b52205ec154",
            "max": 466062,
            "min": 0,
            "orientation": "horizontal",
            "style": "IPY_MODEL_129601499a354d1dacd47faa276ec0e2",
            "value": 466062
          }
        },
        "5a389a23e6cf471eaf71e8c73fda604a": {
          "model_module": "@jupyter-widgets/controls",
          "model_name": "HTMLModel",
          "model_module_version": "1.5.0",
          "state": {
            "_dom_classes": [],
            "_model_module": "@jupyter-widgets/controls",
            "_model_module_version": "1.5.0",
            "_model_name": "HTMLModel",
            "_view_count": null,
            "_view_module": "@jupyter-widgets/controls",
            "_view_module_version": "1.5.0",
            "_view_name": "HTMLView",
            "description": "",
            "description_tooltip": null,
            "layout": "IPY_MODEL_7ce0639c57ec49c4805dfd4882906f62",
            "placeholder": "​",
            "style": "IPY_MODEL_9ff97e948e944a05959514b1828859a4",
            "value": " 466k/466k [00:00&lt;00:00, 19.3MB/s]"
          }
        },
        "bf10a788de644ab4b34b13249166bcf4": {
          "model_module": "@jupyter-widgets/base",
          "model_name": "LayoutModel",
          "model_module_version": "1.2.0",
          "state": {
            "_model_module": "@jupyter-widgets/base",
            "_model_module_version": "1.2.0",
            "_model_name": "LayoutModel",
            "_view_count": null,
            "_view_module": "@jupyter-widgets/base",
            "_view_module_version": "1.2.0",
            "_view_name": "LayoutView",
            "align_content": null,
            "align_items": null,
            "align_self": null,
            "border": null,
            "bottom": null,
            "display": null,
            "flex": null,
            "flex_flow": null,
            "grid_area": null,
            "grid_auto_columns": null,
            "grid_auto_flow": null,
            "grid_auto_rows": null,
            "grid_column": null,
            "grid_gap": null,
            "grid_row": null,
            "grid_template_areas": null,
            "grid_template_columns": null,
            "grid_template_rows": null,
            "height": null,
            "justify_content": null,
            "justify_items": null,
            "left": null,
            "margin": null,
            "max_height": null,
            "max_width": null,
            "min_height": null,
            "min_width": null,
            "object_fit": null,
            "object_position": null,
            "order": null,
            "overflow": null,
            "overflow_x": null,
            "overflow_y": null,
            "padding": null,
            "right": null,
            "top": null,
            "visibility": null,
            "width": null
          }
        },
        "f32eeb236ccb452aa63f78e700d09eef": {
          "model_module": "@jupyter-widgets/base",
          "model_name": "LayoutModel",
          "model_module_version": "1.2.0",
          "state": {
            "_model_module": "@jupyter-widgets/base",
            "_model_module_version": "1.2.0",
            "_model_name": "LayoutModel",
            "_view_count": null,
            "_view_module": "@jupyter-widgets/base",
            "_view_module_version": "1.2.0",
            "_view_name": "LayoutView",
            "align_content": null,
            "align_items": null,
            "align_self": null,
            "border": null,
            "bottom": null,
            "display": null,
            "flex": null,
            "flex_flow": null,
            "grid_area": null,
            "grid_auto_columns": null,
            "grid_auto_flow": null,
            "grid_auto_rows": null,
            "grid_column": null,
            "grid_gap": null,
            "grid_row": null,
            "grid_template_areas": null,
            "grid_template_columns": null,
            "grid_template_rows": null,
            "height": null,
            "justify_content": null,
            "justify_items": null,
            "left": null,
            "margin": null,
            "max_height": null,
            "max_width": null,
            "min_height": null,
            "min_width": null,
            "object_fit": null,
            "object_position": null,
            "order": null,
            "overflow": null,
            "overflow_x": null,
            "overflow_y": null,
            "padding": null,
            "right": null,
            "top": null,
            "visibility": null,
            "width": null
          }
        },
        "7601d4c84bf745f1b24e6afe4a5c9bb4": {
          "model_module": "@jupyter-widgets/controls",
          "model_name": "DescriptionStyleModel",
          "model_module_version": "1.5.0",
          "state": {
            "_model_module": "@jupyter-widgets/controls",
            "_model_module_version": "1.5.0",
            "_model_name": "DescriptionStyleModel",
            "_view_count": null,
            "_view_module": "@jupyter-widgets/base",
            "_view_module_version": "1.2.0",
            "_view_name": "StyleView",
            "description_width": ""
          }
        },
        "f53f618473894c068b0a2b52205ec154": {
          "model_module": "@jupyter-widgets/base",
          "model_name": "LayoutModel",
          "model_module_version": "1.2.0",
          "state": {
            "_model_module": "@jupyter-widgets/base",
            "_model_module_version": "1.2.0",
            "_model_name": "LayoutModel",
            "_view_count": null,
            "_view_module": "@jupyter-widgets/base",
            "_view_module_version": "1.2.0",
            "_view_name": "LayoutView",
            "align_content": null,
            "align_items": null,
            "align_self": null,
            "border": null,
            "bottom": null,
            "display": null,
            "flex": null,
            "flex_flow": null,
            "grid_area": null,
            "grid_auto_columns": null,
            "grid_auto_flow": null,
            "grid_auto_rows": null,
            "grid_column": null,
            "grid_gap": null,
            "grid_row": null,
            "grid_template_areas": null,
            "grid_template_columns": null,
            "grid_template_rows": null,
            "height": null,
            "justify_content": null,
            "justify_items": null,
            "left": null,
            "margin": null,
            "max_height": null,
            "max_width": null,
            "min_height": null,
            "min_width": null,
            "object_fit": null,
            "object_position": null,
            "order": null,
            "overflow": null,
            "overflow_x": null,
            "overflow_y": null,
            "padding": null,
            "right": null,
            "top": null,
            "visibility": null,
            "width": null
          }
        },
        "129601499a354d1dacd47faa276ec0e2": {
          "model_module": "@jupyter-widgets/controls",
          "model_name": "ProgressStyleModel",
          "model_module_version": "1.5.0",
          "state": {
            "_model_module": "@jupyter-widgets/controls",
            "_model_module_version": "1.5.0",
            "_model_name": "ProgressStyleModel",
            "_view_count": null,
            "_view_module": "@jupyter-widgets/base",
            "_view_module_version": "1.2.0",
            "_view_name": "StyleView",
            "bar_color": null,
            "description_width": ""
          }
        },
        "7ce0639c57ec49c4805dfd4882906f62": {
          "model_module": "@jupyter-widgets/base",
          "model_name": "LayoutModel",
          "model_module_version": "1.2.0",
          "state": {
            "_model_module": "@jupyter-widgets/base",
            "_model_module_version": "1.2.0",
            "_model_name": "LayoutModel",
            "_view_count": null,
            "_view_module": "@jupyter-widgets/base",
            "_view_module_version": "1.2.0",
            "_view_name": "LayoutView",
            "align_content": null,
            "align_items": null,
            "align_self": null,
            "border": null,
            "bottom": null,
            "display": null,
            "flex": null,
            "flex_flow": null,
            "grid_area": null,
            "grid_auto_columns": null,
            "grid_auto_flow": null,
            "grid_auto_rows": null,
            "grid_column": null,
            "grid_gap": null,
            "grid_row": null,
            "grid_template_areas": null,
            "grid_template_columns": null,
            "grid_template_rows": null,
            "height": null,
            "justify_content": null,
            "justify_items": null,
            "left": null,
            "margin": null,
            "max_height": null,
            "max_width": null,
            "min_height": null,
            "min_width": null,
            "object_fit": null,
            "object_position": null,
            "order": null,
            "overflow": null,
            "overflow_x": null,
            "overflow_y": null,
            "padding": null,
            "right": null,
            "top": null,
            "visibility": null,
            "width": null
          }
        },
        "9ff97e948e944a05959514b1828859a4": {
          "model_module": "@jupyter-widgets/controls",
          "model_name": "DescriptionStyleModel",
          "model_module_version": "1.5.0",
          "state": {
            "_model_module": "@jupyter-widgets/controls",
            "_model_module_version": "1.5.0",
            "_model_name": "DescriptionStyleModel",
            "_view_count": null,
            "_view_module": "@jupyter-widgets/base",
            "_view_module_version": "1.2.0",
            "_view_name": "StyleView",
            "description_width": ""
          }
        },
        "29a36628272544c6993c53bec64a07f0": {
          "model_module": "@jupyter-widgets/controls",
          "model_name": "HBoxModel",
          "model_module_version": "1.5.0",
          "state": {
            "_dom_classes": [],
            "_model_module": "@jupyter-widgets/controls",
            "_model_module_version": "1.5.0",
            "_model_name": "HBoxModel",
            "_view_count": null,
            "_view_module": "@jupyter-widgets/controls",
            "_view_module_version": "1.5.0",
            "_view_name": "HBoxView",
            "box_style": "",
            "children": [
              "IPY_MODEL_339e0ad007d04f0491997d1919ab9cb3",
              "IPY_MODEL_995c8b5ff41a4438a148fc3964927880",
              "IPY_MODEL_30021a806dd44fd68a22d48025a85187"
            ],
            "layout": "IPY_MODEL_440297e1392244a99f1c132c73e0d67a"
          }
        },
        "339e0ad007d04f0491997d1919ab9cb3": {
          "model_module": "@jupyter-widgets/controls",
          "model_name": "HTMLModel",
          "model_module_version": "1.5.0",
          "state": {
            "_dom_classes": [],
            "_model_module": "@jupyter-widgets/controls",
            "_model_module_version": "1.5.0",
            "_model_name": "HTMLModel",
            "_view_count": null,
            "_view_module": "@jupyter-widgets/controls",
            "_view_module_version": "1.5.0",
            "_view_name": "HTMLView",
            "description": "",
            "description_tooltip": null,
            "layout": "IPY_MODEL_af05dfccb66149b0a0cc21eddb0f0c64",
            "placeholder": "​",
            "style": "IPY_MODEL_b69aa3be06bb4409a271bf3714a6197d",
            "value": "config.json: 100%"
          }
        },
        "995c8b5ff41a4438a148fc3964927880": {
          "model_module": "@jupyter-widgets/controls",
          "model_name": "FloatProgressModel",
          "model_module_version": "1.5.0",
          "state": {
            "_dom_classes": [],
            "_model_module": "@jupyter-widgets/controls",
            "_model_module_version": "1.5.0",
            "_model_name": "FloatProgressModel",
            "_view_count": null,
            "_view_module": "@jupyter-widgets/controls",
            "_view_module_version": "1.5.0",
            "_view_name": "ProgressView",
            "bar_style": "success",
            "description": "",
            "description_tooltip": null,
            "layout": "IPY_MODEL_574d3bfc3b184c199a37a2735bfe2d2c",
            "max": 570,
            "min": 0,
            "orientation": "horizontal",
            "style": "IPY_MODEL_ea16d931802243aa8a592ad1e20944a1",
            "value": 570
          }
        },
        "30021a806dd44fd68a22d48025a85187": {
          "model_module": "@jupyter-widgets/controls",
          "model_name": "HTMLModel",
          "model_module_version": "1.5.0",
          "state": {
            "_dom_classes": [],
            "_model_module": "@jupyter-widgets/controls",
            "_model_module_version": "1.5.0",
            "_model_name": "HTMLModel",
            "_view_count": null,
            "_view_module": "@jupyter-widgets/controls",
            "_view_module_version": "1.5.0",
            "_view_name": "HTMLView",
            "description": "",
            "description_tooltip": null,
            "layout": "IPY_MODEL_e5e63fc4ff8540d0a312c18c2752e279",
            "placeholder": "​",
            "style": "IPY_MODEL_45ef5a7b476945a7981dc8c08b80916e",
            "value": " 570/570 [00:00&lt;00:00, 40.6kB/s]"
          }
        },
        "440297e1392244a99f1c132c73e0d67a": {
          "model_module": "@jupyter-widgets/base",
          "model_name": "LayoutModel",
          "model_module_version": "1.2.0",
          "state": {
            "_model_module": "@jupyter-widgets/base",
            "_model_module_version": "1.2.0",
            "_model_name": "LayoutModel",
            "_view_count": null,
            "_view_module": "@jupyter-widgets/base",
            "_view_module_version": "1.2.0",
            "_view_name": "LayoutView",
            "align_content": null,
            "align_items": null,
            "align_self": null,
            "border": null,
            "bottom": null,
            "display": null,
            "flex": null,
            "flex_flow": null,
            "grid_area": null,
            "grid_auto_columns": null,
            "grid_auto_flow": null,
            "grid_auto_rows": null,
            "grid_column": null,
            "grid_gap": null,
            "grid_row": null,
            "grid_template_areas": null,
            "grid_template_columns": null,
            "grid_template_rows": null,
            "height": null,
            "justify_content": null,
            "justify_items": null,
            "left": null,
            "margin": null,
            "max_height": null,
            "max_width": null,
            "min_height": null,
            "min_width": null,
            "object_fit": null,
            "object_position": null,
            "order": null,
            "overflow": null,
            "overflow_x": null,
            "overflow_y": null,
            "padding": null,
            "right": null,
            "top": null,
            "visibility": null,
            "width": null
          }
        },
        "af05dfccb66149b0a0cc21eddb0f0c64": {
          "model_module": "@jupyter-widgets/base",
          "model_name": "LayoutModel",
          "model_module_version": "1.2.0",
          "state": {
            "_model_module": "@jupyter-widgets/base",
            "_model_module_version": "1.2.0",
            "_model_name": "LayoutModel",
            "_view_count": null,
            "_view_module": "@jupyter-widgets/base",
            "_view_module_version": "1.2.0",
            "_view_name": "LayoutView",
            "align_content": null,
            "align_items": null,
            "align_self": null,
            "border": null,
            "bottom": null,
            "display": null,
            "flex": null,
            "flex_flow": null,
            "grid_area": null,
            "grid_auto_columns": null,
            "grid_auto_flow": null,
            "grid_auto_rows": null,
            "grid_column": null,
            "grid_gap": null,
            "grid_row": null,
            "grid_template_areas": null,
            "grid_template_columns": null,
            "grid_template_rows": null,
            "height": null,
            "justify_content": null,
            "justify_items": null,
            "left": null,
            "margin": null,
            "max_height": null,
            "max_width": null,
            "min_height": null,
            "min_width": null,
            "object_fit": null,
            "object_position": null,
            "order": null,
            "overflow": null,
            "overflow_x": null,
            "overflow_y": null,
            "padding": null,
            "right": null,
            "top": null,
            "visibility": null,
            "width": null
          }
        },
        "b69aa3be06bb4409a271bf3714a6197d": {
          "model_module": "@jupyter-widgets/controls",
          "model_name": "DescriptionStyleModel",
          "model_module_version": "1.5.0",
          "state": {
            "_model_module": "@jupyter-widgets/controls",
            "_model_module_version": "1.5.0",
            "_model_name": "DescriptionStyleModel",
            "_view_count": null,
            "_view_module": "@jupyter-widgets/base",
            "_view_module_version": "1.2.0",
            "_view_name": "StyleView",
            "description_width": ""
          }
        },
        "574d3bfc3b184c199a37a2735bfe2d2c": {
          "model_module": "@jupyter-widgets/base",
          "model_name": "LayoutModel",
          "model_module_version": "1.2.0",
          "state": {
            "_model_module": "@jupyter-widgets/base",
            "_model_module_version": "1.2.0",
            "_model_name": "LayoutModel",
            "_view_count": null,
            "_view_module": "@jupyter-widgets/base",
            "_view_module_version": "1.2.0",
            "_view_name": "LayoutView",
            "align_content": null,
            "align_items": null,
            "align_self": null,
            "border": null,
            "bottom": null,
            "display": null,
            "flex": null,
            "flex_flow": null,
            "grid_area": null,
            "grid_auto_columns": null,
            "grid_auto_flow": null,
            "grid_auto_rows": null,
            "grid_column": null,
            "grid_gap": null,
            "grid_row": null,
            "grid_template_areas": null,
            "grid_template_columns": null,
            "grid_template_rows": null,
            "height": null,
            "justify_content": null,
            "justify_items": null,
            "left": null,
            "margin": null,
            "max_height": null,
            "max_width": null,
            "min_height": null,
            "min_width": null,
            "object_fit": null,
            "object_position": null,
            "order": null,
            "overflow": null,
            "overflow_x": null,
            "overflow_y": null,
            "padding": null,
            "right": null,
            "top": null,
            "visibility": null,
            "width": null
          }
        },
        "ea16d931802243aa8a592ad1e20944a1": {
          "model_module": "@jupyter-widgets/controls",
          "model_name": "ProgressStyleModel",
          "model_module_version": "1.5.0",
          "state": {
            "_model_module": "@jupyter-widgets/controls",
            "_model_module_version": "1.5.0",
            "_model_name": "ProgressStyleModel",
            "_view_count": null,
            "_view_module": "@jupyter-widgets/base",
            "_view_module_version": "1.2.0",
            "_view_name": "StyleView",
            "bar_color": null,
            "description_width": ""
          }
        },
        "e5e63fc4ff8540d0a312c18c2752e279": {
          "model_module": "@jupyter-widgets/base",
          "model_name": "LayoutModel",
          "model_module_version": "1.2.0",
          "state": {
            "_model_module": "@jupyter-widgets/base",
            "_model_module_version": "1.2.0",
            "_model_name": "LayoutModel",
            "_view_count": null,
            "_view_module": "@jupyter-widgets/base",
            "_view_module_version": "1.2.0",
            "_view_name": "LayoutView",
            "align_content": null,
            "align_items": null,
            "align_self": null,
            "border": null,
            "bottom": null,
            "display": null,
            "flex": null,
            "flex_flow": null,
            "grid_area": null,
            "grid_auto_columns": null,
            "grid_auto_flow": null,
            "grid_auto_rows": null,
            "grid_column": null,
            "grid_gap": null,
            "grid_row": null,
            "grid_template_areas": null,
            "grid_template_columns": null,
            "grid_template_rows": null,
            "height": null,
            "justify_content": null,
            "justify_items": null,
            "left": null,
            "margin": null,
            "max_height": null,
            "max_width": null,
            "min_height": null,
            "min_width": null,
            "object_fit": null,
            "object_position": null,
            "order": null,
            "overflow": null,
            "overflow_x": null,
            "overflow_y": null,
            "padding": null,
            "right": null,
            "top": null,
            "visibility": null,
            "width": null
          }
        },
        "45ef5a7b476945a7981dc8c08b80916e": {
          "model_module": "@jupyter-widgets/controls",
          "model_name": "DescriptionStyleModel",
          "model_module_version": "1.5.0",
          "state": {
            "_model_module": "@jupyter-widgets/controls",
            "_model_module_version": "1.5.0",
            "_model_name": "DescriptionStyleModel",
            "_view_count": null,
            "_view_module": "@jupyter-widgets/base",
            "_view_module_version": "1.2.0",
            "_view_name": "StyleView",
            "description_width": ""
          }
        },
        "916fea33b868478ea1c4bf247eb85b10": {
          "model_module": "@jupyter-widgets/controls",
          "model_name": "HBoxModel",
          "model_module_version": "1.5.0",
          "state": {
            "_dom_classes": [],
            "_model_module": "@jupyter-widgets/controls",
            "_model_module_version": "1.5.0",
            "_model_name": "HBoxModel",
            "_view_count": null,
            "_view_module": "@jupyter-widgets/controls",
            "_view_module_version": "1.5.0",
            "_view_name": "HBoxView",
            "box_style": "",
            "children": [
              "IPY_MODEL_b2b3c2eacf8642c4b1e894a36e627743",
              "IPY_MODEL_ebbc70df82d445b5b1bdb3f00e35da42",
              "IPY_MODEL_8b7d060f69c749bca7b09a3835c4f036"
            ],
            "layout": "IPY_MODEL_53bfc53077c54c84992da522744f2f4e"
          }
        },
        "b2b3c2eacf8642c4b1e894a36e627743": {
          "model_module": "@jupyter-widgets/controls",
          "model_name": "HTMLModel",
          "model_module_version": "1.5.0",
          "state": {
            "_dom_classes": [],
            "_model_module": "@jupyter-widgets/controls",
            "_model_module_version": "1.5.0",
            "_model_name": "HTMLModel",
            "_view_count": null,
            "_view_module": "@jupyter-widgets/controls",
            "_view_module_version": "1.5.0",
            "_view_name": "HTMLView",
            "description": "",
            "description_tooltip": null,
            "layout": "IPY_MODEL_00235b992f0d46e1b27561dd28c1fda2",
            "placeholder": "​",
            "style": "IPY_MODEL_6f0640abd6414e30b8157118d69ea3d8",
            "value": "model.safetensors: 100%"
          }
        },
        "ebbc70df82d445b5b1bdb3f00e35da42": {
          "model_module": "@jupyter-widgets/controls",
          "model_name": "FloatProgressModel",
          "model_module_version": "1.5.0",
          "state": {
            "_dom_classes": [],
            "_model_module": "@jupyter-widgets/controls",
            "_model_module_version": "1.5.0",
            "_model_name": "FloatProgressModel",
            "_view_count": null,
            "_view_module": "@jupyter-widgets/controls",
            "_view_module_version": "1.5.0",
            "_view_name": "ProgressView",
            "bar_style": "success",
            "description": "",
            "description_tooltip": null,
            "layout": "IPY_MODEL_fd28b3f03c594374872a427e53dd6661",
            "max": 440449768,
            "min": 0,
            "orientation": "horizontal",
            "style": "IPY_MODEL_98442e41c2a84b84b32536761daf051f",
            "value": 440449768
          }
        },
        "8b7d060f69c749bca7b09a3835c4f036": {
          "model_module": "@jupyter-widgets/controls",
          "model_name": "HTMLModel",
          "model_module_version": "1.5.0",
          "state": {
            "_dom_classes": [],
            "_model_module": "@jupyter-widgets/controls",
            "_model_module_version": "1.5.0",
            "_model_name": "HTMLModel",
            "_view_count": null,
            "_view_module": "@jupyter-widgets/controls",
            "_view_module_version": "1.5.0",
            "_view_name": "HTMLView",
            "description": "",
            "description_tooltip": null,
            "layout": "IPY_MODEL_d57cdf49eb734997bea7d9a0c8bcd82b",
            "placeholder": "​",
            "style": "IPY_MODEL_641369386a5242e282986caaedfa607e",
            "value": " 440M/440M [00:05&lt;00:00, 49.8MB/s]"
          }
        },
        "53bfc53077c54c84992da522744f2f4e": {
          "model_module": "@jupyter-widgets/base",
          "model_name": "LayoutModel",
          "model_module_version": "1.2.0",
          "state": {
            "_model_module": "@jupyter-widgets/base",
            "_model_module_version": "1.2.0",
            "_model_name": "LayoutModel",
            "_view_count": null,
            "_view_module": "@jupyter-widgets/base",
            "_view_module_version": "1.2.0",
            "_view_name": "LayoutView",
            "align_content": null,
            "align_items": null,
            "align_self": null,
            "border": null,
            "bottom": null,
            "display": null,
            "flex": null,
            "flex_flow": null,
            "grid_area": null,
            "grid_auto_columns": null,
            "grid_auto_flow": null,
            "grid_auto_rows": null,
            "grid_column": null,
            "grid_gap": null,
            "grid_row": null,
            "grid_template_areas": null,
            "grid_template_columns": null,
            "grid_template_rows": null,
            "height": null,
            "justify_content": null,
            "justify_items": null,
            "left": null,
            "margin": null,
            "max_height": null,
            "max_width": null,
            "min_height": null,
            "min_width": null,
            "object_fit": null,
            "object_position": null,
            "order": null,
            "overflow": null,
            "overflow_x": null,
            "overflow_y": null,
            "padding": null,
            "right": null,
            "top": null,
            "visibility": null,
            "width": null
          }
        },
        "00235b992f0d46e1b27561dd28c1fda2": {
          "model_module": "@jupyter-widgets/base",
          "model_name": "LayoutModel",
          "model_module_version": "1.2.0",
          "state": {
            "_model_module": "@jupyter-widgets/base",
            "_model_module_version": "1.2.0",
            "_model_name": "LayoutModel",
            "_view_count": null,
            "_view_module": "@jupyter-widgets/base",
            "_view_module_version": "1.2.0",
            "_view_name": "LayoutView",
            "align_content": null,
            "align_items": null,
            "align_self": null,
            "border": null,
            "bottom": null,
            "display": null,
            "flex": null,
            "flex_flow": null,
            "grid_area": null,
            "grid_auto_columns": null,
            "grid_auto_flow": null,
            "grid_auto_rows": null,
            "grid_column": null,
            "grid_gap": null,
            "grid_row": null,
            "grid_template_areas": null,
            "grid_template_columns": null,
            "grid_template_rows": null,
            "height": null,
            "justify_content": null,
            "justify_items": null,
            "left": null,
            "margin": null,
            "max_height": null,
            "max_width": null,
            "min_height": null,
            "min_width": null,
            "object_fit": null,
            "object_position": null,
            "order": null,
            "overflow": null,
            "overflow_x": null,
            "overflow_y": null,
            "padding": null,
            "right": null,
            "top": null,
            "visibility": null,
            "width": null
          }
        },
        "6f0640abd6414e30b8157118d69ea3d8": {
          "model_module": "@jupyter-widgets/controls",
          "model_name": "DescriptionStyleModel",
          "model_module_version": "1.5.0",
          "state": {
            "_model_module": "@jupyter-widgets/controls",
            "_model_module_version": "1.5.0",
            "_model_name": "DescriptionStyleModel",
            "_view_count": null,
            "_view_module": "@jupyter-widgets/base",
            "_view_module_version": "1.2.0",
            "_view_name": "StyleView",
            "description_width": ""
          }
        },
        "fd28b3f03c594374872a427e53dd6661": {
          "model_module": "@jupyter-widgets/base",
          "model_name": "LayoutModel",
          "model_module_version": "1.2.0",
          "state": {
            "_model_module": "@jupyter-widgets/base",
            "_model_module_version": "1.2.0",
            "_model_name": "LayoutModel",
            "_view_count": null,
            "_view_module": "@jupyter-widgets/base",
            "_view_module_version": "1.2.0",
            "_view_name": "LayoutView",
            "align_content": null,
            "align_items": null,
            "align_self": null,
            "border": null,
            "bottom": null,
            "display": null,
            "flex": null,
            "flex_flow": null,
            "grid_area": null,
            "grid_auto_columns": null,
            "grid_auto_flow": null,
            "grid_auto_rows": null,
            "grid_column": null,
            "grid_gap": null,
            "grid_row": null,
            "grid_template_areas": null,
            "grid_template_columns": null,
            "grid_template_rows": null,
            "height": null,
            "justify_content": null,
            "justify_items": null,
            "left": null,
            "margin": null,
            "max_height": null,
            "max_width": null,
            "min_height": null,
            "min_width": null,
            "object_fit": null,
            "object_position": null,
            "order": null,
            "overflow": null,
            "overflow_x": null,
            "overflow_y": null,
            "padding": null,
            "right": null,
            "top": null,
            "visibility": null,
            "width": null
          }
        },
        "98442e41c2a84b84b32536761daf051f": {
          "model_module": "@jupyter-widgets/controls",
          "model_name": "ProgressStyleModel",
          "model_module_version": "1.5.0",
          "state": {
            "_model_module": "@jupyter-widgets/controls",
            "_model_module_version": "1.5.0",
            "_model_name": "ProgressStyleModel",
            "_view_count": null,
            "_view_module": "@jupyter-widgets/base",
            "_view_module_version": "1.2.0",
            "_view_name": "StyleView",
            "bar_color": null,
            "description_width": ""
          }
        },
        "d57cdf49eb734997bea7d9a0c8bcd82b": {
          "model_module": "@jupyter-widgets/base",
          "model_name": "LayoutModel",
          "model_module_version": "1.2.0",
          "state": {
            "_model_module": "@jupyter-widgets/base",
            "_model_module_version": "1.2.0",
            "_model_name": "LayoutModel",
            "_view_count": null,
            "_view_module": "@jupyter-widgets/base",
            "_view_module_version": "1.2.0",
            "_view_name": "LayoutView",
            "align_content": null,
            "align_items": null,
            "align_self": null,
            "border": null,
            "bottom": null,
            "display": null,
            "flex": null,
            "flex_flow": null,
            "grid_area": null,
            "grid_auto_columns": null,
            "grid_auto_flow": null,
            "grid_auto_rows": null,
            "grid_column": null,
            "grid_gap": null,
            "grid_row": null,
            "grid_template_areas": null,
            "grid_template_columns": null,
            "grid_template_rows": null,
            "height": null,
            "justify_content": null,
            "justify_items": null,
            "left": null,
            "margin": null,
            "max_height": null,
            "max_width": null,
            "min_height": null,
            "min_width": null,
            "object_fit": null,
            "object_position": null,
            "order": null,
            "overflow": null,
            "overflow_x": null,
            "overflow_y": null,
            "padding": null,
            "right": null,
            "top": null,
            "visibility": null,
            "width": null
          }
        },
        "641369386a5242e282986caaedfa607e": {
          "model_module": "@jupyter-widgets/controls",
          "model_name": "DescriptionStyleModel",
          "model_module_version": "1.5.0",
          "state": {
            "_model_module": "@jupyter-widgets/controls",
            "_model_module_version": "1.5.0",
            "_model_name": "DescriptionStyleModel",
            "_view_count": null,
            "_view_module": "@jupyter-widgets/base",
            "_view_module_version": "1.2.0",
            "_view_name": "StyleView",
            "description_width": ""
          }
        }
      }
    }
  },
  "cells": [
    {
      "cell_type": "markdown",
      "source": [
        "NLP can be used for classifcation and text generation and sequnce to sequnce to trasaltion and also voice assitance.\n",
        "\n",
        "NLP inputs and outputs\n",
        "the etsxt we input should be tokenised or embedded which is known as numercical encoding. so our input shape woulde  be (batch size, embedding size ) where these tow can change according to the potbelms we have in hand , the machine learing algorithm that you can use can be CNN\\RNN\\featrure ecxtraction etc.\n",
        "\n"
      ],
      "metadata": {
        "id": "rUVPRvLOmhXd"
      }
    },
    {
      "cell_type": "markdown",
      "source": [
        "The typical Architecture of RNN ,that is recurring neural network\n",
        "####What is RNN?\n",
        "it is a feed forwrad networks,which deals with sequentail data\n",
        "\n",
        "hyperparameter\n",
        "\n",
        "imput :can be text\n",
        "input layer :takes in trageted sequnce\n",
        "\n",
        "Text vectorization layer : Maps input sequence into numbers\n",
        "\n",
        "Embedding : truns this vectors into  (mapping learns related word)\n",
        "\n",
        "RNN: Find pattern in the sequnce\n",
        "\n",
        "hidden activation : Add non linerity to learn the features\n",
        "\n",
        "pooling layers reduce dimentionality for only convolution layers\n",
        "\n",
        "fully connected layers :further refines learned features from recurrent layers\n",
        "\n",
        "Output layers\n",
        "\n",
        "output activation\n",
        "\n"
      ],
      "metadata": {
        "id": "PjYx_hAHo6uO"
      }
    },
    {
      "cell_type": "markdown",
      "source": [
        "Checking for GPU"
      ],
      "metadata": {
        "id": "5ke50R_0ympP"
      }
    },
    {
      "cell_type": "code",
      "source": [
        "!nvidia-smi -L"
      ],
      "metadata": {
        "colab": {
          "base_uri": "https://localhost:8080/"
        },
        "id": "YDxx66E3mg_n",
        "outputId": "faa2a341-2ef7-4ca5-b16d-56b4eff2b2fd"
      },
      "execution_count": 1,
      "outputs": [
        {
          "output_type": "stream",
          "name": "stdout",
          "text": [
            "GPU 0: Tesla T4 (UUID: GPU-77452d0e-6ea7-722c-4d90-4c1e9bb1528c)\n"
          ]
        }
      ]
    },
    {
      "cell_type": "code",
      "execution_count": 2,
      "metadata": {
        "colab": {
          "base_uri": "https://localhost:8080/"
        },
        "id": "960P1Gttkivp",
        "outputId": "e9fae879-0d45-4b42-c765-5bceeb9eed39"
      },
      "outputs": [
        {
          "output_type": "stream",
          "name": "stdout",
          "text": [
            "--2023-12-26 08:20:49--  https://raw.githubusercontent.com/mrdbourke/tensorflow-deep-learning/main/extras/helper_functions.py\n",
            "Resolving raw.githubusercontent.com (raw.githubusercontent.com)... 185.199.108.133, 185.199.109.133, 185.199.110.133, ...\n",
            "Connecting to raw.githubusercontent.com (raw.githubusercontent.com)|185.199.108.133|:443... connected.\n",
            "HTTP request sent, awaiting response... 200 OK\n",
            "Length: 10246 (10K) [text/plain]\n",
            "Saving to: ‘helper_functions.py’\n",
            "\n",
            "helper_functions.py 100%[===================>]  10.01K  --.-KB/s    in 0s      \n",
            "\n",
            "2023-12-26 08:20:49 (94.6 MB/s) - ‘helper_functions.py’ saved [10246/10246]\n",
            "\n"
          ]
        }
      ],
      "source": [
        "# Download helper functions script\n",
        "!wget https://raw.githubusercontent.com/mrdbourke/tensorflow-deep-learning/main/extras/helper_functions.py"
      ]
    },
    {
      "cell_type": "code",
      "source": [
        "# helper function\n",
        "\n",
        "from  helper_functions import unzip_data,create_tensorboard_callback,plot_loss_curves, compare_historys"
      ],
      "metadata": {
        "id": "jZbWEYrpzHyn"
      },
      "execution_count": 3,
      "outputs": []
    },
    {
      "cell_type": "markdown",
      "source": [
        "Introduction to NLP data"
      ],
      "metadata": {
        "id": "WbL5plUFz6I1"
      }
    },
    {
      "cell_type": "code",
      "source": [
        "#get the text data\n",
        "\n",
        "# Download data (same as from Kaggle)\n",
        "!wget \"https://storage.googleapis.com/ztm_tf_course/nlp_getting_started.zip\""
      ],
      "metadata": {
        "colab": {
          "base_uri": "https://localhost:8080/"
        },
        "id": "c2ND4hxwz2DG",
        "outputId": "66e8e269-d831-4e2d-a333-417e3de5d704"
      },
      "execution_count": 4,
      "outputs": [
        {
          "output_type": "stream",
          "name": "stdout",
          "text": [
            "--2023-12-26 08:20:54--  https://storage.googleapis.com/ztm_tf_course/nlp_getting_started.zip\n",
            "Resolving storage.googleapis.com (storage.googleapis.com)... 173.194.212.207, 142.251.162.207, 173.194.213.207, ...\n",
            "Connecting to storage.googleapis.com (storage.googleapis.com)|173.194.212.207|:443... connected.\n",
            "HTTP request sent, awaiting response... 200 OK\n",
            "Length: 607343 (593K) [application/zip]\n",
            "Saving to: ‘nlp_getting_started.zip’\n",
            "\n",
            "\rnlp_getting_started   0%[                    ]       0  --.-KB/s               \rnlp_getting_started 100%[===================>] 593.11K  --.-KB/s    in 0.008s  \n",
            "\n",
            "2023-12-26 08:20:55 (73.0 MB/s) - ‘nlp_getting_started.zip’ saved [607343/607343]\n",
            "\n"
          ]
        }
      ]
    },
    {
      "cell_type": "code",
      "source": [
        "# Unzip data\n",
        "unzip_data(\"nlp_getting_started.zip\")"
      ],
      "metadata": {
        "id": "okRCNpPc0usP"
      },
      "execution_count": 5,
      "outputs": []
    },
    {
      "cell_type": "markdown",
      "source": [
        "train.csv - training samples of real and not real diaster Tweets.\n",
        "test.csv - testing samples of real and not real diaster Tweets"
      ],
      "metadata": {
        "id": "fRyqFA691vQL"
      }
    },
    {
      "cell_type": "markdown",
      "source": [
        "Where,\n",
        "\n",
        "1 = a real disaster Tweet\n",
        "\n",
        "0 = not a real disaster Tweet"
      ],
      "metadata": {
        "id": "neNrKUFq2LqO"
      }
    },
    {
      "cell_type": "code",
      "source": [
        "# Turn .csv files into pandas DataFrame's\n",
        "import pandas as pd\n",
        "train_df = pd.read_csv(\"train.csv\")\n",
        "test_df = pd.read_csv(\"test.csv\")\n",
        "train_df.head()"
      ],
      "metadata": {
        "colab": {
          "base_uri": "https://localhost:8080/",
          "height": 206
        },
        "id": "G00kRAFk0yWg",
        "outputId": "4728ff0d-04b5-438c-c416-86930e616281"
      },
      "execution_count": 6,
      "outputs": [
        {
          "output_type": "execute_result",
          "data": {
            "text/plain": [
              "   id keyword location                                               text  \\\n",
              "0   1     NaN      NaN  Our Deeds are the Reason of this #earthquake M...   \n",
              "1   4     NaN      NaN             Forest fire near La Ronge Sask. Canada   \n",
              "2   5     NaN      NaN  All residents asked to 'shelter in place' are ...   \n",
              "3   6     NaN      NaN  13,000 people receive #wildfires evacuation or...   \n",
              "4   7     NaN      NaN  Just got sent this photo from Ruby #Alaska as ...   \n",
              "\n",
              "   target  \n",
              "0       1  \n",
              "1       1  \n",
              "2       1  \n",
              "3       1  \n",
              "4       1  "
            ],
            "text/html": [
              "\n",
              "  <div id=\"df-d68722fa-41a3-4f0f-a14b-f3902ea3d60d\" class=\"colab-df-container\">\n",
              "    <div>\n",
              "<style scoped>\n",
              "    .dataframe tbody tr th:only-of-type {\n",
              "        vertical-align: middle;\n",
              "    }\n",
              "\n",
              "    .dataframe tbody tr th {\n",
              "        vertical-align: top;\n",
              "    }\n",
              "\n",
              "    .dataframe thead th {\n",
              "        text-align: right;\n",
              "    }\n",
              "</style>\n",
              "<table border=\"1\" class=\"dataframe\">\n",
              "  <thead>\n",
              "    <tr style=\"text-align: right;\">\n",
              "      <th></th>\n",
              "      <th>id</th>\n",
              "      <th>keyword</th>\n",
              "      <th>location</th>\n",
              "      <th>text</th>\n",
              "      <th>target</th>\n",
              "    </tr>\n",
              "  </thead>\n",
              "  <tbody>\n",
              "    <tr>\n",
              "      <th>0</th>\n",
              "      <td>1</td>\n",
              "      <td>NaN</td>\n",
              "      <td>NaN</td>\n",
              "      <td>Our Deeds are the Reason of this #earthquake M...</td>\n",
              "      <td>1</td>\n",
              "    </tr>\n",
              "    <tr>\n",
              "      <th>1</th>\n",
              "      <td>4</td>\n",
              "      <td>NaN</td>\n",
              "      <td>NaN</td>\n",
              "      <td>Forest fire near La Ronge Sask. Canada</td>\n",
              "      <td>1</td>\n",
              "    </tr>\n",
              "    <tr>\n",
              "      <th>2</th>\n",
              "      <td>5</td>\n",
              "      <td>NaN</td>\n",
              "      <td>NaN</td>\n",
              "      <td>All residents asked to 'shelter in place' are ...</td>\n",
              "      <td>1</td>\n",
              "    </tr>\n",
              "    <tr>\n",
              "      <th>3</th>\n",
              "      <td>6</td>\n",
              "      <td>NaN</td>\n",
              "      <td>NaN</td>\n",
              "      <td>13,000 people receive #wildfires evacuation or...</td>\n",
              "      <td>1</td>\n",
              "    </tr>\n",
              "    <tr>\n",
              "      <th>4</th>\n",
              "      <td>7</td>\n",
              "      <td>NaN</td>\n",
              "      <td>NaN</td>\n",
              "      <td>Just got sent this photo from Ruby #Alaska as ...</td>\n",
              "      <td>1</td>\n",
              "    </tr>\n",
              "  </tbody>\n",
              "</table>\n",
              "</div>\n",
              "    <div class=\"colab-df-buttons\">\n",
              "\n",
              "  <div class=\"colab-df-container\">\n",
              "    <button class=\"colab-df-convert\" onclick=\"convertToInteractive('df-d68722fa-41a3-4f0f-a14b-f3902ea3d60d')\"\n",
              "            title=\"Convert this dataframe to an interactive table.\"\n",
              "            style=\"display:none;\">\n",
              "\n",
              "  <svg xmlns=\"http://www.w3.org/2000/svg\" height=\"24px\" viewBox=\"0 -960 960 960\">\n",
              "    <path d=\"M120-120v-720h720v720H120Zm60-500h600v-160H180v160Zm220 220h160v-160H400v160Zm0 220h160v-160H400v160ZM180-400h160v-160H180v160Zm440 0h160v-160H620v160ZM180-180h160v-160H180v160Zm440 0h160v-160H620v160Z\"/>\n",
              "  </svg>\n",
              "    </button>\n",
              "\n",
              "  <style>\n",
              "    .colab-df-container {\n",
              "      display:flex;\n",
              "      gap: 12px;\n",
              "    }\n",
              "\n",
              "    .colab-df-convert {\n",
              "      background-color: #E8F0FE;\n",
              "      border: none;\n",
              "      border-radius: 50%;\n",
              "      cursor: pointer;\n",
              "      display: none;\n",
              "      fill: #1967D2;\n",
              "      height: 32px;\n",
              "      padding: 0 0 0 0;\n",
              "      width: 32px;\n",
              "    }\n",
              "\n",
              "    .colab-df-convert:hover {\n",
              "      background-color: #E2EBFA;\n",
              "      box-shadow: 0px 1px 2px rgba(60, 64, 67, 0.3), 0px 1px 3px 1px rgba(60, 64, 67, 0.15);\n",
              "      fill: #174EA6;\n",
              "    }\n",
              "\n",
              "    .colab-df-buttons div {\n",
              "      margin-bottom: 4px;\n",
              "    }\n",
              "\n",
              "    [theme=dark] .colab-df-convert {\n",
              "      background-color: #3B4455;\n",
              "      fill: #D2E3FC;\n",
              "    }\n",
              "\n",
              "    [theme=dark] .colab-df-convert:hover {\n",
              "      background-color: #434B5C;\n",
              "      box-shadow: 0px 1px 3px 1px rgba(0, 0, 0, 0.15);\n",
              "      filter: drop-shadow(0px 1px 2px rgba(0, 0, 0, 0.3));\n",
              "      fill: #FFFFFF;\n",
              "    }\n",
              "  </style>\n",
              "\n",
              "    <script>\n",
              "      const buttonEl =\n",
              "        document.querySelector('#df-d68722fa-41a3-4f0f-a14b-f3902ea3d60d button.colab-df-convert');\n",
              "      buttonEl.style.display =\n",
              "        google.colab.kernel.accessAllowed ? 'block' : 'none';\n",
              "\n",
              "      async function convertToInteractive(key) {\n",
              "        const element = document.querySelector('#df-d68722fa-41a3-4f0f-a14b-f3902ea3d60d');\n",
              "        const dataTable =\n",
              "          await google.colab.kernel.invokeFunction('convertToInteractive',\n",
              "                                                    [key], {});\n",
              "        if (!dataTable) return;\n",
              "\n",
              "        const docLinkHtml = 'Like what you see? Visit the ' +\n",
              "          '<a target=\"_blank\" href=https://colab.research.google.com/notebooks/data_table.ipynb>data table notebook</a>'\n",
              "          + ' to learn more about interactive tables.';\n",
              "        element.innerHTML = '';\n",
              "        dataTable['output_type'] = 'display_data';\n",
              "        await google.colab.output.renderOutput(dataTable, element);\n",
              "        const docLink = document.createElement('div');\n",
              "        docLink.innerHTML = docLinkHtml;\n",
              "        element.appendChild(docLink);\n",
              "      }\n",
              "    </script>\n",
              "  </div>\n",
              "\n",
              "\n",
              "<div id=\"df-01a7e4a8-c212-4a74-b84e-26a380a23979\">\n",
              "  <button class=\"colab-df-quickchart\" onclick=\"quickchart('df-01a7e4a8-c212-4a74-b84e-26a380a23979')\"\n",
              "            title=\"Suggest charts\"\n",
              "            style=\"display:none;\">\n",
              "\n",
              "<svg xmlns=\"http://www.w3.org/2000/svg\" height=\"24px\"viewBox=\"0 0 24 24\"\n",
              "     width=\"24px\">\n",
              "    <g>\n",
              "        <path d=\"M19 3H5c-1.1 0-2 .9-2 2v14c0 1.1.9 2 2 2h14c1.1 0 2-.9 2-2V5c0-1.1-.9-2-2-2zM9 17H7v-7h2v7zm4 0h-2V7h2v10zm4 0h-2v-4h2v4z\"/>\n",
              "    </g>\n",
              "</svg>\n",
              "  </button>\n",
              "\n",
              "<style>\n",
              "  .colab-df-quickchart {\n",
              "      --bg-color: #E8F0FE;\n",
              "      --fill-color: #1967D2;\n",
              "      --hover-bg-color: #E2EBFA;\n",
              "      --hover-fill-color: #174EA6;\n",
              "      --disabled-fill-color: #AAA;\n",
              "      --disabled-bg-color: #DDD;\n",
              "  }\n",
              "\n",
              "  [theme=dark] .colab-df-quickchart {\n",
              "      --bg-color: #3B4455;\n",
              "      --fill-color: #D2E3FC;\n",
              "      --hover-bg-color: #434B5C;\n",
              "      --hover-fill-color: #FFFFFF;\n",
              "      --disabled-bg-color: #3B4455;\n",
              "      --disabled-fill-color: #666;\n",
              "  }\n",
              "\n",
              "  .colab-df-quickchart {\n",
              "    background-color: var(--bg-color);\n",
              "    border: none;\n",
              "    border-radius: 50%;\n",
              "    cursor: pointer;\n",
              "    display: none;\n",
              "    fill: var(--fill-color);\n",
              "    height: 32px;\n",
              "    padding: 0;\n",
              "    width: 32px;\n",
              "  }\n",
              "\n",
              "  .colab-df-quickchart:hover {\n",
              "    background-color: var(--hover-bg-color);\n",
              "    box-shadow: 0 1px 2px rgba(60, 64, 67, 0.3), 0 1px 3px 1px rgba(60, 64, 67, 0.15);\n",
              "    fill: var(--button-hover-fill-color);\n",
              "  }\n",
              "\n",
              "  .colab-df-quickchart-complete:disabled,\n",
              "  .colab-df-quickchart-complete:disabled:hover {\n",
              "    background-color: var(--disabled-bg-color);\n",
              "    fill: var(--disabled-fill-color);\n",
              "    box-shadow: none;\n",
              "  }\n",
              "\n",
              "  .colab-df-spinner {\n",
              "    border: 2px solid var(--fill-color);\n",
              "    border-color: transparent;\n",
              "    border-bottom-color: var(--fill-color);\n",
              "    animation:\n",
              "      spin 1s steps(1) infinite;\n",
              "  }\n",
              "\n",
              "  @keyframes spin {\n",
              "    0% {\n",
              "      border-color: transparent;\n",
              "      border-bottom-color: var(--fill-color);\n",
              "      border-left-color: var(--fill-color);\n",
              "    }\n",
              "    20% {\n",
              "      border-color: transparent;\n",
              "      border-left-color: var(--fill-color);\n",
              "      border-top-color: var(--fill-color);\n",
              "    }\n",
              "    30% {\n",
              "      border-color: transparent;\n",
              "      border-left-color: var(--fill-color);\n",
              "      border-top-color: var(--fill-color);\n",
              "      border-right-color: var(--fill-color);\n",
              "    }\n",
              "    40% {\n",
              "      border-color: transparent;\n",
              "      border-right-color: var(--fill-color);\n",
              "      border-top-color: var(--fill-color);\n",
              "    }\n",
              "    60% {\n",
              "      border-color: transparent;\n",
              "      border-right-color: var(--fill-color);\n",
              "    }\n",
              "    80% {\n",
              "      border-color: transparent;\n",
              "      border-right-color: var(--fill-color);\n",
              "      border-bottom-color: var(--fill-color);\n",
              "    }\n",
              "    90% {\n",
              "      border-color: transparent;\n",
              "      border-bottom-color: var(--fill-color);\n",
              "    }\n",
              "  }\n",
              "</style>\n",
              "\n",
              "  <script>\n",
              "    async function quickchart(key) {\n",
              "      const quickchartButtonEl =\n",
              "        document.querySelector('#' + key + ' button');\n",
              "      quickchartButtonEl.disabled = true;  // To prevent multiple clicks.\n",
              "      quickchartButtonEl.classList.add('colab-df-spinner');\n",
              "      try {\n",
              "        const charts = await google.colab.kernel.invokeFunction(\n",
              "            'suggestCharts', [key], {});\n",
              "      } catch (error) {\n",
              "        console.error('Error during call to suggestCharts:', error);\n",
              "      }\n",
              "      quickchartButtonEl.classList.remove('colab-df-spinner');\n",
              "      quickchartButtonEl.classList.add('colab-df-quickchart-complete');\n",
              "    }\n",
              "    (() => {\n",
              "      let quickchartButtonEl =\n",
              "        document.querySelector('#df-01a7e4a8-c212-4a74-b84e-26a380a23979 button');\n",
              "      quickchartButtonEl.style.display =\n",
              "        google.colab.kernel.accessAllowed ? 'block' : 'none';\n",
              "    })();\n",
              "  </script>\n",
              "</div>\n",
              "\n",
              "    </div>\n",
              "  </div>\n"
            ]
          },
          "metadata": {},
          "execution_count": 6
        }
      ]
    },
    {
      "cell_type": "code",
      "source": [
        "test_df.head()"
      ],
      "metadata": {
        "colab": {
          "base_uri": "https://localhost:8080/",
          "height": 206
        },
        "id": "xFaT_QL00_K4",
        "outputId": "d803ec17-8f7c-4b57-8926-736c13c57bff"
      },
      "execution_count": 7,
      "outputs": [
        {
          "output_type": "execute_result",
          "data": {
            "text/plain": [
              "   id keyword location                                               text\n",
              "0   0     NaN      NaN                 Just happened a terrible car crash\n",
              "1   2     NaN      NaN  Heard about #earthquake is different cities, s...\n",
              "2   3     NaN      NaN  there is a forest fire at spot pond, geese are...\n",
              "3   9     NaN      NaN           Apocalypse lighting. #Spokane #wildfires\n",
              "4  11     NaN      NaN      Typhoon Soudelor kills 28 in China and Taiwan"
            ],
            "text/html": [
              "\n",
              "  <div id=\"df-8e7f488a-5fb1-4054-80f5-2c04a4039624\" class=\"colab-df-container\">\n",
              "    <div>\n",
              "<style scoped>\n",
              "    .dataframe tbody tr th:only-of-type {\n",
              "        vertical-align: middle;\n",
              "    }\n",
              "\n",
              "    .dataframe tbody tr th {\n",
              "        vertical-align: top;\n",
              "    }\n",
              "\n",
              "    .dataframe thead th {\n",
              "        text-align: right;\n",
              "    }\n",
              "</style>\n",
              "<table border=\"1\" class=\"dataframe\">\n",
              "  <thead>\n",
              "    <tr style=\"text-align: right;\">\n",
              "      <th></th>\n",
              "      <th>id</th>\n",
              "      <th>keyword</th>\n",
              "      <th>location</th>\n",
              "      <th>text</th>\n",
              "    </tr>\n",
              "  </thead>\n",
              "  <tbody>\n",
              "    <tr>\n",
              "      <th>0</th>\n",
              "      <td>0</td>\n",
              "      <td>NaN</td>\n",
              "      <td>NaN</td>\n",
              "      <td>Just happened a terrible car crash</td>\n",
              "    </tr>\n",
              "    <tr>\n",
              "      <th>1</th>\n",
              "      <td>2</td>\n",
              "      <td>NaN</td>\n",
              "      <td>NaN</td>\n",
              "      <td>Heard about #earthquake is different cities, s...</td>\n",
              "    </tr>\n",
              "    <tr>\n",
              "      <th>2</th>\n",
              "      <td>3</td>\n",
              "      <td>NaN</td>\n",
              "      <td>NaN</td>\n",
              "      <td>there is a forest fire at spot pond, geese are...</td>\n",
              "    </tr>\n",
              "    <tr>\n",
              "      <th>3</th>\n",
              "      <td>9</td>\n",
              "      <td>NaN</td>\n",
              "      <td>NaN</td>\n",
              "      <td>Apocalypse lighting. #Spokane #wildfires</td>\n",
              "    </tr>\n",
              "    <tr>\n",
              "      <th>4</th>\n",
              "      <td>11</td>\n",
              "      <td>NaN</td>\n",
              "      <td>NaN</td>\n",
              "      <td>Typhoon Soudelor kills 28 in China and Taiwan</td>\n",
              "    </tr>\n",
              "  </tbody>\n",
              "</table>\n",
              "</div>\n",
              "    <div class=\"colab-df-buttons\">\n",
              "\n",
              "  <div class=\"colab-df-container\">\n",
              "    <button class=\"colab-df-convert\" onclick=\"convertToInteractive('df-8e7f488a-5fb1-4054-80f5-2c04a4039624')\"\n",
              "            title=\"Convert this dataframe to an interactive table.\"\n",
              "            style=\"display:none;\">\n",
              "\n",
              "  <svg xmlns=\"http://www.w3.org/2000/svg\" height=\"24px\" viewBox=\"0 -960 960 960\">\n",
              "    <path d=\"M120-120v-720h720v720H120Zm60-500h600v-160H180v160Zm220 220h160v-160H400v160Zm0 220h160v-160H400v160ZM180-400h160v-160H180v160Zm440 0h160v-160H620v160ZM180-180h160v-160H180v160Zm440 0h160v-160H620v160Z\"/>\n",
              "  </svg>\n",
              "    </button>\n",
              "\n",
              "  <style>\n",
              "    .colab-df-container {\n",
              "      display:flex;\n",
              "      gap: 12px;\n",
              "    }\n",
              "\n",
              "    .colab-df-convert {\n",
              "      background-color: #E8F0FE;\n",
              "      border: none;\n",
              "      border-radius: 50%;\n",
              "      cursor: pointer;\n",
              "      display: none;\n",
              "      fill: #1967D2;\n",
              "      height: 32px;\n",
              "      padding: 0 0 0 0;\n",
              "      width: 32px;\n",
              "    }\n",
              "\n",
              "    .colab-df-convert:hover {\n",
              "      background-color: #E2EBFA;\n",
              "      box-shadow: 0px 1px 2px rgba(60, 64, 67, 0.3), 0px 1px 3px 1px rgba(60, 64, 67, 0.15);\n",
              "      fill: #174EA6;\n",
              "    }\n",
              "\n",
              "    .colab-df-buttons div {\n",
              "      margin-bottom: 4px;\n",
              "    }\n",
              "\n",
              "    [theme=dark] .colab-df-convert {\n",
              "      background-color: #3B4455;\n",
              "      fill: #D2E3FC;\n",
              "    }\n",
              "\n",
              "    [theme=dark] .colab-df-convert:hover {\n",
              "      background-color: #434B5C;\n",
              "      box-shadow: 0px 1px 3px 1px rgba(0, 0, 0, 0.15);\n",
              "      filter: drop-shadow(0px 1px 2px rgba(0, 0, 0, 0.3));\n",
              "      fill: #FFFFFF;\n",
              "    }\n",
              "  </style>\n",
              "\n",
              "    <script>\n",
              "      const buttonEl =\n",
              "        document.querySelector('#df-8e7f488a-5fb1-4054-80f5-2c04a4039624 button.colab-df-convert');\n",
              "      buttonEl.style.display =\n",
              "        google.colab.kernel.accessAllowed ? 'block' : 'none';\n",
              "\n",
              "      async function convertToInteractive(key) {\n",
              "        const element = document.querySelector('#df-8e7f488a-5fb1-4054-80f5-2c04a4039624');\n",
              "        const dataTable =\n",
              "          await google.colab.kernel.invokeFunction('convertToInteractive',\n",
              "                                                    [key], {});\n",
              "        if (!dataTable) return;\n",
              "\n",
              "        const docLinkHtml = 'Like what you see? Visit the ' +\n",
              "          '<a target=\"_blank\" href=https://colab.research.google.com/notebooks/data_table.ipynb>data table notebook</a>'\n",
              "          + ' to learn more about interactive tables.';\n",
              "        element.innerHTML = '';\n",
              "        dataTable['output_type'] = 'display_data';\n",
              "        await google.colab.output.renderOutput(dataTable, element);\n",
              "        const docLink = document.createElement('div');\n",
              "        docLink.innerHTML = docLinkHtml;\n",
              "        element.appendChild(docLink);\n",
              "      }\n",
              "    </script>\n",
              "  </div>\n",
              "\n",
              "\n",
              "<div id=\"df-61b77e71-3661-4d04-b566-676827a1efbd\">\n",
              "  <button class=\"colab-df-quickchart\" onclick=\"quickchart('df-61b77e71-3661-4d04-b566-676827a1efbd')\"\n",
              "            title=\"Suggest charts\"\n",
              "            style=\"display:none;\">\n",
              "\n",
              "<svg xmlns=\"http://www.w3.org/2000/svg\" height=\"24px\"viewBox=\"0 0 24 24\"\n",
              "     width=\"24px\">\n",
              "    <g>\n",
              "        <path d=\"M19 3H5c-1.1 0-2 .9-2 2v14c0 1.1.9 2 2 2h14c1.1 0 2-.9 2-2V5c0-1.1-.9-2-2-2zM9 17H7v-7h2v7zm4 0h-2V7h2v10zm4 0h-2v-4h2v4z\"/>\n",
              "    </g>\n",
              "</svg>\n",
              "  </button>\n",
              "\n",
              "<style>\n",
              "  .colab-df-quickchart {\n",
              "      --bg-color: #E8F0FE;\n",
              "      --fill-color: #1967D2;\n",
              "      --hover-bg-color: #E2EBFA;\n",
              "      --hover-fill-color: #174EA6;\n",
              "      --disabled-fill-color: #AAA;\n",
              "      --disabled-bg-color: #DDD;\n",
              "  }\n",
              "\n",
              "  [theme=dark] .colab-df-quickchart {\n",
              "      --bg-color: #3B4455;\n",
              "      --fill-color: #D2E3FC;\n",
              "      --hover-bg-color: #434B5C;\n",
              "      --hover-fill-color: #FFFFFF;\n",
              "      --disabled-bg-color: #3B4455;\n",
              "      --disabled-fill-color: #666;\n",
              "  }\n",
              "\n",
              "  .colab-df-quickchart {\n",
              "    background-color: var(--bg-color);\n",
              "    border: none;\n",
              "    border-radius: 50%;\n",
              "    cursor: pointer;\n",
              "    display: none;\n",
              "    fill: var(--fill-color);\n",
              "    height: 32px;\n",
              "    padding: 0;\n",
              "    width: 32px;\n",
              "  }\n",
              "\n",
              "  .colab-df-quickchart:hover {\n",
              "    background-color: var(--hover-bg-color);\n",
              "    box-shadow: 0 1px 2px rgba(60, 64, 67, 0.3), 0 1px 3px 1px rgba(60, 64, 67, 0.15);\n",
              "    fill: var(--button-hover-fill-color);\n",
              "  }\n",
              "\n",
              "  .colab-df-quickchart-complete:disabled,\n",
              "  .colab-df-quickchart-complete:disabled:hover {\n",
              "    background-color: var(--disabled-bg-color);\n",
              "    fill: var(--disabled-fill-color);\n",
              "    box-shadow: none;\n",
              "  }\n",
              "\n",
              "  .colab-df-spinner {\n",
              "    border: 2px solid var(--fill-color);\n",
              "    border-color: transparent;\n",
              "    border-bottom-color: var(--fill-color);\n",
              "    animation:\n",
              "      spin 1s steps(1) infinite;\n",
              "  }\n",
              "\n",
              "  @keyframes spin {\n",
              "    0% {\n",
              "      border-color: transparent;\n",
              "      border-bottom-color: var(--fill-color);\n",
              "      border-left-color: var(--fill-color);\n",
              "    }\n",
              "    20% {\n",
              "      border-color: transparent;\n",
              "      border-left-color: var(--fill-color);\n",
              "      border-top-color: var(--fill-color);\n",
              "    }\n",
              "    30% {\n",
              "      border-color: transparent;\n",
              "      border-left-color: var(--fill-color);\n",
              "      border-top-color: var(--fill-color);\n",
              "      border-right-color: var(--fill-color);\n",
              "    }\n",
              "    40% {\n",
              "      border-color: transparent;\n",
              "      border-right-color: var(--fill-color);\n",
              "      border-top-color: var(--fill-color);\n",
              "    }\n",
              "    60% {\n",
              "      border-color: transparent;\n",
              "      border-right-color: var(--fill-color);\n",
              "    }\n",
              "    80% {\n",
              "      border-color: transparent;\n",
              "      border-right-color: var(--fill-color);\n",
              "      border-bottom-color: var(--fill-color);\n",
              "    }\n",
              "    90% {\n",
              "      border-color: transparent;\n",
              "      border-bottom-color: var(--fill-color);\n",
              "    }\n",
              "  }\n",
              "</style>\n",
              "\n",
              "  <script>\n",
              "    async function quickchart(key) {\n",
              "      const quickchartButtonEl =\n",
              "        document.querySelector('#' + key + ' button');\n",
              "      quickchartButtonEl.disabled = true;  // To prevent multiple clicks.\n",
              "      quickchartButtonEl.classList.add('colab-df-spinner');\n",
              "      try {\n",
              "        const charts = await google.colab.kernel.invokeFunction(\n",
              "            'suggestCharts', [key], {});\n",
              "      } catch (error) {\n",
              "        console.error('Error during call to suggestCharts:', error);\n",
              "      }\n",
              "      quickchartButtonEl.classList.remove('colab-df-spinner');\n",
              "      quickchartButtonEl.classList.add('colab-df-quickchart-complete');\n",
              "    }\n",
              "    (() => {\n",
              "      let quickchartButtonEl =\n",
              "        document.querySelector('#df-61b77e71-3661-4d04-b566-676827a1efbd button');\n",
              "      quickchartButtonEl.style.display =\n",
              "        google.colab.kernel.accessAllowed ? 'block' : 'none';\n",
              "    })();\n",
              "  </script>\n",
              "</div>\n",
              "\n",
              "    </div>\n",
              "  </div>\n"
            ]
          },
          "metadata": {},
          "execution_count": 7
        }
      ]
    },
    {
      "cell_type": "code",
      "source": [
        "train_df_shuffled = train_df.sample(frac=1, random_state=42) # shuffle with random_state=42 for reproducibility\n",
        "train_df_shuffled.head()"
      ],
      "metadata": {
        "colab": {
          "base_uri": "https://localhost:8080/",
          "height": 206
        },
        "id": "-KzxQBbk1EYg",
        "outputId": "0ee17726-05d7-47ec-aeda-1f4dbb631251"
      },
      "execution_count": 8,
      "outputs": [
        {
          "output_type": "execute_result",
          "data": {
            "text/plain": [
              "        id      keyword               location  \\\n",
              "2644  3796  destruction                    NaN   \n",
              "2227  3185       deluge                    NaN   \n",
              "5448  7769       police                     UK   \n",
              "132    191   aftershock                    NaN   \n",
              "6845  9810       trauma  Montgomery County, MD   \n",
              "\n",
              "                                                   text  target  \n",
              "2644  So you have a new weapon that can cause un-ima...       1  \n",
              "2227  The f$&amp;@ing things I do for #GISHWHES Just...       0  \n",
              "5448  DT @georgegalloway: RT @Galloway4Mayor: ÛÏThe...       1  \n",
              "132   Aftershock back to school kick off was great. ...       0  \n",
              "6845  in response to trauma Children of Addicts deve...       0  "
            ],
            "text/html": [
              "\n",
              "  <div id=\"df-1459e7c4-351a-47f8-a93b-de38d17e0839\" class=\"colab-df-container\">\n",
              "    <div>\n",
              "<style scoped>\n",
              "    .dataframe tbody tr th:only-of-type {\n",
              "        vertical-align: middle;\n",
              "    }\n",
              "\n",
              "    .dataframe tbody tr th {\n",
              "        vertical-align: top;\n",
              "    }\n",
              "\n",
              "    .dataframe thead th {\n",
              "        text-align: right;\n",
              "    }\n",
              "</style>\n",
              "<table border=\"1\" class=\"dataframe\">\n",
              "  <thead>\n",
              "    <tr style=\"text-align: right;\">\n",
              "      <th></th>\n",
              "      <th>id</th>\n",
              "      <th>keyword</th>\n",
              "      <th>location</th>\n",
              "      <th>text</th>\n",
              "      <th>target</th>\n",
              "    </tr>\n",
              "  </thead>\n",
              "  <tbody>\n",
              "    <tr>\n",
              "      <th>2644</th>\n",
              "      <td>3796</td>\n",
              "      <td>destruction</td>\n",
              "      <td>NaN</td>\n",
              "      <td>So you have a new weapon that can cause un-ima...</td>\n",
              "      <td>1</td>\n",
              "    </tr>\n",
              "    <tr>\n",
              "      <th>2227</th>\n",
              "      <td>3185</td>\n",
              "      <td>deluge</td>\n",
              "      <td>NaN</td>\n",
              "      <td>The f$&amp;amp;@ing things I do for #GISHWHES Just...</td>\n",
              "      <td>0</td>\n",
              "    </tr>\n",
              "    <tr>\n",
              "      <th>5448</th>\n",
              "      <td>7769</td>\n",
              "      <td>police</td>\n",
              "      <td>UK</td>\n",
              "      <td>DT @georgegalloway: RT @Galloway4Mayor: ÛÏThe...</td>\n",
              "      <td>1</td>\n",
              "    </tr>\n",
              "    <tr>\n",
              "      <th>132</th>\n",
              "      <td>191</td>\n",
              "      <td>aftershock</td>\n",
              "      <td>NaN</td>\n",
              "      <td>Aftershock back to school kick off was great. ...</td>\n",
              "      <td>0</td>\n",
              "    </tr>\n",
              "    <tr>\n",
              "      <th>6845</th>\n",
              "      <td>9810</td>\n",
              "      <td>trauma</td>\n",
              "      <td>Montgomery County, MD</td>\n",
              "      <td>in response to trauma Children of Addicts deve...</td>\n",
              "      <td>0</td>\n",
              "    </tr>\n",
              "  </tbody>\n",
              "</table>\n",
              "</div>\n",
              "    <div class=\"colab-df-buttons\">\n",
              "\n",
              "  <div class=\"colab-df-container\">\n",
              "    <button class=\"colab-df-convert\" onclick=\"convertToInteractive('df-1459e7c4-351a-47f8-a93b-de38d17e0839')\"\n",
              "            title=\"Convert this dataframe to an interactive table.\"\n",
              "            style=\"display:none;\">\n",
              "\n",
              "  <svg xmlns=\"http://www.w3.org/2000/svg\" height=\"24px\" viewBox=\"0 -960 960 960\">\n",
              "    <path d=\"M120-120v-720h720v720H120Zm60-500h600v-160H180v160Zm220 220h160v-160H400v160Zm0 220h160v-160H400v160ZM180-400h160v-160H180v160Zm440 0h160v-160H620v160ZM180-180h160v-160H180v160Zm440 0h160v-160H620v160Z\"/>\n",
              "  </svg>\n",
              "    </button>\n",
              "\n",
              "  <style>\n",
              "    .colab-df-container {\n",
              "      display:flex;\n",
              "      gap: 12px;\n",
              "    }\n",
              "\n",
              "    .colab-df-convert {\n",
              "      background-color: #E8F0FE;\n",
              "      border: none;\n",
              "      border-radius: 50%;\n",
              "      cursor: pointer;\n",
              "      display: none;\n",
              "      fill: #1967D2;\n",
              "      height: 32px;\n",
              "      padding: 0 0 0 0;\n",
              "      width: 32px;\n",
              "    }\n",
              "\n",
              "    .colab-df-convert:hover {\n",
              "      background-color: #E2EBFA;\n",
              "      box-shadow: 0px 1px 2px rgba(60, 64, 67, 0.3), 0px 1px 3px 1px rgba(60, 64, 67, 0.15);\n",
              "      fill: #174EA6;\n",
              "    }\n",
              "\n",
              "    .colab-df-buttons div {\n",
              "      margin-bottom: 4px;\n",
              "    }\n",
              "\n",
              "    [theme=dark] .colab-df-convert {\n",
              "      background-color: #3B4455;\n",
              "      fill: #D2E3FC;\n",
              "    }\n",
              "\n",
              "    [theme=dark] .colab-df-convert:hover {\n",
              "      background-color: #434B5C;\n",
              "      box-shadow: 0px 1px 3px 1px rgba(0, 0, 0, 0.15);\n",
              "      filter: drop-shadow(0px 1px 2px rgba(0, 0, 0, 0.3));\n",
              "      fill: #FFFFFF;\n",
              "    }\n",
              "  </style>\n",
              "\n",
              "    <script>\n",
              "      const buttonEl =\n",
              "        document.querySelector('#df-1459e7c4-351a-47f8-a93b-de38d17e0839 button.colab-df-convert');\n",
              "      buttonEl.style.display =\n",
              "        google.colab.kernel.accessAllowed ? 'block' : 'none';\n",
              "\n",
              "      async function convertToInteractive(key) {\n",
              "        const element = document.querySelector('#df-1459e7c4-351a-47f8-a93b-de38d17e0839');\n",
              "        const dataTable =\n",
              "          await google.colab.kernel.invokeFunction('convertToInteractive',\n",
              "                                                    [key], {});\n",
              "        if (!dataTable) return;\n",
              "\n",
              "        const docLinkHtml = 'Like what you see? Visit the ' +\n",
              "          '<a target=\"_blank\" href=https://colab.research.google.com/notebooks/data_table.ipynb>data table notebook</a>'\n",
              "          + ' to learn more about interactive tables.';\n",
              "        element.innerHTML = '';\n",
              "        dataTable['output_type'] = 'display_data';\n",
              "        await google.colab.output.renderOutput(dataTable, element);\n",
              "        const docLink = document.createElement('div');\n",
              "        docLink.innerHTML = docLinkHtml;\n",
              "        element.appendChild(docLink);\n",
              "      }\n",
              "    </script>\n",
              "  </div>\n",
              "\n",
              "\n",
              "<div id=\"df-81b30c11-ad84-43ea-8b66-6a5e90475e9d\">\n",
              "  <button class=\"colab-df-quickchart\" onclick=\"quickchart('df-81b30c11-ad84-43ea-8b66-6a5e90475e9d')\"\n",
              "            title=\"Suggest charts\"\n",
              "            style=\"display:none;\">\n",
              "\n",
              "<svg xmlns=\"http://www.w3.org/2000/svg\" height=\"24px\"viewBox=\"0 0 24 24\"\n",
              "     width=\"24px\">\n",
              "    <g>\n",
              "        <path d=\"M19 3H5c-1.1 0-2 .9-2 2v14c0 1.1.9 2 2 2h14c1.1 0 2-.9 2-2V5c0-1.1-.9-2-2-2zM9 17H7v-7h2v7zm4 0h-2V7h2v10zm4 0h-2v-4h2v4z\"/>\n",
              "    </g>\n",
              "</svg>\n",
              "  </button>\n",
              "\n",
              "<style>\n",
              "  .colab-df-quickchart {\n",
              "      --bg-color: #E8F0FE;\n",
              "      --fill-color: #1967D2;\n",
              "      --hover-bg-color: #E2EBFA;\n",
              "      --hover-fill-color: #174EA6;\n",
              "      --disabled-fill-color: #AAA;\n",
              "      --disabled-bg-color: #DDD;\n",
              "  }\n",
              "\n",
              "  [theme=dark] .colab-df-quickchart {\n",
              "      --bg-color: #3B4455;\n",
              "      --fill-color: #D2E3FC;\n",
              "      --hover-bg-color: #434B5C;\n",
              "      --hover-fill-color: #FFFFFF;\n",
              "      --disabled-bg-color: #3B4455;\n",
              "      --disabled-fill-color: #666;\n",
              "  }\n",
              "\n",
              "  .colab-df-quickchart {\n",
              "    background-color: var(--bg-color);\n",
              "    border: none;\n",
              "    border-radius: 50%;\n",
              "    cursor: pointer;\n",
              "    display: none;\n",
              "    fill: var(--fill-color);\n",
              "    height: 32px;\n",
              "    padding: 0;\n",
              "    width: 32px;\n",
              "  }\n",
              "\n",
              "  .colab-df-quickchart:hover {\n",
              "    background-color: var(--hover-bg-color);\n",
              "    box-shadow: 0 1px 2px rgba(60, 64, 67, 0.3), 0 1px 3px 1px rgba(60, 64, 67, 0.15);\n",
              "    fill: var(--button-hover-fill-color);\n",
              "  }\n",
              "\n",
              "  .colab-df-quickchart-complete:disabled,\n",
              "  .colab-df-quickchart-complete:disabled:hover {\n",
              "    background-color: var(--disabled-bg-color);\n",
              "    fill: var(--disabled-fill-color);\n",
              "    box-shadow: none;\n",
              "  }\n",
              "\n",
              "  .colab-df-spinner {\n",
              "    border: 2px solid var(--fill-color);\n",
              "    border-color: transparent;\n",
              "    border-bottom-color: var(--fill-color);\n",
              "    animation:\n",
              "      spin 1s steps(1) infinite;\n",
              "  }\n",
              "\n",
              "  @keyframes spin {\n",
              "    0% {\n",
              "      border-color: transparent;\n",
              "      border-bottom-color: var(--fill-color);\n",
              "      border-left-color: var(--fill-color);\n",
              "    }\n",
              "    20% {\n",
              "      border-color: transparent;\n",
              "      border-left-color: var(--fill-color);\n",
              "      border-top-color: var(--fill-color);\n",
              "    }\n",
              "    30% {\n",
              "      border-color: transparent;\n",
              "      border-left-color: var(--fill-color);\n",
              "      border-top-color: var(--fill-color);\n",
              "      border-right-color: var(--fill-color);\n",
              "    }\n",
              "    40% {\n",
              "      border-color: transparent;\n",
              "      border-right-color: var(--fill-color);\n",
              "      border-top-color: var(--fill-color);\n",
              "    }\n",
              "    60% {\n",
              "      border-color: transparent;\n",
              "      border-right-color: var(--fill-color);\n",
              "    }\n",
              "    80% {\n",
              "      border-color: transparent;\n",
              "      border-right-color: var(--fill-color);\n",
              "      border-bottom-color: var(--fill-color);\n",
              "    }\n",
              "    90% {\n",
              "      border-color: transparent;\n",
              "      border-bottom-color: var(--fill-color);\n",
              "    }\n",
              "  }\n",
              "</style>\n",
              "\n",
              "  <script>\n",
              "    async function quickchart(key) {\n",
              "      const quickchartButtonEl =\n",
              "        document.querySelector('#' + key + ' button');\n",
              "      quickchartButtonEl.disabled = true;  // To prevent multiple clicks.\n",
              "      quickchartButtonEl.classList.add('colab-df-spinner');\n",
              "      try {\n",
              "        const charts = await google.colab.kernel.invokeFunction(\n",
              "            'suggestCharts', [key], {});\n",
              "      } catch (error) {\n",
              "        console.error('Error during call to suggestCharts:', error);\n",
              "      }\n",
              "      quickchartButtonEl.classList.remove('colab-df-spinner');\n",
              "      quickchartButtonEl.classList.add('colab-df-quickchart-complete');\n",
              "    }\n",
              "    (() => {\n",
              "      let quickchartButtonEl =\n",
              "        document.querySelector('#df-81b30c11-ad84-43ea-8b66-6a5e90475e9d button');\n",
              "      quickchartButtonEl.style.display =\n",
              "        google.colab.kernel.accessAllowed ? 'block' : 'none';\n",
              "    })();\n",
              "  </script>\n",
              "</div>\n",
              "\n",
              "    </div>\n",
              "  </div>\n"
            ]
          },
          "metadata": {},
          "execution_count": 8
        }
      ]
    },
    {
      "cell_type": "markdown",
      "source": [
        "we can visulize the dta ans see how the training data has a columns known as target column which represent 0 and 1."
      ],
      "metadata": {
        "id": "lGl4nipB2mAk"
      }
    },
    {
      "cell_type": "code",
      "source": [
        "numpy_text =train_df_shuffled[\"text\"].to_numpy()"
      ],
      "metadata": {
        "id": "bflcqq-21M9p"
      },
      "execution_count": 9,
      "outputs": []
    },
    {
      "cell_type": "code",
      "source": [
        "numpy_text"
      ],
      "metadata": {
        "colab": {
          "base_uri": "https://localhost:8080/"
        },
        "id": "zoBYH3u14wK-",
        "outputId": "3700c657-de9e-4fe9-d178-fac195be86ba"
      },
      "execution_count": 10,
      "outputs": [
        {
          "output_type": "execute_result",
          "data": {
            "text/plain": [
              "array(['So you have a new weapon that can cause un-imaginable destruction.',\n",
              "       'The f$&amp;@ing things I do for #GISHWHES Just got soaked in a deluge going for pads and tampons. Thx @mishacollins @/@',\n",
              "       'DT @georgegalloway: RT @Galloway4Mayor: \\x89ÛÏThe CoL police can catch a pickpocket in Liverpool Stree... http://t.co/vXIn1gOq4Q',\n",
              "       ...,\n",
              "       'Omron HEM-712C Automatic Blood Pressure Monitor STANDARD AND LARGE BP CUFFS http://t.co/gJBAInQWN9 http://t.co/jPhgpL1c5x',\n",
              "       'Officials say a quarantine is in place at an Alabama home over a possible Ebola case after developing symptoms... http://t.co/rqKK15uhEY',\n",
              "       'I moved to England five years ago today. What a whirlwind of time it has been! http://t.co/eaSlGeA1B7'],\n",
              "      dtype=object)"
            ]
          },
          "metadata": {},
          "execution_count": 10
        }
      ]
    },
    {
      "cell_type": "code",
      "source": [
        "\n",
        "from sklearn.model_selection import train_test_split\n",
        "train_sentences, val_sentences, train_labels, val_labels = train_test_split(train_df_shuffled[\"text\"].to_numpy(),\n",
        "                                                                            train_df_shuffled[\"target\"].to_numpy(),\n",
        "                                                                            test_size=0.1, # dedicate 10% of samples to validation set\n",
        "                                                                            random_state=42)"
      ],
      "metadata": {
        "id": "HatklHHu4yq1"
      },
      "execution_count": 11,
      "outputs": []
    },
    {
      "cell_type": "code",
      "source": [
        "train_sentences[:10]"
      ],
      "metadata": {
        "colab": {
          "base_uri": "https://localhost:8080/"
        },
        "id": "C1zY8og3fwDV",
        "outputId": "2d61622d-14ba-47bb-dab1-df6c7fcc2598"
      },
      "execution_count": 12,
      "outputs": [
        {
          "output_type": "execute_result",
          "data": {
            "text/plain": [
              "array(['@mogacola @zamtriossu i screamed after hitting tweet',\n",
              "       'Imagine getting flattened by Kurt Zouma',\n",
              "       '@Gurmeetramrahim #MSGDoing111WelfareWorks Green S welfare force ke appx 65000 members har time disaster victim ki help ke liye tyar hai....',\n",
              "       \"@shakjn @C7 @Magnums im shaking in fear he's gonna hack the planet\",\n",
              "       'Somehow find you and I collide http://t.co/Ee8RpOahPk',\n",
              "       '@EvaHanderek @MarleyKnysh great times until the bus driver held us hostage in the mall parking lot lmfao',\n",
              "       'destroy the free fandom honestly',\n",
              "       'Weapons stolen from National Guard Armory in New Albany still missing #Gunsense http://t.co/lKNU8902JE',\n",
              "       '@wfaaweather Pete when will the heat wave pass? Is it really going to be mid month? Frisco Boy Scouts have a canoe trip in Okla.',\n",
              "       'Patient-reported outcomes in long-term survivors of metastatic colorectal cancer - British Journal of Surgery http://t.co/5Yl4DC1Tqt'],\n",
              "      dtype=object)"
            ]
          },
          "metadata": {},
          "execution_count": 12
        }
      ]
    },
    {
      "cell_type": "markdown",
      "source": [
        "In NLP, there are two main concepts for turning text into numbers:\n",
        "\n",
        "Tokenization - A straight mapping from word or character or sub-word to a numerical value. There are three main levels of tokenization:\n",
        "Using word-level tokenization with the sentence \"I love TensorFlow\" might result in \"I\" being 0, \"love\" being 1 and \"TensorFlow\" being 2. In this case, every word in a sequence considered a single token.\n",
        "Character-level tokenization, such as converting the letters A-Z to values 1-26. In this case, every character in a sequence considered a single token.\n",
        "Sub-word tokenization is in between word-level and character-level tokenization. It involves breaking invidual words into smaller parts and then converting those smaller parts into numbers. For example, \"my favourite food is pineapple pizza\" might become \"my, fav, avour, rite, fo, oo, od, is, pin, ine, app, le, piz, za\". After doing this, these sub-words would then be mapped to a numerical value. In this case, every word could be considered multiple tokens"
      ],
      "metadata": {
        "id": "-05PSh_o5wAJ"
      }
    },
    {
      "cell_type": "markdown",
      "source": [
        "Embeddings - An embedding is a representation of natural language which can be learned. Representation comes in the form of a feature vector. For example, the word \"dance\" could be represented by the 5-dimensional vector [-0.8547, 0.4559, -0.3332, 0.9877, 0.1112]. It's important to note here, the size of the feature vector is tuneable. There are two ways to use embeddings:\n",
        "Create your own embedding - Once your text has been turned into numbers (required for an embedding), you can put them through an embedding layer (such as tf.keras.layers.Embedding) and an embedding representation will be learned during model training.\n",
        "Reuse a pre-learned embedding - Many pre-trained embeddings exist online. These pre-trained embeddings have often been learned on large corpuses of text (such as all of Wikipedia) and thus have a good underlying representation of natural language. You can use a pre-trained embedding to initialize your model and fine-tune it to your own specific task."
      ],
      "metadata": {
        "id": "juZ0YPvF6cma"
      }
    },
    {
      "cell_type": "markdown",
      "source": [
        "#tokensiation"
      ],
      "metadata": {
        "id": "-a2DeQXZ9Vtc"
      }
    },
    {
      "cell_type": "code",
      "source": [
        "import tensorflow as tf\n",
        "from tensorflow.keras.layers import TextVectorization # after TensorFlow 2.6"
      ],
      "metadata": {
        "id": "d1LWlWM45Cj1"
      },
      "execution_count": 13,
      "outputs": []
    },
    {
      "cell_type": "code",
      "source": [
        "text_vectorizer = TextVectorization(max_tokens=None, # how many words in the vocabulary (all of the different words in your text)\n",
        "                                    standardize=\"lower_and_strip_punctuation\", # how to process text\n",
        "                                    split=\"whitespace\", # how to split tokens\n",
        "                                    ngrams=None, # create groups of n-words?\n",
        "                                    output_mode=\"int\", # how to map tokens to numbers\n",
        "                                    output_sequence_length=None) # how long should the output sequence of tokens be?\n",
        "                                    #pad_to_max_tokens=True)"
      ],
      "metadata": {
        "id": "MzW9cqnm7t4R"
      },
      "execution_count": 14,
      "outputs": []
    },
    {
      "cell_type": "markdown",
      "source": [
        "n particular, let's set values for max_tokens and output_sequence_length.\n",
        "\n",
        "For max_tokens (the number of words in the vocabulary), multiples of 10,000 (10,000, 20,000, 30,000) or the exact number of unique words in your text (e.g. 32,179) are common values.\n",
        "\n",
        "For our use case, we'll use 10,000.\n",
        "\n",
        "And for the output_sequence_length we'll use the average number of tokens per Tweet in the training set. But first, we'll need to find it."
      ],
      "metadata": {
        "id": "WemhlF34lfBH"
      }
    },
    {
      "cell_type": "code",
      "source": [
        "\n",
        "# Find average number of tokens (words) in training Tweets\n",
        "round(sum([len(i.split()) for i in train_sentences])/len(train_sentences))\n"
      ],
      "metadata": {
        "colab": {
          "base_uri": "https://localhost:8080/"
        },
        "id": "QmwDy5MB72JY",
        "outputId": "383d9460-0f7c-4d71-e947-2b1b12713f46"
      },
      "execution_count": 15,
      "outputs": [
        {
          "output_type": "execute_result",
          "data": {
            "text/plain": [
              "15"
            ]
          },
          "metadata": {},
          "execution_count": 15
        }
      ]
    },
    {
      "cell_type": "code",
      "source": [
        "# Setup text vectorization with custom variables\n",
        "max_vocab_length = 10000 # max number of words to have in our vocabulary\n",
        "max_length = 15 # max length our sequences will be (e.g. how many words from a Tweet does our model see?)\n",
        "\n",
        "text_vectorizer = TextVectorization(max_tokens=max_vocab_length,\n",
        "                                    output_mode=\"int\",\n",
        "                                    output_sequence_length=max_length)"
      ],
      "metadata": {
        "id": "-Km6hVDU82ug"
      },
      "execution_count": 16,
      "outputs": []
    },
    {
      "cell_type": "code",
      "source": [
        "\n",
        "# Fit the text vectorizer to the training text\n",
        "text_vectorizer.adapt(train_sentences)"
      ],
      "metadata": {
        "id": "z_GHQLyJ86w4"
      },
      "execution_count": 17,
      "outputs": []
    },
    {
      "cell_type": "code",
      "source": [
        "\n",
        "# Create sample sentence and tokenize it\n",
        "sample_sentence = \"there is a earthquake\"\n",
        "text_vectorizer([sample_sentence])"
      ],
      "metadata": {
        "colab": {
          "base_uri": "https://localhost:8080/"
        },
        "id": "JOhm45Qc89Ko",
        "outputId": "ad8f61bd-abb9-48fa-80a2-03e2f06d6250"
      },
      "execution_count": 18,
      "outputs": [
        {
          "output_type": "execute_result",
          "data": {
            "text/plain": [
              "<tf.Tensor: shape=(1, 15), dtype=int64, numpy=\n",
              "array([[ 74,   9,   3, 290,   0,   0,   0,   0,   0,   0,   0,   0,   0,\n",
              "          0,   0]])>"
            ]
          },
          "metadata": {},
          "execution_count": 18
        }
      ]
    },
    {
      "cell_type": "code",
      "source": [
        "import random\n",
        "random_sent = random.choice(train_sentences)\n",
        "print(random_sent)\n",
        "text_vectorizer([random_sent])"
      ],
      "metadata": {
        "colab": {
          "base_uri": "https://localhost:8080/"
        },
        "id": "3AU2TurNmk5v",
        "outputId": "9c824d90-fc8c-4eaf-e167-23946888e1e1"
      },
      "execution_count": 19,
      "outputs": [
        {
          "output_type": "stream",
          "name": "stdout",
          "text": [
            "Ashes 2015: AustraliaÛªs collapse at Trent Bridge among worst in history: England bundled out Australia for 60 ... http://t.co/985DwWPdEt\n"
          ]
        },
        {
          "output_type": "execute_result",
          "data": {
            "text/plain": [
              "<tf.Tensor: shape=(1, 15), dtype=int64, numpy=\n",
              "array([[1325,  208, 6159,  155,   17, 1349,  489, 1558,  971,    4,  705,\n",
              "        2126,    1,   36, 1224]])>"
            ]
          },
          "metadata": {},
          "execution_count": 19
        }
      ]
    },
    {
      "cell_type": "code",
      "source": [
        "words_vocab = text_vectorizer.get_vocabulary()\n",
        "top_5_vocab = words_vocab[:5]\n",
        "print(top_5_vocab)"
      ],
      "metadata": {
        "colab": {
          "base_uri": "https://localhost:8080/"
        },
        "id": "gs_fQ3xinPDJ",
        "outputId": "e1371a03-ce6d-4825-fd4a-4b6914fdd2ff"
      },
      "execution_count": 20,
      "outputs": [
        {
          "output_type": "stream",
          "name": "stdout",
          "text": [
            "['', '[UNK]', 'the', 'a', 'in']\n"
          ]
        }
      ]
    },
    {
      "cell_type": "markdown",
      "source": [
        "#Embedding"
      ],
      "metadata": {
        "id": "YgS3mKT19Ycy"
      }
    },
    {
      "cell_type": "code",
      "source": [
        "tf.random.set_seed(42)\n",
        "from tensorflow.keras import layers\n",
        "\n",
        "embedding = layers.Embedding(input_dim=max_vocab_length, # set input shape\n",
        "                             output_dim=128, # set size of embedding vector\n",
        "                             #embeddings_initializer=\"uniform\", # default, intialize randomly\n",
        "                             input_length=max_length, # how long is each input\n",
        "                             #name=\"embedding_1\"\n",
        "                             )\n",
        "\n",
        "embedding"
      ],
      "metadata": {
        "colab": {
          "base_uri": "https://localhost:8080/"
        },
        "id": "oX54Xa-y9E-x",
        "outputId": "9d904807-3ab1-44c8-80ed-8518f100e0f6"
      },
      "execution_count": 21,
      "outputs": [
        {
          "output_type": "execute_result",
          "data": {
            "text/plain": [
              "<keras.src.layers.core.embedding.Embedding at 0x7b479495c160>"
            ]
          },
          "metadata": {},
          "execution_count": 21
        }
      ]
    },
    {
      "cell_type": "code",
      "source": [
        "embedding(text_vectorizer(['there is a earthquake']))"
      ],
      "metadata": {
        "colab": {
          "base_uri": "https://localhost:8080/"
        },
        "id": "h1dlyoyOqXBl",
        "outputId": "d1a6af92-3688-421c-ebc8-cfbd1ae28f1e"
      },
      "execution_count": 22,
      "outputs": [
        {
          "output_type": "execute_result",
          "data": {
            "text/plain": [
              "<tf.Tensor: shape=(1, 15, 128), dtype=float32, numpy=\n",
              "array([[[-0.02453041,  0.02191049,  0.00306214, ...,  0.03204859,\n",
              "          0.00500698,  0.00724546],\n",
              "        [ 0.02564554, -0.00352542, -0.04878749, ..., -0.02575202,\n",
              "         -0.01509625,  0.03494214],\n",
              "        [-0.03075789,  0.0081869 , -0.00553706, ..., -0.03369044,\n",
              "         -0.04832051, -0.00352212],\n",
              "        ...,\n",
              "        [-0.04100312,  0.01108671, -0.03189156, ..., -0.03901031,\n",
              "          0.04017689, -0.03694425],\n",
              "        [-0.04100312,  0.01108671, -0.03189156, ..., -0.03901031,\n",
              "          0.04017689, -0.03694425],\n",
              "        [-0.04100312,  0.01108671, -0.03189156, ..., -0.03901031,\n",
              "          0.04017689, -0.03694425]]], dtype=float32)>"
            ]
          },
          "metadata": {},
          "execution_count": 22
        }
      ]
    },
    {
      "cell_type": "code",
      "source": [
        "random_sent = random.choice(train_sentences)\n",
        "print(random_sent)\n",
        "embedding(text_vectorizer([random_sent]))"
      ],
      "metadata": {
        "colab": {
          "base_uri": "https://localhost:8080/"
        },
        "id": "pE3xz_tZpY9l",
        "outputId": "03700354-c07b-4edc-ff3d-13c29b756cce"
      },
      "execution_count": 23,
      "outputs": [
        {
          "output_type": "stream",
          "name": "stdout",
          "text": [
            "Don't think for one second I'm out to drown your memory. Baby you ain't worth the whiskey.\n"
          ]
        },
        {
          "output_type": "execute_result",
          "data": {
            "text/plain": [
              "<tf.Tensor: shape=(1, 15, 128), dtype=float32, numpy=\n",
              "array([[[-0.04386724, -0.01215453,  0.0030838 , ...,  0.00912336,\n",
              "         -0.00557156,  0.00104163],\n",
              "        [ 0.0499667 , -0.03749908, -0.02828642, ..., -0.02216365,\n",
              "         -0.02000139, -0.04325248],\n",
              "        [ 0.01795426,  0.00901722,  0.00674301, ...,  0.03892971,\n",
              "          0.00417887, -0.00884079],\n",
              "        ...,\n",
              "        [ 0.04848739, -0.02691901, -0.02182909, ...,  0.03830692,\n",
              "         -0.03876137,  0.03215725],\n",
              "        [-0.0483659 , -0.02057854,  0.01747202, ...,  0.02754929,\n",
              "          0.0151041 , -0.0002513 ],\n",
              "        [-0.0279596 , -0.02299941, -0.01714683, ...,  0.00445123,\n",
              "         -0.03322349, -0.04685856]]], dtype=float32)>"
            ]
          },
          "metadata": {},
          "execution_count": 23
        }
      ]
    },
    {
      "cell_type": "markdown",
      "source": [
        "#Creating a Model\n",
        "To get plenty of practice, we're going to build a series of different models, each as its own experiment. We'll then compare the results of each model and see which one performed best.\n",
        "\n",
        "More specifically, we'll be building the following:\n",
        "\n",
        "Model 0: Naive Bayes (baseline)\n",
        "\n",
        "Model 1: Feed-forward neural network (dense model)\n",
        "\n",
        "Model 2: LSTM model\n",
        "\n",
        "Model 3: GRU model\n",
        "\n",
        "Model 4: Bidirectional-LSTM model\n",
        "\n",
        "Model 5: 1D Convolutional Neural Network\n",
        "\n",
        "Model 6: TensorFlow Hub Pretrained Feature Extractor\n",
        "\n",
        "Model 7: Same as model 6 with 10% of training data\n",
        "\n",
        "Model 0 is the simplest to acquire a baseline which we'll expect each other of the other deeper models to beat.\n",
        "\n",
        "Each experiment will go through the following steps:\n",
        "\n",
        "Construct the model\n",
        "Train the model\n",
        "Make predictions with the model\n",
        "Track prediction evaluation metrics for later comparison"
      ],
      "metadata": {
        "id": "Fyq6G95F_Ts3"
      }
    },
    {
      "cell_type": "markdown",
      "source": [
        "\n",
        "\n",
        "---\n",
        "\n"
      ],
      "metadata": {
        "id": "zkA8K3cMuEX9"
      }
    },
    {
      "cell_type": "markdown",
      "source": [
        "To create our baseline, we'll create a Scikit-Learn Pipeline using the TF-IDF (term frequency-inverse document frequency) formula to convert our words to numbers and then model them with the Multinomial Naive Bayes algorithm"
      ],
      "metadata": {
        "id": "2B-kBFoduChP"
      }
    },
    {
      "cell_type": "code",
      "source": [
        "from sklearn.feature_extraction.text import TfidfVectorizer\n",
        "from sklearn.naive_bayes import MultinomialNB\n",
        "from sklearn.pipeline import Pipeline\n",
        "\n",
        "# Create tokenization and modelling pipeline\n",
        "model_0 = Pipeline([\n",
        "                    (\"tfidf\", TfidfVectorizer()), # convert words to numbers using tfidf\n",
        "                    (\"clf\", MultinomialNB()) # model the text\n",
        "])\n",
        "\n",
        "# Fit the pipeline to the training data\n",
        "model_0.fit(train_sentences, train_labels)"
      ],
      "metadata": {
        "colab": {
          "base_uri": "https://localhost:8080/",
          "height": 126
        },
        "id": "W1FMPLpc_AUQ",
        "outputId": "ada82764-8725-4d69-c6ee-420ee58d5990"
      },
      "execution_count": 24,
      "outputs": [
        {
          "output_type": "execute_result",
          "data": {
            "text/plain": [
              "Pipeline(steps=[('tfidf', TfidfVectorizer()), ('clf', MultinomialNB())])"
            ],
            "text/html": [
              "<style>#sk-container-id-1 {color: black;background-color: white;}#sk-container-id-1 pre{padding: 0;}#sk-container-id-1 div.sk-toggleable {background-color: white;}#sk-container-id-1 label.sk-toggleable__label {cursor: pointer;display: block;width: 100%;margin-bottom: 0;padding: 0.3em;box-sizing: border-box;text-align: center;}#sk-container-id-1 label.sk-toggleable__label-arrow:before {content: \"▸\";float: left;margin-right: 0.25em;color: #696969;}#sk-container-id-1 label.sk-toggleable__label-arrow:hover:before {color: black;}#sk-container-id-1 div.sk-estimator:hover label.sk-toggleable__label-arrow:before {color: black;}#sk-container-id-1 div.sk-toggleable__content {max-height: 0;max-width: 0;overflow: hidden;text-align: left;background-color: #f0f8ff;}#sk-container-id-1 div.sk-toggleable__content pre {margin: 0.2em;color: black;border-radius: 0.25em;background-color: #f0f8ff;}#sk-container-id-1 input.sk-toggleable__control:checked~div.sk-toggleable__content {max-height: 200px;max-width: 100%;overflow: auto;}#sk-container-id-1 input.sk-toggleable__control:checked~label.sk-toggleable__label-arrow:before {content: \"▾\";}#sk-container-id-1 div.sk-estimator input.sk-toggleable__control:checked~label.sk-toggleable__label {background-color: #d4ebff;}#sk-container-id-1 div.sk-label input.sk-toggleable__control:checked~label.sk-toggleable__label {background-color: #d4ebff;}#sk-container-id-1 input.sk-hidden--visually {border: 0;clip: rect(1px 1px 1px 1px);clip: rect(1px, 1px, 1px, 1px);height: 1px;margin: -1px;overflow: hidden;padding: 0;position: absolute;width: 1px;}#sk-container-id-1 div.sk-estimator {font-family: monospace;background-color: #f0f8ff;border: 1px dotted black;border-radius: 0.25em;box-sizing: border-box;margin-bottom: 0.5em;}#sk-container-id-1 div.sk-estimator:hover {background-color: #d4ebff;}#sk-container-id-1 div.sk-parallel-item::after {content: \"\";width: 100%;border-bottom: 1px solid gray;flex-grow: 1;}#sk-container-id-1 div.sk-label:hover label.sk-toggleable__label {background-color: #d4ebff;}#sk-container-id-1 div.sk-serial::before {content: \"\";position: absolute;border-left: 1px solid gray;box-sizing: border-box;top: 0;bottom: 0;left: 50%;z-index: 0;}#sk-container-id-1 div.sk-serial {display: flex;flex-direction: column;align-items: center;background-color: white;padding-right: 0.2em;padding-left: 0.2em;position: relative;}#sk-container-id-1 div.sk-item {position: relative;z-index: 1;}#sk-container-id-1 div.sk-parallel {display: flex;align-items: stretch;justify-content: center;background-color: white;position: relative;}#sk-container-id-1 div.sk-item::before, #sk-container-id-1 div.sk-parallel-item::before {content: \"\";position: absolute;border-left: 1px solid gray;box-sizing: border-box;top: 0;bottom: 0;left: 50%;z-index: -1;}#sk-container-id-1 div.sk-parallel-item {display: flex;flex-direction: column;z-index: 1;position: relative;background-color: white;}#sk-container-id-1 div.sk-parallel-item:first-child::after {align-self: flex-end;width: 50%;}#sk-container-id-1 div.sk-parallel-item:last-child::after {align-self: flex-start;width: 50%;}#sk-container-id-1 div.sk-parallel-item:only-child::after {width: 0;}#sk-container-id-1 div.sk-dashed-wrapped {border: 1px dashed gray;margin: 0 0.4em 0.5em 0.4em;box-sizing: border-box;padding-bottom: 0.4em;background-color: white;}#sk-container-id-1 div.sk-label label {font-family: monospace;font-weight: bold;display: inline-block;line-height: 1.2em;}#sk-container-id-1 div.sk-label-container {text-align: center;}#sk-container-id-1 div.sk-container {/* jupyter's `normalize.less` sets `[hidden] { display: none; }` but bootstrap.min.css set `[hidden] { display: none !important; }` so we also need the `!important` here to be able to override the default hidden behavior on the sphinx rendered scikit-learn.org. See: https://github.com/scikit-learn/scikit-learn/issues/21755 */display: inline-block !important;position: relative;}#sk-container-id-1 div.sk-text-repr-fallback {display: none;}</style><div id=\"sk-container-id-1\" class=\"sk-top-container\"><div class=\"sk-text-repr-fallback\"><pre>Pipeline(steps=[(&#x27;tfidf&#x27;, TfidfVectorizer()), (&#x27;clf&#x27;, MultinomialNB())])</pre><b>In a Jupyter environment, please rerun this cell to show the HTML representation or trust the notebook. <br />On GitHub, the HTML representation is unable to render, please try loading this page with nbviewer.org.</b></div><div class=\"sk-container\" hidden><div class=\"sk-item sk-dashed-wrapped\"><div class=\"sk-label-container\"><div class=\"sk-label sk-toggleable\"><input class=\"sk-toggleable__control sk-hidden--visually\" id=\"sk-estimator-id-1\" type=\"checkbox\" ><label for=\"sk-estimator-id-1\" class=\"sk-toggleable__label sk-toggleable__label-arrow\">Pipeline</label><div class=\"sk-toggleable__content\"><pre>Pipeline(steps=[(&#x27;tfidf&#x27;, TfidfVectorizer()), (&#x27;clf&#x27;, MultinomialNB())])</pre></div></div></div><div class=\"sk-serial\"><div class=\"sk-item\"><div class=\"sk-estimator sk-toggleable\"><input class=\"sk-toggleable__control sk-hidden--visually\" id=\"sk-estimator-id-2\" type=\"checkbox\" ><label for=\"sk-estimator-id-2\" class=\"sk-toggleable__label sk-toggleable__label-arrow\">TfidfVectorizer</label><div class=\"sk-toggleable__content\"><pre>TfidfVectorizer()</pre></div></div></div><div class=\"sk-item\"><div class=\"sk-estimator sk-toggleable\"><input class=\"sk-toggleable__control sk-hidden--visually\" id=\"sk-estimator-id-3\" type=\"checkbox\" ><label for=\"sk-estimator-id-3\" class=\"sk-toggleable__label sk-toggleable__label-arrow\">MultinomialNB</label><div class=\"sk-toggleable__content\"><pre>MultinomialNB()</pre></div></div></div></div></div></div></div>"
            ]
          },
          "metadata": {},
          "execution_count": 24
        }
      ]
    },
    {
      "cell_type": "markdown",
      "source": [
        "#Evalution function"
      ],
      "metadata": {
        "id": "dqwZBEYBFra3"
      }
    },
    {
      "cell_type": "code",
      "source": [
        "# Function to evaluate: accuracy, precision, recall, f1-score\n",
        "from sklearn.metrics import accuracy_score, precision_recall_fscore_support\n",
        "\n",
        "def calculate_results(y_true, y_pred):\n",
        "  \"\"\"\n",
        "  Calculates model accuracy, precision, recall and f1 score of a binary classification model.\n",
        "\n",
        "  Args:\n",
        "  -----\n",
        "  y_true = true labels in the form of a 1D array\n",
        "  y_pred = predicted labels in the form of a 1D array\n",
        "\n",
        "  Returns a dictionary of accuracy, precision, recall, f1-score.\n",
        "  \"\"\"\n",
        "  # Calculate model accuracy\n",
        "  model_accuracy = accuracy_score(y_true, y_pred) * 100\n",
        "  # Calculate model precision, recall and f1 score using \"weighted\" average\n",
        "  model_precision, model_recall, model_f1, _ = precision_recall_fscore_support(y_true, y_pred, average=\"weighted\")\n",
        "  model_results = {\"accuracy\": model_accuracy,\n",
        "                  \"precision\": model_precision*100,\n",
        "                  \"recall\": model_recall*100,\n",
        "                  \"f1\": model_f1*100}\n",
        "  return model_results"
      ],
      "metadata": {
        "id": "gdy6V61CFnFn"
      },
      "execution_count": 25,
      "outputs": []
    },
    {
      "cell_type": "code",
      "source": [
        "baseline_preds = model_0.predict(val_sentences)"
      ],
      "metadata": {
        "id": "48o6-09dF1nJ"
      },
      "execution_count": 26,
      "outputs": []
    },
    {
      "cell_type": "code",
      "source": [
        "# Get baseline results\n",
        "baseline_results = calculate_results(y_true=val_labels,\n",
        "                                     y_pred=baseline_preds)\n",
        "baseline_results"
      ],
      "metadata": {
        "colab": {
          "base_uri": "https://localhost:8080/"
        },
        "id": "xZMJEmTqFv7Y",
        "outputId": "60cdba78-97d4-47d3-ca12-cad1d08f0f04"
      },
      "execution_count": 27,
      "outputs": [
        {
          "output_type": "execute_result",
          "data": {
            "text/plain": [
              "{'accuracy': 79.26509186351706,\n",
              " 'precision': 81.11390004213173,\n",
              " 'recall': 79.26509186351706,\n",
              " 'f1': 78.6218975804955}"
            ]
          },
          "metadata": {},
          "execution_count": 27
        }
      ]
    },
    {
      "cell_type": "markdown",
      "source": [
        "##Model 1 :Simple dense model\n",
        "Feed forward NN (dense model)\n",
        "\n",
        "since we're going to be building a number of TensorFlow deep learning models, we'll import our create_tensorboard_callback() function from helper_functions.py to keep track of the results of each."
      ],
      "metadata": {
        "id": "9Yeex7xtKMEF"
      }
    },
    {
      "cell_type": "code",
      "source": [
        "# Create tensorboard callback (need to create a new one for each model)\n",
        "from helper_functions import create_tensorboard_callback\n",
        "\n",
        "# Create directory to save TensorBoard logs\n",
        "SAVE_DIR = \"model_logs\""
      ],
      "metadata": {
        "id": "uXMZgexSKLkb"
      },
      "execution_count": 28,
      "outputs": []
    },
    {
      "cell_type": "markdown",
      "source": [],
      "metadata": {
        "id": "B8q-L3RMPIwO"
      }
    },
    {
      "cell_type": "code",
      "source": [
        "# Build model with the Functional API\n",
        "from tensorflow.keras import layers\n",
        "inputs = layers.Input(shape=(1,), dtype=\"string\") # inputs are 1-dimensional strings\n",
        "x = text_vectorizer(inputs) # turn the input text into numbers\n",
        "x = embedding(x) # create an embedding of the numerized numbers\n",
        "\n",
        "outputs = layers.Dense(1, activation=\"sigmoid\")(x) # create the output layer, want binary outputs so use sigmoid activation\n",
        "model_1 = tf.keras.Model(inputs, outputs, name=\"model_1_dense\")"
      ],
      "metadata": {
        "id": "Rfvg5tCVPU02"
      },
      "execution_count": 29,
      "outputs": []
    },
    {
      "cell_type": "code",
      "source": [
        "model_1.summary()"
      ],
      "metadata": {
        "colab": {
          "base_uri": "https://localhost:8080/"
        },
        "id": "jxCiLZRiPZJC",
        "outputId": "69d85e8f-feb0-45a8-ac9a-3f7dc638cd3e"
      },
      "execution_count": 30,
      "outputs": [
        {
          "output_type": "stream",
          "name": "stdout",
          "text": [
            "Model: \"model_1_dense\"\n",
            "_________________________________________________________________\n",
            " Layer (type)                Output Shape              Param #   \n",
            "=================================================================\n",
            " input_1 (InputLayer)        [(None, 1)]               0         \n",
            "                                                                 \n",
            " text_vectorization_1 (Text  (None, 15)                0         \n",
            " Vectorization)                                                  \n",
            "                                                                 \n",
            " embedding (Embedding)       (None, 15, 128)           1280000   \n",
            "                                                                 \n",
            " dense (Dense)               (None, 15, 1)             129       \n",
            "                                                                 \n",
            "=================================================================\n",
            "Total params: 1280129 (4.88 MB)\n",
            "Trainable params: 1280129 (4.88 MB)\n",
            "Non-trainable params: 0 (0.00 Byte)\n",
            "_________________________________________________________________\n"
          ]
        }
      ]
    },
    {
      "cell_type": "markdown",
      "source": [
        "![image.png](data:image/png;base64,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)"
      ],
      "metadata": {
        "id": "QUL9pTl0PNw3"
      }
    },
    {
      "cell_type": "code",
      "source": [
        "# Build model with the Functional API\n",
        "from tensorflow.keras import layers\n",
        "inputs = layers.Input(shape=(1,), dtype=\"string\") # inputs are 1-dimensional strings\n",
        "x = text_vectorizer(inputs) # turn the input text into numbers\n",
        "x = embedding(x) # create an embedding of the numerized numbers\n",
        "x = layers.GlobalAveragePooling1D()(x) # lower the dimensionality of the embedding (try running the model without this layer and see what happens)\n",
        "outputs = layers.Dense(1, activation=\"sigmoid\")(x) # create the output layer, want binary outputs so use sigmoid activation\n",
        "model_1 = tf.keras.Model(inputs, outputs, name=\"model_1_dense\") # construct the model\n"
      ],
      "metadata": {
        "id": "xiCNYhODKvPz"
      },
      "execution_count": 31,
      "outputs": []
    },
    {
      "cell_type": "code",
      "source": [
        "model_1.summary()"
      ],
      "metadata": {
        "colab": {
          "base_uri": "https://localhost:8080/"
        },
        "id": "t_OQGzv0Nsxd",
        "outputId": "44b9dc80-5671-4645-c644-2bde802d61f8"
      },
      "execution_count": 32,
      "outputs": [
        {
          "output_type": "stream",
          "name": "stdout",
          "text": [
            "Model: \"model_1_dense\"\n",
            "_________________________________________________________________\n",
            " Layer (type)                Output Shape              Param #   \n",
            "=================================================================\n",
            " input_2 (InputLayer)        [(None, 1)]               0         \n",
            "                                                                 \n",
            " text_vectorization_1 (Text  (None, 15)                0         \n",
            " Vectorization)                                                  \n",
            "                                                                 \n",
            " embedding (Embedding)       (None, 15, 128)           1280000   \n",
            "                                                                 \n",
            " global_average_pooling1d (  (None, 128)               0         \n",
            " GlobalAveragePooling1D)                                         \n",
            "                                                                 \n",
            " dense_1 (Dense)             (None, 1)                 129       \n",
            "                                                                 \n",
            "=================================================================\n",
            "Total params: 1280129 (4.88 MB)\n",
            "Trainable params: 1280129 (4.88 MB)\n",
            "Non-trainable params: 0 (0.00 Byte)\n",
            "_________________________________________________________________\n"
          ]
        }
      ]
    },
    {
      "cell_type": "code",
      "source": [
        "model_1.compile(loss=\"binary_crossentropy\",\n",
        "                optimizer=tf.keras.optimizers.Adam(),\n",
        "                metrics=[\"accuracy\"])"
      ],
      "metadata": {
        "id": "E6CTdMi-N1wP"
      },
      "execution_count": 33,
      "outputs": []
    },
    {
      "cell_type": "code",
      "source": [
        "model_1_history = model_1.fit(train_sentences, # input sentences can be a list of strings due to text preprocessing layer built-in model\n",
        "                              train_labels,\n",
        "                              epochs=5,\n",
        "                              validation_data=(val_sentences, val_labels),\n",
        "                              callbacks=[create_tensorboard_callback(dir_name=SAVE_DIR,\n",
        "                                                                     experiment_name=\"simple_dense_model_1\")])\n"
      ],
      "metadata": {
        "colab": {
          "base_uri": "https://localhost:8080/"
        },
        "id": "uCrHHUNKOGEy",
        "outputId": "75fb511e-7e74-4737-eeea-1ad65c0adeac"
      },
      "execution_count": 34,
      "outputs": [
        {
          "output_type": "stream",
          "name": "stdout",
          "text": [
            "Saving TensorBoard log files to: model_logs/simple_dense_model_1/20231226-082100\n",
            "Epoch 1/5\n",
            "215/215 [==============================] - 19s 67ms/step - loss: 0.6104 - accuracy: 0.6904 - val_loss: 0.5367 - val_accuracy: 0.7572\n",
            "Epoch 2/5\n",
            "215/215 [==============================] - 3s 16ms/step - loss: 0.4420 - accuracy: 0.8190 - val_loss: 0.4690 - val_accuracy: 0.7861\n",
            "Epoch 3/5\n",
            "215/215 [==============================] - 3s 15ms/step - loss: 0.3469 - accuracy: 0.8606 - val_loss: 0.4587 - val_accuracy: 0.7900\n",
            "Epoch 4/5\n",
            "215/215 [==============================] - 4s 17ms/step - loss: 0.2854 - accuracy: 0.8917 - val_loss: 0.4637 - val_accuracy: 0.7913\n",
            "Epoch 5/5\n",
            "215/215 [==============================] - 3s 14ms/step - loss: 0.2385 - accuracy: 0.9118 - val_loss: 0.4762 - val_accuracy: 0.7861\n"
          ]
        }
      ]
    },
    {
      "cell_type": "code",
      "source": [
        "\n",
        "# Check the results\n",
        "model_1.evaluate(val_sentences, val_labels)"
      ],
      "metadata": {
        "colab": {
          "base_uri": "https://localhost:8080/"
        },
        "id": "Sz6k_YNMPk4Z",
        "outputId": "43885a1d-5d86-4c6e-ef20-0b0a21408ebc"
      },
      "execution_count": 35,
      "outputs": [
        {
          "output_type": "stream",
          "name": "stdout",
          "text": [
            "24/24 [==============================] - 0s 3ms/step - loss: 0.4762 - accuracy: 0.7861\n"
          ]
        },
        {
          "output_type": "execute_result",
          "data": {
            "text/plain": [
              "[0.4761740267276764, 0.7860892415046692]"
            ]
          },
          "metadata": {},
          "execution_count": 35
        }
      ]
    },
    {
      "cell_type": "code",
      "source": [
        "#predict\n",
        "model_1_pred_prob = model_1.predict(val_sentences)\n",
        "print(model_1_pred_prob.shape)\n",
        "print(model_1_pred_prob[0])"
      ],
      "metadata": {
        "colab": {
          "base_uri": "https://localhost:8080/"
        },
        "id": "G_mJEuAEP0ZP",
        "outputId": "6598a784-6d5e-4177-9931-978e7b475cf5"
      },
      "execution_count": 36,
      "outputs": [
        {
          "output_type": "stream",
          "name": "stdout",
          "text": [
            "24/24 [==============================] - 0s 2ms/step\n",
            "(762, 1)\n",
            "[0.4105712]\n"
          ]
        }
      ]
    },
    {
      "cell_type": "markdown",
      "source": [
        "Above we can see  after using pooling layer it has reduced to single predcition"
      ],
      "metadata": {
        "id": "qD3aPtgeQE8A"
      }
    },
    {
      "cell_type": "markdown",
      "source": [
        "and also now our predcition are in float values and the lables are either 0 or 1 so we have to convert this as well"
      ],
      "metadata": {
        "id": "w3ZpL3COQbxJ"
      }
    },
    {
      "cell_type": "code",
      "source": [
        "model_1_preds = tf.squeeze(tf.round(model_1_pred_prob))"
      ],
      "metadata": {
        "id": "BAgnYxkFQa-I"
      },
      "execution_count": 37,
      "outputs": []
    },
    {
      "cell_type": "code",
      "source": [
        "#evaluate\n",
        "model_1_results = calculate_results(y_true=val_labels,\n",
        "                                    y_pred=model_1_preds)\n",
        "model_1_results"
      ],
      "metadata": {
        "colab": {
          "base_uri": "https://localhost:8080/"
        },
        "id": "fyOGaA8nRFIO",
        "outputId": "a612b1a6-b564-4382-9b81-8867476e1ee1"
      },
      "execution_count": 38,
      "outputs": [
        {
          "output_type": "execute_result",
          "data": {
            "text/plain": [
              "{'accuracy': 78.60892388451444,\n",
              " 'precision': 79.03277546022673,\n",
              " 'recall': 78.60892388451444,\n",
              " 'f1': 78.32971347503846}"
            ]
          },
          "metadata": {},
          "execution_count": 38
        }
      ]
    },
    {
      "cell_type": "code",
      "source": [
        "def compare_baseline_to_new_results(baseline_results, new_model_results):\n",
        "  for key, value in baseline_results.items():\n",
        "    print(f\"Baseline {key}: {value:.2f}, New {key}: {new_model_results[key]:.2f}, Difference: {new_model_results[key]-value:.2f}\")\n"
      ],
      "metadata": {
        "id": "7hWPZh5TRYcM"
      },
      "execution_count": 39,
      "outputs": []
    },
    {
      "cell_type": "code",
      "source": [
        "compare_baseline_to_new_results(baseline_results=baseline_results,\n",
        "                                new_model_results=model_1_results)"
      ],
      "metadata": {
        "colab": {
          "base_uri": "https://localhost:8080/"
        },
        "id": "-pqER622RbSs",
        "outputId": "a99609b3-e6eb-4389-c123-256c0cb490c8"
      },
      "execution_count": 40,
      "outputs": [
        {
          "output_type": "stream",
          "name": "stdout",
          "text": [
            "Baseline accuracy: 79.27, New accuracy: 78.61, Difference: -0.66\n",
            "Baseline precision: 81.11, New precision: 79.03, Difference: -2.08\n",
            "Baseline recall: 79.27, New recall: 78.61, Difference: -0.66\n",
            "Baseline f1: 78.62, New f1: 78.33, Difference: -0.29\n"
          ]
        }
      ]
    },
    {
      "cell_type": "markdown",
      "source": [
        "###Visulise the embedding layer\n"
      ],
      "metadata": {
        "id": "1T1TTkVETEAj"
      }
    },
    {
      "cell_type": "code",
      "source": [
        "words_in_vocab = text_vectorizer.get_vocabulary()\n",
        "len(words_in_vocab), words_in_vocab[:10]"
      ],
      "metadata": {
        "colab": {
          "base_uri": "https://localhost:8080/"
        },
        "id": "02gNibViR6RA",
        "outputId": "c0a0d2d4-d1ec-4a15-fc01-1663d0e69eca"
      },
      "execution_count": 41,
      "outputs": [
        {
          "output_type": "execute_result",
          "data": {
            "text/plain": [
              "(10000, ['', '[UNK]', 'the', 'a', 'in', 'to', 'of', 'and', 'i', 'is'])"
            ]
          },
          "metadata": {},
          "execution_count": 41
        }
      ]
    },
    {
      "cell_type": "code",
      "source": [
        "embed_weights = model_1.get_layer(\"embedding\").get_weights()[0]"
      ],
      "metadata": {
        "id": "-yAJZt_YTNg6"
      },
      "execution_count": 42,
      "outputs": []
    },
    {
      "cell_type": "markdown",
      "source": [
        "https://www.tensorflow.org/text/guide/word_embeddings"
      ],
      "metadata": {
        "id": "PXnFD7NLTVl5"
      }
    },
    {
      "cell_type": "code",
      "source": [
        "'''import io\n",
        "out_v = io.open('vectors.tsv', 'w', encoding='utf-8')\n",
        "out_m = io.open('metadata.tsv', 'w', encoding='utf-8')\n",
        "\n",
        "for index, word in enumerate(words_in_vocab):\n",
        "  if index == 0:\n",
        "    continue  # skip 0, it's padding.\n",
        "  vec = embed_weights[index]\n",
        "  out_v.write('\\t'.join([str(x) for x in vec]) + \"\\n\")\n",
        "  out_m.write(word + \"\\n\")\n",
        "out_v.close()\n",
        "out_m.close()'''"
      ],
      "metadata": {
        "colab": {
          "base_uri": "https://localhost:8080/",
          "height": 70
        },
        "id": "dN7gi6IXTTAa",
        "outputId": "1afc798d-3bf7-49df-ded2-1b9833f86acf"
      },
      "execution_count": 43,
      "outputs": [
        {
          "output_type": "execute_result",
          "data": {
            "text/plain": [
              "'import io\\nout_v = io.open(\\'vectors.tsv\\', \\'w\\', encoding=\\'utf-8\\')\\nout_m = io.open(\\'metadata.tsv\\', \\'w\\', encoding=\\'utf-8\\')\\n\\nfor index, word in enumerate(words_in_vocab):\\n  if index == 0:\\n    continue  # skip 0, it\\'s padding.\\n  vec = embed_weights[index]\\n  out_v.write(\\'\\t\\'.join([str(x) for x in vec]) + \"\\n\")\\n  out_m.write(word + \"\\n\")\\nout_v.close()\\nout_m.close()'"
            ],
            "application/vnd.google.colaboratory.intrinsic+json": {
              "type": "string"
            }
          },
          "metadata": {},
          "execution_count": 43
        }
      ]
    },
    {
      "cell_type": "code",
      "source": [
        "'''try:\n",
        "  from google.colab import files\n",
        "  files.download('vectors.tsv')\n",
        "  files.download('metadata.tsv')\n",
        "except Exception:\n",
        "  pass'''"
      ],
      "metadata": {
        "colab": {
          "base_uri": "https://localhost:8080/",
          "height": 53
        },
        "id": "hPXmjjVIU2Ev",
        "outputId": "7c12642d-4a1b-459c-a90c-7460d9e5a215"
      },
      "execution_count": 44,
      "outputs": [
        {
          "output_type": "execute_result",
          "data": {
            "text/plain": [
              "\"try:\\n  from google.colab import files\\n  files.download('vectors.tsv')\\n  files.download('metadata.tsv')\\nexcept Exception:\\n  pass\""
            ],
            "application/vnd.google.colaboratory.intrinsic+json": {
              "type": "string"
            }
          },
          "metadata": {},
          "execution_count": 44
        }
      ]
    },
    {
      "cell_type": "markdown",
      "source": [
        "#RNN (Recurrent neural networks)\n",
        "\n",
        "Recurrent neural networks can be used for a number of sequence-based problems:\n",
        "\n",
        "One to one: one input, one output, such as image classification.\n",
        "One to many: one input, many outputs, such as image captioning (image input, a sequence of text as caption output).\n",
        "Many to one: many inputs, one outputs, such as text classification (classifying a Tweet as real diaster or not real diaster).\n",
        "Many to many: many inputs, many outputs, such as machine translation (translating English to Spanish) or speech to text (audio wave as input, text as output)."
      ],
      "metadata": {
        "id": "8Ki3N3XWQBl2"
      }
    },
    {
      "cell_type": "markdown",
      "source": [
        "##LSTM RNN\n",
        "\n"
      ],
      "metadata": {
        "id": "St3QoFBQksM_"
      }
    },
    {
      "cell_type": "code",
      "source": [
        "# Create LSTM model\n",
        "from tensorflow.keras import layers\n",
        "inputs = layers.Input(shape=(1,), dtype=\"string\")\n",
        "x = text_vectorizer(inputs)\n",
        "x = embedding(x)\n",
        "print(x.shape)\n",
        "x = layers.LSTM(64, return_sequences=True)(x)# return vector for each word in the Tweet (you can stack RNN cells as long as return_sequences=True)\n",
        "print(x.shape)\n",
        "x = layers.LSTM(64)(x) # return vector for whole sequence\n",
        "print(x.shape)\n",
        "x = layers.Dense(64, activation=\"relu\")(x) # optional dense layer on top of output of LSTM cell\n",
        "outputs = layers.Dense(1, activation=\"sigmoid\")(x)\n",
        "model_2 = tf.keras.Model(inputs, outputs, name=\"model_2_LSTM\")"
      ],
      "metadata": {
        "colab": {
          "base_uri": "https://localhost:8080/"
        },
        "id": "mCPLfN21lgex",
        "outputId": "0c97336c-9a87-4cf0-c08d-7987f7958692"
      },
      "execution_count": 45,
      "outputs": [
        {
          "output_type": "stream",
          "name": "stdout",
          "text": [
            "(None, 15, 128)\n",
            "(None, 15, 64)\n",
            "(None, 64)\n"
          ]
        }
      ]
    },
    {
      "cell_type": "markdown",
      "source": [
        " Many of these have been tuned to make sure they compute as fast as possible. The main ones you'll be looking to adjust are units (number of hidden units) and return_sequences (set this to True when stacking LSTM or other recurrent layers).\n",
        "\n",
        "\n",
        "  return_sequences returns  3 dim"
      ],
      "metadata": {
        "id": "S1BsJILdmbR5"
      }
    },
    {
      "cell_type": "code",
      "source": [
        "# Create LSTM model\n",
        "from tensorflow.keras import layers\n",
        "inputs = layers.Input(shape=(1,), dtype=\"string\")\n",
        "x = text_vectorizer(inputs)\n",
        "x = embedding(x)\n",
        "print(x.shape)\n",
        "#x = layers.LSTM(64, return_sequences=True)(x) # return vector for each word in the Tweet (you can stack RNN cells as long as return_sequences=True)\n",
        "x = layers.LSTM(64)(x) # return vector for whole sequence\n",
        "print(x.shape)\n",
        "# x = layers.Dense(64, activation=\"relu\")(x) # optional dense layer on top of output of LSTM cell\n",
        "outputs = layers.Dense(1, activation=\"sigmoid\")(x)\n",
        "model_2 = tf.keras.Model(inputs, outputs, name=\"model_2_LSTM\")"
      ],
      "metadata": {
        "colab": {
          "base_uri": "https://localhost:8080/"
        },
        "id": "IA171gMIkrwi",
        "outputId": "47884e59-5e3b-4644-8dc8-432cfbfe3763"
      },
      "execution_count": 46,
      "outputs": [
        {
          "output_type": "stream",
          "name": "stdout",
          "text": [
            "(None, 15, 128)\n",
            "(None, 64)\n"
          ]
        }
      ]
    },
    {
      "cell_type": "code",
      "source": [
        "model_2.summary()"
      ],
      "metadata": {
        "colab": {
          "base_uri": "https://localhost:8080/"
        },
        "id": "zLghRXa0SHTH",
        "outputId": "7fc3fc49-a6f9-4d6a-b7c0-67326ba4b68c"
      },
      "execution_count": 47,
      "outputs": [
        {
          "output_type": "stream",
          "name": "stdout",
          "text": [
            "Model: \"model_2_LSTM\"\n",
            "_________________________________________________________________\n",
            " Layer (type)                Output Shape              Param #   \n",
            "=================================================================\n",
            " input_4 (InputLayer)        [(None, 1)]               0         \n",
            "                                                                 \n",
            " text_vectorization_1 (Text  (None, 15)                0         \n",
            " Vectorization)                                                  \n",
            "                                                                 \n",
            " embedding (Embedding)       (None, 15, 128)           1280000   \n",
            "                                                                 \n",
            " lstm_2 (LSTM)               (None, 64)                49408     \n",
            "                                                                 \n",
            " dense_4 (Dense)             (None, 1)                 65        \n",
            "                                                                 \n",
            "=================================================================\n",
            "Total params: 1329473 (5.07 MB)\n",
            "Trainable params: 1329473 (5.07 MB)\n",
            "Non-trainable params: 0 (0.00 Byte)\n",
            "_________________________________________________________________\n"
          ]
        }
      ]
    },
    {
      "cell_type": "code",
      "source": [
        "# Compile model\n",
        "model_2.compile(loss=\"binary_crossentropy\",\n",
        "                optimizer=tf.keras.optimizers.Adam(),\n",
        "                metrics=[\"accuracy\"])"
      ],
      "metadata": {
        "id": "zvExEH02nyRv"
      },
      "execution_count": 48,
      "outputs": []
    },
    {
      "cell_type": "code",
      "source": [
        "\n",
        "# Fit model\n",
        "model_2_history = model_2.fit(train_sentences,\n",
        "                              train_labels,\n",
        "                              epochs=5,\n",
        "                              validation_data=(val_sentences, val_labels),\n",
        "                              callbacks=[create_tensorboard_callback(SAVE_DIR,\n",
        "                                                                     \"LSTM\")])"
      ],
      "metadata": {
        "colab": {
          "base_uri": "https://localhost:8080/"
        },
        "id": "Dk0OH9h4n69q",
        "outputId": "a0a3b855-77d3-43f2-bb86-6b8f224890fb"
      },
      "execution_count": 49,
      "outputs": [
        {
          "output_type": "stream",
          "name": "stdout",
          "text": [
            "Saving TensorBoard log files to: model_logs/LSTM/20231226-082144\n",
            "Epoch 1/5\n",
            "215/215 [==============================] - 10s 36ms/step - loss: 0.2232 - accuracy: 0.9200 - val_loss: 0.5367 - val_accuracy: 0.7769\n",
            "Epoch 2/5\n",
            "215/215 [==============================] - 2s 10ms/step - loss: 0.1623 - accuracy: 0.9418 - val_loss: 0.6031 - val_accuracy: 0.7782\n",
            "Epoch 3/5\n",
            "215/215 [==============================] - 2s 10ms/step - loss: 0.1285 - accuracy: 0.9520 - val_loss: 0.7299 - val_accuracy: 0.7795\n",
            "Epoch 4/5\n",
            "215/215 [==============================] - 2s 8ms/step - loss: 0.1078 - accuracy: 0.9602 - val_loss: 0.8163 - val_accuracy: 0.7861\n",
            "Epoch 5/5\n",
            "215/215 [==============================] - 2s 9ms/step - loss: 0.0848 - accuracy: 0.9657 - val_loss: 0.9242 - val_accuracy: 0.7795\n"
          ]
        }
      ]
    },
    {
      "cell_type": "code",
      "source": [
        "# Make predictions on the validation dataset\n",
        "model_2_pred_probs = model_2.predict(val_sentences)\n",
        "model_2_preds = tf.squeeze(tf.round(model_2_pred_probs))"
      ],
      "metadata": {
        "colab": {
          "base_uri": "https://localhost:8080/"
        },
        "id": "cZuv4IUBoG3N",
        "outputId": "961542b8-e3e4-4836-a7a9-5c521a39af68"
      },
      "execution_count": 50,
      "outputs": [
        {
          "output_type": "stream",
          "name": "stdout",
          "text": [
            "24/24 [==============================] - 0s 3ms/step\n"
          ]
        }
      ]
    },
    {
      "cell_type": "code",
      "source": [
        "# Calculate LSTM model results\n",
        "model_2_results = calculate_results(y_true=val_labels,\n",
        "                                    y_pred=model_2_preds)\n",
        "model_2_results"
      ],
      "metadata": {
        "colab": {
          "base_uri": "https://localhost:8080/"
        },
        "id": "CSPX-WW1oZQY",
        "outputId": "5ba25656-0a19-4265-8d96-1df15e9572f6"
      },
      "execution_count": 51,
      "outputs": [
        {
          "output_type": "execute_result",
          "data": {
            "text/plain": [
              "{'accuracy': 77.95275590551181,\n",
              " 'precision': 78.22644211580037,\n",
              " 'recall': 77.95275590551181,\n",
              " 'f1': 77.7140456257197}"
            ]
          },
          "metadata": {},
          "execution_count": 51
        }
      ]
    },
    {
      "cell_type": "code",
      "source": [
        "compare_baseline_to_new_results(baseline_results, model_2_results)"
      ],
      "metadata": {
        "colab": {
          "base_uri": "https://localhost:8080/"
        },
        "id": "OYyEyUjAodR_",
        "outputId": "e5ffb33c-c024-407c-db6b-3478580079c5"
      },
      "execution_count": 52,
      "outputs": [
        {
          "output_type": "stream",
          "name": "stdout",
          "text": [
            "Baseline accuracy: 79.27, New accuracy: 77.95, Difference: -1.31\n",
            "Baseline precision: 81.11, New precision: 78.23, Difference: -2.89\n",
            "Baseline recall: 79.27, New recall: 77.95, Difference: -1.31\n",
            "Baseline f1: 78.62, New f1: 77.71, Difference: -0.91\n"
          ]
        }
      ]
    },
    {
      "cell_type": "markdown",
      "source": [
        "Maybe incresing recurrent layers it can increase the accuracy as basline is still better than NN models"
      ],
      "metadata": {
        "id": "KmhQvT3qokSf"
      }
    },
    {
      "cell_type": "code",
      "source": [
        "inputs = layers.Input(shape=(1,), dtype=\"string\")\n",
        "x = text_vectorizer(inputs)\n",
        "x = embedding(x)\n",
        "print(x.shape)\n",
        "x = layers.LSTM(64, return_sequences=True)(x) # return vector for each word in the Tweet (you can stack RNN cells as long as return_sequences=True)\n",
        "x = layers.LSTM(64)(x) # return vector for whole sequence\n",
        "print(x.shape)\n",
        "x = layers.Dense(64, activation=\"relu\")(x) # optional dense layer on top of output of LSTM cell\n",
        "outputs = layers.Dense(1, activation=\"sigmoid\")(x)\n",
        "model_2 = tf.keras.Model(inputs, outputs, name=\"model_2_LSTM\")"
      ],
      "metadata": {
        "colab": {
          "base_uri": "https://localhost:8080/"
        },
        "id": "oYxCKsYIojib",
        "outputId": "163f076a-6de2-412a-b2bf-e9c4fe31ee85"
      },
      "execution_count": 53,
      "outputs": [
        {
          "output_type": "stream",
          "name": "stdout",
          "text": [
            "(None, 15, 128)\n",
            "(None, 64)\n"
          ]
        }
      ]
    },
    {
      "cell_type": "code",
      "source": [
        "# Compile model\n",
        "model_2.compile(loss=\"binary_crossentropy\",\n",
        "                optimizer=tf.keras.optimizers.Adam(),\n",
        "                metrics=[\"accuracy\"])"
      ],
      "metadata": {
        "id": "eiOQ2xmfpCKP"
      },
      "execution_count": 54,
      "outputs": []
    },
    {
      "cell_type": "code",
      "source": [
        "# Fit model\n",
        "model_2_history = model_2.fit(train_sentences,\n",
        "                              train_labels,\n",
        "                              epochs=5,\n",
        "                              validation_data=(val_sentences, val_labels),\n",
        "                              callbacks=[create_tensorboard_callback(SAVE_DIR,\n",
        "                                                                     \"LSTM\")])"
      ],
      "metadata": {
        "colab": {
          "base_uri": "https://localhost:8080/"
        },
        "id": "INBpHLikpFNe",
        "outputId": "44b1f11f-12fe-43eb-e68e-d04d015d04d7"
      },
      "execution_count": 55,
      "outputs": [
        {
          "output_type": "stream",
          "name": "stdout",
          "text": [
            "Saving TensorBoard log files to: model_logs/LSTM/20231226-082208\n",
            "Epoch 1/5\n",
            "215/215 [==============================] - 13s 41ms/step - loss: 0.1410 - accuracy: 0.9530 - val_loss: 0.7591 - val_accuracy: 0.7782\n",
            "Epoch 2/5\n",
            "215/215 [==============================] - 3s 12ms/step - loss: 0.0760 - accuracy: 0.9714 - val_loss: 1.1676 - val_accuracy: 0.7808\n",
            "Epoch 3/5\n",
            "215/215 [==============================] - 3s 12ms/step - loss: 0.0593 - accuracy: 0.9747 - val_loss: 1.5097 - val_accuracy: 0.7690\n",
            "Epoch 4/5\n",
            "215/215 [==============================] - 2s 10ms/step - loss: 0.0536 - accuracy: 0.9775 - val_loss: 1.2870 - val_accuracy: 0.7835\n",
            "Epoch 5/5\n",
            "215/215 [==============================] - 2s 11ms/step - loss: 0.0492 - accuracy: 0.9778 - val_loss: 1.4321 - val_accuracy: 0.7782\n"
          ]
        }
      ]
    },
    {
      "cell_type": "code",
      "source": [
        "# Make predictions on the validation dataset\n",
        "model_2_pred_probs = model_2.predict(val_sentences)\n",
        "model_2_preds = tf.squeeze(tf.round(model_2_pred_probs))"
      ],
      "metadata": {
        "colab": {
          "base_uri": "https://localhost:8080/"
        },
        "id": "_CzDCNN5pI5M",
        "outputId": "37932933-c8a7-4fe9-909a-0bcc817415ea"
      },
      "execution_count": 56,
      "outputs": [
        {
          "output_type": "stream",
          "name": "stdout",
          "text": [
            "24/24 [==============================] - 1s 3ms/step\n"
          ]
        }
      ]
    },
    {
      "cell_type": "code",
      "source": [
        "# Calculate LSTM model results\n",
        "model_2_results = calculate_results(y_true=val_labels,\n",
        "                                    y_pred=model_2_preds)\n",
        "model_2_results"
      ],
      "metadata": {
        "colab": {
          "base_uri": "https://localhost:8080/"
        },
        "id": "HaZF2XBjpUFb",
        "outputId": "1b79b46e-d9f5-4ade-f60c-089f952b1761"
      },
      "execution_count": 57,
      "outputs": [
        {
          "output_type": "execute_result",
          "data": {
            "text/plain": [
              "{'accuracy': 77.82152230971128,\n",
              " 'precision': 78.33771178803303,\n",
              " 'recall': 77.82152230971128,\n",
              " 'f1': 77.48637513129987}"
            ]
          },
          "metadata": {},
          "execution_count": 57
        }
      ]
    },
    {
      "cell_type": "code",
      "source": [
        "compare_baseline_to_new_results(baseline_results, model_2_results)"
      ],
      "metadata": {
        "colab": {
          "base_uri": "https://localhost:8080/"
        },
        "id": "3tcgeGMzpZDL",
        "outputId": "8ec8665a-d761-4388-9eb8-eed9d755c5fe"
      },
      "execution_count": 58,
      "outputs": [
        {
          "output_type": "stream",
          "name": "stdout",
          "text": [
            "Baseline accuracy: 79.27, New accuracy: 77.82, Difference: -1.44\n",
            "Baseline precision: 81.11, New precision: 78.34, Difference: -2.78\n",
            "Baseline recall: 79.27, New recall: 77.82, Difference: -1.44\n",
            "Baseline f1: 78.62, New f1: 77.49, Difference: -1.14\n"
          ]
        }
      ]
    },
    {
      "cell_type": "markdown",
      "source": [
        "##GRU RNN ( gated recurrent uni)\n"
      ],
      "metadata": {
        "id": "ZyNW3AA7q2F-"
      }
    },
    {
      "cell_type": "code",
      "source": [
        "# Build an RNN using the GRU cell\n",
        "from tensorflow.keras import layers\n",
        "inputs = layers.Input(shape=(1,), dtype=\"string\")\n",
        "x = text_vectorizer(inputs)\n",
        "x = embedding(x)\n",
        "# x = layers.GRU(64, return_sequences=True) # stacking recurrent cells requires return_sequences=True\n",
        "x = layers.GRU(64)(x)\n",
        "# x = layers.Dense(64, activation=\"relu\")(x) # optional dense layer after GRU cell\n",
        "outputs = layers.Dense(1, activation=\"sigmoid\")(x)\n",
        "model_3 = tf.keras.Model(inputs, outputs, name=\"model_3_GRU\")"
      ],
      "metadata": {
        "id": "uoEaV8aZq1rW"
      },
      "execution_count": 59,
      "outputs": []
    },
    {
      "cell_type": "code",
      "source": [
        "model_3.summary()"
      ],
      "metadata": {
        "colab": {
          "base_uri": "https://localhost:8080/"
        },
        "id": "yfT4XhJ8rofr",
        "outputId": "11d24e1e-f2bc-4824-b99a-2605d1cc7aed"
      },
      "execution_count": 60,
      "outputs": [
        {
          "output_type": "stream",
          "name": "stdout",
          "text": [
            "Model: \"model_3_GRU\"\n",
            "_________________________________________________________________\n",
            " Layer (type)                Output Shape              Param #   \n",
            "=================================================================\n",
            " input_6 (InputLayer)        [(None, 1)]               0         \n",
            "                                                                 \n",
            " text_vectorization_1 (Text  (None, 15)                0         \n",
            " Vectorization)                                                  \n",
            "                                                                 \n",
            " embedding (Embedding)       (None, 15, 128)           1280000   \n",
            "                                                                 \n",
            " gru (GRU)                   (None, 64)                37248     \n",
            "                                                                 \n",
            " dense_7 (Dense)             (None, 1)                 65        \n",
            "                                                                 \n",
            "=================================================================\n",
            "Total params: 1317313 (5.03 MB)\n",
            "Trainable params: 1317313 (5.03 MB)\n",
            "Non-trainable params: 0 (0.00 Byte)\n",
            "_________________________________________________________________\n"
          ]
        }
      ]
    },
    {
      "cell_type": "code",
      "source": [
        "# Compile GRU model\n",
        "model_3.compile(loss=\"binary_crossentropy\",\n",
        "                optimizer=tf.keras.optimizers.Adam(),\n",
        "                metrics=[\"accuracy\"])"
      ],
      "metadata": {
        "id": "kdGiH0MrrlM_"
      },
      "execution_count": 61,
      "outputs": []
    },
    {
      "cell_type": "code",
      "source": [
        "# Fit model\n",
        "model_3_history = model_3.fit(train_sentences,\n",
        "                              train_labels,\n",
        "                              epochs=5,\n",
        "                              validation_data=(val_sentences, val_labels),\n",
        "                              callbacks=[create_tensorboard_callback(SAVE_DIR, \"GRU\")])"
      ],
      "metadata": {
        "colab": {
          "base_uri": "https://localhost:8080/"
        },
        "id": "ik2clRrrr0SK",
        "outputId": "93a955aa-b77c-405a-925d-c656546c019c"
      },
      "execution_count": 62,
      "outputs": [
        {
          "output_type": "stream",
          "name": "stdout",
          "text": [
            "Saving TensorBoard log files to: model_logs/GRU/20231226-082232\n",
            "Epoch 1/5\n",
            "215/215 [==============================] - 13s 45ms/step - loss: 0.1422 - accuracy: 0.9466 - val_loss: 0.6877 - val_accuracy: 0.7743\n",
            "Epoch 2/5\n",
            "215/215 [==============================] - 2s 10ms/step - loss: 0.0710 - accuracy: 0.9759 - val_loss: 0.8874 - val_accuracy: 0.7782\n",
            "Epoch 3/5\n",
            "215/215 [==============================] - 2s 10ms/step - loss: 0.0530 - accuracy: 0.9781 - val_loss: 1.2414 - val_accuracy: 0.7690\n",
            "Epoch 4/5\n",
            "215/215 [==============================] - 2s 8ms/step - loss: 0.0459 - accuracy: 0.9793 - val_loss: 1.1842 - val_accuracy: 0.7717\n",
            "Epoch 5/5\n",
            "215/215 [==============================] - 2s 8ms/step - loss: 0.0424 - accuracy: 0.9797 - val_loss: 1.5004 - val_accuracy: 0.7717\n"
          ]
        }
      ]
    },
    {
      "cell_type": "code",
      "source": [
        "# Make predictions on the validation dataset\n",
        "model_3_pred_probs = model_3.predict(val_sentences)\n",
        "model_3_preds = tf.squeeze(tf.round(model_3_pred_probs))"
      ],
      "metadata": {
        "colab": {
          "base_uri": "https://localhost:8080/"
        },
        "id": "gHm9lCe7r4Xb",
        "outputId": "5d04d32a-167a-40a4-cbf7-153d2483b51d"
      },
      "execution_count": 63,
      "outputs": [
        {
          "output_type": "stream",
          "name": "stdout",
          "text": [
            "24/24 [==============================] - 1s 4ms/step\n"
          ]
        }
      ]
    },
    {
      "cell_type": "code",
      "source": [
        "# Calculate LSTM model results\n",
        "model_3_results = calculate_results(y_true=val_labels,\n",
        "                                    y_pred=model_3_preds)\n",
        "model_3_results"
      ],
      "metadata": {
        "colab": {
          "base_uri": "https://localhost:8080/"
        },
        "id": "5algFTIjr7Xb",
        "outputId": "775e3d89-f5be-4e72-eafc-4a104ef8d7fe"
      },
      "execution_count": 64,
      "outputs": [
        {
          "output_type": "execute_result",
          "data": {
            "text/plain": [
              "{'accuracy': 77.16535433070865,\n",
              " 'precision': 77.13581681518764,\n",
              " 'recall': 77.16535433070865,\n",
              " 'f1': 77.09684019624822}"
            ]
          },
          "metadata": {},
          "execution_count": 64
        }
      ]
    },
    {
      "cell_type": "code",
      "source": [
        "compare_baseline_to_new_results(baseline_results, model_3_results)"
      ],
      "metadata": {
        "colab": {
          "base_uri": "https://localhost:8080/"
        },
        "id": "uzdHeRrCr-Fn",
        "outputId": "bc5bbc8e-9d0a-4298-95fe-18f1dda8fc61"
      },
      "execution_count": 65,
      "outputs": [
        {
          "output_type": "stream",
          "name": "stdout",
          "text": [
            "Baseline accuracy: 79.27, New accuracy: 77.17, Difference: -2.10\n",
            "Baseline precision: 81.11, New precision: 77.14, Difference: -3.98\n",
            "Baseline recall: 79.27, New recall: 77.17, Difference: -2.10\n",
            "Baseline f1: 78.62, New f1: 77.10, Difference: -1.53\n"
          ]
        }
      ]
    },
    {
      "cell_type": "markdown",
      "source": [
        "#Bidirectional NN"
      ],
      "metadata": {
        "id": "D0hELy4Gv4OU"
      }
    },
    {
      "cell_type": "markdown",
      "source": [
        "Bidirectonal RNN model\n",
        "Look at us go! We've already built two RNN's with GRU and LSTM cells. Now we're going to look into another kind of RNN, the bidirectional RNN.\n",
        "\n",
        "A standard RNN will process a sequence from left to right, where as a bidirectional RNN will process the sequence from left to right and then again from right to left.\n",
        "\n",
        "Intuitively, this can be thought of as if you were reading a sentence for the first time in the normal fashion (left to right) but for some reason it didn't make sense so you traverse back through the words and go back over them again (right to left).\n",
        "\n",
        "In practice, many sequence models often see and improvement in performance when using bidirectional RNN's.\n",
        "\n",
        "However, this improvement in performance often comes at the cost of longer training times and increased model parameters (since the model goes left to right and right to left, the number of trainable parameters doubles).\n",
        "\n",
        "Okay enough talk, let's build a bidirectional RNN.\n",
        "\n",
        "Once again, TensorFlow helps us out by providing the tensorflow.keras.layers.Bidirectional class. We can use the Bidirectional class to wrap our existing RNNs, instantly making them bidirectional."
      ],
      "metadata": {
        "id": "c9I2XA0cGPNW"
      }
    },
    {
      "cell_type": "code",
      "source": [
        "# Build a Bidirectional RNN in TensorFlow\n",
        "from tensorflow.keras import layers\n",
        "inputs = layers.Input(shape=(1,), dtype=\"string\")\n",
        "x = text_vectorizer(inputs)\n",
        "x = embedding(x)\n",
        "# x = layers.Bidirectional(layers.LSTM(64, return_sequences=True))(x) # stacking RNN layers requires return_sequences=True\n",
        "x = layers.Bidirectional(layers.LSTM(64))(x) # bidirectional goes both ways so has double the parameters of a regular LSTM layer\n",
        "outputs = layers.Dense(1, activation=\"sigmoid\")(x)\n",
        "model_4 = tf.keras.Model(inputs, outputs, name=\"model_4_Bidirectional\")\n"
      ],
      "metadata": {
        "id": "mcVRW1iWHccv"
      },
      "execution_count": 66,
      "outputs": []
    },
    {
      "cell_type": "code",
      "source": [
        "# Compile\n",
        "model_4.compile(loss=\"binary_crossentropy\",\n",
        "                optimizer=tf.keras.optimizers.Adam(),\n",
        "                metrics=[\"accuracy\"])"
      ],
      "metadata": {
        "id": "ExwrAdKVrjwa"
      },
      "execution_count": 67,
      "outputs": []
    },
    {
      "cell_type": "code",
      "source": [
        "# Get a summary of our bidirectional model\n",
        "model_4.summary()"
      ],
      "metadata": {
        "colab": {
          "base_uri": "https://localhost:8080/"
        },
        "id": "P27q7ueeGwgC",
        "outputId": "ad7970d1-7716-48f8-a856-310015cc1971"
      },
      "execution_count": 68,
      "outputs": [
        {
          "output_type": "stream",
          "name": "stdout",
          "text": [
            "Model: \"model_4_Bidirectional\"\n",
            "_________________________________________________________________\n",
            " Layer (type)                Output Shape              Param #   \n",
            "=================================================================\n",
            " input_7 (InputLayer)        [(None, 1)]               0         \n",
            "                                                                 \n",
            " text_vectorization_1 (Text  (None, 15)                0         \n",
            " Vectorization)                                                  \n",
            "                                                                 \n",
            " embedding (Embedding)       (None, 15, 128)           1280000   \n",
            "                                                                 \n",
            " bidirectional (Bidirection  (None, 128)               98816     \n",
            " al)                                                             \n",
            "                                                                 \n",
            " dense_8 (Dense)             (None, 1)                 129       \n",
            "                                                                 \n",
            "=================================================================\n",
            "Total params: 1378945 (5.26 MB)\n",
            "Trainable params: 1378945 (5.26 MB)\n",
            "Non-trainable params: 0 (0.00 Byte)\n",
            "_________________________________________________________________\n"
          ]
        }
      ]
    },
    {
      "cell_type": "code",
      "source": [
        "# Fit the model (takes longer because of the bidirectional layers)\n",
        "model_4_history = model_4.fit(train_sentences,\n",
        "                              train_labels,\n",
        "                              epochs=5,\n",
        "                              validation_data=(val_sentences, val_labels),\n",
        "                              callbacks=[create_tensorboard_callback(SAVE_DIR, \"bidirectional_RNN\")])"
      ],
      "metadata": {
        "colab": {
          "base_uri": "https://localhost:8080/"
        },
        "id": "EQ2QeAL3Gygx",
        "outputId": "20aa2f94-f5d9-459b-f042-27134b4308df"
      },
      "execution_count": 69,
      "outputs": [
        {
          "output_type": "stream",
          "name": "stdout",
          "text": [
            "Saving TensorBoard log files to: model_logs/bidirectional_RNN/20231226-082257\n",
            "Epoch 1/5\n",
            "215/215 [==============================] - 12s 41ms/step - loss: 0.1018 - accuracy: 0.9689 - val_loss: 0.9686 - val_accuracy: 0.7756\n",
            "Epoch 2/5\n",
            "215/215 [==============================] - 3s 12ms/step - loss: 0.0459 - accuracy: 0.9778 - val_loss: 1.1886 - val_accuracy: 0.7717\n",
            "Epoch 3/5\n",
            "215/215 [==============================] - 2s 11ms/step - loss: 0.0415 - accuracy: 0.9800 - val_loss: 1.4626 - val_accuracy: 0.7703\n",
            "Epoch 4/5\n",
            "215/215 [==============================] - 2s 10ms/step - loss: 0.0373 - accuracy: 0.9810 - val_loss: 1.4182 - val_accuracy: 0.7717\n",
            "Epoch 5/5\n",
            "215/215 [==============================] - 2s 10ms/step - loss: 0.0386 - accuracy: 0.9818 - val_loss: 1.5673 - val_accuracy: 0.7559\n"
          ]
        }
      ]
    },
    {
      "cell_type": "code",
      "source": [
        "# Make predictions with bidirectional RNN on the validation data\n",
        "model_4_pred_probs = model_4.predict(val_sentences)\n",
        "model_4_pred_probs[:10]"
      ],
      "metadata": {
        "colab": {
          "base_uri": "https://localhost:8080/"
        },
        "id": "G1KGCVhVG5_y",
        "outputId": "3dc5347d-99fe-44ab-f160-89843a223d7a"
      },
      "execution_count": 70,
      "outputs": [
        {
          "output_type": "stream",
          "name": "stdout",
          "text": [
            "24/24 [==============================] - 1s 3ms/step\n"
          ]
        },
        {
          "output_type": "execute_result",
          "data": {
            "text/plain": [
              "array([[8.2203794e-01],\n",
              "       [7.7292532e-01],\n",
              "       [9.9997926e-01],\n",
              "       [1.8309644e-01],\n",
              "       [9.2573709e-06],\n",
              "       [9.9994659e-01],\n",
              "       [9.9962711e-01],\n",
              "       [9.9998951e-01],\n",
              "       [9.9997997e-01],\n",
              "       [9.9886453e-01]], dtype=float32)"
            ]
          },
          "metadata": {},
          "execution_count": 70
        }
      ]
    },
    {
      "cell_type": "code",
      "source": [
        "# Convert prediction probabilities to labels\n",
        "model_4_preds = tf.squeeze(tf.round(model_4_pred_probs))\n",
        "model_4_preds[:10]"
      ],
      "metadata": {
        "colab": {
          "base_uri": "https://localhost:8080/"
        },
        "id": "2s9ZEJudHmQ6",
        "outputId": "d0621dc8-afe3-480f-c321-e88d36722c53"
      },
      "execution_count": 71,
      "outputs": [
        {
          "output_type": "execute_result",
          "data": {
            "text/plain": [
              "<tf.Tensor: shape=(10,), dtype=float32, numpy=array([1., 1., 1., 0., 0., 1., 1., 1., 1., 1.], dtype=float32)>"
            ]
          },
          "metadata": {},
          "execution_count": 71
        }
      ]
    },
    {
      "cell_type": "code",
      "source": [
        "# Calculate bidirectional RNN model results\n",
        "model_4_results = calculate_results(val_labels, model_4_preds)\n",
        "model_4_results"
      ],
      "metadata": {
        "colab": {
          "base_uri": "https://localhost:8080/"
        },
        "id": "U1c-bihQHqLB",
        "outputId": "ca79923f-d3aa-4e00-aef2-6185d16461bb"
      },
      "execution_count": 72,
      "outputs": [
        {
          "output_type": "execute_result",
          "data": {
            "text/plain": [
              "{'accuracy': 75.59055118110236,\n",
              " 'precision': 75.57099099399043,\n",
              " 'recall': 75.59055118110236,\n",
              " 'f1': 75.57868020082415}"
            ]
          },
          "metadata": {},
          "execution_count": 72
        }
      ]
    },
    {
      "cell_type": "code",
      "source": [
        "# Check to see how the bidirectional model performs against the baseline\n",
        "compare_baseline_to_new_results(baseline_results, model_4_results)"
      ],
      "metadata": {
        "colab": {
          "base_uri": "https://localhost:8080/"
        },
        "id": "t7qFvqvCHs-m",
        "outputId": "2bcebc94-79c4-4045-98a3-41c8ee756462"
      },
      "execution_count": 73,
      "outputs": [
        {
          "output_type": "stream",
          "name": "stdout",
          "text": [
            "Baseline accuracy: 79.27, New accuracy: 75.59, Difference: -3.67\n",
            "Baseline precision: 81.11, New precision: 75.57, Difference: -5.54\n",
            "Baseline recall: 79.27, New recall: 75.59, Difference: -3.67\n",
            "Baseline f1: 78.62, New f1: 75.58, Difference: -3.04\n"
          ]
        }
      ]
    },
    {
      "cell_type": "markdown",
      "source": [
        "##1D CON NN\n"
      ],
      "metadata": {
        "id": "StXHEpUfwBUd"
      }
    },
    {
      "cell_type": "markdown",
      "source": [
        " Images come in 2-dimensions (height x width) where as sequences are often 1-dimensional (a string of text).\n",
        "\n",
        " -dimensional convolving filters are used as ngram detectors, each filter specializing in a closely-related family of ngrams (an ngram is a collection of n-words, for example, an ngram of 5 might result in \"hello, my name is Daniel\").\n",
        "Max-pooling over time extracts the relevant ngrams for making a decision.\n",
        "The rest of the network classifies the text based on this information."
      ],
      "metadata": {
        "id": "SDIbqMqEwL8x"
      }
    },
    {
      "cell_type": "markdown",
      "source": [
        "1-dimensional convolutional layer (also called a temporal convolution) in action."
      ],
      "metadata": {
        "id": "2lU5elk7w4im"
      }
    },
    {
      "cell_type": "code",
      "source": [
        "\n",
        "# Test out the embedding, 1D convolutional and max pooling\n",
        "embedding_test = embedding(text_vectorizer([\"this is a test sentence\"])) # turn target sentence into embedding\n",
        "conv_1d = layers.Conv1D(filters=32, kernel_size=5, activation=\"relu\",padding='same') # convolve over target sequence 5 words at a time\n",
        "conv_1d_output = conv_1d(embedding_test) # pass embedding through 1D convolutional layer\n",
        "max_pool = layers.GlobalMaxPool1D()\n",
        "max_pool_output = max_pool(conv_1d_output) # get the most important features\n",
        "embedding_test.shape, conv_1d_output.shape, max_pool_output.shape"
      ],
      "metadata": {
        "colab": {
          "base_uri": "https://localhost:8080/"
        },
        "id": "8YCaVu3uwx87",
        "outputId": "a16b43de-5950-4424-dcdc-352118dddf0e"
      },
      "execution_count": 74,
      "outputs": [
        {
          "output_type": "execute_result",
          "data": {
            "text/plain": [
              "(TensorShape([1, 15, 128]), TensorShape([1, 15, 32]), TensorShape([1, 32]))"
            ]
          },
          "metadata": {},
          "execution_count": 74
        }
      ]
    },
    {
      "cell_type": "markdown",
      "source": [
        "https://stackoverflow.com/questions/37674306/what-is-the-difference-between-same-and-valid-padding-in-tf-nn-max-pool-of-t"
      ],
      "metadata": {
        "id": "Rq58y62c0snx"
      }
    },
    {
      "cell_type": "markdown",
      "source": [
        "The embedding has an output shape dimension of the parameters we set it to (input_length=15 and output_dim=128).\n",
        "\n",
        "The 1-dimensional convolutional layer has an output which has been compressed inline with its parameters. And the same goes for the max pooling layer output.\n",
        "\n",
        "Our text starts out as a string but gets converted to a feature vector of length 64 through various transformation steps (from tokenization to embedding to 1-dimensional convolution to max pool)."
      ],
      "metadata": {
        "id": "_L6uNM-2xQiQ"
      }
    },
    {
      "cell_type": "code",
      "source": [],
      "metadata": {
        "id": "th9nSznhzpZP"
      },
      "execution_count": 74,
      "outputs": []
    },
    {
      "cell_type": "code",
      "source": [
        "# Create 1-dimensional convolutional layer to model sequences\n",
        "from tensorflow.keras import layers\n",
        "inputs = layers.Input(shape=(1,), dtype=\"string\")\n",
        "x = text_vectorizer(inputs)\n",
        "x = embedding(x)\n",
        "x = layers.Conv1D(filters=32, kernel_size=5, activation=\"relu\")(x)\n",
        "x = layers.GlobalMaxPool1D()(x)\n",
        "# x = layers.Dense(64, activation=\"relu\")(x) # optional dense layer\n",
        "outputs = layers.Dense(1, activation=\"sigmoid\")(x)\n",
        "model_5 = tf.keras.Model(inputs, outputs, name=\"model_5_Conv1D\")\n",
        "\n",
        "# Compile Conv1D model\n",
        "model_5.compile(loss=\"binary_crossentropy\",\n",
        "                optimizer=tf.keras.optimizers.Adam(),\n",
        "                metrics=[\"accuracy\"])\n",
        "\n",
        "# Get a summary of our 1D convolution model\n",
        "model_5.summary()"
      ],
      "metadata": {
        "colab": {
          "base_uri": "https://localhost:8080/"
        },
        "id": "BQj5sG2UwGzF",
        "outputId": "8a49d094-6b7e-44e1-fad5-9e6fd5542d43"
      },
      "execution_count": 75,
      "outputs": [
        {
          "output_type": "stream",
          "name": "stdout",
          "text": [
            "Model: \"model_5_Conv1D\"\n",
            "_________________________________________________________________\n",
            " Layer (type)                Output Shape              Param #   \n",
            "=================================================================\n",
            " input_8 (InputLayer)        [(None, 1)]               0         \n",
            "                                                                 \n",
            " text_vectorization_1 (Text  (None, 15)                0         \n",
            " Vectorization)                                                  \n",
            "                                                                 \n",
            " embedding (Embedding)       (None, 15, 128)           1280000   \n",
            "                                                                 \n",
            " conv1d_1 (Conv1D)           (None, 11, 32)            20512     \n",
            "                                                                 \n",
            " global_max_pooling1d_1 (Gl  (None, 32)                0         \n",
            " obalMaxPooling1D)                                               \n",
            "                                                                 \n",
            " dense_9 (Dense)             (None, 1)                 33        \n",
            "                                                                 \n",
            "=================================================================\n",
            "Total params: 1300545 (4.96 MB)\n",
            "Trainable params: 1300545 (4.96 MB)\n",
            "Non-trainable params: 0 (0.00 Byte)\n",
            "_________________________________________________________________\n"
          ]
        }
      ]
    },
    {
      "cell_type": "code",
      "source": [
        "# Fit the model\n",
        "model_5_history = model_5.fit(train_sentences,\n",
        "                              train_labels,\n",
        "                              epochs=5,\n",
        "                              validation_data=(val_sentences, val_labels),\n",
        "                              callbacks=[create_tensorboard_callback(SAVE_DIR,\n",
        "                                                                     \"Conv1D\")])"
      ],
      "metadata": {
        "colab": {
          "base_uri": "https://localhost:8080/"
        },
        "id": "iQZbvfnEzfhR",
        "outputId": "1d00b213-770b-4692-dae3-94fc83f9666e"
      },
      "execution_count": 76,
      "outputs": [
        {
          "output_type": "stream",
          "name": "stdout",
          "text": [
            "Saving TensorBoard log files to: model_logs/Conv1D/20231226-082321\n",
            "Epoch 1/5\n",
            "215/215 [==============================] - 9s 31ms/step - loss: 0.1318 - accuracy: 0.9644 - val_loss: 0.8369 - val_accuracy: 0.7730\n",
            "Epoch 2/5\n",
            "215/215 [==============================] - 2s 9ms/step - loss: 0.0736 - accuracy: 0.9734 - val_loss: 0.9999 - val_accuracy: 0.7664\n",
            "Epoch 3/5\n",
            "215/215 [==============================] - 2s 10ms/step - loss: 0.0608 - accuracy: 0.9759 - val_loss: 1.0741 - val_accuracy: 0.7638\n",
            "Epoch 4/5\n",
            "215/215 [==============================] - 2s 10ms/step - loss: 0.0543 - accuracy: 0.9774 - val_loss: 1.1661 - val_accuracy: 0.7572\n",
            "Epoch 5/5\n",
            "215/215 [==============================] - 2s 7ms/step - loss: 0.0498 - accuracy: 0.9777 - val_loss: 1.2020 - val_accuracy: 0.7638\n"
          ]
        }
      ]
    },
    {
      "cell_type": "code",
      "source": [
        "model_5_pred_probs = model_5.predict(val_sentences)\n",
        "model_5_preds = tf.squeeze(tf.round(model_5_pred_probs))"
      ],
      "metadata": {
        "colab": {
          "base_uri": "https://localhost:8080/"
        },
        "id": "qVI8Jc9_zsMc",
        "outputId": "a1201f26-1557-41d6-810a-104414449076"
      },
      "execution_count": 77,
      "outputs": [
        {
          "output_type": "stream",
          "name": "stdout",
          "text": [
            "24/24 [==============================] - 0s 2ms/step\n"
          ]
        }
      ]
    },
    {
      "cell_type": "code",
      "source": [
        "\n",
        "# Calculate model_5 evaluation metrics\n",
        "model_5_results = calculate_results(y_true=val_labels,\n",
        "                                    y_pred=model_5_preds)\n",
        "model_5_results"
      ],
      "metadata": {
        "colab": {
          "base_uri": "https://localhost:8080/"
        },
        "id": "j5pJauqYzwdo",
        "outputId": "b74ee08f-ed8b-4d72-a744-41aff173c2c5"
      },
      "execution_count": 78,
      "outputs": [
        {
          "output_type": "execute_result",
          "data": {
            "text/plain": [
              "{'accuracy': 76.37795275590551,\n",
              " 'precision': 76.4383846466808,\n",
              " 'recall': 76.37795275590551,\n",
              " 'f1': 76.21412379223811}"
            ]
          },
          "metadata": {},
          "execution_count": 78
        }
      ]
    },
    {
      "cell_type": "code",
      "source": [
        "\n",
        "# Compare model_5 results to baseline\n",
        "compare_baseline_to_new_results(baseline_results, model_5_results)"
      ],
      "metadata": {
        "colab": {
          "base_uri": "https://localhost:8080/"
        },
        "id": "6P2tqrfYzzMM",
        "outputId": "57ede83d-e60b-4734-bc28-1304b46d7000"
      },
      "execution_count": 79,
      "outputs": [
        {
          "output_type": "stream",
          "name": "stdout",
          "text": [
            "Baseline accuracy: 79.27, New accuracy: 76.38, Difference: -2.89\n",
            "Baseline precision: 81.11, New precision: 76.44, Difference: -4.68\n",
            "Baseline recall: 79.27, New recall: 76.38, Difference: -2.89\n",
            "Baseline f1: 78.62, New f1: 76.21, Difference: -2.41\n"
          ]
        }
      ]
    },
    {
      "cell_type": "markdown",
      "source": [
        "#Using Pretrained Embeddings (transfer learning for NLP)"
      ],
      "metadata": {
        "id": "UyByRPAeISQn"
      }
    },
    {
      "cell_type": "markdown",
      "source": [
        "https://www.kaggle.com/models/google/universal-sentence-encoder/frameworks/tensorFlow2/variations/universal-sentence-encoder/versions/2?tfhub-redirect=true\n"
      ],
      "metadata": {
        "id": "2nL2Q7z0K3w8"
      }
    },
    {
      "cell_type": "markdown",
      "source": [
        "#Universal Sentence Embedding"
      ],
      "metadata": {
        "id": "S-5EtYt4Nnju"
      }
    },
    {
      "cell_type": "code",
      "source": [
        "# Example of pretrained embedding with universal sentence encoder - https://tfhub.dev/google/universal-sentence-encoder/4\n",
        "import tensorflow_hub as hub\n",
        "embed = hub.load(\"https://tfhub.dev/google/universal-sentence-encoder/4\") # load Universal Sentence Encoder\n",
        "embed_samples = embed([sample_sentence,\n",
        "                      \"When you call the universal sentence encoder on a sentence, it turns it into numbers.\"])\n",
        "\n",
        "print(embed_samples[0][:50])"
      ],
      "metadata": {
        "colab": {
          "base_uri": "https://localhost:8080/"
        },
        "id": "F2LoG4XpHyWt",
        "outputId": "7fd78409-2941-4edb-8b52-ddbc5b01329c"
      },
      "execution_count": 80,
      "outputs": [
        {
          "output_type": "stream",
          "name": "stdout",
          "text": [
            "tf.Tensor(\n",
            "[-0.02739833 -0.00769653 -0.01946673  0.01493763  0.06833687 -0.04865183\n",
            " -0.02265949  0.02380044  0.02562991  0.03402108  0.04157549  0.00918261\n",
            "  0.0521703   0.06214093  0.05102609 -0.04267406  0.00236708 -0.06315433\n",
            "  0.00567443 -0.03836665  0.0032861  -0.03302455  0.06418862  0.06621676\n",
            " -0.0459247  -0.00430488 -0.03794442 -0.00216105 -0.00011976 -0.02199882\n",
            " -0.04270972 -0.04764426  0.02818928 -0.06471844 -0.06291199  0.00892741\n",
            "  0.01466075  0.08109521 -0.00830255 -0.03015297 -0.0686142   0.03761059\n",
            " -0.02509605  0.0768638  -0.08148952  0.03440083  0.00503695 -0.0078019\n",
            " -0.03778388 -0.00626257], shape=(50,), dtype=float32)\n"
          ]
        }
      ]
    },
    {
      "cell_type": "code",
      "source": [
        "# We can use this encoding layer in place of our text_vectorizer and embedding layer\n",
        "sentence_encoder_layer = hub.KerasLayer(\"https://tfhub.dev/google/universal-sentence-encoder/4\",\n",
        "                                        input_shape=[], # shape of inputs coming to our model\n",
        "                                        dtype=tf.string, # data type of inputs coming to the USE layer\n",
        "                                        trainable=False, # keep the pretrained weights (we'll create a feature extractor)\n",
        "                                        name=\"USE\")"
      ],
      "metadata": {
        "id": "3fxclDEOIhtB"
      },
      "execution_count": 81,
      "outputs": []
    },
    {
      "cell_type": "code",
      "source": [
        "# Create model using the Sequential API\n",
        "model_6 = tf.keras.Sequential([\n",
        "  sentence_encoder_layer, # take in sentences and then encode them into an embedding\n",
        "  layers.Dense(64, activation=\"relu\"),\n",
        "  layers.Dense(1, activation=\"sigmoid\")\n",
        "], name=\"model_6_USE\")\n",
        "\n",
        "# Compile model\n",
        "model_6.compile(loss=\"binary_crossentropy\",\n",
        "                optimizer=tf.keras.optimizers.Adam(),\n",
        "                metrics=[\"accuracy\"])\n",
        "\n",
        "model_6.summary()"
      ],
      "metadata": {
        "colab": {
          "base_uri": "https://localhost:8080/"
        },
        "id": "Kg8xY82IIl6J",
        "outputId": "e0737692-079a-4129-8eb1-71860cd00326"
      },
      "execution_count": 82,
      "outputs": [
        {
          "output_type": "stream",
          "name": "stdout",
          "text": [
            "Model: \"model_6_USE\"\n",
            "_________________________________________________________________\n",
            " Layer (type)                Output Shape              Param #   \n",
            "=================================================================\n",
            " USE (KerasLayer)            (None, 512)               256797824 \n",
            "                                                                 \n",
            " dense_10 (Dense)            (None, 64)                32832     \n",
            "                                                                 \n",
            " dense_11 (Dense)            (None, 1)                 65        \n",
            "                                                                 \n",
            "=================================================================\n",
            "Total params: 256830721 (979.73 MB)\n",
            "Trainable params: 32897 (128.50 KB)\n",
            "Non-trainable params: 256797824 (979.61 MB)\n",
            "_________________________________________________________________\n"
          ]
        }
      ]
    },
    {
      "cell_type": "code",
      "source": [
        "model_6_history = model_6.fit(train_sentences,\n",
        "                              train_labels,\n",
        "                              epochs=5,\n",
        "                              validation_data=(val_sentences, val_labels),\n",
        "                              callbacks=[create_tensorboard_callback(SAVE_DIR,\n",
        "                                                                     \"tf_hub_sentence_encoder\")])"
      ],
      "metadata": {
        "colab": {
          "base_uri": "https://localhost:8080/"
        },
        "id": "grMeRrf4Iopp",
        "outputId": "feef2cc7-17f7-4b63-8266-430c5e142120"
      },
      "execution_count": 83,
      "outputs": [
        {
          "output_type": "stream",
          "name": "stdout",
          "text": [
            "Saving TensorBoard log files to: model_logs/tf_hub_sentence_encoder/20231226-082410\n",
            "Epoch 1/5\n",
            "215/215 [==============================] - 7s 14ms/step - loss: 0.5078 - accuracy: 0.7793 - val_loss: 0.4467 - val_accuracy: 0.7979\n",
            "Epoch 2/5\n",
            "215/215 [==============================] - 3s 12ms/step - loss: 0.4149 - accuracy: 0.8140 - val_loss: 0.4358 - val_accuracy: 0.8123\n",
            "Epoch 3/5\n",
            "215/215 [==============================] - 3s 12ms/step - loss: 0.4002 - accuracy: 0.8224 - val_loss: 0.4320 - val_accuracy: 0.8150\n",
            "Epoch 4/5\n",
            "215/215 [==============================] - 4s 17ms/step - loss: 0.3933 - accuracy: 0.8246 - val_loss: 0.4279 - val_accuracy: 0.8163\n",
            "Epoch 5/5\n",
            "215/215 [==============================] - 3s 12ms/step - loss: 0.3874 - accuracy: 0.8283 - val_loss: 0.4299 - val_accuracy: 0.8136\n"
          ]
        }
      ]
    },
    {
      "cell_type": "code",
      "source": [
        "# Make predictions with USE TF Hub model\n",
        "model_6_pred_probs = model_6.predict(val_sentences)\n",
        "model_6_preds = tf.squeeze(tf.round(model_6_pred_probs))"
      ],
      "metadata": {
        "colab": {
          "base_uri": "https://localhost:8080/"
        },
        "id": "46_lpcJLI7e6",
        "outputId": "17e7ffc2-f313-4721-d3c1-3ecd6b18412b"
      },
      "execution_count": 84,
      "outputs": [
        {
          "output_type": "stream",
          "name": "stdout",
          "text": [
            "24/24 [==============================] - 1s 9ms/step\n"
          ]
        }
      ]
    },
    {
      "cell_type": "code",
      "source": [
        "# Convert prediction probabilities to labels\n",
        "model_6_preds = tf.squeeze(tf.round(model_6_pred_probs))\n"
      ],
      "metadata": {
        "id": "Vab1hNlgIriu"
      },
      "execution_count": 85,
      "outputs": []
    },
    {
      "cell_type": "code",
      "source": [
        "# Calculate model 6 performance metrics\n",
        "model_6_results = calculate_results(val_labels, model_6_preds)\n",
        "model_6_results"
      ],
      "metadata": {
        "colab": {
          "base_uri": "https://localhost:8080/"
        },
        "id": "yVJkRdpYI35c",
        "outputId": "c0f81fda-3337-4159-ead9-684e337ed8e0"
      },
      "execution_count": 86,
      "outputs": [
        {
          "output_type": "execute_result",
          "data": {
            "text/plain": [
              "{'accuracy': 81.36482939632546,\n",
              " 'precision': 81.63894248318297,\n",
              " 'recall': 81.36482939632546,\n",
              " 'f1': 81.19583027830024}"
            ]
          },
          "metadata": {},
          "execution_count": 86
        }
      ]
    },
    {
      "cell_type": "code",
      "source": [
        "compare_baseline_to_new_results(baseline_results, model_6_results)"
      ],
      "metadata": {
        "colab": {
          "base_uri": "https://localhost:8080/"
        },
        "id": "2MamppoVIusY",
        "outputId": "1240b964-b5ca-4d92-a12f-44b572479fc6"
      },
      "execution_count": 87,
      "outputs": [
        {
          "output_type": "stream",
          "name": "stdout",
          "text": [
            "Baseline accuracy: 79.27, New accuracy: 81.36, Difference: 2.10\n",
            "Baseline precision: 81.11, New precision: 81.64, Difference: 0.53\n",
            "Baseline recall: 79.27, New recall: 81.36, Difference: 2.10\n",
            "Baseline f1: 78.62, New f1: 81.20, Difference: 2.57\n"
          ]
        }
      ]
    },
    {
      "cell_type": "markdown",
      "source": [
        "improving the model\n",
        "Adding layers\n",
        "\n",
        "Increase the number of hidden Units\n",
        "\n",
        "Change the activation functions\n",
        "\n",
        "Change the potimizatio function\n",
        "\n",
        "Chnage the learning rate\n",
        "\n",
        "Fitting more data\n",
        "\n",
        "Fitting longer\n",
        "\n",
        "Changing the model\n",
        "\n",
        "\n"
      ],
      "metadata": {
        "id": "KvLKT8E0dCJ6"
      }
    },
    {
      "cell_type": "code",
      "source": [],
      "metadata": {
        "id": "40N8-68QdB3R"
      },
      "execution_count": 87,
      "outputs": []
    },
    {
      "cell_type": "markdown",
      "source": [
        "#USE using 10% of data"
      ],
      "metadata": {
        "id": "M7BXZc5icAV8"
      }
    },
    {
      "cell_type": "code",
      "source": [
        "train_sentences[:10]"
      ],
      "metadata": {
        "colab": {
          "base_uri": "https://localhost:8080/"
        },
        "id": "9jDjZVLkcmRA",
        "outputId": "e38e8283-feed-4bbc-ad46-bc2742581181"
      },
      "execution_count": 88,
      "outputs": [
        {
          "output_type": "execute_result",
          "data": {
            "text/plain": [
              "array(['@mogacola @zamtriossu i screamed after hitting tweet',\n",
              "       'Imagine getting flattened by Kurt Zouma',\n",
              "       '@Gurmeetramrahim #MSGDoing111WelfareWorks Green S welfare force ke appx 65000 members har time disaster victim ki help ke liye tyar hai....',\n",
              "       \"@shakjn @C7 @Magnums im shaking in fear he's gonna hack the planet\",\n",
              "       'Somehow find you and I collide http://t.co/Ee8RpOahPk',\n",
              "       '@EvaHanderek @MarleyKnysh great times until the bus driver held us hostage in the mall parking lot lmfao',\n",
              "       'destroy the free fandom honestly',\n",
              "       'Weapons stolen from National Guard Armory in New Albany still missing #Gunsense http://t.co/lKNU8902JE',\n",
              "       '@wfaaweather Pete when will the heat wave pass? Is it really going to be mid month? Frisco Boy Scouts have a canoe trip in Okla.',\n",
              "       'Patient-reported outcomes in long-term survivors of metastatic colorectal cancer - British Journal of Surgery http://t.co/5Yl4DC1Tqt'],\n",
              "      dtype=object)"
            ]
          },
          "metadata": {},
          "execution_count": 88
        }
      ]
    },
    {
      "cell_type": "code",
      "source": [
        "# Create subsets of 10% of the training data\n",
        "train_10_percent = train_df_shuffled[[\"text\", \"target\"]].sample(frac=0.1, random_state=42)\n",
        "train_sentences_10_percent = train_10_percent[\"text\"].to_list()\n",
        "train_labels_10_percent = train_10_percent[\"target\"].to_list()\n",
        "len(train_sentences_10_percent), len(train_labels_10_percent)"
      ],
      "metadata": {
        "colab": {
          "base_uri": "https://localhost:8080/"
        },
        "id": "HFNa4BO8rnKb",
        "outputId": "197c2a66-2152-4267-a697-7b341f1655ca"
      },
      "execution_count": 89,
      "outputs": [
        {
          "output_type": "execute_result",
          "data": {
            "text/plain": [
              "(761, 761)"
            ]
          },
          "metadata": {},
          "execution_count": 89
        }
      ]
    },
    {
      "cell_type": "code",
      "source": [
        "print(f\"Total training examples: {len(train_sentences)}\")\n",
        "print(f\"Length of 10% training examples: {len(train_sentences_10_percent)}\")"
      ],
      "metadata": {
        "colab": {
          "base_uri": "https://localhost:8080/"
        },
        "id": "DA3d1ggerStT",
        "outputId": "7c371320-4c5c-43b8-856e-0f6a7f4928ce"
      },
      "execution_count": 90,
      "outputs": [
        {
          "output_type": "stream",
          "name": "stdout",
          "text": [
            "Total training examples: 6851\n",
            "Length of 10% training examples: 761\n"
          ]
        }
      ]
    },
    {
      "cell_type": "code",
      "source": [
        "# Clone model_6 but reset weights\n",
        "model_7 = tf.keras.models.clone_model(model_6)\n",
        "\n",
        "# Compile model\n",
        "model_7.compile(loss=\"binary_crossentropy\",\n",
        "                optimizer=tf.keras.optimizers.Adam(),\n",
        "                metrics=[\"accuracy\"])\n",
        "\n",
        "# Get a summary (will be same as model_6)\n",
        "model_7.summary()"
      ],
      "metadata": {
        "colab": {
          "base_uri": "https://localhost:8080/"
        },
        "id": "tHshiqhZsVWz",
        "outputId": "d8a1e8e7-2d81-480d-8119-5677518fab21"
      },
      "execution_count": 91,
      "outputs": [
        {
          "output_type": "stream",
          "name": "stdout",
          "text": [
            "Model: \"model_6_USE\"\n",
            "_________________________________________________________________\n",
            " Layer (type)                Output Shape              Param #   \n",
            "=================================================================\n",
            " USE (KerasLayer)            (None, 512)               256797824 \n",
            "                                                                 \n",
            " dense_10 (Dense)            (None, 64)                32832     \n",
            "                                                                 \n",
            " dense_11 (Dense)            (None, 1)                 65        \n",
            "                                                                 \n",
            "=================================================================\n",
            "Total params: 256830721 (979.73 MB)\n",
            "Trainable params: 32897 (128.50 KB)\n",
            "Non-trainable params: 256797824 (979.61 MB)\n",
            "_________________________________________________________________\n"
          ]
        }
      ]
    },
    {
      "cell_type": "code",
      "source": [
        "# Fit the model to 10% of the training data\n",
        "model_7_history = model_7.fit(x=train_sentences_10_percent,\n",
        "                              y=train_labels_10_percent,\n",
        "                              epochs=5,\n",
        "                              validation_data=(val_sentences, val_labels),\n",
        "                              callbacks=[create_tensorboard_callback(SAVE_DIR, \"10_percent_tf_hub_sentence_encoder\")])"
      ],
      "metadata": {
        "colab": {
          "base_uri": "https://localhost:8080/"
        },
        "id": "E3nFfRsysjLr",
        "outputId": "3f423cb8-86fb-44ba-da90-81d339c22168"
      },
      "execution_count": 92,
      "outputs": [
        {
          "output_type": "stream",
          "name": "stdout",
          "text": [
            "Saving TensorBoard log files to: model_logs/10_percent_tf_hub_sentence_encoder/20231226-082434\n",
            "Epoch 1/5\n",
            "24/24 [==============================] - 5s 64ms/step - loss: 0.6745 - accuracy: 0.6794 - val_loss: 0.6387 - val_accuracy: 0.7782\n",
            "Epoch 2/5\n",
            "24/24 [==============================] - 0s 21ms/step - loss: 0.6049 - accuracy: 0.7845 - val_loss: 0.5598 - val_accuracy: 0.7940\n",
            "Epoch 3/5\n",
            "24/24 [==============================] - 1s 25ms/step - loss: 0.5261 - accuracy: 0.7937 - val_loss: 0.4873 - val_accuracy: 0.8005\n",
            "Epoch 4/5\n",
            "24/24 [==============================] - 1s 25ms/step - loss: 0.4656 - accuracy: 0.8068 - val_loss: 0.4392 - val_accuracy: 0.8163\n",
            "Epoch 5/5\n",
            "24/24 [==============================] - 1s 25ms/step - loss: 0.4270 - accuracy: 0.8200 - val_loss: 0.4076 - val_accuracy: 0.8241\n"
          ]
        }
      ]
    },
    {
      "cell_type": "code",
      "source": [
        "model_7_pred_probs = model_7.predict(val_sentences)\n",
        "model_7_preds = tf.squeeze(tf.round(model_7_pred_probs))"
      ],
      "metadata": {
        "colab": {
          "base_uri": "https://localhost:8080/"
        },
        "id": "5E3nJyk9swmi",
        "outputId": "e7a385b5-6fb7-43d4-9bf3-bf05d957ce88"
      },
      "execution_count": 93,
      "outputs": [
        {
          "output_type": "stream",
          "name": "stdout",
          "text": [
            "24/24 [==============================] - 1s 9ms/step\n"
          ]
        }
      ]
    },
    {
      "cell_type": "code",
      "source": [
        "model_7_results = calculate_results(val_labels, model_7_preds)\n",
        "model_7_results"
      ],
      "metadata": {
        "colab": {
          "base_uri": "https://localhost:8080/"
        },
        "id": "5AtstIj3s12R",
        "outputId": "45e5b01c-d37d-4ac3-d623-1012a94ac490"
      },
      "execution_count": 94,
      "outputs": [
        {
          "output_type": "execute_result",
          "data": {
            "text/plain": [
              "{'accuracy': 82.41469816272966,\n",
              " 'precision': 82.4150958402927,\n",
              " 'recall': 82.41469816272966,\n",
              " 'f1': 82.36834263162031}"
            ]
          },
          "metadata": {},
          "execution_count": 94
        }
      ]
    },
    {
      "cell_type": "code",
      "source": [
        "# Compare to baseline\n",
        "compare_baseline_to_new_results(baseline_results, model_7_results)"
      ],
      "metadata": {
        "colab": {
          "base_uri": "https://localhost:8080/"
        },
        "id": "yhaA6OD2s4Um",
        "outputId": "4a69b3b4-c9ca-4173-ba4e-6ecaf3190f03"
      },
      "execution_count": 95,
      "outputs": [
        {
          "output_type": "stream",
          "name": "stdout",
          "text": [
            "Baseline accuracy: 79.27, New accuracy: 82.41, Difference: 3.15\n",
            "Baseline precision: 81.11, New precision: 82.42, Difference: 1.30\n",
            "Baseline recall: 79.27, New recall: 82.41, Difference: 3.15\n",
            "Baseline f1: 78.62, New f1: 82.37, Difference: 3.75\n"
          ]
        }
      ]
    },
    {
      "cell_type": "markdown",
      "source": [
        "if you see above the model _7 is outperforming model _6 which is tained on 10 times more data which means there is something wrong\n",
        "So this is because maybe we have overlooked what data is been trained in both the models,here (model_7)we were taking random split,we did not use train test split:\n",
        "  its a data leakage problem\n",
        "\n",
        "\n",
        "  Data Leakage with Train-Test Split:\n",
        "When you use train_test_split to split your dataset into training and testing sets, it is essential to ensure that the split is done in a way that mimics the real-world scenario. Here are some common pitfalls that may lead to data leakage:(cheating on test already)\n",
        "\n",
        "\n",
        "\n"
      ],
      "metadata": {
        "id": "gdOLrqw2v_gX"
      }
    },
    {
      "cell_type": "markdown",
      "source": [
        "\n",
        "\n",
        "---\n",
        "\n"
      ],
      "metadata": {
        "id": "lDo93axrv5gK"
      }
    },
    {
      "cell_type": "markdown",
      "source": [
        "###Below is the better version of the above model to avoid data leakage.\n"
      ],
      "metadata": {
        "id": "nMz-grfvyD4Q"
      }
    },
    {
      "cell_type": "markdown",
      "source": [
        "\n",
        "\n",
        "---\n",
        "\n"
      ],
      "metadata": {
        "id": "ZoBdqHqkv4AA"
      }
    },
    {
      "cell_type": "code",
      "source": [
        "# One kind of correct way (there are more) to make data subset\n",
        "# (split the already split train_sentences/train_labels)\n",
        "#train_sentences_90_percent, train_sentences_10_percent, train_labels_90_percent, train_labels_10_percent = train_test_split(np.array(train_sentences),\n",
        "                                                                                                                            train_labels,\n",
        "                                                                                                                            test_size=0.1,\n",
        "                                                                                                                            random_state=42)\n"
      ],
      "metadata": {
        "colab": {
          "base_uri": "https://localhost:8080/",
          "height": 298
        },
        "id": "D-ChzW6Cxj4P",
        "outputId": "608ca887-ee20-4bf5-b312-444efef2f123"
      },
      "execution_count": 96,
      "outputs": [
        {
          "output_type": "error",
          "ename": "NameError",
          "evalue": "ignored",
          "traceback": [
            "\u001b[0;31m---------------------------------------------------------------------------\u001b[0m",
            "\u001b[0;31mNameError\u001b[0m                                 Traceback (most recent call last)",
            "\u001b[0;32m<ipython-input-96-a052d57232e3>\u001b[0m in \u001b[0;36m<cell line: 3>\u001b[0;34m()\u001b[0m\n\u001b[1;32m      1\u001b[0m \u001b[0;31m# One kind of correct way (there are more) to make data subset\u001b[0m\u001b[0;34m\u001b[0m\u001b[0;34m\u001b[0m\u001b[0m\n\u001b[1;32m      2\u001b[0m \u001b[0;31m# (split the already split train_sentences/train_labels)\u001b[0m\u001b[0;34m\u001b[0m\u001b[0;34m\u001b[0m\u001b[0m\n\u001b[0;32m----> 3\u001b[0;31m train_sentences_90_percent, train_sentences_10_percent, train_labels_90_percent, train_labels_10_percent = train_test_split(np.array(train_sentences),\n\u001b[0m\u001b[1;32m      4\u001b[0m                                                                                                                             \u001b[0mtrain_labels\u001b[0m\u001b[0;34m,\u001b[0m\u001b[0;34m\u001b[0m\u001b[0;34m\u001b[0m\u001b[0m\n\u001b[1;32m      5\u001b[0m                                                                                                                             \u001b[0mtest_size\u001b[0m\u001b[0;34m=\u001b[0m\u001b[0;36m0.1\u001b[0m\u001b[0;34m,\u001b[0m\u001b[0;34m\u001b[0m\u001b[0;34m\u001b[0m\u001b[0m\n",
            "\u001b[0;31mNameError\u001b[0m: name 'np' is not defined"
          ]
        }
      ]
    },
    {
      "cell_type": "code",
      "source": [
        "print(f\"Total training examples: {len(train_sentences)}\")\n",
        "print(f\"Length of 10% training examples: {len(train_sentences_10_percent)}\")"
      ],
      "metadata": {
        "id": "VsGE349mxtER"
      },
      "execution_count": null,
      "outputs": []
    },
    {
      "cell_type": "code",
      "source": [
        "# Clone model_6 but reset weights\n",
        "model_7 = tf.keras.models.clone_model(model_6)\n",
        "\n",
        "# Compile model\n",
        "model_7.compile(loss=\"binary_crossentropy\",\n",
        "                optimizer=tf.keras.optimizers.Adam(),\n",
        "                metrics=[\"accuracy\"])\n",
        "\n",
        "# Get a summary (will be same as model_6)\n",
        "model_7.summary()"
      ],
      "metadata": {
        "colab": {
          "base_uri": "https://localhost:8080/"
        },
        "id": "iYqWc83jxv9i",
        "outputId": "0ce12bc3-1c53-4975-e3cf-ecc2292bbfa9"
      },
      "execution_count": 97,
      "outputs": [
        {
          "output_type": "stream",
          "name": "stdout",
          "text": [
            "Model: \"model_6_USE\"\n",
            "_________________________________________________________________\n",
            " Layer (type)                Output Shape              Param #   \n",
            "=================================================================\n",
            " USE (KerasLayer)            (None, 512)               256797824 \n",
            "                                                                 \n",
            " dense_10 (Dense)            (None, 64)                32832     \n",
            "                                                                 \n",
            " dense_11 (Dense)            (None, 1)                 65        \n",
            "                                                                 \n",
            "=================================================================\n",
            "Total params: 256830721 (979.73 MB)\n",
            "Trainable params: 32897 (128.50 KB)\n",
            "Non-trainable params: 256797824 (979.61 MB)\n",
            "_________________________________________________________________\n"
          ]
        }
      ]
    },
    {
      "cell_type": "code",
      "source": [
        "model_7_history = model_7.fit(x=train_sentences_10_percent,\n",
        "                              y=train_labels_10_percent,\n",
        "                              epochs=5,\n",
        "                              validation_data=(val_sentences, val_labels),\n",
        "                              callbacks=[create_tensorboard_callback(SAVE_DIR, \"10_percent_tf_hub_sentence_encoder\")])"
      ],
      "metadata": {
        "colab": {
          "base_uri": "https://localhost:8080/"
        },
        "id": "zJdnO0ZJxzY_",
        "outputId": "b31527cc-eb5c-40a8-e123-0ac9b8e4e8a0"
      },
      "execution_count": 98,
      "outputs": [
        {
          "output_type": "stream",
          "name": "stdout",
          "text": [
            "Saving TensorBoard log files to: model_logs/10_percent_tf_hub_sentence_encoder/20231226-083627\n",
            "Epoch 1/5\n",
            "24/24 [==============================] - 11s 74ms/step - loss: 0.6629 - accuracy: 0.7411 - val_loss: 0.6202 - val_accuracy: 0.8084\n",
            "Epoch 2/5\n",
            "24/24 [==============================] - 1s 22ms/step - loss: 0.5838 - accuracy: 0.8055 - val_loss: 0.5380 - val_accuracy: 0.8045\n",
            "Epoch 3/5\n",
            "24/24 [==============================] - 1s 24ms/step - loss: 0.5074 - accuracy: 0.8068 - val_loss: 0.4717 - val_accuracy: 0.8136\n",
            "Epoch 4/5\n",
            "24/24 [==============================] - 0s 21ms/step - loss: 0.4534 - accuracy: 0.8173 - val_loss: 0.4291 - val_accuracy: 0.8228\n",
            "Epoch 5/5\n",
            "24/24 [==============================] - 1s 21ms/step - loss: 0.4188 - accuracy: 0.8265 - val_loss: 0.4001 - val_accuracy: 0.8346\n"
          ]
        }
      ]
    },
    {
      "cell_type": "code",
      "source": [
        "model_7_pred_probs = model_7.predict(val_sentences)\n",
        "model_7_preds = tf.squeeze(tf.round(model_7_pred_probs))"
      ],
      "metadata": {
        "colab": {
          "base_uri": "https://localhost:8080/"
        },
        "id": "A2rLTr7bv67k",
        "outputId": "edb53e99-7f17-4e1b-c6c2-2e7208e14d7a"
      },
      "execution_count": 99,
      "outputs": [
        {
          "output_type": "stream",
          "name": "stdout",
          "text": [
            "24/24 [==============================] - 1s 9ms/step\n"
          ]
        }
      ]
    },
    {
      "cell_type": "code",
      "source": [
        "model_7_results = calculate_results(val_labels, model_7_preds)\n",
        "model_7_results"
      ],
      "metadata": {
        "colab": {
          "base_uri": "https://localhost:8080/"
        },
        "id": "Sqa5hNzgx_mP",
        "outputId": "b25b185d-ab8d-4aa0-bed4-e46a888d8a8c"
      },
      "execution_count": 100,
      "outputs": [
        {
          "output_type": "execute_result",
          "data": {
            "text/plain": [
              "{'accuracy': 83.46456692913385,\n",
              " 'precision': 83.47172512526842,\n",
              " 'recall': 83.46456692913385,\n",
              " 'f1': 83.42097889241909}"
            ]
          },
          "metadata": {},
          "execution_count": 100
        }
      ]
    },
    {
      "cell_type": "code",
      "source": [
        "compare_baseline_to_new_results(baseline_results, model_7_results)"
      ],
      "metadata": {
        "colab": {
          "base_uri": "https://localhost:8080/"
        },
        "id": "x3Cs2IO-yCu-",
        "outputId": "61e862cd-cba5-4574-f4ee-b58b370dce5c"
      },
      "execution_count": 101,
      "outputs": [
        {
          "output_type": "stream",
          "name": "stdout",
          "text": [
            "Baseline accuracy: 79.27, New accuracy: 83.46, Difference: 4.20\n",
            "Baseline precision: 81.11, New precision: 83.47, Difference: 2.36\n",
            "Baseline recall: 79.27, New recall: 83.46, Difference: 4.20\n",
            "Baseline f1: 78.62, New f1: 83.42, Difference: 4.80\n"
          ]
        }
      ]
    },
    {
      "cell_type": "markdown",
      "source": [
        "#Performance of each Model\n"
      ],
      "metadata": {
        "id": "MknmvPdFyRwC"
      }
    },
    {
      "cell_type": "code",
      "source": [
        "# Comparing all the models\n",
        "# Combine model results into a DataFrame\n",
        "all_model_results = pd.DataFrame({\"baseline\": baseline_results,\n",
        "                                  \"simple_dense\": model_1_results,\n",
        "                                  \"lstm\": model_2_results,\n",
        "                                  \"gru\": model_3_results,\n",
        "                                  \"bidirectional\": model_4_results,\n",
        "                                  \"conv1d\": model_5_results,\n",
        "                                  \"tf_hub_sentence_encoder\": model_6_results,\n",
        "                                  \"10_percent_tf_hub_sentence_encoder\": model_7_results})\n",
        "all_model_results = all_model_results.transpose()\n",
        "all_model_results"
      ],
      "metadata": {
        "colab": {
          "base_uri": "https://localhost:8080/",
          "height": 300
        },
        "id": "TcHGtZ4QtBh9",
        "outputId": "9d536de7-7e92-4a44-f57d-92005155fc96"
      },
      "execution_count": 102,
      "outputs": [
        {
          "output_type": "execute_result",
          "data": {
            "text/plain": [
              "                                     accuracy  precision     recall         f1\n",
              "baseline                            79.265092  81.113900  79.265092  78.621898\n",
              "simple_dense                        78.608924  79.032775  78.608924  78.329713\n",
              "lstm                                77.821522  78.337712  77.821522  77.486375\n",
              "gru                                 77.165354  77.135817  77.165354  77.096840\n",
              "bidirectional                       75.590551  75.570991  75.590551  75.578680\n",
              "conv1d                              76.377953  76.438385  76.377953  76.214124\n",
              "tf_hub_sentence_encoder             81.364829  81.638942  81.364829  81.195830\n",
              "10_percent_tf_hub_sentence_encoder  83.464567  83.471725  83.464567  83.420979"
            ],
            "text/html": [
              "\n",
              "  <div id=\"df-5785a5f2-d8c7-4d47-a6f1-fa9d79676db1\" class=\"colab-df-container\">\n",
              "    <div>\n",
              "<style scoped>\n",
              "    .dataframe tbody tr th:only-of-type {\n",
              "        vertical-align: middle;\n",
              "    }\n",
              "\n",
              "    .dataframe tbody tr th {\n",
              "        vertical-align: top;\n",
              "    }\n",
              "\n",
              "    .dataframe thead th {\n",
              "        text-align: right;\n",
              "    }\n",
              "</style>\n",
              "<table border=\"1\" class=\"dataframe\">\n",
              "  <thead>\n",
              "    <tr style=\"text-align: right;\">\n",
              "      <th></th>\n",
              "      <th>accuracy</th>\n",
              "      <th>precision</th>\n",
              "      <th>recall</th>\n",
              "      <th>f1</th>\n",
              "    </tr>\n",
              "  </thead>\n",
              "  <tbody>\n",
              "    <tr>\n",
              "      <th>baseline</th>\n",
              "      <td>79.265092</td>\n",
              "      <td>81.113900</td>\n",
              "      <td>79.265092</td>\n",
              "      <td>78.621898</td>\n",
              "    </tr>\n",
              "    <tr>\n",
              "      <th>simple_dense</th>\n",
              "      <td>78.608924</td>\n",
              "      <td>79.032775</td>\n",
              "      <td>78.608924</td>\n",
              "      <td>78.329713</td>\n",
              "    </tr>\n",
              "    <tr>\n",
              "      <th>lstm</th>\n",
              "      <td>77.821522</td>\n",
              "      <td>78.337712</td>\n",
              "      <td>77.821522</td>\n",
              "      <td>77.486375</td>\n",
              "    </tr>\n",
              "    <tr>\n",
              "      <th>gru</th>\n",
              "      <td>77.165354</td>\n",
              "      <td>77.135817</td>\n",
              "      <td>77.165354</td>\n",
              "      <td>77.096840</td>\n",
              "    </tr>\n",
              "    <tr>\n",
              "      <th>bidirectional</th>\n",
              "      <td>75.590551</td>\n",
              "      <td>75.570991</td>\n",
              "      <td>75.590551</td>\n",
              "      <td>75.578680</td>\n",
              "    </tr>\n",
              "    <tr>\n",
              "      <th>conv1d</th>\n",
              "      <td>76.377953</td>\n",
              "      <td>76.438385</td>\n",
              "      <td>76.377953</td>\n",
              "      <td>76.214124</td>\n",
              "    </tr>\n",
              "    <tr>\n",
              "      <th>tf_hub_sentence_encoder</th>\n",
              "      <td>81.364829</td>\n",
              "      <td>81.638942</td>\n",
              "      <td>81.364829</td>\n",
              "      <td>81.195830</td>\n",
              "    </tr>\n",
              "    <tr>\n",
              "      <th>10_percent_tf_hub_sentence_encoder</th>\n",
              "      <td>83.464567</td>\n",
              "      <td>83.471725</td>\n",
              "      <td>83.464567</td>\n",
              "      <td>83.420979</td>\n",
              "    </tr>\n",
              "  </tbody>\n",
              "</table>\n",
              "</div>\n",
              "    <div class=\"colab-df-buttons\">\n",
              "\n",
              "  <div class=\"colab-df-container\">\n",
              "    <button class=\"colab-df-convert\" onclick=\"convertToInteractive('df-5785a5f2-d8c7-4d47-a6f1-fa9d79676db1')\"\n",
              "            title=\"Convert this dataframe to an interactive table.\"\n",
              "            style=\"display:none;\">\n",
              "\n",
              "  <svg xmlns=\"http://www.w3.org/2000/svg\" height=\"24px\" viewBox=\"0 -960 960 960\">\n",
              "    <path d=\"M120-120v-720h720v720H120Zm60-500h600v-160H180v160Zm220 220h160v-160H400v160Zm0 220h160v-160H400v160ZM180-400h160v-160H180v160Zm440 0h160v-160H620v160ZM180-180h160v-160H180v160Zm440 0h160v-160H620v160Z\"/>\n",
              "  </svg>\n",
              "    </button>\n",
              "\n",
              "  <style>\n",
              "    .colab-df-container {\n",
              "      display:flex;\n",
              "      gap: 12px;\n",
              "    }\n",
              "\n",
              "    .colab-df-convert {\n",
              "      background-color: #E8F0FE;\n",
              "      border: none;\n",
              "      border-radius: 50%;\n",
              "      cursor: pointer;\n",
              "      display: none;\n",
              "      fill: #1967D2;\n",
              "      height: 32px;\n",
              "      padding: 0 0 0 0;\n",
              "      width: 32px;\n",
              "    }\n",
              "\n",
              "    .colab-df-convert:hover {\n",
              "      background-color: #E2EBFA;\n",
              "      box-shadow: 0px 1px 2px rgba(60, 64, 67, 0.3), 0px 1px 3px 1px rgba(60, 64, 67, 0.15);\n",
              "      fill: #174EA6;\n",
              "    }\n",
              "\n",
              "    .colab-df-buttons div {\n",
              "      margin-bottom: 4px;\n",
              "    }\n",
              "\n",
              "    [theme=dark] .colab-df-convert {\n",
              "      background-color: #3B4455;\n",
              "      fill: #D2E3FC;\n",
              "    }\n",
              "\n",
              "    [theme=dark] .colab-df-convert:hover {\n",
              "      background-color: #434B5C;\n",
              "      box-shadow: 0px 1px 3px 1px rgba(0, 0, 0, 0.15);\n",
              "      filter: drop-shadow(0px 1px 2px rgba(0, 0, 0, 0.3));\n",
              "      fill: #FFFFFF;\n",
              "    }\n",
              "  </style>\n",
              "\n",
              "    <script>\n",
              "      const buttonEl =\n",
              "        document.querySelector('#df-5785a5f2-d8c7-4d47-a6f1-fa9d79676db1 button.colab-df-convert');\n",
              "      buttonEl.style.display =\n",
              "        google.colab.kernel.accessAllowed ? 'block' : 'none';\n",
              "\n",
              "      async function convertToInteractive(key) {\n",
              "        const element = document.querySelector('#df-5785a5f2-d8c7-4d47-a6f1-fa9d79676db1');\n",
              "        const dataTable =\n",
              "          await google.colab.kernel.invokeFunction('convertToInteractive',\n",
              "                                                    [key], {});\n",
              "        if (!dataTable) return;\n",
              "\n",
              "        const docLinkHtml = 'Like what you see? Visit the ' +\n",
              "          '<a target=\"_blank\" href=https://colab.research.google.com/notebooks/data_table.ipynb>data table notebook</a>'\n",
              "          + ' to learn more about interactive tables.';\n",
              "        element.innerHTML = '';\n",
              "        dataTable['output_type'] = 'display_data';\n",
              "        await google.colab.output.renderOutput(dataTable, element);\n",
              "        const docLink = document.createElement('div');\n",
              "        docLink.innerHTML = docLinkHtml;\n",
              "        element.appendChild(docLink);\n",
              "      }\n",
              "    </script>\n",
              "  </div>\n",
              "\n",
              "\n",
              "<div id=\"df-d7bdd9ee-8da4-4a16-aca9-f0b01d9c23e7\">\n",
              "  <button class=\"colab-df-quickchart\" onclick=\"quickchart('df-d7bdd9ee-8da4-4a16-aca9-f0b01d9c23e7')\"\n",
              "            title=\"Suggest charts\"\n",
              "            style=\"display:none;\">\n",
              "\n",
              "<svg xmlns=\"http://www.w3.org/2000/svg\" height=\"24px\"viewBox=\"0 0 24 24\"\n",
              "     width=\"24px\">\n",
              "    <g>\n",
              "        <path d=\"M19 3H5c-1.1 0-2 .9-2 2v14c0 1.1.9 2 2 2h14c1.1 0 2-.9 2-2V5c0-1.1-.9-2-2-2zM9 17H7v-7h2v7zm4 0h-2V7h2v10zm4 0h-2v-4h2v4z\"/>\n",
              "    </g>\n",
              "</svg>\n",
              "  </button>\n",
              "\n",
              "<style>\n",
              "  .colab-df-quickchart {\n",
              "      --bg-color: #E8F0FE;\n",
              "      --fill-color: #1967D2;\n",
              "      --hover-bg-color: #E2EBFA;\n",
              "      --hover-fill-color: #174EA6;\n",
              "      --disabled-fill-color: #AAA;\n",
              "      --disabled-bg-color: #DDD;\n",
              "  }\n",
              "\n",
              "  [theme=dark] .colab-df-quickchart {\n",
              "      --bg-color: #3B4455;\n",
              "      --fill-color: #D2E3FC;\n",
              "      --hover-bg-color: #434B5C;\n",
              "      --hover-fill-color: #FFFFFF;\n",
              "      --disabled-bg-color: #3B4455;\n",
              "      --disabled-fill-color: #666;\n",
              "  }\n",
              "\n",
              "  .colab-df-quickchart {\n",
              "    background-color: var(--bg-color);\n",
              "    border: none;\n",
              "    border-radius: 50%;\n",
              "    cursor: pointer;\n",
              "    display: none;\n",
              "    fill: var(--fill-color);\n",
              "    height: 32px;\n",
              "    padding: 0;\n",
              "    width: 32px;\n",
              "  }\n",
              "\n",
              "  .colab-df-quickchart:hover {\n",
              "    background-color: var(--hover-bg-color);\n",
              "    box-shadow: 0 1px 2px rgba(60, 64, 67, 0.3), 0 1px 3px 1px rgba(60, 64, 67, 0.15);\n",
              "    fill: var(--button-hover-fill-color);\n",
              "  }\n",
              "\n",
              "  .colab-df-quickchart-complete:disabled,\n",
              "  .colab-df-quickchart-complete:disabled:hover {\n",
              "    background-color: var(--disabled-bg-color);\n",
              "    fill: var(--disabled-fill-color);\n",
              "    box-shadow: none;\n",
              "  }\n",
              "\n",
              "  .colab-df-spinner {\n",
              "    border: 2px solid var(--fill-color);\n",
              "    border-color: transparent;\n",
              "    border-bottom-color: var(--fill-color);\n",
              "    animation:\n",
              "      spin 1s steps(1) infinite;\n",
              "  }\n",
              "\n",
              "  @keyframes spin {\n",
              "    0% {\n",
              "      border-color: transparent;\n",
              "      border-bottom-color: var(--fill-color);\n",
              "      border-left-color: var(--fill-color);\n",
              "    }\n",
              "    20% {\n",
              "      border-color: transparent;\n",
              "      border-left-color: var(--fill-color);\n",
              "      border-top-color: var(--fill-color);\n",
              "    }\n",
              "    30% {\n",
              "      border-color: transparent;\n",
              "      border-left-color: var(--fill-color);\n",
              "      border-top-color: var(--fill-color);\n",
              "      border-right-color: var(--fill-color);\n",
              "    }\n",
              "    40% {\n",
              "      border-color: transparent;\n",
              "      border-right-color: var(--fill-color);\n",
              "      border-top-color: var(--fill-color);\n",
              "    }\n",
              "    60% {\n",
              "      border-color: transparent;\n",
              "      border-right-color: var(--fill-color);\n",
              "    }\n",
              "    80% {\n",
              "      border-color: transparent;\n",
              "      border-right-color: var(--fill-color);\n",
              "      border-bottom-color: var(--fill-color);\n",
              "    }\n",
              "    90% {\n",
              "      border-color: transparent;\n",
              "      border-bottom-color: var(--fill-color);\n",
              "    }\n",
              "  }\n",
              "</style>\n",
              "\n",
              "  <script>\n",
              "    async function quickchart(key) {\n",
              "      const quickchartButtonEl =\n",
              "        document.querySelector('#' + key + ' button');\n",
              "      quickchartButtonEl.disabled = true;  // To prevent multiple clicks.\n",
              "      quickchartButtonEl.classList.add('colab-df-spinner');\n",
              "      try {\n",
              "        const charts = await google.colab.kernel.invokeFunction(\n",
              "            'suggestCharts', [key], {});\n",
              "      } catch (error) {\n",
              "        console.error('Error during call to suggestCharts:', error);\n",
              "      }\n",
              "      quickchartButtonEl.classList.remove('colab-df-spinner');\n",
              "      quickchartButtonEl.classList.add('colab-df-quickchart-complete');\n",
              "    }\n",
              "    (() => {\n",
              "      let quickchartButtonEl =\n",
              "        document.querySelector('#df-d7bdd9ee-8da4-4a16-aca9-f0b01d9c23e7 button');\n",
              "      quickchartButtonEl.style.display =\n",
              "        google.colab.kernel.accessAllowed ? 'block' : 'none';\n",
              "    })();\n",
              "  </script>\n",
              "</div>\n",
              "\n",
              "  <div id=\"id_fce7bd9f-25c2-43e3-a08a-ed0a243fb8a7\">\n",
              "    <style>\n",
              "      .colab-df-generate {\n",
              "        background-color: #E8F0FE;\n",
              "        border: none;\n",
              "        border-radius: 50%;\n",
              "        cursor: pointer;\n",
              "        display: none;\n",
              "        fill: #1967D2;\n",
              "        height: 32px;\n",
              "        padding: 0 0 0 0;\n",
              "        width: 32px;\n",
              "      }\n",
              "\n",
              "      .colab-df-generate:hover {\n",
              "        background-color: #E2EBFA;\n",
              "        box-shadow: 0px 1px 2px rgba(60, 64, 67, 0.3), 0px 1px 3px 1px rgba(60, 64, 67, 0.15);\n",
              "        fill: #174EA6;\n",
              "      }\n",
              "\n",
              "      [theme=dark] .colab-df-generate {\n",
              "        background-color: #3B4455;\n",
              "        fill: #D2E3FC;\n",
              "      }\n",
              "\n",
              "      [theme=dark] .colab-df-generate:hover {\n",
              "        background-color: #434B5C;\n",
              "        box-shadow: 0px 1px 3px 1px rgba(0, 0, 0, 0.15);\n",
              "        filter: drop-shadow(0px 1px 2px rgba(0, 0, 0, 0.3));\n",
              "        fill: #FFFFFF;\n",
              "      }\n",
              "    </style>\n",
              "    <button class=\"colab-df-generate\" onclick=\"generateWithVariable('all_model_results')\"\n",
              "            title=\"Generate code using this dataframe.\"\n",
              "            style=\"display:none;\">\n",
              "\n",
              "  <svg xmlns=\"http://www.w3.org/2000/svg\" height=\"24px\"viewBox=\"0 0 24 24\"\n",
              "       width=\"24px\">\n",
              "    <path d=\"M7,19H8.4L18.45,9,17,7.55,7,17.6ZM5,21V16.75L18.45,3.32a2,2,0,0,1,2.83,0l1.4,1.43a1.91,1.91,0,0,1,.58,1.4,1.91,1.91,0,0,1-.58,1.4L9.25,21ZM18.45,9,17,7.55Zm-12,3A5.31,5.31,0,0,0,4.9,8.1,5.31,5.31,0,0,0,1,6.5,5.31,5.31,0,0,0,4.9,4.9,5.31,5.31,0,0,0,6.5,1,5.31,5.31,0,0,0,8.1,4.9,5.31,5.31,0,0,0,12,6.5,5.46,5.46,0,0,0,6.5,12Z\"/>\n",
              "  </svg>\n",
              "    </button>\n",
              "    <script>\n",
              "      (() => {\n",
              "      const buttonEl =\n",
              "        document.querySelector('#id_fce7bd9f-25c2-43e3-a08a-ed0a243fb8a7 button.colab-df-generate');\n",
              "      buttonEl.style.display =\n",
              "        google.colab.kernel.accessAllowed ? 'block' : 'none';\n",
              "\n",
              "      buttonEl.onclick = () => {\n",
              "        google.colab.notebook.generateWithVariable('all_model_results');\n",
              "      }\n",
              "      })();\n",
              "    </script>\n",
              "  </div>\n",
              "\n",
              "    </div>\n",
              "  </div>\n"
            ]
          },
          "metadata": {},
          "execution_count": 102
        }
      ]
    },
    {
      "cell_type": "code",
      "source": [
        "all_model_results.plot(kind=\"bar\", figsize=(10, 7)).legend(bbox_to_anchor=(1.0, 1.0))"
      ],
      "metadata": {
        "colab": {
          "base_uri": "https://localhost:8080/",
          "height": 865
        },
        "id": "QiMbU2Cmtdfc",
        "outputId": "7cbcb6f0-1cdc-4aef-8623-a109121efe22"
      },
      "execution_count": 103,
      "outputs": [
        {
          "output_type": "execute_result",
          "data": {
            "text/plain": [
              "<matplotlib.legend.Legend at 0x7b47103d05b0>"
            ]
          },
          "metadata": {},
          "execution_count": 103
        },
        {
          "output_type": "display_data",
          "data": {
            "text/plain": [
              "<Figure size 1000x700 with 1 Axes>"
            ],
            "image/png": "[encoded data removed]"
          },
          "metadata": {}
        }
      ]
    },
    {
      "cell_type": "code",
      "source": [
        "# Sort model results by f1-score\n",
        "all_model_results.sort_values(\"f1\", ascending=False)[\"f1\"].plot(kind=\"bar\", figsize=(10, 7));"
      ],
      "metadata": {
        "colab": {
          "base_uri": "https://localhost:8080/",
          "height": 848
        },
        "id": "PxQ_YDVltu89",
        "outputId": "4d77bfcd-e637-4ec8-fca5-02704d5e55b3"
      },
      "execution_count": 104,
      "outputs": [
        {
          "output_type": "display_data",
          "data": {
            "text/plain": [
              "<Figure size 1000x700 with 1 Axes>"
            ],
            "image/png": "[encoded data removed]"
          },
          "metadata": {}
        }
      ]
    },
    {
      "cell_type": "markdown",
      "source": [
        "# uploading the model to Tensor board"
      ],
      "metadata": {
        "id": "SxPayD6CSx4l"
      }
    },
    {
      "cell_type": "code",
      "source": [
        "# view tensorboard logs of all the model we have done before\n",
        "!tensorboard dev upload --logdir ./model_logs/ \\\n",
        "  --name 'NLP modelling Performance' \\\n",
        "  --description 'Comparing the performanec of all the NLP model on tweeter data for disaster' \\\n",
        "  --one_shot #exit the uploader once uploading is finished'"
      ],
      "metadata": {
        "colab": {
          "base_uri": "https://localhost:8080/"
        },
        "id": "P08Au6zBV4_V",
        "outputId": "5bc96c5a-a562-4d32-a7d3-ef47475ca933"
      },
      "execution_count": 116,
      "outputs": [
        {
          "output_type": "stream",
          "name": "stdout",
          "text": [
            "2023-12-26 09:02:33.860819: E external/local_xla/xla/stream_executor/cuda/cuda_dnn.cc:9261] Unable to register cuDNN factory: Attempting to register factory for plugin cuDNN when one has already been registered\n",
            "2023-12-26 09:02:33.860896: E external/local_xla/xla/stream_executor/cuda/cuda_fft.cc:607] Unable to register cuFFT factory: Attempting to register factory for plugin cuFFT when one has already been registered\n",
            "2023-12-26 09:02:33.862650: E external/local_xla/xla/stream_executor/cuda/cuda_blas.cc:1515] Unable to register cuBLAS factory: Attempting to register factory for plugin cuBLAS when one has already been registered\n",
            "2023-12-26 09:02:35.464041: W tensorflow/compiler/tf2tensorrt/utils/py_utils.cc:38] TF-TRT Warning: Could not find TensorRT\n",
            "****************************************************************\n",
            "****************************************************************\n",
            "****************************************************************\n",
            "\n",
            "Uploading TensorBoard logs to https://tensorboard.dev/ is no longer\n",
            "supported.\n",
            "\n",
            "TensorBoard.dev is shutting down.\n",
            "\n",
            "Please export your experiments by Dec 31, 2023.\n",
            "\n",
            "See the FAQ at https://tensorboard.dev.\n",
            "\n",
            "****************************************************************\n",
            "****************************************************************\n",
            "****************************************************************\n"
          ]
        }
      ]
    },
    {
      "cell_type": "markdown",
      "source": [
        "#we want to export the best meofl so that some other can use it"
      ],
      "metadata": {
        "id": "f7H7P0UgYABi"
      }
    },
    {
      "cell_type": "code",
      "source": [
        "#there are two main formats to save a model in tensor flow\n",
        "\n",
        "model_7.save(\"model_6.h5\")"
      ],
      "metadata": {
        "colab": {
          "base_uri": "https://localhost:8080/"
        },
        "id": "64pFfCOqYF_b",
        "outputId": "68783de9-5de1-43e9-d049-c7b710a9e4ca"
      },
      "execution_count": 117,
      "outputs": [
        {
          "output_type": "stream",
          "name": "stderr",
          "text": [
            "/usr/local/lib/python3.10/dist-packages/keras/src/engine/training.py:3103: UserWarning: You are saving your model as an HDF5 file via `model.save()`. This file format is considered legacy. We recommend using instead the native Keras format, e.g. `model.save('my_model.keras')`.\n",
            "  saving_api.save_model(\n"
          ]
        }
      ]
    },
    {
      "cell_type": "markdown",
      "source": [
        "#Finding the most wrong\n",
        "if our best mdoel still isnt perfect waht example it is predicting the most worng that we have to find out\n"
      ],
      "metadata": {
        "id": "77-dLSTkaULa"
      }
    },
    {
      "cell_type": "markdown",
      "source": [
        "We mentioned before that if many of our modelling experiments are returning similar results, despite using different kinds of models, it's a good idea to return to the data and inspect why this might be.\n",
        "\n",
        "One of the best ways to inspect your data is to sort your model's predictions and find the samples it got most wrong, meaning, what predictions had a high prediction probability but turned out to be wrong."
      ],
      "metadata": {
        "id": "U5cLIkgYa0Ij"
      }
    },
    {
      "cell_type": "code",
      "source": [
        "# Create dataframe with validation sentences and best performing model predictions\n",
        "val_df = pd.DataFrame({\"text\": val_sentences,\n",
        "                       \"target\": val_labels,\n",
        "                       \"pred\": model_6_preds,\n",
        "                       \"pred_prob\": tf.squeeze(model_6_pred_probs)})\n",
        "val_df.head()"
      ],
      "metadata": {
        "colab": {
          "base_uri": "https://localhost:8080/",
          "height": 206
        },
        "id": "hQUX2gVAaoxr",
        "outputId": "7f196c66-8808-4137-87b8-6b65aeb38f9b"
      },
      "execution_count": 118,
      "outputs": [
        {
          "output_type": "execute_result",
          "data": {
            "text/plain": [
              "                                                text  target  pred  pred_prob\n",
              "0  DFR EP016 Monthly Meltdown - On Dnbheaven 2015...       0   0.0   0.154879\n",
              "1  FedEx no longer to transport bioterror germs i...       0   1.0   0.741273\n",
              "2  Gunmen kill four in El Salvador bus attack: Su...       1   1.0   0.988123\n",
              "3  @camilacabello97 Internally and externally scr...       1   0.0   0.204202\n",
              "4  Radiation emergency #preparedness starts with ...       1   1.0   0.735611"
            ],
            "text/html": [
              "\n",
              "  <div id=\"df-08a081f7-3a1f-4e7b-8af0-6c3805f213b8\" class=\"colab-df-container\">\n",
              "    <div>\n",
              "<style scoped>\n",
              "    .dataframe tbody tr th:only-of-type {\n",
              "        vertical-align: middle;\n",
              "    }\n",
              "\n",
              "    .dataframe tbody tr th {\n",
              "        vertical-align: top;\n",
              "    }\n",
              "\n",
              "    .dataframe thead th {\n",
              "        text-align: right;\n",
              "    }\n",
              "</style>\n",
              "<table border=\"1\" class=\"dataframe\">\n",
              "  <thead>\n",
              "    <tr style=\"text-align: right;\">\n",
              "      <th></th>\n",
              "      <th>text</th>\n",
              "      <th>target</th>\n",
              "      <th>pred</th>\n",
              "      <th>pred_prob</th>\n",
              "    </tr>\n",
              "  </thead>\n",
              "  <tbody>\n",
              "    <tr>\n",
              "      <th>0</th>\n",
              "      <td>DFR EP016 Monthly Meltdown - On Dnbheaven 2015...</td>\n",
              "      <td>0</td>\n",
              "      <td>0.0</td>\n",
              "      <td>0.154879</td>\n",
              "    </tr>\n",
              "    <tr>\n",
              "      <th>1</th>\n",
              "      <td>FedEx no longer to transport bioterror germs i...</td>\n",
              "      <td>0</td>\n",
              "      <td>1.0</td>\n",
              "      <td>0.741273</td>\n",
              "    </tr>\n",
              "    <tr>\n",
              "      <th>2</th>\n",
              "      <td>Gunmen kill four in El Salvador bus attack: Su...</td>\n",
              "      <td>1</td>\n",
              "      <td>1.0</td>\n",
              "      <td>0.988123</td>\n",
              "    </tr>\n",
              "    <tr>\n",
              "      <th>3</th>\n",
              "      <td>@camilacabello97 Internally and externally scr...</td>\n",
              "      <td>1</td>\n",
              "      <td>0.0</td>\n",
              "      <td>0.204202</td>\n",
              "    </tr>\n",
              "    <tr>\n",
              "      <th>4</th>\n",
              "      <td>Radiation emergency #preparedness starts with ...</td>\n",
              "      <td>1</td>\n",
              "      <td>1.0</td>\n",
              "      <td>0.735611</td>\n",
              "    </tr>\n",
              "  </tbody>\n",
              "</table>\n",
              "</div>\n",
              "    <div class=\"colab-df-buttons\">\n",
              "\n",
              "  <div class=\"colab-df-container\">\n",
              "    <button class=\"colab-df-convert\" onclick=\"convertToInteractive('df-08a081f7-3a1f-4e7b-8af0-6c3805f213b8')\"\n",
              "            title=\"Convert this dataframe to an interactive table.\"\n",
              "            style=\"display:none;\">\n",
              "\n",
              "  <svg xmlns=\"http://www.w3.org/2000/svg\" height=\"24px\" viewBox=\"0 -960 960 960\">\n",
              "    <path d=\"M120-120v-720h720v720H120Zm60-500h600v-160H180v160Zm220 220h160v-160H400v160Zm0 220h160v-160H400v160ZM180-400h160v-160H180v160Zm440 0h160v-160H620v160ZM180-180h160v-160H180v160Zm440 0h160v-160H620v160Z\"/>\n",
              "  </svg>\n",
              "    </button>\n",
              "\n",
              "  <style>\n",
              "    .colab-df-container {\n",
              "      display:flex;\n",
              "      gap: 12px;\n",
              "    }\n",
              "\n",
              "    .colab-df-convert {\n",
              "      background-color: #E8F0FE;\n",
              "      border: none;\n",
              "      border-radius: 50%;\n",
              "      cursor: pointer;\n",
              "      display: none;\n",
              "      fill: #1967D2;\n",
              "      height: 32px;\n",
              "      padding: 0 0 0 0;\n",
              "      width: 32px;\n",
              "    }\n",
              "\n",
              "    .colab-df-convert:hover {\n",
              "      background-color: #E2EBFA;\n",
              "      box-shadow: 0px 1px 2px rgba(60, 64, 67, 0.3), 0px 1px 3px 1px rgba(60, 64, 67, 0.15);\n",
              "      fill: #174EA6;\n",
              "    }\n",
              "\n",
              "    .colab-df-buttons div {\n",
              "      margin-bottom: 4px;\n",
              "    }\n",
              "\n",
              "    [theme=dark] .colab-df-convert {\n",
              "      background-color: #3B4455;\n",
              "      fill: #D2E3FC;\n",
              "    }\n",
              "\n",
              "    [theme=dark] .colab-df-convert:hover {\n",
              "      background-color: #434B5C;\n",
              "      box-shadow: 0px 1px 3px 1px rgba(0, 0, 0, 0.15);\n",
              "      filter: drop-shadow(0px 1px 2px rgba(0, 0, 0, 0.3));\n",
              "      fill: #FFFFFF;\n",
              "    }\n",
              "  </style>\n",
              "\n",
              "    <script>\n",
              "      const buttonEl =\n",
              "        document.querySelector('#df-08a081f7-3a1f-4e7b-8af0-6c3805f213b8 button.colab-df-convert');\n",
              "      buttonEl.style.display =\n",
              "        google.colab.kernel.accessAllowed ? 'block' : 'none';\n",
              "\n",
              "      async function convertToInteractive(key) {\n",
              "        const element = document.querySelector('#df-08a081f7-3a1f-4e7b-8af0-6c3805f213b8');\n",
              "        const dataTable =\n",
              "          await google.colab.kernel.invokeFunction('convertToInteractive',\n",
              "                                                    [key], {});\n",
              "        if (!dataTable) return;\n",
              "\n",
              "        const docLinkHtml = 'Like what you see? Visit the ' +\n",
              "          '<a target=\"_blank\" href=https://colab.research.google.com/notebooks/data_table.ipynb>data table notebook</a>'\n",
              "          + ' to learn more about interactive tables.';\n",
              "        element.innerHTML = '';\n",
              "        dataTable['output_type'] = 'display_data';\n",
              "        await google.colab.output.renderOutput(dataTable, element);\n",
              "        const docLink = document.createElement('div');\n",
              "        docLink.innerHTML = docLinkHtml;\n",
              "        element.appendChild(docLink);\n",
              "      }\n",
              "    </script>\n",
              "  </div>\n",
              "\n",
              "\n",
              "<div id=\"df-d1e54e80-57d8-419d-bb52-5e247cab8eda\">\n",
              "  <button class=\"colab-df-quickchart\" onclick=\"quickchart('df-d1e54e80-57d8-419d-bb52-5e247cab8eda')\"\n",
              "            title=\"Suggest charts\"\n",
              "            style=\"display:none;\">\n",
              "\n",
              "<svg xmlns=\"http://www.w3.org/2000/svg\" height=\"24px\"viewBox=\"0 0 24 24\"\n",
              "     width=\"24px\">\n",
              "    <g>\n",
              "        <path d=\"M19 3H5c-1.1 0-2 .9-2 2v14c0 1.1.9 2 2 2h14c1.1 0 2-.9 2-2V5c0-1.1-.9-2-2-2zM9 17H7v-7h2v7zm4 0h-2V7h2v10zm4 0h-2v-4h2v4z\"/>\n",
              "    </g>\n",
              "</svg>\n",
              "  </button>\n",
              "\n",
              "<style>\n",
              "  .colab-df-quickchart {\n",
              "      --bg-color: #E8F0FE;\n",
              "      --fill-color: #1967D2;\n",
              "      --hover-bg-color: #E2EBFA;\n",
              "      --hover-fill-color: #174EA6;\n",
              "      --disabled-fill-color: #AAA;\n",
              "      --disabled-bg-color: #DDD;\n",
              "  }\n",
              "\n",
              "  [theme=dark] .colab-df-quickchart {\n",
              "      --bg-color: #3B4455;\n",
              "      --fill-color: #D2E3FC;\n",
              "      --hover-bg-color: #434B5C;\n",
              "      --hover-fill-color: #FFFFFF;\n",
              "      --disabled-bg-color: #3B4455;\n",
              "      --disabled-fill-color: #666;\n",
              "  }\n",
              "\n",
              "  .colab-df-quickchart {\n",
              "    background-color: var(--bg-color);\n",
              "    border: none;\n",
              "    border-radius: 50%;\n",
              "    cursor: pointer;\n",
              "    display: none;\n",
              "    fill: var(--fill-color);\n",
              "    height: 32px;\n",
              "    padding: 0;\n",
              "    width: 32px;\n",
              "  }\n",
              "\n",
              "  .colab-df-quickchart:hover {\n",
              "    background-color: var(--hover-bg-color);\n",
              "    box-shadow: 0 1px 2px rgba(60, 64, 67, 0.3), 0 1px 3px 1px rgba(60, 64, 67, 0.15);\n",
              "    fill: var(--button-hover-fill-color);\n",
              "  }\n",
              "\n",
              "  .colab-df-quickchart-complete:disabled,\n",
              "  .colab-df-quickchart-complete:disabled:hover {\n",
              "    background-color: var(--disabled-bg-color);\n",
              "    fill: var(--disabled-fill-color);\n",
              "    box-shadow: none;\n",
              "  }\n",
              "\n",
              "  .colab-df-spinner {\n",
              "    border: 2px solid var(--fill-color);\n",
              "    border-color: transparent;\n",
              "    border-bottom-color: var(--fill-color);\n",
              "    animation:\n",
              "      spin 1s steps(1) infinite;\n",
              "  }\n",
              "\n",
              "  @keyframes spin {\n",
              "    0% {\n",
              "      border-color: transparent;\n",
              "      border-bottom-color: var(--fill-color);\n",
              "      border-left-color: var(--fill-color);\n",
              "    }\n",
              "    20% {\n",
              "      border-color: transparent;\n",
              "      border-left-color: var(--fill-color);\n",
              "      border-top-color: var(--fill-color);\n",
              "    }\n",
              "    30% {\n",
              "      border-color: transparent;\n",
              "      border-left-color: var(--fill-color);\n",
              "      border-top-color: var(--fill-color);\n",
              "      border-right-color: var(--fill-color);\n",
              "    }\n",
              "    40% {\n",
              "      border-color: transparent;\n",
              "      border-right-color: var(--fill-color);\n",
              "      border-top-color: var(--fill-color);\n",
              "    }\n",
              "    60% {\n",
              "      border-color: transparent;\n",
              "      border-right-color: var(--fill-color);\n",
              "    }\n",
              "    80% {\n",
              "      border-color: transparent;\n",
              "      border-right-color: var(--fill-color);\n",
              "      border-bottom-color: var(--fill-color);\n",
              "    }\n",
              "    90% {\n",
              "      border-color: transparent;\n",
              "      border-bottom-color: var(--fill-color);\n",
              "    }\n",
              "  }\n",
              "</style>\n",
              "\n",
              "  <script>\n",
              "    async function quickchart(key) {\n",
              "      const quickchartButtonEl =\n",
              "        document.querySelector('#' + key + ' button');\n",
              "      quickchartButtonEl.disabled = true;  // To prevent multiple clicks.\n",
              "      quickchartButtonEl.classList.add('colab-df-spinner');\n",
              "      try {\n",
              "        const charts = await google.colab.kernel.invokeFunction(\n",
              "            'suggestCharts', [key], {});\n",
              "      } catch (error) {\n",
              "        console.error('Error during call to suggestCharts:', error);\n",
              "      }\n",
              "      quickchartButtonEl.classList.remove('colab-df-spinner');\n",
              "      quickchartButtonEl.classList.add('colab-df-quickchart-complete');\n",
              "    }\n",
              "    (() => {\n",
              "      let quickchartButtonEl =\n",
              "        document.querySelector('#df-d1e54e80-57d8-419d-bb52-5e247cab8eda button');\n",
              "      quickchartButtonEl.style.display =\n",
              "        google.colab.kernel.accessAllowed ? 'block' : 'none';\n",
              "    })();\n",
              "  </script>\n",
              "</div>\n",
              "\n",
              "    </div>\n",
              "  </div>\n"
            ]
          },
          "metadata": {},
          "execution_count": 118
        }
      ]
    },
    {
      "cell_type": "code",
      "source": [
        "# Find the wrong predictions and sort by prediction probabilities\n",
        "most_wrong = val_df[val_df[\"target\"] != val_df[\"pred\"]].sort_values(\"pred_prob\", ascending=False)\n",
        "most_wrong[:10]"
      ],
      "metadata": {
        "colab": {
          "base_uri": "https://localhost:8080/",
          "height": 363
        },
        "id": "pM8294fNbeu0",
        "outputId": "9168d62c-c719-4f1f-b10f-39a263c68704"
      },
      "execution_count": 119,
      "outputs": [
        {
          "output_type": "execute_result",
          "data": {
            "text/plain": [
              "                                                  text  target  pred  \\\n",
              "31   ? High Skies - Burning Buildings ? http://t.co...       0   1.0   \n",
              "759  FedEx will no longer transport bioterror patho...       0   1.0   \n",
              "628  @noah_anyname That's where the concentration c...       0   1.0   \n",
              "393  @SonofLiberty357 all illuminated by the bright...       0   1.0   \n",
              "49   @madonnamking RSPCA site multiple 7 story high...       0   1.0   \n",
              "209  Ashes 2015: AustraliaÛªs collapse at Trent Br...       0   1.0   \n",
              "251  @AshGhebranious civil rights continued in the ...       0   1.0   \n",
              "109  [55436] 1950 LIONEL TRAINS SMOKE LOCOMOTIVES W...       0   1.0   \n",
              "698  åÈMGN-AFRICAå¨ pin:263789F4 åÈ Correction: Ten...       0   1.0   \n",
              "144                                 The Sound of Arson       0   1.0   \n",
              "\n",
              "     pred_prob  \n",
              "31    0.917466  \n",
              "759   0.862347  \n",
              "628   0.853009  \n",
              "393   0.849069  \n",
              "49    0.838951  \n",
              "209   0.807600  \n",
              "251   0.806045  \n",
              "109   0.794951  \n",
              "698   0.790165  \n",
              "144   0.786484  "
            ],
            "text/html": [
              "\n",
              "  <div id=\"df-41c50114-925b-4f3c-b139-02d5d953170f\" class=\"colab-df-container\">\n",
              "    <div>\n",
              "<style scoped>\n",
              "    .dataframe tbody tr th:only-of-type {\n",
              "        vertical-align: middle;\n",
              "    }\n",
              "\n",
              "    .dataframe tbody tr th {\n",
              "        vertical-align: top;\n",
              "    }\n",
              "\n",
              "    .dataframe thead th {\n",
              "        text-align: right;\n",
              "    }\n",
              "</style>\n",
              "<table border=\"1\" class=\"dataframe\">\n",
              "  <thead>\n",
              "    <tr style=\"text-align: right;\">\n",
              "      <th></th>\n",
              "      <th>text</th>\n",
              "      <th>target</th>\n",
              "      <th>pred</th>\n",
              "      <th>pred_prob</th>\n",
              "    </tr>\n",
              "  </thead>\n",
              "  <tbody>\n",
              "    <tr>\n",
              "      <th>31</th>\n",
              "      <td>? High Skies - Burning Buildings ? http://t.co...</td>\n",
              "      <td>0</td>\n",
              "      <td>1.0</td>\n",
              "      <td>0.917466</td>\n",
              "    </tr>\n",
              "    <tr>\n",
              "      <th>759</th>\n",
              "      <td>FedEx will no longer transport bioterror patho...</td>\n",
              "      <td>0</td>\n",
              "      <td>1.0</td>\n",
              "      <td>0.862347</td>\n",
              "    </tr>\n",
              "    <tr>\n",
              "      <th>628</th>\n",
              "      <td>@noah_anyname That's where the concentration c...</td>\n",
              "      <td>0</td>\n",
              "      <td>1.0</td>\n",
              "      <td>0.853009</td>\n",
              "    </tr>\n",
              "    <tr>\n",
              "      <th>393</th>\n",
              "      <td>@SonofLiberty357 all illuminated by the bright...</td>\n",
              "      <td>0</td>\n",
              "      <td>1.0</td>\n",
              "      <td>0.849069</td>\n",
              "    </tr>\n",
              "    <tr>\n",
              "      <th>49</th>\n",
              "      <td>@madonnamking RSPCA site multiple 7 story high...</td>\n",
              "      <td>0</td>\n",
              "      <td>1.0</td>\n",
              "      <td>0.838951</td>\n",
              "    </tr>\n",
              "    <tr>\n",
              "      <th>209</th>\n",
              "      <td>Ashes 2015: AustraliaÛªs collapse at Trent Br...</td>\n",
              "      <td>0</td>\n",
              "      <td>1.0</td>\n",
              "      <td>0.807600</td>\n",
              "    </tr>\n",
              "    <tr>\n",
              "      <th>251</th>\n",
              "      <td>@AshGhebranious civil rights continued in the ...</td>\n",
              "      <td>0</td>\n",
              "      <td>1.0</td>\n",
              "      <td>0.806045</td>\n",
              "    </tr>\n",
              "    <tr>\n",
              "      <th>109</th>\n",
              "      <td>[55436] 1950 LIONEL TRAINS SMOKE LOCOMOTIVES W...</td>\n",
              "      <td>0</td>\n",
              "      <td>1.0</td>\n",
              "      <td>0.794951</td>\n",
              "    </tr>\n",
              "    <tr>\n",
              "      <th>698</th>\n",
              "      <td>åÈMGN-AFRICAå¨ pin:263789F4 åÈ Correction: Ten...</td>\n",
              "      <td>0</td>\n",
              "      <td>1.0</td>\n",
              "      <td>0.790165</td>\n",
              "    </tr>\n",
              "    <tr>\n",
              "      <th>144</th>\n",
              "      <td>The Sound of Arson</td>\n",
              "      <td>0</td>\n",
              "      <td>1.0</td>\n",
              "      <td>0.786484</td>\n",
              "    </tr>\n",
              "  </tbody>\n",
              "</table>\n",
              "</div>\n",
              "    <div class=\"colab-df-buttons\">\n",
              "\n",
              "  <div class=\"colab-df-container\">\n",
              "    <button class=\"colab-df-convert\" onclick=\"convertToInteractive('df-41c50114-925b-4f3c-b139-02d5d953170f')\"\n",
              "            title=\"Convert this dataframe to an interactive table.\"\n",
              "            style=\"display:none;\">\n",
              "\n",
              "  <svg xmlns=\"http://www.w3.org/2000/svg\" height=\"24px\" viewBox=\"0 -960 960 960\">\n",
              "    <path d=\"M120-120v-720h720v720H120Zm60-500h600v-160H180v160Zm220 220h160v-160H400v160Zm0 220h160v-160H400v160ZM180-400h160v-160H180v160Zm440 0h160v-160H620v160ZM180-180h160v-160H180v160Zm440 0h160v-160H620v160Z\"/>\n",
              "  </svg>\n",
              "    </button>\n",
              "\n",
              "  <style>\n",
              "    .colab-df-container {\n",
              "      display:flex;\n",
              "      gap: 12px;\n",
              "    }\n",
              "\n",
              "    .colab-df-convert {\n",
              "      background-color: #E8F0FE;\n",
              "      border: none;\n",
              "      border-radius: 50%;\n",
              "      cursor: pointer;\n",
              "      display: none;\n",
              "      fill: #1967D2;\n",
              "      height: 32px;\n",
              "      padding: 0 0 0 0;\n",
              "      width: 32px;\n",
              "    }\n",
              "\n",
              "    .colab-df-convert:hover {\n",
              "      background-color: #E2EBFA;\n",
              "      box-shadow: 0px 1px 2px rgba(60, 64, 67, 0.3), 0px 1px 3px 1px rgba(60, 64, 67, 0.15);\n",
              "      fill: #174EA6;\n",
              "    }\n",
              "\n",
              "    .colab-df-buttons div {\n",
              "      margin-bottom: 4px;\n",
              "    }\n",
              "\n",
              "    [theme=dark] .colab-df-convert {\n",
              "      background-color: #3B4455;\n",
              "      fill: #D2E3FC;\n",
              "    }\n",
              "\n",
              "    [theme=dark] .colab-df-convert:hover {\n",
              "      background-color: #434B5C;\n",
              "      box-shadow: 0px 1px 3px 1px rgba(0, 0, 0, 0.15);\n",
              "      filter: drop-shadow(0px 1px 2px rgba(0, 0, 0, 0.3));\n",
              "      fill: #FFFFFF;\n",
              "    }\n",
              "  </style>\n",
              "\n",
              "    <script>\n",
              "      const buttonEl =\n",
              "        document.querySelector('#df-41c50114-925b-4f3c-b139-02d5d953170f button.colab-df-convert');\n",
              "      buttonEl.style.display =\n",
              "        google.colab.kernel.accessAllowed ? 'block' : 'none';\n",
              "\n",
              "      async function convertToInteractive(key) {\n",
              "        const element = document.querySelector('#df-41c50114-925b-4f3c-b139-02d5d953170f');\n",
              "        const dataTable =\n",
              "          await google.colab.kernel.invokeFunction('convertToInteractive',\n",
              "                                                    [key], {});\n",
              "        if (!dataTable) return;\n",
              "\n",
              "        const docLinkHtml = 'Like what you see? Visit the ' +\n",
              "          '<a target=\"_blank\" href=https://colab.research.google.com/notebooks/data_table.ipynb>data table notebook</a>'\n",
              "          + ' to learn more about interactive tables.';\n",
              "        element.innerHTML = '';\n",
              "        dataTable['output_type'] = 'display_data';\n",
              "        await google.colab.output.renderOutput(dataTable, element);\n",
              "        const docLink = document.createElement('div');\n",
              "        docLink.innerHTML = docLinkHtml;\n",
              "        element.appendChild(docLink);\n",
              "      }\n",
              "    </script>\n",
              "  </div>\n",
              "\n",
              "\n",
              "<div id=\"df-8f9df847-56a0-4005-835a-5d472ad3a9b5\">\n",
              "  <button class=\"colab-df-quickchart\" onclick=\"quickchart('df-8f9df847-56a0-4005-835a-5d472ad3a9b5')\"\n",
              "            title=\"Suggest charts\"\n",
              "            style=\"display:none;\">\n",
              "\n",
              "<svg xmlns=\"http://www.w3.org/2000/svg\" height=\"24px\"viewBox=\"0 0 24 24\"\n",
              "     width=\"24px\">\n",
              "    <g>\n",
              "        <path d=\"M19 3H5c-1.1 0-2 .9-2 2v14c0 1.1.9 2 2 2h14c1.1 0 2-.9 2-2V5c0-1.1-.9-2-2-2zM9 17H7v-7h2v7zm4 0h-2V7h2v10zm4 0h-2v-4h2v4z\"/>\n",
              "    </g>\n",
              "</svg>\n",
              "  </button>\n",
              "\n",
              "<style>\n",
              "  .colab-df-quickchart {\n",
              "      --bg-color: #E8F0FE;\n",
              "      --fill-color: #1967D2;\n",
              "      --hover-bg-color: #E2EBFA;\n",
              "      --hover-fill-color: #174EA6;\n",
              "      --disabled-fill-color: #AAA;\n",
              "      --disabled-bg-color: #DDD;\n",
              "  }\n",
              "\n",
              "  [theme=dark] .colab-df-quickchart {\n",
              "      --bg-color: #3B4455;\n",
              "      --fill-color: #D2E3FC;\n",
              "      --hover-bg-color: #434B5C;\n",
              "      --hover-fill-color: #FFFFFF;\n",
              "      --disabled-bg-color: #3B4455;\n",
              "      --disabled-fill-color: #666;\n",
              "  }\n",
              "\n",
              "  .colab-df-quickchart {\n",
              "    background-color: var(--bg-color);\n",
              "    border: none;\n",
              "    border-radius: 50%;\n",
              "    cursor: pointer;\n",
              "    display: none;\n",
              "    fill: var(--fill-color);\n",
              "    height: 32px;\n",
              "    padding: 0;\n",
              "    width: 32px;\n",
              "  }\n",
              "\n",
              "  .colab-df-quickchart:hover {\n",
              "    background-color: var(--hover-bg-color);\n",
              "    box-shadow: 0 1px 2px rgba(60, 64, 67, 0.3), 0 1px 3px 1px rgba(60, 64, 67, 0.15);\n",
              "    fill: var(--button-hover-fill-color);\n",
              "  }\n",
              "\n",
              "  .colab-df-quickchart-complete:disabled,\n",
              "  .colab-df-quickchart-complete:disabled:hover {\n",
              "    background-color: var(--disabled-bg-color);\n",
              "    fill: var(--disabled-fill-color);\n",
              "    box-shadow: none;\n",
              "  }\n",
              "\n",
              "  .colab-df-spinner {\n",
              "    border: 2px solid var(--fill-color);\n",
              "    border-color: transparent;\n",
              "    border-bottom-color: var(--fill-color);\n",
              "    animation:\n",
              "      spin 1s steps(1) infinite;\n",
              "  }\n",
              "\n",
              "  @keyframes spin {\n",
              "    0% {\n",
              "      border-color: transparent;\n",
              "      border-bottom-color: var(--fill-color);\n",
              "      border-left-color: var(--fill-color);\n",
              "    }\n",
              "    20% {\n",
              "      border-color: transparent;\n",
              "      border-left-color: var(--fill-color);\n",
              "      border-top-color: var(--fill-color);\n",
              "    }\n",
              "    30% {\n",
              "      border-color: transparent;\n",
              "      border-left-color: var(--fill-color);\n",
              "      border-top-color: var(--fill-color);\n",
              "      border-right-color: var(--fill-color);\n",
              "    }\n",
              "    40% {\n",
              "      border-color: transparent;\n",
              "      border-right-color: var(--fill-color);\n",
              "      border-top-color: var(--fill-color);\n",
              "    }\n",
              "    60% {\n",
              "      border-color: transparent;\n",
              "      border-right-color: var(--fill-color);\n",
              "    }\n",
              "    80% {\n",
              "      border-color: transparent;\n",
              "      border-right-color: var(--fill-color);\n",
              "      border-bottom-color: var(--fill-color);\n",
              "    }\n",
              "    90% {\n",
              "      border-color: transparent;\n",
              "      border-bottom-color: var(--fill-color);\n",
              "    }\n",
              "  }\n",
              "</style>\n",
              "\n",
              "  <script>\n",
              "    async function quickchart(key) {\n",
              "      const quickchartButtonEl =\n",
              "        document.querySelector('#' + key + ' button');\n",
              "      quickchartButtonEl.disabled = true;  // To prevent multiple clicks.\n",
              "      quickchartButtonEl.classList.add('colab-df-spinner');\n",
              "      try {\n",
              "        const charts = await google.colab.kernel.invokeFunction(\n",
              "            'suggestCharts', [key], {});\n",
              "      } catch (error) {\n",
              "        console.error('Error during call to suggestCharts:', error);\n",
              "      }\n",
              "      quickchartButtonEl.classList.remove('colab-df-spinner');\n",
              "      quickchartButtonEl.classList.add('colab-df-quickchart-complete');\n",
              "    }\n",
              "    (() => {\n",
              "      let quickchartButtonEl =\n",
              "        document.querySelector('#df-8f9df847-56a0-4005-835a-5d472ad3a9b5 button');\n",
              "      quickchartButtonEl.style.display =\n",
              "        google.colab.kernel.accessAllowed ? 'block' : 'none';\n",
              "    })();\n",
              "  </script>\n",
              "</div>\n",
              "\n",
              "    </div>\n",
              "  </div>\n"
            ]
          },
          "metadata": {},
          "execution_count": 119
        }
      ]
    },
    {
      "cell_type": "markdown",
      "source": [
        "We can view the bottom end of our most_wrong DataFrame to inspect false negatives (model predicts 0, not a real diaster Tweet, when it should've predicted 1, real diaster Tweet)."
      ],
      "metadata": {
        "id": "Cq6E9Fvjbzfp"
      }
    },
    {
      "cell_type": "code",
      "source": [
        "# Check the most wrong false negatives (model predicted 0 when should've predict 1)\n",
        "for row in most_wrong[-10:].itertuples():\n",
        "  _, text, target, pred, prob = row\n",
        "  print(f\"Target: {target}, Pred: {int(pred)}, Prob: {prob}\")\n",
        "  print(f\"Text:\\n{text}\\n\")\n",
        "  print(\"----\\n\")"
      ],
      "metadata": {
        "colab": {
          "base_uri": "https://localhost:8080/"
        },
        "id": "-r1jc10Ub2Cx",
        "outputId": "8543d2d6-2dde-421c-c891-35f792be576b"
      },
      "execution_count": 120,
      "outputs": [
        {
          "output_type": "stream",
          "name": "stdout",
          "text": [
            "Target: 1, Pred: 0, Prob: 0.05972648039460182\n",
            "Text:\n",
            "going to redo my nails and watch behind the scenes of desolation of smaug ayyy\n",
            "\n",
            "----\n",
            "\n",
            "Target: 1, Pred: 0, Prob: 0.059616003185510635\n",
            "Text:\n",
            "Next May I'll be free...from school from obligations like family.... Best of all that damn curfew...\n",
            "\n",
            "----\n",
            "\n",
            "Target: 1, Pred: 0, Prob: 0.057300254702568054\n",
            "Text:\n",
            "Lucas Duda is Ghost Rider. Not the Nic Cage version but an actual 'engulfed in flames' badass. #Mets\n",
            "\n",
            "----\n",
            "\n",
            "Target: 1, Pred: 0, Prob: 0.055440753698349\n",
            "Text:\n",
            "You can never escape me. Bullets don't harm me. Nothing harms me. But I know pain. I know pain. Sometimes I share it. With someone like you.\n",
            "\n",
            "----\n",
            "\n",
            "Target: 1, Pred: 0, Prob: 0.0551513247191906\n",
            "Text:\n",
            "@willienelson We need help! Horses will die!Please RT &amp; sign petition!Take a stand &amp; be a voice for them! #gilbert23 https://t.co/e8dl1lNCVu\n",
            "\n",
            "----\n",
            "\n",
            "Target: 1, Pred: 0, Prob: 0.043891169130802155\n",
            "Text:\n",
            "I get to smoke my shit in peace\n",
            "\n",
            "----\n",
            "\n",
            "Target: 1, Pred: 0, Prob: 0.0421302430331707\n",
            "Text:\n",
            "Why are you deluged with low self-image? Take the quiz: http://t.co/XsPqdOrIqj http://t.co/CQYvFR4UCy\n",
            "\n",
            "----\n",
            "\n",
            "Target: 1, Pred: 0, Prob: 0.03836403042078018\n",
            "Text:\n",
            "Reddit Will Now QuarantineÛ_ http://t.co/pkUAMXw6pm #onlinecommunities #reddit #amageddon #freespeech #Business http://t.co/PAWvNJ4sAP\n",
            "\n",
            "----\n",
            "\n",
            "Target: 1, Pred: 0, Prob: 0.03709029778838158\n",
            "Text:\n",
            "Ron &amp; Fez - Dave's High School Crush https://t.co/aN3W16c8F6 via @YouTube\n",
            "\n",
            "----\n",
            "\n",
            "Target: 1, Pred: 0, Prob: 0.03506489470601082\n",
            "Text:\n",
            "@SoonerMagic_ I mean I'm a fan but I don't need a girl sounding off like a damn siren\n",
            "\n",
            "----\n",
            "\n"
          ]
        }
      ]
    },
    {
      "cell_type": "markdown",
      "source": [
        "so from the above examples we can see that the labels it self is wrong and prediction is correct so we have to go and change the lable its elf . NOTE: look at the text\n"
      ],
      "metadata": {
        "id": "0Adme5WKdroA"
      }
    },
    {
      "cell_type": "markdown",
      "source": [
        "so there are laels which are incorrect in our dataset\n"
      ],
      "metadata": {
        "id": "mpgoDIq1fYom"
      }
    },
    {
      "cell_type": "code",
      "source": [
        "# Making predictions on the test dataset\n",
        "test_sentences = test_df[\"text\"].to_list()\n",
        "test_samples = random.sample(test_sentences, 10)\n",
        "for test_sample in test_samples:\n",
        "  pred_prob = tf.squeeze(model_6.predict([test_sample])) # has to be list\n",
        "  pred = tf.round(pred_prob)\n",
        "  print(f\"Pred: {int(pred)}, Prob: {pred_prob}\")\n",
        "  print(f\"Text:\\n{test_sample}\\n\")\n",
        "  print(\"----\\n\")"
      ],
      "metadata": {
        "colab": {
          "base_uri": "https://localhost:8080/"
        },
        "id": "ibYRnjmufDLw",
        "outputId": "ea9a46a9-a36f-4a15-955a-2a9fdbecbd05"
      },
      "execution_count": 121,
      "outputs": [
        {
          "output_type": "stream",
          "name": "stdout",
          "text": [
            "1/1 [==============================] - 0s 77ms/step\n",
            "Pred: 1, Prob: 0.989087700843811\n",
            "Text:\n",
            "Hundreds of commuters abandoned at LRT station during severe hailstorm http://t.co/25wIeHMLZ5\n",
            "\n",
            "----\n",
            "\n",
            "1/1 [==============================] - 0s 42ms/step\n",
            "Pred: 0, Prob: 0.4070577323436737\n",
            "Text:\n",
            "Lightning express golf trolleys fix ramify pretty much multitudinal areas on thine disposed: kWXGgt\n",
            "\n",
            "----\n",
            "\n",
            "1/1 [==============================] - 0s 35ms/step\n",
            "Pred: 0, Prob: 0.1654411405324936\n",
            "Text:\n",
            "This Davies is why you don't play FM tired. Obliterated my budget http://t.co/CZ65rUoGXB\n",
            "\n",
            "----\n",
            "\n",
            "1/1 [==============================] - 0s 35ms/step\n",
            "Pred: 1, Prob: 0.9498216509819031\n",
            "Text:\n",
            "South Side factory where worker electrocuted pays $17000 penalty http://t.co/PENJHc4ZCx #Columbus #Ohio #news\n",
            "\n",
            "----\n",
            "\n",
            "1/1 [==============================] - 0s 35ms/step\n",
            "Pred: 1, Prob: 0.8818653225898743\n",
            "Text:\n",
            "New warning for Central Hills 1' hail 60 mph winds. NOT affecting Sturgis but could later tonight. #KOTAWeather http://t.co/E8oUxVKuTE\n",
            "\n",
            "----\n",
            "\n",
            "1/1 [==============================] - 0s 34ms/step\n",
            "Pred: 0, Prob: 0.06202168017625809\n",
            "Text:\n",
            "stay with me - sam.smith\n",
            "\n",
            "----\n",
            "\n",
            "1/1 [==============================] - 0s 35ms/step\n",
            "Pred: 0, Prob: 0.06609359383583069\n",
            "Text:\n",
            "@DancingOnHwy there is nothing I love more than seeing Bears fans get their hopes and dreams crushed.\n",
            "\n",
            "----\n",
            "\n",
            "1/1 [==============================] - 0s 37ms/step\n",
            "Pred: 0, Prob: 0.4130304455757141\n",
            "Text:\n",
            "Society will collapse by 2040 due to catastrophic food shortages says study http://t.co/2wWZBW5lId\n",
            "\n",
            "----\n",
            "\n",
            "1/1 [==============================] - 0s 33ms/step\n",
            "Pred: 0, Prob: 0.2002892792224884\n",
            "Text:\n",
            "This is the Red Eye crossing the ocean\n",
            "Peeling potatoes with servile devotion...\n",
            "\n",
            "#BLIGHT!\n",
            "\n",
            "----\n",
            "\n",
            "1/1 [==============================] - 0s 33ms/step\n",
            "Pred: 0, Prob: 0.11956818401813507\n",
            "Text:\n",
            "Detonation fashionable mountaineering electronic watch water-resistant couples leisure tabÛ_ http://t.co/GH48B54riS http://t.co/2PqTm06Lid\n",
            "\n",
            "----\n",
            "\n"
          ]
        }
      ]
    },
    {
      "cell_type": "markdown",
      "source": [
        "Predicting form different tweet\n"
      ],
      "metadata": {
        "id": "50DYMnvrjsHs"
      }
    },
    {
      "cell_type": "code",
      "source": [
        "def predict_on_sentence(model, sentence):\n",
        "  \"\"\"\n",
        "  Uses model to make a prediction on sentence.\n",
        "\n",
        "  Returns the sentence, the predicted label and the prediction probability.\n",
        "  \"\"\"\n",
        "  pred_prob = model.predict([sentence])\n",
        "  pred_label = tf.squeeze(tf.round(pred_prob)).numpy()\n",
        "  print(f\"Pred: {pred_label}\", \"(real disaster)\" if pred_label > 0 else \"(not real disaster)\", f\"Prob: {pred_prob[0][0]}\")\n",
        "  print(f\"Text:\\n{sentence}\")"
      ],
      "metadata": {
        "id": "v5LswbK7jv1E"
      },
      "execution_count": 122,
      "outputs": []
    },
    {
      "cell_type": "code",
      "source": [
        "famous_tweets =\"Despite the constant negative press covfefe,\""
      ],
      "metadata": {
        "id": "rYgeX9YNj-9m"
      },
      "execution_count": 123,
      "outputs": []
    },
    {
      "cell_type": "code",
      "source": [
        "# Make a prediction on Tweet from the wild\n",
        "predict_on_sentence(model=model_6, # use the USE model\n",
        "                    sentence=famous_tweets)"
      ],
      "metadata": {
        "colab": {
          "base_uri": "https://localhost:8080/"
        },
        "id": "qQD677q0kFiP",
        "outputId": "2c85590c-af96-4dff-c340-d329e1459d8c"
      },
      "execution_count": 125,
      "outputs": [
        {
          "output_type": "stream",
          "name": "stdout",
          "text": [
            "1/1 [==============================] - 0s 35ms/step\n",
            "Pred: 0.0 (not real disaster) Prob: 0.09945804625749588\n",
            "Text:\n",
            "Despite the constant negative press covfefe,\n"
          ]
        }
      ]
    },
    {
      "cell_type": "markdown",
      "source": [
        "THE speed / score trade off\n",
        "Put it this way, imagine you're Twitter and receive 1 million Tweets per hour (this is a made up number, the actual number is much higher). And you're trying to build a diaster detection system to read Tweets and alert authorities with details about a diaster in close to real-time.\n",
        "\n",
        "Compute power isn't free so you're limited to a single compute machine for the project. On that machine, one of your models makes 10,000 predictions per second at 80% accuracy where as another one of your models (a larger model) makes 100 predictions per second at 85% accuracy."
      ],
      "metadata": {
        "id": "gCMn03GvkOJ_"
      }
    },
    {
      "cell_type": "code",
      "source": [
        "# Calculate the time of predictions\n",
        "import time\n",
        "def pred_timer(model, samples):\n",
        "  \"\"\"\n",
        "  Times how long a model takes to make predictions on samples.\n",
        "\n",
        "  Args:\n",
        "  ----\n",
        "  model = a trained model\n",
        "  sample = a list of samples\n",
        "\n",
        "  Returns:\n",
        "  ----\n",
        "  total_time = total elapsed time for model to make predictions on samples\n",
        "  time_per_pred = time in seconds per single sample\n",
        "  \"\"\"\n",
        "  start_time = time.perf_counter() # get start time\n",
        "  model.predict(samples) # make predictions\n",
        "  end_time = time.perf_counter() # get finish time\n",
        "  total_time = end_time-start_time # calculate how long predictions took to make\n",
        "  time_per_pred = total_time/len(val_sentences) # find prediction time per sample\n",
        "  return total_time, time_per_pred"
      ],
      "metadata": {
        "id": "5u_o7p8ElI4L"
      },
      "execution_count": 126,
      "outputs": []
    },
    {
      "cell_type": "code",
      "source": [
        "# Calculate TF Hub Sentence Encoder prediction times\n",
        "model_6_total_pred_time, model_6_time_per_pred = pred_timer(model_6, val_sentences)\n",
        "model_6_total_pred_time, model_6_time_per_pred"
      ],
      "metadata": {
        "colab": {
          "base_uri": "https://localhost:8080/"
        },
        "id": "0e9jecuVkNtl",
        "outputId": "c71e1a7c-175d-465a-c8dc-7a10a8f4b5a4"
      },
      "execution_count": 127,
      "outputs": [
        {
          "output_type": "stream",
          "name": "stdout",
          "text": [
            "24/24 [==============================] - 0s 10ms/step\n"
          ]
        },
        {
          "output_type": "execute_result",
          "data": {
            "text/plain": [
              "(0.30722178899941355, 0.00040317820078663197)"
            ]
          },
          "metadata": {},
          "execution_count": 127
        }
      ]
    },
    {
      "cell_type": "markdown",
      "source": [
        "#Bert Model\n",
        "\n"
      ],
      "metadata": {
        "id": "yQ1aYvVVRiGq"
      }
    },
    {
      "cell_type": "code",
      "source": [
        "!pip install transformers"
      ],
      "metadata": {
        "colab": {
          "base_uri": "https://localhost:8080/"
        },
        "id": "jDByjOgNt0us",
        "outputId": "32a90fbf-bf4d-47a6-d3f2-245034230729"
      },
      "execution_count": 105,
      "outputs": [
        {
          "output_type": "stream",
          "name": "stdout",
          "text": [
            "Requirement already satisfied: transformers in /usr/local/lib/python3.10/dist-packages (4.35.2)\n",
            "Requirement already satisfied: filelock in /usr/local/lib/python3.10/dist-packages (from transformers) (3.13.1)\n",
            "Requirement already satisfied: huggingface-hub<1.0,>=0.16.4 in /usr/local/lib/python3.10/dist-packages (from transformers) (0.19.4)\n",
            "Requirement already satisfied: numpy>=1.17 in /usr/local/lib/python3.10/dist-packages (from transformers) (1.23.5)\n",
            "Requirement already satisfied: packaging>=20.0 in /usr/local/lib/python3.10/dist-packages (from transformers) (23.2)\n",
            "Requirement already satisfied: pyyaml>=5.1 in /usr/local/lib/python3.10/dist-packages (from transformers) (6.0.1)\n",
            "Requirement already satisfied: regex!=2019.12.17 in /usr/local/lib/python3.10/dist-packages (from transformers) (2023.6.3)\n",
            "Requirement already satisfied: requests in /usr/local/lib/python3.10/dist-packages (from transformers) (2.31.0)\n",
            "Requirement already satisfied: tokenizers<0.19,>=0.14 in /usr/local/lib/python3.10/dist-packages (from transformers) (0.15.0)\n",
            "Requirement already satisfied: safetensors>=0.3.1 in /usr/local/lib/python3.10/dist-packages (from transformers) (0.4.1)\n",
            "Requirement already satisfied: tqdm>=4.27 in /usr/local/lib/python3.10/dist-packages (from transformers) (4.66.1)\n",
            "Requirement already satisfied: fsspec>=2023.5.0 in /usr/local/lib/python3.10/dist-packages (from huggingface-hub<1.0,>=0.16.4->transformers) (2023.6.0)\n",
            "Requirement already satisfied: typing-extensions>=3.7.4.3 in /usr/local/lib/python3.10/dist-packages (from huggingface-hub<1.0,>=0.16.4->transformers) (4.5.0)\n",
            "Requirement already satisfied: charset-normalizer<4,>=2 in /usr/local/lib/python3.10/dist-packages (from requests->transformers) (3.3.2)\n",
            "Requirement already satisfied: idna<4,>=2.5 in /usr/local/lib/python3.10/dist-packages (from requests->transformers) (3.6)\n",
            "Requirement already satisfied: urllib3<3,>=1.21.1 in /usr/local/lib/python3.10/dist-packages (from requests->transformers) (2.0.7)\n",
            "Requirement already satisfied: certifi>=2017.4.17 in /usr/local/lib/python3.10/dist-packages (from requests->transformers) (2023.11.17)\n"
          ]
        }
      ]
    },
    {
      "cell_type": "code",
      "source": [
        "from transformers import BertTokenizer, TFBertModel\n",
        "from tensorflow.keras import layers"
      ],
      "metadata": {
        "id": "7ckzXYEk3Hz3"
      },
      "execution_count": 106,
      "outputs": []
    },
    {
      "cell_type": "code",
      "source": [
        "train_labels"
      ],
      "metadata": {
        "colab": {
          "base_uri": "https://localhost:8080/"
        },
        "id": "AZBY0QPl3TPS",
        "outputId": "32e52a91-f37b-44aa-c856-54b5de70f3eb"
      },
      "execution_count": 107,
      "outputs": [
        {
          "output_type": "execute_result",
          "data": {
            "text/plain": [
              "array([0, 0, 1, ..., 1, 1, 0])"
            ]
          },
          "metadata": {},
          "execution_count": 107
        }
      ]
    },
    {
      "cell_type": "code",
      "source": [
        "train_sentences=list(train_sentences)"
      ],
      "metadata": {
        "id": "Rb5ZogET3vG-"
      },
      "execution_count": 108,
      "outputs": []
    },
    {
      "cell_type": "code",
      "source": [
        "tokenizer = BertTokenizer.from_pretrained(\"bert-base-uncased\")\n",
        "tokenized_train = tokenizer(train_sentences, truncation=True, padding=True, return_tensors=\"tf\")\n",
        "train_input_ids = tokenized_train[\"input_ids\"]\n",
        "train_attention_mask = tokenized_train[\"attention_mask\"]"
      ],
      "metadata": {
        "colab": {
          "base_uri": "https://localhost:8080/",
          "height": 145,
          "referenced_widgets": [
            "2e1444bef99841838edf5aa9c32ecec2",
            "175d4096f5984d72ad3dd9b80a772882",
            "02531582c4ab40e1a06294f7e2f69a7a",
            "0a8ba0cf78e549e6a84abe89fa032fa4",
            "73f80334dd004f7daf017e691f5a7898",
            "0fb0713114f34380926179d8b2d0f0a4",
            "f32c078169f844238f203715a92cb2b4",
            "bc4b9b0f7f6e484688e7300030d6bef4",
            "9e88da3ba27443c5bc35e0299a642c51",
            "2e62f4e89aab4c74992946ad4da63a56",
            "cb19de06115647f489745b3bf14886e2",
            "2526e0e933e94a07b7a6f74d30c885b0",
            "bf6947f81c674f52a41b743365973210",
            "67be9d46f5f64ba7a8c2b0ce9ba353f4",
            "f601195760b245409f54512ee484f675",
            "7a54fba7b2ad40cf8dd53d8f0088792b",
            "57479f5a27774c78a6aceb288a2e1b28",
            "66d10a3faf184a9b813deebe3388c1f2",
            "b012a5dfea134a7ea8ffe994fce5831b",
            "aa28ab4c221f4dc4bdae5742bba0e376",
            "956aff487e5d47dfbf70c046066daee2",
            "728781fffd8d49e587c38676ee84476a",
            "bc63b948ba9b4881baa621593d57ff6c",
            "81543e7bd79b4a0fbc174d2e21c447dc",
            "9ecc834404a349a4b0a57180c47d4371",
            "5a389a23e6cf471eaf71e8c73fda604a",
            "bf10a788de644ab4b34b13249166bcf4",
            "f32eeb236ccb452aa63f78e700d09eef",
            "7601d4c84bf745f1b24e6afe4a5c9bb4",
            "f53f618473894c068b0a2b52205ec154",
            "129601499a354d1dacd47faa276ec0e2",
            "7ce0639c57ec49c4805dfd4882906f62",
            "9ff97e948e944a05959514b1828859a4",
            "29a36628272544c6993c53bec64a07f0",
            "339e0ad007d04f0491997d1919ab9cb3",
            "995c8b5ff41a4438a148fc3964927880",
            "30021a806dd44fd68a22d48025a85187",
            "440297e1392244a99f1c132c73e0d67a",
            "af05dfccb66149b0a0cc21eddb0f0c64",
            "b69aa3be06bb4409a271bf3714a6197d",
            "574d3bfc3b184c199a37a2735bfe2d2c",
            "ea16d931802243aa8a592ad1e20944a1",
            "e5e63fc4ff8540d0a312c18c2752e279",
            "45ef5a7b476945a7981dc8c08b80916e"
          ]
        },
        "id": "rTJKgKHt3Ubs",
        "outputId": "dd13386c-1992-4e2e-87f0-09aa348636c8"
      },
      "execution_count": 109,
      "outputs": [
        {
          "output_type": "display_data",
          "data": {
            "text/plain": [
              "tokenizer_config.json:   0%|          | 0.00/28.0 [00:00<?, ?B/s]"
            ],
            "application/vnd.jupyter.widget-view+json": {
              "version_major": 2,
              "version_minor": 0,
              "model_id": "2e1444bef99841838edf5aa9c32ecec2"
            }
          },
          "metadata": {}
        },
        {
          "output_type": "display_data",
          "data": {
            "text/plain": [
              "vocab.txt:   0%|          | 0.00/232k [00:00<?, ?B/s]"
            ],
            "application/vnd.jupyter.widget-view+json": {
              "version_major": 2,
              "version_minor": 0,
              "model_id": "2526e0e933e94a07b7a6f74d30c885b0"
            }
          },
          "metadata": {}
        },
        {
          "output_type": "display_data",
          "data": {
            "text/plain": [
              "tokenizer.json:   0%|          | 0.00/466k [00:00<?, ?B/s]"
            ],
            "application/vnd.jupyter.widget-view+json": {
              "version_major": 2,
              "version_minor": 0,
              "model_id": "bc63b948ba9b4881baa621593d57ff6c"
            }
          },
          "metadata": {}
        },
        {
          "output_type": "display_data",
          "data": {
            "text/plain": [
              "config.json:   0%|          | 0.00/570 [00:00<?, ?B/s]"
            ],
            "application/vnd.jupyter.widget-view+json": {
              "version_major": 2,
              "version_minor": 0,
              "model_id": "29a36628272544c6993c53bec64a07f0"
            }
          },
          "metadata": {}
        }
      ]
    },
    {
      "cell_type": "code",
      "source": [
        "bert_model = TFBertModel.from_pretrained(\"bert-base-uncased\")\n",
        "\n",
        "class BertLayer(tf.keras.layers.Layer):\n",
        "    def __init__(self, bert_model, trainable=False, **kwargs):\n",
        "        super(BertLayer, self).__init__(**kwargs)\n",
        "        self.bert_model = bert_model\n",
        "        self.embedding = layers.Bidirectional(layers.LSTM(64, return_sequences=True, recurrent_initializer='glorot_uniform'))\n",
        "\n",
        "    def call(self, inputs):\n",
        "        input_ids, attention_mask = inputs\n",
        "        outputs = self.bert_model(input_ids, attention_mask=attention_mask)\n",
        "        return self.embedding(outputs['last_hidden_state'])\n",
        "\n",
        "# Input layers\n",
        "input_ids = tf.keras.layers.Input(shape=(None,), dtype=tf.int32, name=\"input_ids\")\n",
        "attention_mask = tf.keras.layers.Input(shape=(None,), dtype=tf.int32, name=\"attention_mask\")\n",
        "\n",
        "# BERT layer\n",
        "bert_layer = BertLayer(bert_model, trainable=False)([input_ids, attention_mask])\n",
        "\n",
        "# Intermediate layers\n",
        "dense_layer = layers.Dense(64, activation=\"relu\")(bert_layer)\n",
        "output_layer = layers.Dense(1, activation=\"sigmoid\")(dense_layer)\n",
        "\n",
        "# Model definition using the functional API\n",
        "model = tf.keras.Model(inputs=[input_ids, attention_mask], outputs=output_layer, name=\"disaster_tweet_classifier\")\n",
        "\n",
        "model.compile(loss=\"binary_crossentropy\",\n",
        "              optimizer=tf.keras.optimizers.Adam(),\n",
        "              metrics=[\"accuracy\"])\n"
      ],
      "metadata": {
        "colab": {
          "base_uri": "https://localhost:8080/",
          "height": 156,
          "referenced_widgets": [
            "916fea33b868478ea1c4bf247eb85b10",
            "b2b3c2eacf8642c4b1e894a36e627743",
            "ebbc70df82d445b5b1bdb3f00e35da42",
            "8b7d060f69c749bca7b09a3835c4f036",
            "53bfc53077c54c84992da522744f2f4e",
            "00235b992f0d46e1b27561dd28c1fda2",
            "6f0640abd6414e30b8157118d69ea3d8",
            "fd28b3f03c594374872a427e53dd6661",
            "98442e41c2a84b84b32536761daf051f",
            "d57cdf49eb734997bea7d9a0c8bcd82b",
            "641369386a5242e282986caaedfa607e"
          ]
        },
        "id": "O72OeZ7a3ybl",
        "outputId": "3640ccb2-b1b9-4b71-9803-50ae363ec71f"
      },
      "execution_count": 110,
      "outputs": [
        {
          "output_type": "display_data",
          "data": {
            "text/plain": [
              "model.safetensors:   0%|          | 0.00/440M [00:00<?, ?B/s]"
            ],
            "application/vnd.jupyter.widget-view+json": {
              "version_major": 2,
              "version_minor": 0,
              "model_id": "916fea33b868478ea1c4bf247eb85b10"
            }
          },
          "metadata": {}
        },
        {
          "output_type": "stream",
          "name": "stderr",
          "text": [
            "Some weights of the PyTorch model were not used when initializing the TF 2.0 model TFBertModel: ['cls.predictions.transform.dense.bias', 'cls.predictions.transform.dense.weight', 'cls.seq_relationship.bias', 'cls.seq_relationship.weight', 'cls.predictions.bias', 'cls.predictions.transform.LayerNorm.weight', 'cls.predictions.transform.LayerNorm.bias']\n",
            "- This IS expected if you are initializing TFBertModel from a PyTorch model trained on another task or with another architecture (e.g. initializing a TFBertForSequenceClassification model from a BertForPreTraining model).\n",
            "- This IS NOT expected if you are initializing TFBertModel from a PyTorch model that you expect to be exactly identical (e.g. initializing a TFBertForSequenceClassification model from a BertForSequenceClassification model).\n",
            "All the weights of TFBertModel were initialized from the PyTorch model.\n",
            "If your task is similar to the task the model of the checkpoint was trained on, you can already use TFBertModel for predictions without further training.\n"
          ]
        }
      ]
    },
    {
      "cell_type": "code",
      "source": [
        "# Ensure that labels are properly shaped\n",
        "train_labels = train_labels.reshape(-1, 1)"
      ],
      "metadata": {
        "id": "lDrXEyYn60KL"
      },
      "execution_count": 111,
      "outputs": []
    },
    {
      "cell_type": "code",
      "source": [
        "model.fit([train_input_ids, train_attention_mask], train_labels, epochs=5, validation_split=0.2)\n"
      ],
      "metadata": {
        "colab": {
          "base_uri": "https://localhost:8080/"
        },
        "id": "Mb8c65e46WOj",
        "outputId": "4497a6ea-a9ee-4d40-90b4-47813860cc7f"
      },
      "execution_count": 112,
      "outputs": [
        {
          "output_type": "stream",
          "name": "stdout",
          "text": [
            "Epoch 1/5\n"
          ]
        },
        {
          "output_type": "stream",
          "name": "stderr",
          "text": [
            "WARNING:tensorflow:Gradients do not exist for variables ['tf_bert_model/bert/pooler/dense/kernel:0', 'tf_bert_model/bert/pooler/dense/bias:0'] when minimizing the loss. If you're using `model.compile()`, did you forget to provide a `loss` argument?\n",
            "WARNING:tensorflow:Gradients do not exist for variables ['tf_bert_model/bert/pooler/dense/kernel:0', 'tf_bert_model/bert/pooler/dense/bias:0'] when minimizing the loss. If you're using `model.compile()`, did you forget to provide a `loss` argument?\n",
            "WARNING:tensorflow:Gradients do not exist for variables ['tf_bert_model/bert/pooler/dense/kernel:0', 'tf_bert_model/bert/pooler/dense/bias:0'] when minimizing the loss. If you're using `model.compile()`, did you forget to provide a `loss` argument?\n",
            "WARNING:tensorflow:Gradients do not exist for variables ['tf_bert_model/bert/pooler/dense/kernel:0', 'tf_bert_model/bert/pooler/dense/bias:0'] when minimizing the loss. If you're using `model.compile()`, did you forget to provide a `loss` argument?\n"
          ]
        },
        {
          "output_type": "stream",
          "name": "stdout",
          "text": [
            "172/172 [==============================] - 171s 663ms/step - loss: 0.6934 - accuracy: 0.5630 - val_loss: 0.6766 - val_accuracy: 0.5908\n",
            "Epoch 2/5\n",
            "172/172 [==============================] - 108s 628ms/step - loss: 0.6853 - accuracy: 0.5690 - val_loss: 0.6786 - val_accuracy: 0.5908\n",
            "Epoch 3/5\n",
            "172/172 [==============================] - 108s 627ms/step - loss: 0.6846 - accuracy: 0.5690 - val_loss: 0.6832 - val_accuracy: 0.5908\n",
            "Epoch 4/5\n",
            "172/172 [==============================] - 109s 631ms/step - loss: 0.6843 - accuracy: 0.5690 - val_loss: 0.6831 - val_accuracy: 0.5908\n",
            "Epoch 5/5\n",
            "172/172 [==============================] - 108s 628ms/step - loss: 0.6846 - accuracy: 0.5690 - val_loss: 0.6776 - val_accuracy: 0.5908\n"
          ]
        },
        {
          "output_type": "execute_result",
          "data": {
            "text/plain": [
              "<keras.src.callbacks.History at 0x7b46c5f8b2e0>"
            ]
          },
          "metadata": {},
          "execution_count": 112
        }
      ]
    },
    {
      "cell_type": "code",
      "source": [
        "from transformers import BertTokenizer, TFBertForSequenceClassification\n",
        "from sklearn.metrics import classification_report\n",
        "# Load pre-trained BERT tokenizer and model\n",
        "tokenizer = BertTokenizer.from_pretrained('bert-base-uncased')\n",
        "model = TFBertForSequenceClassification.from_pretrained('bert-base-uncased')\n",
        "\n",
        "# Tokenize and encode the training data\n",
        "train_encodings = tokenizer(list(train_sentences),\n",
        "                             truncation=True,\n",
        "                             padding=True,\n",
        "                             max_length=128,\n",
        "                             return_tensors='tf')\n",
        "\n",
        "# Tokenize and encode the validation data\n",
        "val_encodings = tokenizer(list(val_sentences),\n",
        "                           truncation=True,\n",
        "                           padding=True,\n",
        "                           max_length=128,\n",
        "                           return_tensors='tf')\n",
        "\n",
        "# Convert labels to TensorFlow tensors\n",
        "train_labels = tf.convert_to_tensor(train_labels)\n",
        "val_labels = tf.convert_to_tensor(val_labels)\n",
        "\n",
        "# Create TensorFlow Dataset\n",
        "train_dataset = tf.data.Dataset.from_tensor_slices((\n",
        "    dict(train_encodings),\n",
        "    train_labels\n",
        "))\n",
        "\n",
        "val_dataset = tf.data.Dataset.from_tensor_slices((\n",
        "    dict(val_encodings),\n",
        "    val_labels\n",
        "))\n",
        "\n",
        "# Fine-tune BERT model on the disaster tweets dataset\n",
        "optimizer = tf.keras.optimizers.Adam(learning_rate=2e-5)\n",
        "loss = tf.keras.losses.SparseCategoricalCrossentropy(from_logits=True)\n",
        "metric = tf.keras.metrics.SparseCategoricalAccuracy('accuracy')\n",
        "\n",
        "model.compile(optimizer=optimizer, loss=loss, metrics=[metric])\n",
        "\n",
        "# Train the model\n",
        "history = model.fit(\n",
        "    train_dataset.shuffle(1000).batch(16),\n",
        "    epochs=3,\n",
        "    batch_size=16,\n",
        "    validation_data=val_dataset.batch(16)\n",
        ")\n",
        "\n",
        "# Evaluate the model\n",
        "val_predictions = model.predict(val_dataset.batch(16))\n",
        "val_predictions = tf.argmax(tf.nn.softmax(val_predictions.logits), axis=1)\n",
        "\n",
        "print(classification_report(val_labels, val_predictions))\n"
      ],
      "metadata": {
        "colab": {
          "base_uri": "https://localhost:8080/"
        },
        "id": "-BVP5M7Q6YDl",
        "outputId": "b48855d9-8983-4bfc-bde5-1155de1ab057"
      },
      "execution_count": 113,
      "outputs": [
        {
          "output_type": "stream",
          "name": "stderr",
          "text": [
            "All PyTorch model weights were used when initializing TFBertForSequenceClassification.\n",
            "\n",
            "Some weights or buffers of the TF 2.0 model TFBertForSequenceClassification were not initialized from the PyTorch model and are newly initialized: ['classifier.weight', 'classifier.bias']\n",
            "You should probably TRAIN this model on a down-stream task to be able to use it for predictions and inference.\n"
          ]
        },
        {
          "output_type": "stream",
          "name": "stdout",
          "text": [
            "Epoch 1/3\n",
            "429/429 [==============================] - 178s 314ms/step - loss: 0.4481 - accuracy: 0.8053 - val_loss: 0.3908 - val_accuracy: 0.8268\n",
            "Epoch 2/3\n",
            "429/429 [==============================] - 131s 305ms/step - loss: 0.3322 - accuracy: 0.8711 - val_loss: 0.4472 - val_accuracy: 0.8228\n",
            "Epoch 3/3\n",
            "429/429 [==============================] - 130s 303ms/step - loss: 0.2417 - accuracy: 0.9156 - val_loss: 0.5022 - val_accuracy: 0.8241\n",
            "48/48 [==============================] - 8s 106ms/step\n",
            "              precision    recall  f1-score   support\n",
            "\n",
            "           0       0.84      0.83      0.84       414\n",
            "           1       0.80      0.81      0.81       348\n",
            "\n",
            "    accuracy                           0.82       762\n",
            "   macro avg       0.82      0.82      0.82       762\n",
            "weighted avg       0.82      0.82      0.82       762\n",
            "\n"
          ]
        }
      ]
    },
    {
      "cell_type": "code",
      "source": [],
      "metadata": {
        "id": "fhOMUvOn81Ad"
      },
      "execution_count": 113,
      "outputs": []
    }
  ]
}