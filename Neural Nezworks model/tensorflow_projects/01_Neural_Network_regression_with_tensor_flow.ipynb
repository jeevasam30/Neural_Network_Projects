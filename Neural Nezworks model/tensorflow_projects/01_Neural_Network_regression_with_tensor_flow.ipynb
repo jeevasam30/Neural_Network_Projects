{
  "nbformat": 4,
  "nbformat_minor": 0,
  "metadata": {
    "colab": {
      "provenance": [],
      "toc_visible": true
    },
    "kernelspec": {
      "name": "python3",
      "display_name": "Python 3"
    },
    "language_info": {
      "name": "python"
    }
  },
  "cells": [
    {
      "cell_type": "markdown",
      "source": [
        "Regression inputs and outputs - inouts features are the independent variable and output is the label or dependent variable. In terms of define what is the inout and output is what much the process would be in deep learning will be. As in deep learning we will putting the inout would be tensors having a different shape according to the different features we select ,but usually shapethe output varaible would be 1 .\n",
        "\n",
        "Anatomy and Archeitecture of NN regression\n",
        "Input layer, Hidden layer and output layer(typical NN)\n",
        "\n",
        "in Regression the input layer shape would be according to how many indeoendent or features we have.\n",
        "hidden layer shape(Number of neurons per hidden layer) could be anuthing from minimun being 1 to maximum begin unlimited. output layer shape would be according to dependent varaible,\n",
        "them we have the hidden Activation,Outpit actiavtion function ,loss function,optimizer."
      ],
      "metadata": {
        "id": "LF8TTohhqhIY"
      }
    },
    {
      "cell_type": "code",
      "source": [
        "#import tensor flow\n",
        "import tensorflow as tf"
      ],
      "metadata": {
        "id": "_hsnVciZudfa"
      },
      "execution_count": 1,
      "outputs": []
    },
    {
      "cell_type": "markdown",
      "source": [
        "##creating data to view and fit\n",
        "\n"
      ],
      "metadata": {
        "id": "6hv0Modbu7uz"
      }
    },
    {
      "cell_type": "code",
      "source": [
        "import numpy as np\n",
        "import matplotlib.pyplot as plt\n",
        "X=np.array([-7.0,-4.0,-1.0,2.0,5.0,8.0,11.0,14.0])\n",
        "y= np.array([3.0,6.0,9.0,12.0,15.0,18.0,21.0,24.0])\n",
        "# 'Visuallize\n",
        "plt.scatter(X,y)"
      ],
      "metadata": {
        "colab": {
          "base_uri": "https://localhost:8080/",
          "height": 452
        },
        "id": "vY5C1OEBvJzQ",
        "outputId": "ead555c4-ff17-469f-d5f5-afec655f8cd7"
      },
      "execution_count": 2,
      "outputs": [
        {
          "output_type": "execute_result",
          "data": {
            "text/plain": [
              "<matplotlib.collections.PathCollection at 0x7dd972cf4fa0>"
            ]
          },
          "metadata": {},
          "execution_count": 2
        },
        {
          "output_type": "display_data",
          "data": {
            "text/plain": [
              "<Figure size 640x480 with 1 Axes>"
            ],
            "image/png": "[encoded data removed]"
          },
          "metadata": {}
        }
      ]
    },
    {
      "cell_type": "markdown",
      "source": [
        "input and output shape"
      ],
      "metadata": {
        "id": "1-1KEIsswudH"
      }
    },
    {
      "cell_type": "markdown",
      "source": [
        "# Turn numpy array into tensors\n",
        "## Steps in modelling with tensorflow\n",
        "\n",
        "1. Creating a model -define the input nad output layers as well as the hidden layer of deep learninf model.\n",
        "2.Compiling the model -define the loss function and the ptimizer and evalution metrics\n",
        "3. Fitting the model -letting the model find the pattaers"
      ],
      "metadata": {
        "id": "oXmlxVHXwx8y"
      }
    },
    {
      "cell_type": "code",
      "source": [
        "X =tf.constant(X)\n",
        "y= tf.constant(y)"
      ],
      "metadata": {
        "id": "HqPGxK84xpnj"
      },
      "execution_count": 3,
      "outputs": []
    },
    {
      "cell_type": "code",
      "source": [
        "from keras.src.engine.training import optimizer\n",
        "#Set the random seed\n",
        "tf.random.set_seed = 42\n",
        "#create a model using sequntial API\n",
        "model = tf.keras.Sequential([tf.keras.layers.Dense(1)])\n",
        "\n",
        "#complie the model\n",
        "model.compile(loss=tf.keras.losses.mae,optimizer=tf.keras.optimizers.SGD(),metrics =[\"mae\"])\n",
        "\n",
        "#fit the model\n",
        "model.fit(tf.expand_dims(X,axis=-1),y,epochs=10)"
      ],
      "metadata": {
        "colab": {
          "base_uri": "https://localhost:8080/"
        },
        "id": "QErdQODzzJO9",
        "outputId": "4282b4fb-1f4e-4751-8b01-8af9c625b006"
      },
      "execution_count": 4,
      "outputs": [
        {
          "output_type": "stream",
          "name": "stdout",
          "text": [
            "Epoch 1/10\n",
            "1/1 [==============================] - 1s 508ms/step - loss: 11.1891 - mae: 11.1891\n",
            "Epoch 2/10\n",
            "1/1 [==============================] - 0s 12ms/step - loss: 11.0566 - mae: 11.0566\n",
            "Epoch 3/10\n",
            "1/1 [==============================] - 0s 11ms/step - loss: 10.9241 - mae: 10.9241\n",
            "Epoch 4/10\n",
            "1/1 [==============================] - 0s 12ms/step - loss: 10.7916 - mae: 10.7916\n",
            "Epoch 5/10\n",
            "1/1 [==============================] - 0s 12ms/step - loss: 10.6591 - mae: 10.6591\n",
            "Epoch 6/10\n",
            "1/1 [==============================] - 0s 11ms/step - loss: 10.5266 - mae: 10.5266\n",
            "Epoch 7/10\n",
            "1/1 [==============================] - 0s 13ms/step - loss: 10.3941 - mae: 10.3941\n",
            "Epoch 8/10\n",
            "1/1 [==============================] - 0s 9ms/step - loss: 10.2616 - mae: 10.2616\n",
            "Epoch 9/10\n",
            "1/1 [==============================] - 0s 13ms/step - loss: 10.1291 - mae: 10.1291\n",
            "Epoch 10/10\n",
            "1/1 [==============================] - 0s 9ms/step - loss: 9.9966 - mae: 9.9966\n"
          ]
        },
        {
          "output_type": "execute_result",
          "data": {
            "text/plain": [
              "<keras.src.callbacks.History at 0x7dd96d928700>"
            ]
          },
          "metadata": {},
          "execution_count": 4
        }
      ]
    },
    {
      "cell_type": "code",
      "source": [
        "#Try and make a prediction with trained model\n",
        "y_pred = model.predict([5.0])"
      ],
      "metadata": {
        "colab": {
          "base_uri": "https://localhost:8080/"
        },
        "id": "QLSMbLIw1riM",
        "outputId": "91a50fc3-602c-44d8-f4d8-cde04c911012"
      },
      "execution_count": 5,
      "outputs": [
        {
          "output_type": "stream",
          "name": "stdout",
          "text": [
            "1/1 [==============================] - 0s 92ms/step\n"
          ]
        }
      ]
    },
    {
      "cell_type": "markdown",
      "source": [
        "#improving the model\n",
        "can imporve through creating model steps.\n",
        "1) **CREATING THE MODEL**. aDD MORE HIDDEN LAZERS AND  NEURONS ALSO CHANGE THE ACTIVATION FUNCTION OF EACH LAYER\n",
        "2** cOMPILING THE MODEL**. HERE WE MIGHT CHANGE THE PTIMIZATION FUNCTION OR PERHAPS THE LEARNING RATE:\n",
        "3)**FITTING THE MODEL**. HERE WE MIGHT INCREASE THE POCHS WHICH WE HAVE GIVEN OR ADD MORE DATA\n"
      ],
      "metadata": {
        "id": "K6uy6dFI29QM"
      }
    },
    {
      "cell_type": "code",
      "source": [
        "#lets rebulit our model by improving step wisw what is neede here we increase the number of epochs.\n",
        "#from keras.src.engine.training import optimizer\n",
        "#Set the random seed\n",
        "#tf.random.set_seed = 42\n",
        "#create a model using sequntial API\n",
        "model = tf.keras.Sequential([tf.keras.layers.Dense(1)])\n",
        "\n",
        "#complie the model\n",
        "model.compile(loss=tf.keras.losses.mae,optimizer=tf.keras.optimizers.SGD(),metrics =[\"mae\"])\n",
        "\n",
        "#fit the model\n",
        "model.fit(tf.expand_dims(X,axis=-1),y,epochs=100)"
      ],
      "metadata": {
        "colab": {
          "base_uri": "https://localhost:8080/"
        },
        "id": "GB-LIQR1K6rX",
        "outputId": "84f6711e-1f1d-4873-a4a8-14368312efaa"
      },
      "execution_count": 6,
      "outputs": [
        {
          "output_type": "stream",
          "name": "stdout",
          "text": [
            "Epoch 1/100\n",
            "1/1 [==============================] - 0s 362ms/step - loss: 16.8689 - mae: 16.8689\n",
            "Epoch 2/100\n",
            "1/1 [==============================] - 0s 12ms/step - loss: 16.5876 - mae: 16.5876\n",
            "Epoch 3/100\n",
            "1/1 [==============================] - 0s 15ms/step - loss: 16.3064 - mae: 16.3064\n",
            "Epoch 4/100\n",
            "1/1 [==============================] - 0s 12ms/step - loss: 16.0251 - mae: 16.0251\n",
            "Epoch 5/100\n",
            "1/1 [==============================] - 0s 10ms/step - loss: 15.7439 - mae: 15.7439\n",
            "Epoch 6/100\n",
            "1/1 [==============================] - 0s 11ms/step - loss: 15.4626 - mae: 15.4626\n",
            "Epoch 7/100\n",
            "1/1 [==============================] - 0s 11ms/step - loss: 15.1814 - mae: 15.1814\n",
            "Epoch 8/100\n",
            "1/1 [==============================] - 0s 10ms/step - loss: 14.9072 - mae: 14.9072\n",
            "Epoch 9/100\n",
            "1/1 [==============================] - 0s 8ms/step - loss: 14.7747 - mae: 14.7747\n",
            "Epoch 10/100\n",
            "1/1 [==============================] - 0s 11ms/step - loss: 14.6422 - mae: 14.6422\n",
            "Epoch 11/100\n",
            "1/1 [==============================] - 0s 13ms/step - loss: 14.5097 - mae: 14.5097\n",
            "Epoch 12/100\n",
            "1/1 [==============================] - 0s 13ms/step - loss: 14.3772 - mae: 14.3772\n",
            "Epoch 13/100\n",
            "1/1 [==============================] - 0s 8ms/step - loss: 14.2447 - mae: 14.2447\n",
            "Epoch 14/100\n",
            "1/1 [==============================] - 0s 10ms/step - loss: 14.1122 - mae: 14.1122\n",
            "Epoch 15/100\n",
            "1/1 [==============================] - 0s 12ms/step - loss: 13.9797 - mae: 13.9797\n",
            "Epoch 16/100\n",
            "1/1 [==============================] - 0s 10ms/step - loss: 13.8472 - mae: 13.8472\n",
            "Epoch 17/100\n",
            "1/1 [==============================] - 0s 9ms/step - loss: 13.7147 - mae: 13.7147\n",
            "Epoch 18/100\n",
            "1/1 [==============================] - 0s 9ms/step - loss: 13.5822 - mae: 13.5822\n",
            "Epoch 19/100\n",
            "1/1 [==============================] - 0s 10ms/step - loss: 13.4497 - mae: 13.4497\n",
            "Epoch 20/100\n",
            "1/1 [==============================] - 0s 11ms/step - loss: 13.3172 - mae: 13.3172\n",
            "Epoch 21/100\n",
            "1/1 [==============================] - 0s 10ms/step - loss: 13.1847 - mae: 13.1847\n",
            "Epoch 22/100\n",
            "1/1 [==============================] - 0s 10ms/step - loss: 13.0522 - mae: 13.0522\n",
            "Epoch 23/100\n",
            "1/1 [==============================] - 0s 10ms/step - loss: 12.9197 - mae: 12.9197\n",
            "Epoch 24/100\n",
            "1/1 [==============================] - 0s 9ms/step - loss: 12.7872 - mae: 12.7872\n",
            "Epoch 25/100\n",
            "1/1 [==============================] - 0s 12ms/step - loss: 12.6547 - mae: 12.6547\n",
            "Epoch 26/100\n",
            "1/1 [==============================] - 0s 11ms/step - loss: 12.5222 - mae: 12.5222\n",
            "Epoch 27/100\n",
            "1/1 [==============================] - 0s 11ms/step - loss: 12.3897 - mae: 12.3897\n",
            "Epoch 28/100\n",
            "1/1 [==============================] - 0s 9ms/step - loss: 12.2572 - mae: 12.2572\n",
            "Epoch 29/100\n",
            "1/1 [==============================] - 0s 10ms/step - loss: 12.1247 - mae: 12.1247\n",
            "Epoch 30/100\n",
            "1/1 [==============================] - 0s 10ms/step - loss: 11.9922 - mae: 11.9922\n",
            "Epoch 31/100\n",
            "1/1 [==============================] - 0s 9ms/step - loss: 11.8597 - mae: 11.8597\n",
            "Epoch 32/100\n",
            "1/1 [==============================] - 0s 10ms/step - loss: 11.7272 - mae: 11.7272\n",
            "Epoch 33/100\n",
            "1/1 [==============================] - 0s 10ms/step - loss: 11.5947 - mae: 11.5947\n",
            "Epoch 34/100\n",
            "1/1 [==============================] - 0s 9ms/step - loss: 11.4622 - mae: 11.4622\n",
            "Epoch 35/100\n",
            "1/1 [==============================] - 0s 33ms/step - loss: 11.3297 - mae: 11.3297\n",
            "Epoch 36/100\n",
            "1/1 [==============================] - 0s 13ms/step - loss: 11.1972 - mae: 11.1972\n",
            "Epoch 37/100\n",
            "1/1 [==============================] - 0s 12ms/step - loss: 11.0647 - mae: 11.0647\n",
            "Epoch 38/100\n",
            "1/1 [==============================] - 0s 15ms/step - loss: 10.9322 - mae: 10.9322\n",
            "Epoch 39/100\n",
            "1/1 [==============================] - 0s 14ms/step - loss: 10.7997 - mae: 10.7997\n",
            "Epoch 40/100\n",
            "1/1 [==============================] - 0s 15ms/step - loss: 10.6672 - mae: 10.6672\n",
            "Epoch 41/100\n",
            "1/1 [==============================] - 0s 20ms/step - loss: 10.5347 - mae: 10.5347\n",
            "Epoch 42/100\n",
            "1/1 [==============================] - 0s 28ms/step - loss: 10.4022 - mae: 10.4022\n",
            "Epoch 43/100\n",
            "1/1 [==============================] - 0s 17ms/step - loss: 10.2697 - mae: 10.2697\n",
            "Epoch 44/100\n",
            "1/1 [==============================] - 0s 19ms/step - loss: 10.1372 - mae: 10.1372\n",
            "Epoch 45/100\n",
            "1/1 [==============================] - 0s 25ms/step - loss: 10.0047 - mae: 10.0047\n",
            "Epoch 46/100\n",
            "1/1 [==============================] - 0s 24ms/step - loss: 9.8722 - mae: 9.8722\n",
            "Epoch 47/100\n",
            "1/1 [==============================] - 0s 28ms/step - loss: 9.7397 - mae: 9.7397\n",
            "Epoch 48/100\n",
            "1/1 [==============================] - 0s 26ms/step - loss: 9.6072 - mae: 9.6072\n",
            "Epoch 49/100\n",
            "1/1 [==============================] - 0s 13ms/step - loss: 9.4747 - mae: 9.4747\n",
            "Epoch 50/100\n",
            "1/1 [==============================] - 0s 14ms/step - loss: 9.3422 - mae: 9.3422\n",
            "Epoch 51/100\n",
            "1/1 [==============================] - 0s 13ms/step - loss: 9.2097 - mae: 9.2097\n",
            "Epoch 52/100\n",
            "1/1 [==============================] - 0s 13ms/step - loss: 9.0772 - mae: 9.0772\n",
            "Epoch 53/100\n",
            "1/1 [==============================] - 0s 22ms/step - loss: 8.9447 - mae: 8.9447\n",
            "Epoch 54/100\n",
            "1/1 [==============================] - 0s 19ms/step - loss: 8.8122 - mae: 8.8122\n",
            "Epoch 55/100\n",
            "1/1 [==============================] - 0s 13ms/step - loss: 8.6797 - mae: 8.6797\n",
            "Epoch 56/100\n",
            "1/1 [==============================] - 0s 14ms/step - loss: 8.5472 - mae: 8.5472\n",
            "Epoch 57/100\n",
            "1/1 [==============================] - 0s 17ms/step - loss: 8.4147 - mae: 8.4147\n",
            "Epoch 58/100\n",
            "1/1 [==============================] - 0s 17ms/step - loss: 8.2822 - mae: 8.2822\n",
            "Epoch 59/100\n",
            "1/1 [==============================] - 0s 13ms/step - loss: 8.1497 - mae: 8.1497\n",
            "Epoch 60/100\n",
            "1/1 [==============================] - 0s 23ms/step - loss: 8.0172 - mae: 8.0172\n",
            "Epoch 61/100\n",
            "1/1 [==============================] - 0s 9ms/step - loss: 7.8847 - mae: 7.8847\n",
            "Epoch 62/100\n",
            "1/1 [==============================] - 0s 20ms/step - loss: 7.7522 - mae: 7.7522\n",
            "Epoch 63/100\n",
            "1/1 [==============================] - 0s 21ms/step - loss: 7.6197 - mae: 7.6197\n",
            "Epoch 64/100\n",
            "1/1 [==============================] - 0s 18ms/step - loss: 7.4872 - mae: 7.4872\n",
            "Epoch 65/100\n",
            "1/1 [==============================] - 0s 12ms/step - loss: 7.3547 - mae: 7.3547\n",
            "Epoch 66/100\n",
            "1/1 [==============================] - 0s 12ms/step - loss: 7.2222 - mae: 7.2222\n",
            "Epoch 67/100\n",
            "1/1 [==============================] - 0s 14ms/step - loss: 7.0897 - mae: 7.0897\n",
            "Epoch 68/100\n",
            "1/1 [==============================] - 0s 16ms/step - loss: 7.0106 - mae: 7.0106\n",
            "Epoch 69/100\n",
            "1/1 [==============================] - 0s 19ms/step - loss: 7.0050 - mae: 7.0050\n",
            "Epoch 70/100\n",
            "1/1 [==============================] - 0s 10ms/step - loss: 6.9994 - mae: 6.9994\n",
            "Epoch 71/100\n",
            "1/1 [==============================] - 0s 10ms/step - loss: 6.9938 - mae: 6.9938\n",
            "Epoch 72/100\n",
            "1/1 [==============================] - 0s 15ms/step - loss: 6.9881 - mae: 6.9881\n",
            "Epoch 73/100\n",
            "1/1 [==============================] - 0s 13ms/step - loss: 6.9825 - mae: 6.9825\n",
            "Epoch 74/100\n",
            "1/1 [==============================] - 0s 16ms/step - loss: 6.9769 - mae: 6.9769\n",
            "Epoch 75/100\n",
            "1/1 [==============================] - 0s 14ms/step - loss: 6.9713 - mae: 6.9713\n",
            "Epoch 76/100\n",
            "1/1 [==============================] - 0s 13ms/step - loss: 6.9656 - mae: 6.9656\n",
            "Epoch 77/100\n",
            "1/1 [==============================] - 0s 15ms/step - loss: 6.9600 - mae: 6.9600\n",
            "Epoch 78/100\n",
            "1/1 [==============================] - 0s 13ms/step - loss: 6.9544 - mae: 6.9544\n",
            "Epoch 79/100\n",
            "1/1 [==============================] - 0s 21ms/step - loss: 6.9488 - mae: 6.9488\n",
            "Epoch 80/100\n",
            "1/1 [==============================] - 0s 19ms/step - loss: 6.9431 - mae: 6.9431\n",
            "Epoch 81/100\n",
            "1/1 [==============================] - 0s 25ms/step - loss: 6.9375 - mae: 6.9375\n",
            "Epoch 82/100\n",
            "1/1 [==============================] - 0s 14ms/step - loss: 6.9319 - mae: 6.9319\n",
            "Epoch 83/100\n",
            "1/1 [==============================] - 0s 14ms/step - loss: 6.9263 - mae: 6.9263\n",
            "Epoch 84/100\n",
            "1/1 [==============================] - 0s 16ms/step - loss: 6.9206 - mae: 6.9206\n",
            "Epoch 85/100\n",
            "1/1 [==============================] - 0s 15ms/step - loss: 6.9150 - mae: 6.9150\n",
            "Epoch 86/100\n",
            "1/1 [==============================] - 0s 16ms/step - loss: 6.9094 - mae: 6.9094\n",
            "Epoch 87/100\n",
            "1/1 [==============================] - 0s 16ms/step - loss: 6.9038 - mae: 6.9038\n",
            "Epoch 88/100\n",
            "1/1 [==============================] - 0s 18ms/step - loss: 6.8981 - mae: 6.8981\n",
            "Epoch 89/100\n",
            "1/1 [==============================] - 0s 16ms/step - loss: 6.8925 - mae: 6.8925\n",
            "Epoch 90/100\n",
            "1/1 [==============================] - 0s 18ms/step - loss: 6.8869 - mae: 6.8869\n",
            "Epoch 91/100\n",
            "1/1 [==============================] - 0s 14ms/step - loss: 6.8813 - mae: 6.8813\n",
            "Epoch 92/100\n",
            "1/1 [==============================] - 0s 24ms/step - loss: 6.8756 - mae: 6.8756\n",
            "Epoch 93/100\n",
            "1/1 [==============================] - 0s 15ms/step - loss: 6.8700 - mae: 6.8700\n",
            "Epoch 94/100\n",
            "1/1 [==============================] - 0s 12ms/step - loss: 6.8644 - mae: 6.8644\n",
            "Epoch 95/100\n",
            "1/1 [==============================] - 0s 23ms/step - loss: 6.8588 - mae: 6.8588\n",
            "Epoch 96/100\n",
            "1/1 [==============================] - 0s 13ms/step - loss: 6.8531 - mae: 6.8531\n",
            "Epoch 97/100\n",
            "1/1 [==============================] - 0s 21ms/step - loss: 6.8475 - mae: 6.8475\n",
            "Epoch 98/100\n",
            "1/1 [==============================] - 0s 14ms/step - loss: 6.8419 - mae: 6.8419\n",
            "Epoch 99/100\n",
            "1/1 [==============================] - 0s 19ms/step - loss: 6.8363 - mae: 6.8363\n",
            "Epoch 100/100\n",
            "1/1 [==============================] - 0s 16ms/step - loss: 6.8306 - mae: 6.8306\n"
          ]
        },
        {
          "output_type": "execute_result",
          "data": {
            "text/plain": [
              "<keras.src.callbacks.History at 0x7dd96cf4e200>"
            ]
          },
          "metadata": {},
          "execution_count": 6
        }
      ]
    },
    {
      "cell_type": "code",
      "source": [
        "model.predict([20.0])"
      ],
      "metadata": {
        "colab": {
          "base_uri": "https://localhost:8080/"
        },
        "id": "x8F206ZLNAEf",
        "outputId": "4b6ded57-953d-4418-f40e-0b904a59d0e7"
      },
      "execution_count": 7,
      "outputs": [
        {
          "output_type": "stream",
          "name": "stdout",
          "text": [
            "1/1 [==============================] - 0s 113ms/step\n"
          ]
        },
        {
          "output_type": "execute_result",
          "data": {
            "text/plain": [
              "array([[34.559055]], dtype=float32)"
            ]
          },
          "metadata": {},
          "execution_count": 7
        }
      ]
    },
    {
      "cell_type": "code",
      "source": [
        "# imporving by giving optimier replacing it with SGD with Adam and also giving a learning rate\n",
        "model_1 = tf.keras.Sequential([\n",
        "    tf.keras.layers.Dense(50,activation=None),\n",
        "\n",
        "\n",
        "    tf.keras.layers.Dense(1)])\n",
        "\n",
        "#complie the model\n",
        "model_1.compile(loss=tf.keras.losses.mae,optimizer=tf.keras.optimizers.Adam(lr =0.01),metrics =[\"mae\"])\n",
        "\n",
        "#fit the model\n",
        "model_1.fit(tf.expand_dims(X,axis=-1),y,epochs=100)"
      ],
      "metadata": {
        "colab": {
          "base_uri": "https://localhost:8080/"
        },
        "id": "ET4fuDBwNJUQ",
        "outputId": "10867ecf-8c94-4b99-8a7a-7667e3db283c"
      },
      "execution_count": 8,
      "outputs": [
        {
          "output_type": "stream",
          "name": "stderr",
          "text": [
            "WARNING:absl:`lr` is deprecated in Keras optimizer, please use `learning_rate` or use the legacy optimizer, e.g.,tf.keras.optimizers.legacy.Adam.\n"
          ]
        },
        {
          "output_type": "stream",
          "name": "stdout",
          "text": [
            "Epoch 1/100\n",
            "1/1 [==============================] - 2s 2s/step - loss: 11.7735 - mae: 11.7735\n",
            "Epoch 2/100\n",
            "1/1 [==============================] - 0s 18ms/step - loss: 11.7017 - mae: 11.7017\n",
            "Epoch 3/100\n",
            "1/1 [==============================] - 0s 25ms/step - loss: 11.6298 - mae: 11.6298\n",
            "Epoch 4/100\n",
            "1/1 [==============================] - 0s 25ms/step - loss: 11.5578 - mae: 11.5578\n",
            "Epoch 5/100\n",
            "1/1 [==============================] - 0s 25ms/step - loss: 11.4858 - mae: 11.4858\n",
            "Epoch 6/100\n",
            "1/1 [==============================] - 0s 23ms/step - loss: 11.4136 - mae: 11.4136\n",
            "Epoch 7/100\n",
            "1/1 [==============================] - 0s 14ms/step - loss: 11.3414 - mae: 11.3414\n",
            "Epoch 8/100\n",
            "1/1 [==============================] - 0s 15ms/step - loss: 11.2690 - mae: 11.2690\n",
            "Epoch 9/100\n",
            "1/1 [==============================] - 0s 21ms/step - loss: 11.1966 - mae: 11.1966\n",
            "Epoch 10/100\n",
            "1/1 [==============================] - 0s 19ms/step - loss: 11.1240 - mae: 11.1240\n",
            "Epoch 11/100\n",
            "1/1 [==============================] - 0s 20ms/step - loss: 11.0513 - mae: 11.0513\n",
            "Epoch 12/100\n",
            "1/1 [==============================] - 0s 41ms/step - loss: 10.9785 - mae: 10.9785\n",
            "Epoch 13/100\n",
            "1/1 [==============================] - 0s 24ms/step - loss: 10.9056 - mae: 10.9056\n",
            "Epoch 14/100\n",
            "1/1 [==============================] - 0s 14ms/step - loss: 10.8326 - mae: 10.8326\n",
            "Epoch 15/100\n",
            "1/1 [==============================] - 0s 23ms/step - loss: 10.7594 - mae: 10.7594\n",
            "Epoch 16/100\n",
            "1/1 [==============================] - 0s 19ms/step - loss: 10.6861 - mae: 10.6861\n",
            "Epoch 17/100\n",
            "1/1 [==============================] - 0s 20ms/step - loss: 10.6127 - mae: 10.6127\n",
            "Epoch 18/100\n",
            "1/1 [==============================] - 0s 21ms/step - loss: 10.5391 - mae: 10.5391\n",
            "Epoch 19/100\n",
            "1/1 [==============================] - 0s 29ms/step - loss: 10.4654 - mae: 10.4654\n",
            "Epoch 20/100\n",
            "1/1 [==============================] - 0s 22ms/step - loss: 10.3916 - mae: 10.3916\n",
            "Epoch 21/100\n",
            "1/1 [==============================] - 0s 10ms/step - loss: 10.3176 - mae: 10.3176\n",
            "Epoch 22/100\n",
            "1/1 [==============================] - 0s 36ms/step - loss: 10.2434 - mae: 10.2434\n",
            "Epoch 23/100\n",
            "1/1 [==============================] - 0s 25ms/step - loss: 10.1690 - mae: 10.1690\n",
            "Epoch 24/100\n",
            "1/1 [==============================] - 0s 11ms/step - loss: 10.0945 - mae: 10.0945\n",
            "Epoch 25/100\n",
            "1/1 [==============================] - 0s 32ms/step - loss: 10.0198 - mae: 10.0198\n",
            "Epoch 26/100\n",
            "1/1 [==============================] - 0s 40ms/step - loss: 9.9449 - mae: 9.9449\n",
            "Epoch 27/100\n",
            "1/1 [==============================] - 0s 36ms/step - loss: 9.8698 - mae: 9.8698\n",
            "Epoch 28/100\n",
            "1/1 [==============================] - 0s 10ms/step - loss: 9.7946 - mae: 9.7946\n",
            "Epoch 29/100\n",
            "1/1 [==============================] - 0s 10ms/step - loss: 9.7191 - mae: 9.7191\n",
            "Epoch 30/100\n",
            "1/1 [==============================] - 0s 12ms/step - loss: 9.6433 - mae: 9.6433\n",
            "Epoch 31/100\n",
            "1/1 [==============================] - 0s 18ms/step - loss: 9.5674 - mae: 9.5674\n",
            "Epoch 32/100\n",
            "1/1 [==============================] - 0s 18ms/step - loss: 9.4912 - mae: 9.4912\n",
            "Epoch 33/100\n",
            "1/1 [==============================] - 0s 21ms/step - loss: 9.4148 - mae: 9.4148\n",
            "Epoch 34/100\n",
            "1/1 [==============================] - 0s 30ms/step - loss: 9.3381 - mae: 9.3381\n",
            "Epoch 35/100\n",
            "1/1 [==============================] - 0s 14ms/step - loss: 9.2612 - mae: 9.2612\n",
            "Epoch 36/100\n",
            "1/1 [==============================] - 0s 11ms/step - loss: 9.1840 - mae: 9.1840\n",
            "Epoch 37/100\n",
            "1/1 [==============================] - 0s 20ms/step - loss: 9.1065 - mae: 9.1065\n",
            "Epoch 38/100\n",
            "1/1 [==============================] - 0s 14ms/step - loss: 9.0288 - mae: 9.0288\n",
            "Epoch 39/100\n",
            "1/1 [==============================] - 0s 18ms/step - loss: 8.9507 - mae: 8.9507\n",
            "Epoch 40/100\n",
            "1/1 [==============================] - 0s 18ms/step - loss: 8.8724 - mae: 8.8724\n",
            "Epoch 41/100\n",
            "1/1 [==============================] - 0s 16ms/step - loss: 8.7937 - mae: 8.7937\n",
            "Epoch 42/100\n",
            "1/1 [==============================] - 0s 10ms/step - loss: 8.7148 - mae: 8.7148\n",
            "Epoch 43/100\n",
            "1/1 [==============================] - 0s 17ms/step - loss: 8.6355 - mae: 8.6355\n",
            "Epoch 44/100\n",
            "1/1 [==============================] - 0s 12ms/step - loss: 8.5559 - mae: 8.5559\n",
            "Epoch 45/100\n",
            "1/1 [==============================] - 0s 9ms/step - loss: 8.4759 - mae: 8.4759\n",
            "Epoch 46/100\n",
            "1/1 [==============================] - 0s 18ms/step - loss: 8.3956 - mae: 8.3956\n",
            "Epoch 47/100\n",
            "1/1 [==============================] - 0s 48ms/step - loss: 8.3150 - mae: 8.3150\n",
            "Epoch 48/100\n",
            "1/1 [==============================] - 0s 12ms/step - loss: 8.2340 - mae: 8.2340\n",
            "Epoch 49/100\n",
            "1/1 [==============================] - 0s 18ms/step - loss: 8.1526 - mae: 8.1526\n",
            "Epoch 50/100\n",
            "1/1 [==============================] - 0s 21ms/step - loss: 8.0708 - mae: 8.0708\n",
            "Epoch 51/100\n",
            "1/1 [==============================] - 0s 14ms/step - loss: 7.9887 - mae: 7.9887\n",
            "Epoch 52/100\n",
            "1/1 [==============================] - 0s 11ms/step - loss: 7.9062 - mae: 7.9062\n",
            "Epoch 53/100\n",
            "1/1 [==============================] - 0s 13ms/step - loss: 7.8232 - mae: 7.8232\n",
            "Epoch 54/100\n",
            "1/1 [==============================] - 0s 10ms/step - loss: 7.7399 - mae: 7.7399\n",
            "Epoch 55/100\n",
            "1/1 [==============================] - 0s 12ms/step - loss: 7.6562 - mae: 7.6562\n",
            "Epoch 56/100\n",
            "1/1 [==============================] - 0s 17ms/step - loss: 7.5720 - mae: 7.5720\n",
            "Epoch 57/100\n",
            "1/1 [==============================] - 0s 12ms/step - loss: 7.4874 - mae: 7.4874\n",
            "Epoch 58/100\n",
            "1/1 [==============================] - 0s 15ms/step - loss: 7.4023 - mae: 7.4023\n",
            "Epoch 59/100\n",
            "1/1 [==============================] - 0s 13ms/step - loss: 7.3168 - mae: 7.3168\n",
            "Epoch 60/100\n",
            "1/1 [==============================] - 0s 13ms/step - loss: 7.2309 - mae: 7.2309\n",
            "Epoch 61/100\n",
            "1/1 [==============================] - 0s 26ms/step - loss: 7.1445 - mae: 7.1445\n",
            "Epoch 62/100\n",
            "1/1 [==============================] - 0s 22ms/step - loss: 7.0576 - mae: 7.0576\n",
            "Epoch 63/100\n",
            "1/1 [==============================] - 0s 19ms/step - loss: 6.9702 - mae: 6.9702\n",
            "Epoch 64/100\n",
            "1/1 [==============================] - 0s 22ms/step - loss: 6.9539 - mae: 6.9539\n",
            "Epoch 65/100\n",
            "1/1 [==============================] - 0s 20ms/step - loss: 6.9437 - mae: 6.9437\n",
            "Epoch 66/100\n",
            "1/1 [==============================] - 0s 47ms/step - loss: 6.9337 - mae: 6.9337\n",
            "Epoch 67/100\n",
            "1/1 [==============================] - 0s 55ms/step - loss: 6.9239 - mae: 6.9239\n",
            "Epoch 68/100\n",
            "1/1 [==============================] - 0s 38ms/step - loss: 6.9142 - mae: 6.9142\n",
            "Epoch 69/100\n",
            "1/1 [==============================] - 0s 35ms/step - loss: 6.9047 - mae: 6.9047\n",
            "Epoch 70/100\n",
            "1/1 [==============================] - 0s 41ms/step - loss: 6.8953 - mae: 6.8953\n",
            "Epoch 71/100\n",
            "1/1 [==============================] - 0s 32ms/step - loss: 6.8861 - mae: 6.8861\n",
            "Epoch 72/100\n",
            "1/1 [==============================] - 0s 39ms/step - loss: 6.8769 - mae: 6.8769\n",
            "Epoch 73/100\n",
            "1/1 [==============================] - 0s 23ms/step - loss: 6.8678 - mae: 6.8678\n",
            "Epoch 74/100\n",
            "1/1 [==============================] - 0s 16ms/step - loss: 6.8588 - mae: 6.8588\n",
            "Epoch 75/100\n",
            "1/1 [==============================] - 0s 32ms/step - loss: 6.8499 - mae: 6.8499\n",
            "Epoch 76/100\n",
            "1/1 [==============================] - 0s 37ms/step - loss: 6.8418 - mae: 6.8418\n",
            "Epoch 77/100\n",
            "1/1 [==============================] - 0s 29ms/step - loss: 6.8485 - mae: 6.8485\n",
            "Epoch 78/100\n",
            "1/1 [==============================] - 0s 26ms/step - loss: 6.8489 - mae: 6.8489\n",
            "Epoch 79/100\n",
            "1/1 [==============================] - 0s 29ms/step - loss: 6.8438 - mae: 6.8438\n",
            "Epoch 80/100\n",
            "1/1 [==============================] - 0s 29ms/step - loss: 6.8336 - mae: 6.8336\n",
            "Epoch 81/100\n",
            "1/1 [==============================] - 0s 27ms/step - loss: 6.8189 - mae: 6.8189\n",
            "Epoch 82/100\n",
            "1/1 [==============================] - 0s 20ms/step - loss: 6.8002 - mae: 6.8002\n",
            "Epoch 83/100\n",
            "1/1 [==============================] - 0s 20ms/step - loss: 6.7898 - mae: 6.7898\n",
            "Epoch 84/100\n",
            "1/1 [==============================] - 0s 22ms/step - loss: 6.7832 - mae: 6.7832\n",
            "Epoch 85/100\n",
            "1/1 [==============================] - 0s 20ms/step - loss: 6.7764 - mae: 6.7764\n",
            "Epoch 86/100\n",
            "1/1 [==============================] - 0s 20ms/step - loss: 6.7695 - mae: 6.7695\n",
            "Epoch 87/100\n",
            "1/1 [==============================] - 0s 21ms/step - loss: 6.7624 - mae: 6.7624\n",
            "Epoch 88/100\n",
            "1/1 [==============================] - 0s 19ms/step - loss: 6.7552 - mae: 6.7552\n",
            "Epoch 89/100\n",
            "1/1 [==============================] - 0s 20ms/step - loss: 6.7479 - mae: 6.7479\n",
            "Epoch 90/100\n",
            "1/1 [==============================] - 0s 21ms/step - loss: 6.7404 - mae: 6.7404\n",
            "Epoch 91/100\n",
            "1/1 [==============================] - 0s 23ms/step - loss: 6.7329 - mae: 6.7329\n",
            "Epoch 92/100\n",
            "1/1 [==============================] - 0s 23ms/step - loss: 6.7252 - mae: 6.7252\n",
            "Epoch 93/100\n",
            "1/1 [==============================] - 0s 14ms/step - loss: 6.7175 - mae: 6.7175\n",
            "Epoch 94/100\n",
            "1/1 [==============================] - 0s 19ms/step - loss: 6.7096 - mae: 6.7096\n",
            "Epoch 95/100\n",
            "1/1 [==============================] - 0s 18ms/step - loss: 6.7017 - mae: 6.7017\n",
            "Epoch 96/100\n",
            "1/1 [==============================] - 0s 25ms/step - loss: 6.6937 - mae: 6.6937\n",
            "Epoch 97/100\n",
            "1/1 [==============================] - 0s 17ms/step - loss: 6.6856 - mae: 6.6856\n",
            "Epoch 98/100\n",
            "1/1 [==============================] - 0s 24ms/step - loss: 6.6775 - mae: 6.6775\n",
            "Epoch 99/100\n",
            "1/1 [==============================] - 0s 17ms/step - loss: 6.6692 - mae: 6.6692\n",
            "Epoch 100/100\n",
            "1/1 [==============================] - 0s 22ms/step - loss: 6.6609 - mae: 6.6609\n"
          ]
        },
        {
          "output_type": "execute_result",
          "data": {
            "text/plain": [
              "<keras.src.callbacks.History at 0x7dd96cf84550>"
            ]
          },
          "metadata": {},
          "execution_count": 8
        }
      ]
    },
    {
      "cell_type": "code",
      "source": [
        "model_1.predict([17.0])"
      ],
      "metadata": {
        "colab": {
          "base_uri": "https://localhost:8080/"
        },
        "id": "joAuhWePOetY",
        "outputId": "74d7f3fb-cad0-444e-b849-b81e5f71d835"
      },
      "execution_count": 9,
      "outputs": [
        {
          "output_type": "stream",
          "name": "stdout",
          "text": [
            "1/1 [==============================] - 0s 195ms/step\n"
          ]
        },
        {
          "output_type": "execute_result",
          "data": {
            "text/plain": [
              "array([[31.276934]], dtype=float32)"
            ]
          },
          "metadata": {},
          "execution_count": 9
        }
      ]
    },
    {
      "cell_type": "markdown",
      "source": [
        "Learning rtae is the most imposrtant hiper parameter that you cn use upgrade the model"
      ],
      "metadata": {
        "id": "x6lIarvGXhvX"
      }
    },
    {
      "cell_type": "markdown",
      "source": [
        "#Evaluating a model\n",
        "Bult --> fir it --> evaluate it--> twek model --> fit it --> evalaute it --> tweak model\n",
        "\n",
        "when we evaluate alway **Visualize**"
      ],
      "metadata": {
        "id": "NVtnOkMsPOiP"
      }
    },
    {
      "cell_type": "code",
      "source": [
        "#Make a bigger data\n",
        "X = tf.range(-100,100,4)\n",
        "y =X+10\n",
        "X,y\n",
        "plt.scatter(X,y)"
      ],
      "metadata": {
        "colab": {
          "base_uri": "https://localhost:8080/",
          "height": 447
        },
        "id": "bY0LXB1xYkbG",
        "outputId": "65ad71aa-095f-410c-ef82-dac3e8507db1"
      },
      "execution_count": 10,
      "outputs": [
        {
          "output_type": "execute_result",
          "data": {
            "text/plain": [
              "<matplotlib.collections.PathCollection at 0x7dd95ff2c430>"
            ]
          },
          "metadata": {},
          "execution_count": 10
        },
        {
          "output_type": "display_data",
          "data": {
            "text/plain": [
              "<Figure size 640x480 with 1 Axes>"
            ],
            "image/png": "[encoded data removed]"
          },
          "metadata": {}
        }
      ]
    },
    {
      "cell_type": "code",
      "source": [
        "#splitting the data into test and train\n",
        "X_train = X[:40]\n",
        "y_train = y[:40]\n",
        "X_test =X[40:]\n",
        "y_test = y[40:]\n",
        "len(y_train)"
      ],
      "metadata": {
        "colab": {
          "base_uri": "https://localhost:8080/"
        },
        "id": "829JL5VrY-0X",
        "outputId": "621a705d-728a-4c94-bf9c-ed6b2ca1f567"
      },
      "execution_count": 11,
      "outputs": [
        {
          "output_type": "execute_result",
          "data": {
            "text/plain": [
              "40"
            ]
          },
          "metadata": {},
          "execution_count": 11
        }
      ]
    },
    {
      "cell_type": "code",
      "source": [
        "### visiulizing the data\n",
        "plt.scatter(X_train,y_train,color ='b')\n",
        "plt.scatter(X_test,y_test,color ='r')"
      ],
      "metadata": {
        "colab": {
          "base_uri": "https://localhost:8080/",
          "height": 447
        },
        "id": "l-klJJZEaInW",
        "outputId": "09a5b81f-50d0-4fc2-99d1-f3cdd9cb568a"
      },
      "execution_count": 12,
      "outputs": [
        {
          "output_type": "execute_result",
          "data": {
            "text/plain": [
              "<matplotlib.collections.PathCollection at 0x7dd95ff99450>"
            ]
          },
          "metadata": {},
          "execution_count": 12
        },
        {
          "output_type": "display_data",
          "data": {
            "text/plain": [
              "<Figure size 640x480 with 1 Axes>"
            ],
            "image/png": "[encoded data removed]"
          },
          "metadata": {}
        }
      ]
    },
    {
      "cell_type": "code",
      "source": [
        "model_1 = tf.keras.Sequential([\n",
        "    #tf.keras.layers.Dense(50,activation=None),\n",
        "\n",
        "\n",
        "    tf.keras.layers.Dense(2,input_shape =[1])])\n",
        "\n",
        "#complie the model\n",
        "model_1.compile(loss=tf.keras.losses.mae,optimizer=tf.keras.optimizers.SGD(),metrics =[\"mae\"])\n",
        "\n",
        "#fit the model\n",
        "#model_1.fit(tf.expand_dims(X_train,axis=-1),y_train,epochs=100)"
      ],
      "metadata": {
        "id": "U4zUejSvai9-"
      },
      "execution_count": 13,
      "outputs": []
    },
    {
      "cell_type": "code",
      "source": [
        "# visuling the model\n",
        "model_1.summary()"
      ],
      "metadata": {
        "colab": {
          "base_uri": "https://localhost:8080/"
        },
        "id": "b8G-O38GbE6X",
        "outputId": "04f21f7e-1f95-4661-e837-aefdfcd1a7ce"
      },
      "execution_count": 14,
      "outputs": [
        {
          "output_type": "stream",
          "name": "stdout",
          "text": [
            "Model: \"sequential_3\"\n",
            "_________________________________________________________________\n",
            " Layer (type)                Output Shape              Param #   \n",
            "=================================================================\n",
            " dense_4 (Dense)             (None, 2)                 4         \n",
            "                                                                 \n",
            "=================================================================\n",
            "Total params: 4 (16.00 Byte)\n",
            "Trainable params: 4 (16.00 Byte)\n",
            "Non-trainable params: 0 (0.00 Byte)\n",
            "_________________________________________________________________\n"
          ]
        }
      ]
    },
    {
      "cell_type": "code",
      "source": [
        "from tensorflow.keras.utils import plot_model\n",
        "plot_model(model=model)"
      ],
      "metadata": {
        "colab": {
          "base_uri": "https://localhost:8080/",
          "height": 174
        },
        "id": "EwZtDjdBfR6V",
        "outputId": "75b67b7c-bd4b-479b-eeb9-708bd7711acf"
      },
      "execution_count": 15,
      "outputs": [
        {
          "output_type": "execute_result",
          "data": {
            "image/png": "[encoded data removed]",
            "text/plain": [
              "<IPython.core.display.Image object>"
            ]
          },
          "metadata": {},
          "execution_count": 15
        }
      ]
    },
    {
      "cell_type": "markdown",
      "source": [
        "'total Params ': total number of paramters in the model\n",
        "'Trainable para ': these are the parameters the model can update as it trains.\n",
        "Non-trainable para: thses are not updated drueing training. which will come into action when we want to do transfer learning.\n",
        "\n"
      ],
      "metadata": {
        "id": "_jebe3kQck6v"
      }
    },
    {
      "cell_type": "markdown",
      "source": [
        "##Visulise our model's prediction\n",
        "y_test verse y_predicted"
      ],
      "metadata": {
        "id": "L1qRAoOMO1It"
      }
    },
    {
      "cell_type": "code",
      "source": [
        "model_1 = tf.keras.Sequential([\n",
        "    #tf.keras.layers.Dense(50,activation=None),\n",
        "\n",
        "\n",
        "    tf.keras.layers.Dense(1)])\n",
        "\n",
        "#complie the model\n",
        "model_1.compile(loss=tf.keras.losses.mae,optimizer=tf.keras.optimizers.SGD(learning_rate = 0.01),metrics =[\"mae\"])\n",
        "\n",
        "#fit the model\n",
        "model_1.fit(tf.expand_dims(X_train,axis=-1),y_train,epochs=100,verbose = 0)"
      ],
      "metadata": {
        "colab": {
          "base_uri": "https://localhost:8080/"
        },
        "id": "v4jk5LzTPV56",
        "outputId": "6544f995-4bb3-4af9-cc71-32c533c21c0c"
      },
      "execution_count": 16,
      "outputs": [
        {
          "output_type": "execute_result",
          "data": {
            "text/plain": [
              "<keras.src.callbacks.History at 0x7dd95fe2d180>"
            ]
          },
          "metadata": {},
          "execution_count": 16
        }
      ]
    },
    {
      "cell_type": "code",
      "source": [
        "X_test"
      ],
      "metadata": {
        "colab": {
          "base_uri": "https://localhost:8080/"
        },
        "id": "O8kZ_HFDQGtc",
        "outputId": "d869e5d2-287d-4258-97bc-4f780549bbfe"
      },
      "execution_count": 17,
      "outputs": [
        {
          "output_type": "execute_result",
          "data": {
            "text/plain": [
              "<tf.Tensor: shape=(10,), dtype=int32, numpy=array([60, 64, 68, 72, 76, 80, 84, 88, 92, 96], dtype=int32)>"
            ]
          },
          "metadata": {},
          "execution_count": 17
        }
      ]
    },
    {
      "cell_type": "code",
      "source": [
        "y_pred = model_1.predict(X_test)\n",
        "y_pred"
      ],
      "metadata": {
        "colab": {
          "base_uri": "https://localhost:8080/"
        },
        "id": "-sS1kQE1PEQ1",
        "outputId": "c06db9f6-1f76-482c-f71f-a2e356f19599"
      },
      "execution_count": 18,
      "outputs": [
        {
          "output_type": "stream",
          "name": "stdout",
          "text": [
            "1/1 [==============================] - 0s 93ms/step\n"
          ]
        },
        {
          "output_type": "execute_result",
          "data": {
            "text/plain": [
              "array([[56.521362],\n",
              "       [60.196747],\n",
              "       [63.87213 ],\n",
              "       [67.547516],\n",
              "       [71.22289 ],\n",
              "       [74.89828 ],\n",
              "       [78.57366 ],\n",
              "       [82.24904 ],\n",
              "       [85.92442 ],\n",
              "       [89.59981 ]], dtype=float32)"
            ]
          },
          "metadata": {},
          "execution_count": 18
        }
      ]
    },
    {
      "cell_type": "code",
      "source": [
        "y_test"
      ],
      "metadata": {
        "colab": {
          "base_uri": "https://localhost:8080/"
        },
        "id": "Ysfllm6PPN5B",
        "outputId": "1d67dca0-adcb-41de-856b-f17e4514fdf8"
      },
      "execution_count": 19,
      "outputs": [
        {
          "output_type": "execute_result",
          "data": {
            "text/plain": [
              "<tf.Tensor: shape=(10,), dtype=int32, numpy=array([ 70,  74,  78,  82,  86,  90,  94,  98, 102, 106], dtype=int32)>"
            ]
          },
          "metadata": {},
          "execution_count": 19
        }
      ]
    },
    {
      "cell_type": "code",
      "source": [
        "def plot_prediction(train_data = X_train,train_label =y_train,test_data = X_test,test_label = y_test,predictions = y_pred):\n",
        "    plt.scatter(train_data,train_label, c='b')\n",
        "    plt.scatter(test_data,test_label, c='g')\n",
        "    plt.scatter(test_data,predictions, c ='r')\n",
        "    plt.show()\n"
      ],
      "metadata": {
        "id": "Ribck31ePSxY"
      },
      "execution_count": 20,
      "outputs": []
    },
    {
      "cell_type": "code",
      "source": [
        "plot_prediction()"
      ],
      "metadata": {
        "colab": {
          "base_uri": "https://localhost:8080/",
          "height": 430
        },
        "id": "9PxzBeM1RI-c",
        "outputId": "a365ddac-2fa9-4cf0-a536-e2623a024402"
      },
      "execution_count": 21,
      "outputs": [
        {
          "output_type": "display_data",
          "data": {
            "text/plain": [
              "<Figure size 640x480 with 1 Axes>"
            ],
            "image/png": "[encoded data removed]"
          },
          "metadata": {}
        }
      ]
    },
    {
      "cell_type": "markdown",
      "source": [
        "''Evaluate our model on evalution metrics ,for regression problems are MAE , R2, MSE"
      ],
      "metadata": {
        "id": "Da5AiPZ8RL_a"
      }
    },
    {
      "cell_type": "code",
      "source": [
        "model_1.evaluate(X_test,y_test)"
      ],
      "metadata": {
        "colab": {
          "base_uri": "https://localhost:8080/"
        },
        "id": "EJ-buI0bVMk2",
        "outputId": "761f099b-7827-446f-88f2-f8067a767dc1"
      },
      "execution_count": 22,
      "outputs": [
        {
          "output_type": "stream",
          "name": "stdout",
          "text": [
            "1/1 [==============================] - 0s 362ms/step - loss: 14.9394 - mae: 14.9394\n"
          ]
        },
        {
          "output_type": "execute_result",
          "data": {
            "text/plain": [
              "[14.939413070678711, 14.939413070678711]"
            ]
          },
          "metadata": {},
          "execution_count": 22
        }
      ]
    },
    {
      "cell_type": "code",
      "source": [
        "tf.squeeze(y_pred)"
      ],
      "metadata": {
        "colab": {
          "base_uri": "https://localhost:8080/"
        },
        "id": "w5OqhSm5Vr32",
        "outputId": "b68f9b43-ab01-4a91-8f06-ed59472f6069"
      },
      "execution_count": 23,
      "outputs": [
        {
          "output_type": "execute_result",
          "data": {
            "text/plain": [
              "<tf.Tensor: shape=(10,), dtype=float32, numpy=\n",
              "array([56.521362, 60.196747, 63.87213 , 67.547516, 71.22289 , 74.89828 ,\n",
              "       78.57366 , 82.24904 , 85.92442 , 89.59981 ], dtype=float32)>"
            ]
          },
          "metadata": {},
          "execution_count": 23
        }
      ]
    },
    {
      "cell_type": "code",
      "source": [
        "tf.keras.losses.MAE(y_test,y_pred)"
      ],
      "metadata": {
        "colab": {
          "base_uri": "https://localhost:8080/"
        },
        "id": "jqgJo2ncUMTm",
        "outputId": "cb9f21f6-a3d0-40ae-a806-9bb307bf0afd"
      },
      "execution_count": 24,
      "outputs": [
        {
          "output_type": "execute_result",
          "data": {
            "text/plain": [
              "<tf.Tensor: shape=(10,), dtype=float32, numpy=\n",
              "array([31.478638, 27.803253, 24.127869, 20.452484, 17.021687, 14.261034,\n",
              "       12.170535, 10.750193, 10.015116, 10.      ], dtype=float32)>"
            ]
          },
          "metadata": {},
          "execution_count": 24
        }
      ]
    },
    {
      "cell_type": "code",
      "source": [
        "mae=tf.metrics.mean_absolute_error(y_test,tf.squeeze(y_pred))"
      ],
      "metadata": {
        "id": "8_Kzt80sUkNq"
      },
      "execution_count": 25,
      "outputs": []
    },
    {
      "cell_type": "code",
      "source": [
        "mae"
      ],
      "metadata": {
        "colab": {
          "base_uri": "https://localhost:8080/"
        },
        "id": "uxYJ4z1eUyJy",
        "outputId": "ceea495e-88ca-4c19-a4b8-d9199988f681"
      },
      "execution_count": 26,
      "outputs": [
        {
          "output_type": "execute_result",
          "data": {
            "text/plain": [
              "<tf.Tensor: shape=(), dtype=float32, numpy=14.939413>"
            ]
          },
          "metadata": {},
          "execution_count": 26
        }
      ]
    },
    {
      "cell_type": "code",
      "source": [
        "mse=tf.keras.losses.MSE(y_test,tf.squeeze(y_pred))\n",
        "mse"
      ],
      "metadata": {
        "colab": {
          "base_uri": "https://localhost:8080/"
        },
        "id": "IapJw8clWVpv",
        "outputId": "47c5e0df-73dc-4b05-b4d9-796b88353af9"
      },
      "execution_count": 27,
      "outputs": [
        {
          "output_type": "execute_result",
          "data": {
            "text/plain": [
              "<tf.Tensor: shape=(), dtype=float32, numpy=224.05547>"
            ]
          },
          "metadata": {},
          "execution_count": 27
        }
      ]
    },
    {
      "cell_type": "code",
      "source": [
        "mse=tf.metrics.mean_squared_error(y_test,tf.squeeze(y_pred))\n",
        "mse"
      ],
      "metadata": {
        "colab": {
          "base_uri": "https://localhost:8080/"
        },
        "id": "q16xkryZWAwy",
        "outputId": "f35102cb-9de9-40ea-bf27-804119e4058c"
      },
      "execution_count": 28,
      "outputs": [
        {
          "output_type": "execute_result",
          "data": {
            "text/plain": [
              "<tf.Tensor: shape=(), dtype=float32, numpy=224.05547>"
            ]
          },
          "metadata": {},
          "execution_count": 28
        }
      ]
    },
    {
      "cell_type": "markdown",
      "source": [
        "Experiments to improve our models\n",
        "''1)gett more data or more oppurtunities to learn pattern between fetures\n",
        "\n",
        "2) more complex model like more hidden layers\n",
        "\n",
        "3)train for longer"
      ],
      "metadata": {
        "id": "ofMJxEZ0j5ZJ"
      }
    },
    {
      "cell_type": "markdown",
      "source": [
        "###3 modelling expeimnet\n",
        "\n",
        "1) same as orginal model 1 layer for 100 epochs\n",
        "\n",
        "2) 2 layers for 100 epochs\n",
        "\n",
        "3) 2 layers  for 500 epochs"
      ],
      "metadata": {
        "id": "V1ZoL0wgki7U"
      }
    },
    {
      "cell_type": "code",
      "source": [
        "##buls model one\n",
        "tf.random.set_seed=42\n",
        "\n",
        "model_1=tf.keras.Sequential([\n",
        "    tf.keras.layers.Dense(1)\n",
        "])\n",
        "\n",
        "model_1.compile(loss=tf.keras.losses.mae,\n",
        "                optimizer=tf.keras.optimizers.SGD(),\n",
        "                metrics=['mae'])\n",
        "\n",
        "model_1.fit(tf.expand_dims(X_train,axis=-1),y_train,epochs =100)"
      ],
      "metadata": {
        "id": "OY420IzKWNjC",
        "colab": {
          "base_uri": "https://localhost:8080/"
        },
        "outputId": "242966ee-07c3-4c88-a98f-aaf869994075"
      },
      "execution_count": 29,
      "outputs": [
        {
          "output_type": "stream",
          "name": "stdout",
          "text": [
            "Epoch 1/100\n",
            "2/2 [==============================] - 1s 12ms/step - loss: 16.4489 - mae: 16.4489\n",
            "Epoch 2/100\n",
            "2/2 [==============================] - 0s 15ms/step - loss: 9.3201 - mae: 9.3201\n",
            "Epoch 3/100\n",
            "2/2 [==============================] - 0s 14ms/step - loss: 12.7861 - mae: 12.7861\n",
            "Epoch 4/100\n",
            "2/2 [==============================] - 0s 32ms/step - loss: 12.1123 - mae: 12.1123\n",
            "Epoch 5/100\n",
            "2/2 [==============================] - 0s 9ms/step - loss: 11.6763 - mae: 11.6763\n",
            "Epoch 6/100\n",
            "2/2 [==============================] - 0s 18ms/step - loss: 11.0577 - mae: 11.0577\n",
            "Epoch 7/100\n",
            "2/2 [==============================] - 0s 22ms/step - loss: 8.7004 - mae: 8.7004\n",
            "Epoch 8/100\n",
            "2/2 [==============================] - 0s 11ms/step - loss: 8.7196 - mae: 8.7196\n",
            "Epoch 9/100\n",
            "2/2 [==============================] - 0s 12ms/step - loss: 9.7020 - mae: 9.7020\n",
            "Epoch 10/100\n",
            "2/2 [==============================] - 0s 18ms/step - loss: 13.5551 - mae: 13.5551\n",
            "Epoch 11/100\n",
            "2/2 [==============================] - 0s 21ms/step - loss: 9.8091 - mae: 9.8091\n",
            "Epoch 12/100\n",
            "2/2 [==============================] - 0s 12ms/step - loss: 9.1660 - mae: 9.1660\n",
            "Epoch 13/100\n",
            "2/2 [==============================] - 0s 9ms/step - loss: 15.0725 - mae: 15.0725\n",
            "Epoch 14/100\n",
            "2/2 [==============================] - 0s 10ms/step - loss: 7.9978 - mae: 7.9978\n",
            "Epoch 15/100\n",
            "2/2 [==============================] - 0s 10ms/step - loss: 8.2969 - mae: 8.2969\n",
            "Epoch 16/100\n",
            "2/2 [==============================] - 0s 15ms/step - loss: 13.1620 - mae: 13.1620\n",
            "Epoch 17/100\n",
            "2/2 [==============================] - 0s 8ms/step - loss: 8.5091 - mae: 8.5091\n",
            "Epoch 18/100\n",
            "2/2 [==============================] - 0s 13ms/step - loss: 13.9795 - mae: 13.9795\n",
            "Epoch 19/100\n",
            "2/2 [==============================] - 0s 23ms/step - loss: 15.6531 - mae: 15.6531\n",
            "Epoch 20/100\n",
            "2/2 [==============================] - 0s 12ms/step - loss: 11.7953 - mae: 11.7953\n",
            "Epoch 21/100\n",
            "2/2 [==============================] - 0s 10ms/step - loss: 11.6884 - mae: 11.6884\n",
            "Epoch 22/100\n",
            "2/2 [==============================] - 0s 12ms/step - loss: 9.8083 - mae: 9.8083\n",
            "Epoch 23/100\n",
            "2/2 [==============================] - 0s 8ms/step - loss: 7.4448 - mae: 7.4448\n",
            "Epoch 24/100\n",
            "2/2 [==============================] - 0s 7ms/step - loss: 7.5493 - mae: 7.5493\n",
            "Epoch 25/100\n",
            "2/2 [==============================] - 0s 10ms/step - loss: 9.3848 - mae: 9.3848\n",
            "Epoch 26/100\n",
            "2/2 [==============================] - 0s 11ms/step - loss: 10.5358 - mae: 10.5358\n",
            "Epoch 27/100\n",
            "2/2 [==============================] - 0s 9ms/step - loss: 7.7201 - mae: 7.7201\n",
            "Epoch 28/100\n",
            "2/2 [==============================] - 0s 7ms/step - loss: 16.5486 - mae: 16.5486\n",
            "Epoch 29/100\n",
            "2/2 [==============================] - 0s 14ms/step - loss: 9.9102 - mae: 9.9102\n",
            "Epoch 30/100\n",
            "2/2 [==============================] - 0s 7ms/step - loss: 11.5138 - mae: 11.5138\n",
            "Epoch 31/100\n",
            "2/2 [==============================] - 0s 12ms/step - loss: 9.8549 - mae: 9.8549\n",
            "Epoch 32/100\n",
            "2/2 [==============================] - 0s 8ms/step - loss: 7.5735 - mae: 7.5735\n",
            "Epoch 33/100\n",
            "2/2 [==============================] - 0s 9ms/step - loss: 9.9807 - mae: 9.9807\n",
            "Epoch 34/100\n",
            "2/2 [==============================] - 0s 8ms/step - loss: 12.3093 - mae: 12.3093\n",
            "Epoch 35/100\n",
            "2/2 [==============================] - 0s 8ms/step - loss: 9.0437 - mae: 9.0437\n",
            "Epoch 36/100\n",
            "2/2 [==============================] - 0s 8ms/step - loss: 9.1358 - mae: 9.1358\n",
            "Epoch 37/100\n",
            "2/2 [==============================] - 0s 11ms/step - loss: 10.7520 - mae: 10.7520\n",
            "Epoch 38/100\n",
            "2/2 [==============================] - 0s 12ms/step - loss: 7.2264 - mae: 7.2264\n",
            "Epoch 39/100\n",
            "2/2 [==============================] - 0s 9ms/step - loss: 9.7560 - mae: 9.7560\n",
            "Epoch 40/100\n",
            "2/2 [==============================] - 0s 10ms/step - loss: 10.5242 - mae: 10.5242\n",
            "Epoch 41/100\n",
            "2/2 [==============================] - 0s 18ms/step - loss: 19.2225 - mae: 19.2225\n",
            "Epoch 42/100\n",
            "2/2 [==============================] - 0s 21ms/step - loss: 7.5149 - mae: 7.5149\n",
            "Epoch 43/100\n",
            "2/2 [==============================] - 0s 16ms/step - loss: 11.7234 - mae: 11.7234\n",
            "Epoch 44/100\n",
            "2/2 [==============================] - 0s 11ms/step - loss: 10.3448 - mae: 10.3448\n",
            "Epoch 45/100\n",
            "2/2 [==============================] - 0s 16ms/step - loss: 8.3961 - mae: 8.3961\n",
            "Epoch 46/100\n",
            "2/2 [==============================] - 0s 10ms/step - loss: 7.7072 - mae: 7.7072\n",
            "Epoch 47/100\n",
            "2/2 [==============================] - 0s 10ms/step - loss: 9.1188 - mae: 9.1188\n",
            "Epoch 48/100\n",
            "2/2 [==============================] - 0s 10ms/step - loss: 8.9451 - mae: 8.9451\n",
            "Epoch 49/100\n",
            "2/2 [==============================] - 0s 11ms/step - loss: 9.8219 - mae: 9.8219\n",
            "Epoch 50/100\n",
            "2/2 [==============================] - 0s 23ms/step - loss: 11.2005 - mae: 11.2005\n",
            "Epoch 51/100\n",
            "2/2 [==============================] - 0s 13ms/step - loss: 17.0768 - mae: 17.0768\n",
            "Epoch 52/100\n",
            "2/2 [==============================] - 0s 25ms/step - loss: 11.5043 - mae: 11.5043\n",
            "Epoch 53/100\n",
            "2/2 [==============================] - 0s 11ms/step - loss: 12.6738 - mae: 12.6738\n",
            "Epoch 54/100\n",
            "2/2 [==============================] - 0s 12ms/step - loss: 8.0704 - mae: 8.0704\n",
            "Epoch 55/100\n",
            "2/2 [==============================] - 0s 14ms/step - loss: 11.2207 - mae: 11.2207\n",
            "Epoch 56/100\n",
            "2/2 [==============================] - 0s 15ms/step - loss: 14.7770 - mae: 14.7770\n",
            "Epoch 57/100\n",
            "2/2 [==============================] - 0s 10ms/step - loss: 9.8808 - mae: 9.8808\n",
            "Epoch 58/100\n",
            "2/2 [==============================] - 0s 11ms/step - loss: 7.6712 - mae: 7.6712\n",
            "Epoch 59/100\n",
            "2/2 [==============================] - 0s 10ms/step - loss: 7.6743 - mae: 7.6743\n",
            "Epoch 60/100\n",
            "2/2 [==============================] - 0s 11ms/step - loss: 9.1458 - mae: 9.1458\n",
            "Epoch 61/100\n",
            "2/2 [==============================] - 0s 11ms/step - loss: 16.7359 - mae: 16.7359\n",
            "Epoch 62/100\n",
            "2/2 [==============================] - 0s 18ms/step - loss: 7.5539 - mae: 7.5539\n",
            "Epoch 63/100\n",
            "2/2 [==============================] - 0s 11ms/step - loss: 9.1653 - mae: 9.1653\n",
            "Epoch 64/100\n",
            "2/2 [==============================] - 0s 11ms/step - loss: 10.0882 - mae: 10.0882\n",
            "Epoch 65/100\n",
            "2/2 [==============================] - 0s 12ms/step - loss: 14.5635 - mae: 14.5635\n",
            "Epoch 66/100\n",
            "2/2 [==============================] - 0s 22ms/step - loss: 12.7629 - mae: 12.7629\n",
            "Epoch 67/100\n",
            "2/2 [==============================] - 0s 11ms/step - loss: 7.8153 - mae: 7.8153\n",
            "Epoch 68/100\n",
            "2/2 [==============================] - 0s 11ms/step - loss: 6.9239 - mae: 6.9239\n",
            "Epoch 69/100\n",
            "2/2 [==============================] - 0s 10ms/step - loss: 8.2745 - mae: 8.2745\n",
            "Epoch 70/100\n",
            "2/2 [==============================] - 0s 12ms/step - loss: 8.8685 - mae: 8.8685\n",
            "Epoch 71/100\n",
            "2/2 [==============================] - 0s 14ms/step - loss: 10.2210 - mae: 10.2210\n",
            "Epoch 72/100\n",
            "2/2 [==============================] - 0s 12ms/step - loss: 10.3918 - mae: 10.3918\n",
            "Epoch 73/100\n",
            "2/2 [==============================] - 0s 10ms/step - loss: 7.2044 - mae: 7.2044\n",
            "Epoch 74/100\n",
            "2/2 [==============================] - 0s 20ms/step - loss: 9.1519 - mae: 9.1519\n",
            "Epoch 75/100\n",
            "2/2 [==============================] - 0s 15ms/step - loss: 11.7202 - mae: 11.7202\n",
            "Epoch 76/100\n",
            "2/2 [==============================] - 0s 12ms/step - loss: 19.6477 - mae: 19.6477\n",
            "Epoch 77/100\n",
            "2/2 [==============================] - 0s 10ms/step - loss: 7.8182 - mae: 7.8182\n",
            "Epoch 78/100\n",
            "2/2 [==============================] - 0s 11ms/step - loss: 10.5924 - mae: 10.5924\n",
            "Epoch 79/100\n",
            "2/2 [==============================] - 0s 10ms/step - loss: 8.7752 - mae: 8.7752\n",
            "Epoch 80/100\n",
            "2/2 [==============================] - 0s 40ms/step - loss: 9.5952 - mae: 9.5952\n",
            "Epoch 81/100\n",
            "2/2 [==============================] - 0s 14ms/step - loss: 8.8975 - mae: 8.8975\n",
            "Epoch 82/100\n",
            "2/2 [==============================] - 0s 11ms/step - loss: 8.9149 - mae: 8.9149\n",
            "Epoch 83/100\n",
            "2/2 [==============================] - 0s 8ms/step - loss: 11.9032 - mae: 11.9032\n",
            "Epoch 84/100\n",
            "2/2 [==============================] - 0s 18ms/step - loss: 12.9422 - mae: 12.9422\n",
            "Epoch 85/100\n",
            "2/2 [==============================] - 0s 12ms/step - loss: 7.2795 - mae: 7.2795\n",
            "Epoch 86/100\n",
            "2/2 [==============================] - 0s 30ms/step - loss: 10.7063 - mae: 10.7063\n",
            "Epoch 87/100\n",
            "2/2 [==============================] - 0s 14ms/step - loss: 7.2577 - mae: 7.2577\n",
            "Epoch 88/100\n",
            "2/2 [==============================] - 0s 17ms/step - loss: 10.0831 - mae: 10.0831\n",
            "Epoch 89/100\n",
            "2/2 [==============================] - 0s 13ms/step - loss: 8.5955 - mae: 8.5955\n",
            "Epoch 90/100\n",
            "2/2 [==============================] - 0s 13ms/step - loss: 7.9551 - mae: 7.9551\n",
            "Epoch 91/100\n",
            "2/2 [==============================] - 0s 11ms/step - loss: 11.5053 - mae: 11.5053\n",
            "Epoch 92/100\n",
            "2/2 [==============================] - 0s 9ms/step - loss: 14.7378 - mae: 14.7378\n",
            "Epoch 93/100\n",
            "2/2 [==============================] - 0s 10ms/step - loss: 8.6171 - mae: 8.6171\n",
            "Epoch 94/100\n",
            "2/2 [==============================] - 0s 11ms/step - loss: 10.5798 - mae: 10.5798\n",
            "Epoch 95/100\n",
            "2/2 [==============================] - 0s 12ms/step - loss: 14.0082 - mae: 14.0082\n",
            "Epoch 96/100\n",
            "2/2 [==============================] - 0s 15ms/step - loss: 14.0159 - mae: 14.0159\n",
            "Epoch 97/100\n",
            "2/2 [==============================] - 0s 12ms/step - loss: 8.7606 - mae: 8.7606\n",
            "Epoch 98/100\n",
            "2/2 [==============================] - 0s 40ms/step - loss: 10.7582 - mae: 10.7582\n",
            "Epoch 99/100\n",
            "2/2 [==============================] - 0s 21ms/step - loss: 9.0677 - mae: 9.0677\n",
            "Epoch 100/100\n",
            "2/2 [==============================] - 0s 25ms/step - loss: 8.0944 - mae: 8.0944\n"
          ]
        },
        {
          "output_type": "execute_result",
          "data": {
            "text/plain": [
              "<keras.src.callbacks.History at 0x7dd95fd74fd0>"
            ]
          },
          "metadata": {},
          "execution_count": 29
        }
      ]
    },
    {
      "cell_type": "code",
      "source": [
        "#make predction for model_1 ie above model and plot\n",
        "\n",
        "y_pred_1= model_1.predict(X_test)\n",
        "plot_prediction(predictions=y_pred_1)"
      ],
      "metadata": {
        "colab": {
          "base_uri": "https://localhost:8080/",
          "height": 485
        },
        "id": "TPfqPg3-mq0J",
        "outputId": "93fd58e3-a364-441f-8074-3b586731768f"
      },
      "execution_count": 30,
      "outputs": [
        {
          "output_type": "stream",
          "name": "stderr",
          "text": [
            "WARNING:tensorflow:5 out of the last 5 calls to <function Model.make_predict_function.<locals>.predict_function at 0x7dd95fff8f70> triggered tf.function retracing. Tracing is expensive and the excessive number of tracings could be due to (1) creating @tf.function repeatedly in a loop, (2) passing tensors with different shapes, (3) passing Python objects instead of tensors. For (1), please define your @tf.function outside of the loop. For (2), @tf.function has reduce_retracing=True option that can avoid unnecessary retracing. For (3), please refer to https://www.tensorflow.org/guide/function#controlling_retracing and https://www.tensorflow.org/api_docs/python/tf/function for  more details.\n"
          ]
        },
        {
          "output_type": "stream",
          "name": "stdout",
          "text": [
            "1/1 [==============================] - 0s 311ms/step\n"
          ]
        },
        {
          "output_type": "display_data",
          "data": {
            "text/plain": [
              "<Figure size 640x480 with 1 Axes>"
            ],
            "image/png": "[encoded data removed]"
          },
          "metadata": {}
        }
      ]
    },
    {
      "cell_type": "code",
      "source": [
        "# calculate the evalution metrics for the same\n",
        "mae_1=tf.metrics.mean_absolute_error(y_test,tf.squeeze(y_pred_1))\n",
        "mse_1=tf.metrics.mean_squared_error(y_test,tf.squeeze(y_pred_1))\n",
        "mae_1,mse_1"
      ],
      "metadata": {
        "colab": {
          "base_uri": "https://localhost:8080/"
        },
        "id": "yUpuFR8tn9EI",
        "outputId": "2c11a120-b7b5-4e02-f488-5d6dbc84e3d0"
      },
      "execution_count": 31,
      "outputs": [
        {
          "output_type": "execute_result",
          "data": {
            "text/plain": [
              "(<tf.Tensor: shape=(), dtype=float32, numpy=6.006366>,\n",
              " <tf.Tensor: shape=(), dtype=float32, numpy=40.72427>)"
            ]
          },
          "metadata": {},
          "execution_count": 31
        }
      ]
    },
    {
      "cell_type": "code",
      "source": [
        "#Build model_2 - 2 layers for 100 epochs\n",
        "tf.random.set_seed=42\n",
        "\n",
        "model_2=tf.keras.Sequential([\n",
        "    tf.keras.layers.Dense(10),\n",
        "    tf.keras.layers.Dense(1)\n",
        "])\n",
        "\n",
        "model_2.compile(loss=tf.keras.losses.mae,\n",
        "                optimizer=tf.keras.optimizers.SGD(),\n",
        "                metrics=['mae'])\n",
        "\n",
        "model_2.fit(tf.expand_dims(X_train,axis=-1),y_train,epochs =100)"
      ],
      "metadata": {
        "colab": {
          "base_uri": "https://localhost:8080/"
        },
        "id": "rQNoLxITwd-w",
        "outputId": "84c67699-3f29-494c-b5e2-f523732c88ab"
      },
      "execution_count": 32,
      "outputs": [
        {
          "output_type": "stream",
          "name": "stdout",
          "text": [
            "Epoch 1/100\n",
            "2/2 [==============================] - 1s 12ms/step - loss: 30.1523 - mae: 30.1523\n",
            "Epoch 2/100\n",
            "2/2 [==============================] - 0s 17ms/step - loss: 36.6640 - mae: 36.6640\n",
            "Epoch 3/100\n",
            "2/2 [==============================] - 0s 12ms/step - loss: 27.9597 - mae: 27.9597\n",
            "Epoch 4/100\n",
            "2/2 [==============================] - 0s 27ms/step - loss: 10.8730 - mae: 10.8730\n",
            "Epoch 5/100\n",
            "2/2 [==============================] - 0s 14ms/step - loss: 17.1349 - mae: 17.1349\n",
            "Epoch 6/100\n",
            "2/2 [==============================] - 0s 13ms/step - loss: 10.6673 - mae: 10.6673\n",
            "Epoch 7/100\n",
            "2/2 [==============================] - 0s 12ms/step - loss: 16.7494 - mae: 16.7494\n",
            "Epoch 8/100\n",
            "2/2 [==============================] - 0s 16ms/step - loss: 13.6215 - mae: 13.6215\n",
            "Epoch 9/100\n",
            "2/2 [==============================] - 0s 17ms/step - loss: 14.9647 - mae: 14.9647\n",
            "Epoch 10/100\n",
            "2/2 [==============================] - 0s 16ms/step - loss: 13.3252 - mae: 13.3252\n",
            "Epoch 11/100\n",
            "2/2 [==============================] - 0s 18ms/step - loss: 28.7453 - mae: 28.7453\n",
            "Epoch 12/100\n",
            "2/2 [==============================] - 0s 23ms/step - loss: 14.9700 - mae: 14.9700\n",
            "Epoch 13/100\n",
            "2/2 [==============================] - 0s 15ms/step - loss: 17.1925 - mae: 17.1925\n",
            "Epoch 14/100\n",
            "2/2 [==============================] - 0s 12ms/step - loss: 19.4136 - mae: 19.4136\n",
            "Epoch 15/100\n",
            "2/2 [==============================] - 0s 13ms/step - loss: 12.1358 - mae: 12.1358\n",
            "Epoch 16/100\n",
            "2/2 [==============================] - 0s 24ms/step - loss: 19.7405 - mae: 19.7405\n",
            "Epoch 17/100\n",
            "2/2 [==============================] - 0s 16ms/step - loss: 12.7350 - mae: 12.7350\n",
            "Epoch 18/100\n",
            "2/2 [==============================] - 0s 17ms/step - loss: 15.6998 - mae: 15.6998\n",
            "Epoch 19/100\n",
            "2/2 [==============================] - 0s 21ms/step - loss: 34.1284 - mae: 34.1284\n",
            "Epoch 20/100\n",
            "2/2 [==============================] - 0s 11ms/step - loss: 11.8573 - mae: 11.8573\n",
            "Epoch 21/100\n",
            "2/2 [==============================] - 0s 20ms/step - loss: 11.6512 - mae: 11.6512\n",
            "Epoch 22/100\n",
            "2/2 [==============================] - 0s 24ms/step - loss: 11.3257 - mae: 11.3257\n",
            "Epoch 23/100\n",
            "2/2 [==============================] - 0s 11ms/step - loss: 16.5415 - mae: 16.5415\n",
            "Epoch 24/100\n",
            "2/2 [==============================] - 0s 19ms/step - loss: 12.8327 - mae: 12.8327\n",
            "Epoch 25/100\n",
            "2/2 [==============================] - 0s 14ms/step - loss: 27.9522 - mae: 27.9522\n",
            "Epoch 26/100\n",
            "2/2 [==============================] - 0s 24ms/step - loss: 10.6690 - mae: 10.6690\n",
            "Epoch 27/100\n",
            "2/2 [==============================] - 0s 11ms/step - loss: 25.8476 - mae: 25.8476\n",
            "Epoch 28/100\n",
            "2/2 [==============================] - 0s 16ms/step - loss: 10.6017 - mae: 10.6017\n",
            "Epoch 29/100\n",
            "2/2 [==============================] - 0s 22ms/step - loss: 11.5798 - mae: 11.5798\n",
            "Epoch 30/100\n",
            "2/2 [==============================] - 0s 13ms/step - loss: 17.8492 - mae: 17.8492\n",
            "Epoch 31/100\n",
            "2/2 [==============================] - 0s 17ms/step - loss: 10.0946 - mae: 10.0946\n",
            "Epoch 32/100\n",
            "2/2 [==============================] - 0s 17ms/step - loss: 30.4232 - mae: 30.4232\n",
            "Epoch 33/100\n",
            "2/2 [==============================] - 0s 18ms/step - loss: 7.3617 - mae: 7.3617\n",
            "Epoch 34/100\n",
            "2/2 [==============================] - 0s 13ms/step - loss: 10.9401 - mae: 10.9401\n",
            "Epoch 35/100\n",
            "2/2 [==============================] - 0s 13ms/step - loss: 12.7259 - mae: 12.7259\n",
            "Epoch 36/100\n",
            "2/2 [==============================] - 0s 11ms/step - loss: 15.7728 - mae: 15.7728\n",
            "Epoch 37/100\n",
            "2/2 [==============================] - 0s 10ms/step - loss: 11.1846 - mae: 11.1846\n",
            "Epoch 38/100\n",
            "2/2 [==============================] - 0s 17ms/step - loss: 21.9005 - mae: 21.9005\n",
            "Epoch 39/100\n",
            "2/2 [==============================] - 0s 9ms/step - loss: 25.4389 - mae: 25.4389\n",
            "Epoch 40/100\n",
            "2/2 [==============================] - 0s 30ms/step - loss: 9.1900 - mae: 9.1900\n",
            "Epoch 41/100\n",
            "2/2 [==============================] - 0s 12ms/step - loss: 13.2490 - mae: 13.2490\n",
            "Epoch 42/100\n",
            "2/2 [==============================] - 0s 15ms/step - loss: 19.3990 - mae: 19.3990\n",
            "Epoch 43/100\n",
            "2/2 [==============================] - 0s 11ms/step - loss: 9.5876 - mae: 9.5876\n",
            "Epoch 44/100\n",
            "2/2 [==============================] - 0s 10ms/step - loss: 26.4348 - mae: 26.4348\n",
            "Epoch 45/100\n",
            "2/2 [==============================] - 0s 11ms/step - loss: 12.2650 - mae: 12.2650\n",
            "Epoch 46/100\n",
            "2/2 [==============================] - 0s 10ms/step - loss: 17.4646 - mae: 17.4646\n",
            "Epoch 47/100\n",
            "2/2 [==============================] - 0s 12ms/step - loss: 14.1069 - mae: 14.1069\n",
            "Epoch 48/100\n",
            "2/2 [==============================] - 0s 21ms/step - loss: 19.4142 - mae: 19.4142\n",
            "Epoch 49/100\n",
            "2/2 [==============================] - 0s 11ms/step - loss: 10.5798 - mae: 10.5798\n",
            "Epoch 50/100\n",
            "2/2 [==============================] - 0s 39ms/step - loss: 14.9675 - mae: 14.9675\n",
            "Epoch 51/100\n",
            "2/2 [==============================] - 0s 31ms/step - loss: 6.9663 - mae: 6.9663\n",
            "Epoch 52/100\n",
            "2/2 [==============================] - 0s 19ms/step - loss: 9.0507 - mae: 9.0507\n",
            "Epoch 53/100\n",
            "2/2 [==============================] - 0s 13ms/step - loss: 16.6320 - mae: 16.6320\n",
            "Epoch 54/100\n",
            "2/2 [==============================] - 0s 15ms/step - loss: 16.8709 - mae: 16.8709\n",
            "Epoch 55/100\n",
            "2/2 [==============================] - 0s 12ms/step - loss: 11.0412 - mae: 11.0412\n",
            "Epoch 56/100\n",
            "2/2 [==============================] - 0s 23ms/step - loss: 11.0293 - mae: 11.0293\n",
            "Epoch 57/100\n",
            "2/2 [==============================] - 0s 34ms/step - loss: 17.2717 - mae: 17.2717\n",
            "Epoch 58/100\n",
            "2/2 [==============================] - 0s 18ms/step - loss: 9.4402 - mae: 9.4402\n",
            "Epoch 59/100\n",
            "2/2 [==============================] - 0s 16ms/step - loss: 15.9545 - mae: 15.9545\n",
            "Epoch 60/100\n",
            "2/2 [==============================] - 0s 18ms/step - loss: 9.9628 - mae: 9.9628\n",
            "Epoch 61/100\n",
            "2/2 [==============================] - 0s 16ms/step - loss: 23.0037 - mae: 23.0037\n",
            "Epoch 62/100\n",
            "2/2 [==============================] - 0s 30ms/step - loss: 6.9521 - mae: 6.9521\n",
            "Epoch 63/100\n",
            "2/2 [==============================] - 0s 33ms/step - loss: 23.9077 - mae: 23.9077\n",
            "Epoch 64/100\n",
            "2/2 [==============================] - 0s 15ms/step - loss: 8.3117 - mae: 8.3117\n",
            "Epoch 65/100\n",
            "2/2 [==============================] - 0s 14ms/step - loss: 15.5668 - mae: 15.5668\n",
            "Epoch 66/100\n",
            "2/2 [==============================] - 0s 20ms/step - loss: 16.8734 - mae: 16.8734\n",
            "Epoch 67/100\n",
            "2/2 [==============================] - 0s 13ms/step - loss: 11.8436 - mae: 11.8436\n",
            "Epoch 68/100\n",
            "2/2 [==============================] - 0s 12ms/step - loss: 9.6830 - mae: 9.6830\n",
            "Epoch 69/100\n",
            "2/2 [==============================] - 0s 13ms/step - loss: 21.9309 - mae: 21.9309\n",
            "Epoch 70/100\n",
            "2/2 [==============================] - 0s 13ms/step - loss: 18.6860 - mae: 18.6860\n",
            "Epoch 71/100\n",
            "2/2 [==============================] - 0s 22ms/step - loss: 11.3967 - mae: 11.3967\n",
            "Epoch 72/100\n",
            "2/2 [==============================] - 0s 15ms/step - loss: 17.1719 - mae: 17.1719\n",
            "Epoch 73/100\n",
            "2/2 [==============================] - 0s 17ms/step - loss: 16.7254 - mae: 16.7254\n",
            "Epoch 74/100\n",
            "2/2 [==============================] - 0s 13ms/step - loss: 8.5018 - mae: 8.5018\n",
            "Epoch 75/100\n",
            "2/2 [==============================] - 0s 13ms/step - loss: 17.5894 - mae: 17.5894\n",
            "Epoch 76/100\n",
            "2/2 [==============================] - 0s 22ms/step - loss: 8.9784 - mae: 8.9784\n",
            "Epoch 77/100\n",
            "2/2 [==============================] - 0s 16ms/step - loss: 26.5989 - mae: 26.5989\n",
            "Epoch 78/100\n",
            "2/2 [==============================] - 0s 17ms/step - loss: 13.2819 - mae: 13.2819\n",
            "Epoch 79/100\n",
            "2/2 [==============================] - 0s 19ms/step - loss: 16.1925 - mae: 16.1925\n",
            "Epoch 80/100\n",
            "2/2 [==============================] - 0s 13ms/step - loss: 10.8305 - mae: 10.8305\n",
            "Epoch 81/100\n",
            "2/2 [==============================] - 0s 12ms/step - loss: 12.7687 - mae: 12.7687\n",
            "Epoch 82/100\n",
            "2/2 [==============================] - 0s 13ms/step - loss: 8.0221 - mae: 8.0221\n",
            "Epoch 83/100\n",
            "2/2 [==============================] - 0s 23ms/step - loss: 11.0281 - mae: 11.0281\n",
            "Epoch 84/100\n",
            "2/2 [==============================] - 0s 23ms/step - loss: 16.5054 - mae: 16.5054\n",
            "Epoch 85/100\n",
            "2/2 [==============================] - 0s 20ms/step - loss: 8.6596 - mae: 8.6596\n",
            "Epoch 86/100\n",
            "2/2 [==============================] - 0s 13ms/step - loss: 24.5377 - mae: 24.5377\n",
            "Epoch 87/100\n",
            "2/2 [==============================] - 0s 10ms/step - loss: 11.6942 - mae: 11.6942\n",
            "Epoch 88/100\n",
            "2/2 [==============================] - 0s 13ms/step - loss: 10.8951 - mae: 10.8951\n",
            "Epoch 89/100\n",
            "2/2 [==============================] - 0s 23ms/step - loss: 17.2060 - mae: 17.2060\n",
            "Epoch 90/100\n",
            "2/2 [==============================] - 0s 27ms/step - loss: 11.0837 - mae: 11.0837\n",
            "Epoch 91/100\n",
            "2/2 [==============================] - 0s 10ms/step - loss: 25.7495 - mae: 25.7495\n",
            "Epoch 92/100\n",
            "2/2 [==============================] - 0s 9ms/step - loss: 10.9961 - mae: 10.9961\n",
            "Epoch 93/100\n",
            "2/2 [==============================] - 0s 17ms/step - loss: 10.3787 - mae: 10.3787\n",
            "Epoch 94/100\n",
            "2/2 [==============================] - 0s 10ms/step - loss: 10.1541 - mae: 10.1541\n",
            "Epoch 95/100\n",
            "2/2 [==============================] - 0s 19ms/step - loss: 30.4789 - mae: 30.4789\n",
            "Epoch 96/100\n",
            "2/2 [==============================] - 0s 15ms/step - loss: 10.8577 - mae: 10.8577\n",
            "Epoch 97/100\n",
            "2/2 [==============================] - 0s 10ms/step - loss: 30.3127 - mae: 30.3127\n",
            "Epoch 98/100\n",
            "2/2 [==============================] - 0s 27ms/step - loss: 8.6276 - mae: 8.6276\n",
            "Epoch 99/100\n",
            "2/2 [==============================] - 0s 11ms/step - loss: 18.0750 - mae: 18.0750\n",
            "Epoch 100/100\n",
            "2/2 [==============================] - 0s 21ms/step - loss: 7.0192 - mae: 7.0192\n"
          ]
        },
        {
          "output_type": "execute_result",
          "data": {
            "text/plain": [
              "<keras.src.callbacks.History at 0x7dd95fc640d0>"
            ]
          },
          "metadata": {},
          "execution_count": 32
        }
      ]
    },
    {
      "cell_type": "code",
      "source": [
        "\n",
        "y_pred_2= model_2.predict(X_test)\n",
        "plot_prediction(predictions=y_pred_2)"
      ],
      "metadata": {
        "colab": {
          "base_uri": "https://localhost:8080/",
          "height": 485
        },
        "id": "cG_CywpzxJF3",
        "outputId": "7af44214-d9f0-4860-d956-5902de9ab54f"
      },
      "execution_count": 33,
      "outputs": [
        {
          "output_type": "stream",
          "name": "stderr",
          "text": [
            "WARNING:tensorflow:6 out of the last 6 calls to <function Model.make_predict_function.<locals>.predict_function at 0x7dd95fcaf400> triggered tf.function retracing. Tracing is expensive and the excessive number of tracings could be due to (1) creating @tf.function repeatedly in a loop, (2) passing tensors with different shapes, (3) passing Python objects instead of tensors. For (1), please define your @tf.function outside of the loop. For (2), @tf.function has reduce_retracing=True option that can avoid unnecessary retracing. For (3), please refer to https://www.tensorflow.org/guide/function#controlling_retracing and https://www.tensorflow.org/api_docs/python/tf/function for  more details.\n"
          ]
        },
        {
          "output_type": "stream",
          "name": "stdout",
          "text": [
            "1/1 [==============================] - 0s 190ms/step\n"
          ]
        },
        {
          "output_type": "display_data",
          "data": {
            "text/plain": [
              "<Figure size 640x480 with 1 Axes>"
            ],
            "image/png": "[encoded data removed]"
          },
          "metadata": {}
        }
      ]
    },
    {
      "cell_type": "code",
      "source": [
        "mae_2=tf.metrics.mean_absolute_error(y_test,tf.squeeze(y_pred_2))\n",
        "mse_2=tf.metrics.mean_squared_error(y_test,tf.squeeze(y_pred_2))\n",
        "mae_2,mse_2"
      ],
      "metadata": {
        "colab": {
          "base_uri": "https://localhost:8080/"
        },
        "id": "em5Erha7xKpR",
        "outputId": "5ff50e17-56c6-46f8-9d8d-40591f405224"
      },
      "execution_count": 34,
      "outputs": [
        {
          "output_type": "execute_result",
          "data": {
            "text/plain": [
              "(<tf.Tensor: shape=(), dtype=float32, numpy=36.425514>,\n",
              " <tf.Tensor: shape=(), dtype=float32, numpy=1343.8293>)"
            ]
          },
          "metadata": {},
          "execution_count": 34
        }
      ]
    },
    {
      "cell_type": "code",
      "source": [
        "#Build model_3 - 2 layers for 500 epochs\n",
        "tf.random.set_seed=42\n",
        "\n",
        "model_3=tf.keras.Sequential([\n",
        "    tf.keras.layers.Dense(10),\n",
        "    tf.keras.layers.Dense(1)\n",
        "])\n",
        "\n",
        "model_3.compile(loss=tf.keras.losses.mae,\n",
        "                optimizer=tf.keras.optimizers.SGD(),\n",
        "                metrics=['mae'])\n",
        "\n",
        "model_3.fit(tf.expand_dims(X_train,axis=-1),y_train,epochs =500)"
      ],
      "metadata": {
        "colab": {
          "base_uri": "https://localhost:8080/"
        },
        "id": "ZQvymcmbyEJH",
        "outputId": "b046fe83-4b62-4ceb-8894-63b39a72a9a9"
      },
      "execution_count": 35,
      "outputs": [
        {
          "output_type": "stream",
          "name": "stdout",
          "text": [
            "Epoch 1/500\n",
            "2/2 [==============================] - 3s 18ms/step - loss: 24.8014 - mae: 24.8014\n",
            "Epoch 2/500\n",
            "2/2 [==============================] - 0s 41ms/step - loss: 20.2916 - mae: 20.2916\n",
            "Epoch 3/500\n",
            "2/2 [==============================] - 0s 26ms/step - loss: 21.8983 - mae: 21.8983\n",
            "Epoch 4/500\n",
            "2/2 [==============================] - 0s 25ms/step - loss: 24.3133 - mae: 24.3133\n",
            "Epoch 5/500\n",
            "2/2 [==============================] - 0s 22ms/step - loss: 24.0535 - mae: 24.0535\n",
            "Epoch 6/500\n",
            "2/2 [==============================] - 0s 16ms/step - loss: 13.1813 - mae: 13.1813\n",
            "Epoch 7/500\n",
            "2/2 [==============================] - 0s 23ms/step - loss: 16.0677 - mae: 16.0677\n",
            "Epoch 8/500\n",
            "2/2 [==============================] - 0s 16ms/step - loss: 18.6566 - mae: 18.6566\n",
            "Epoch 9/500\n",
            "2/2 [==============================] - 0s 30ms/step - loss: 8.4762 - mae: 8.4762\n",
            "Epoch 10/500\n",
            "2/2 [==============================] - 0s 22ms/step - loss: 14.3243 - mae: 14.3243\n",
            "Epoch 11/500\n",
            "2/2 [==============================] - 0s 25ms/step - loss: 12.5175 - mae: 12.5175\n",
            "Epoch 12/500\n",
            "2/2 [==============================] - 0s 28ms/step - loss: 13.6227 - mae: 13.6227\n",
            "Epoch 13/500\n",
            "2/2 [==============================] - 0s 40ms/step - loss: 12.8776 - mae: 12.8776\n",
            "Epoch 14/500\n",
            "2/2 [==============================] - 0s 23ms/step - loss: 10.5766 - mae: 10.5766\n",
            "Epoch 15/500\n",
            "2/2 [==============================] - 0s 40ms/step - loss: 12.7187 - mae: 12.7187\n",
            "Epoch 16/500\n",
            "2/2 [==============================] - 0s 41ms/step - loss: 15.5454 - mae: 15.5454\n",
            "Epoch 17/500\n",
            "2/2 [==============================] - 0s 29ms/step - loss: 15.9358 - mae: 15.9358\n",
            "Epoch 18/500\n",
            "2/2 [==============================] - 0s 44ms/step - loss: 10.8580 - mae: 10.8580\n",
            "Epoch 19/500\n",
            "2/2 [==============================] - 0s 39ms/step - loss: 9.1916 - mae: 9.1916\n",
            "Epoch 20/500\n",
            "2/2 [==============================] - 0s 33ms/step - loss: 21.5348 - mae: 21.5348\n",
            "Epoch 21/500\n",
            "2/2 [==============================] - 0s 24ms/step - loss: 34.5002 - mae: 34.5002\n",
            "Epoch 22/500\n",
            "2/2 [==============================] - 0s 14ms/step - loss: 9.6375 - mae: 9.6375\n",
            "Epoch 23/500\n",
            "2/2 [==============================] - 0s 19ms/step - loss: 18.5136 - mae: 18.5136\n",
            "Epoch 24/500\n",
            "2/2 [==============================] - 0s 13ms/step - loss: 12.2306 - mae: 12.2306\n",
            "Epoch 25/500\n",
            "2/2 [==============================] - 0s 22ms/step - loss: 13.2857 - mae: 13.2857\n",
            "Epoch 26/500\n",
            "2/2 [==============================] - 0s 22ms/step - loss: 29.0292 - mae: 29.0292\n",
            "Epoch 27/500\n",
            "2/2 [==============================] - 0s 15ms/step - loss: 13.2498 - mae: 13.2498\n",
            "Epoch 28/500\n",
            "2/2 [==============================] - 0s 25ms/step - loss: 14.6982 - mae: 14.6982\n",
            "Epoch 29/500\n",
            "2/2 [==============================] - 0s 15ms/step - loss: 9.8829 - mae: 9.8829\n",
            "Epoch 30/500\n",
            "2/2 [==============================] - 0s 13ms/step - loss: 12.7013 - mae: 12.7013\n",
            "Epoch 31/500\n",
            "2/2 [==============================] - 0s 16ms/step - loss: 10.1505 - mae: 10.1505\n",
            "Epoch 32/500\n",
            "2/2 [==============================] - 0s 26ms/step - loss: 12.9389 - mae: 12.9389\n",
            "Epoch 33/500\n",
            "2/2 [==============================] - 0s 11ms/step - loss: 10.8868 - mae: 10.8868\n",
            "Epoch 34/500\n",
            "2/2 [==============================] - 0s 11ms/step - loss: 21.4892 - mae: 21.4892\n",
            "Epoch 35/500\n",
            "2/2 [==============================] - 0s 11ms/step - loss: 10.3539 - mae: 10.3539\n",
            "Epoch 36/500\n",
            "2/2 [==============================] - 0s 17ms/step - loss: 10.4970 - mae: 10.4970\n",
            "Epoch 37/500\n",
            "2/2 [==============================] - 0s 24ms/step - loss: 21.5945 - mae: 21.5945\n",
            "Epoch 38/500\n",
            "2/2 [==============================] - 0s 27ms/step - loss: 26.1201 - mae: 26.1201\n",
            "Epoch 39/500\n",
            "2/2 [==============================] - 0s 17ms/step - loss: 9.3114 - mae: 9.3114\n",
            "Epoch 40/500\n",
            "2/2 [==============================] - 0s 8ms/step - loss: 16.8216 - mae: 16.8216\n",
            "Epoch 41/500\n",
            "2/2 [==============================] - 0s 15ms/step - loss: 15.6720 - mae: 15.6720\n",
            "Epoch 42/500\n",
            "2/2 [==============================] - 0s 12ms/step - loss: 9.4235 - mae: 9.4235\n",
            "Epoch 43/500\n",
            "2/2 [==============================] - 0s 25ms/step - loss: 14.8235 - mae: 14.8235\n",
            "Epoch 44/500\n",
            "2/2 [==============================] - 0s 12ms/step - loss: 12.8362 - mae: 12.8362\n",
            "Epoch 45/500\n",
            "2/2 [==============================] - 0s 17ms/step - loss: 12.2417 - mae: 12.2417\n",
            "Epoch 46/500\n",
            "2/2 [==============================] - 0s 17ms/step - loss: 16.5799 - mae: 16.5799\n",
            "Epoch 47/500\n",
            "2/2 [==============================] - 0s 12ms/step - loss: 13.9243 - mae: 13.9243\n",
            "Epoch 48/500\n",
            "2/2 [==============================] - 0s 17ms/step - loss: 12.4670 - mae: 12.4670\n",
            "Epoch 49/500\n",
            "2/2 [==============================] - 0s 8ms/step - loss: 32.1766 - mae: 32.1766\n",
            "Epoch 50/500\n",
            "2/2 [==============================] - 0s 24ms/step - loss: 12.5856 - mae: 12.5856\n",
            "Epoch 51/500\n",
            "2/2 [==============================] - 0s 22ms/step - loss: 28.7068 - mae: 28.7068\n",
            "Epoch 52/500\n",
            "2/2 [==============================] - 0s 18ms/step - loss: 10.6613 - mae: 10.6613\n",
            "Epoch 53/500\n",
            "2/2 [==============================] - 0s 16ms/step - loss: 20.6666 - mae: 20.6666\n",
            "Epoch 54/500\n",
            "2/2 [==============================] - 0s 11ms/step - loss: 13.9832 - mae: 13.9832\n",
            "Epoch 55/500\n",
            "2/2 [==============================] - 0s 12ms/step - loss: 18.7150 - mae: 18.7150\n",
            "Epoch 56/500\n",
            "2/2 [==============================] - 0s 17ms/step - loss: 14.3710 - mae: 14.3710\n",
            "Epoch 57/500\n",
            "2/2 [==============================] - 0s 19ms/step - loss: 11.1388 - mae: 11.1388\n",
            "Epoch 58/500\n",
            "2/2 [==============================] - 0s 27ms/step - loss: 25.0987 - mae: 25.0987\n",
            "Epoch 59/500\n",
            "2/2 [==============================] - 0s 15ms/step - loss: 12.8665 - mae: 12.8665\n",
            "Epoch 60/500\n",
            "2/2 [==============================] - 0s 18ms/step - loss: 15.3108 - mae: 15.3108\n",
            "Epoch 61/500\n",
            "2/2 [==============================] - 0s 26ms/step - loss: 7.9864 - mae: 7.9864\n",
            "Epoch 62/500\n",
            "2/2 [==============================] - 0s 23ms/step - loss: 25.7319 - mae: 25.7319\n",
            "Epoch 63/500\n",
            "2/2 [==============================] - 0s 14ms/step - loss: 22.4179 - mae: 22.4179\n",
            "Epoch 64/500\n",
            "2/2 [==============================] - 0s 17ms/step - loss: 9.2656 - mae: 9.2656\n",
            "Epoch 65/500\n",
            "2/2 [==============================] - 0s 23ms/step - loss: 25.6962 - mae: 25.6962\n",
            "Epoch 66/500\n",
            "2/2 [==============================] - 0s 12ms/step - loss: 19.4259 - mae: 19.4259\n",
            "Epoch 67/500\n",
            "2/2 [==============================] - 0s 14ms/step - loss: 12.5339 - mae: 12.5339\n",
            "Epoch 68/500\n",
            "2/2 [==============================] - 0s 14ms/step - loss: 23.4714 - mae: 23.4714\n",
            "Epoch 69/500\n",
            "2/2 [==============================] - 0s 12ms/step - loss: 11.5117 - mae: 11.5117\n",
            "Epoch 70/500\n",
            "2/2 [==============================] - 0s 12ms/step - loss: 9.4075 - mae: 9.4075\n",
            "Epoch 71/500\n",
            "2/2 [==============================] - 0s 11ms/step - loss: 19.5467 - mae: 19.5467\n",
            "Epoch 72/500\n",
            "2/2 [==============================] - 0s 19ms/step - loss: 11.2979 - mae: 11.2979\n",
            "Epoch 73/500\n",
            "2/2 [==============================] - 0s 8ms/step - loss: 14.5743 - mae: 14.5743\n",
            "Epoch 74/500\n",
            "2/2 [==============================] - 0s 7ms/step - loss: 7.4550 - mae: 7.4550\n",
            "Epoch 75/500\n",
            "2/2 [==============================] - 0s 13ms/step - loss: 15.0690 - mae: 15.0690\n",
            "Epoch 76/500\n",
            "2/2 [==============================] - 0s 10ms/step - loss: 12.5388 - mae: 12.5388\n",
            "Epoch 77/500\n",
            "2/2 [==============================] - 0s 11ms/step - loss: 10.7985 - mae: 10.7985\n",
            "Epoch 78/500\n",
            "2/2 [==============================] - 0s 11ms/step - loss: 23.0282 - mae: 23.0282\n",
            "Epoch 79/500\n",
            "2/2 [==============================] - 0s 12ms/step - loss: 17.3420 - mae: 17.3420\n",
            "Epoch 80/500\n",
            "2/2 [==============================] - 0s 10ms/step - loss: 27.8709 - mae: 27.8709\n",
            "Epoch 81/500\n",
            "2/2 [==============================] - 0s 16ms/step - loss: 9.6750 - mae: 9.6750\n",
            "Epoch 82/500\n",
            "2/2 [==============================] - 0s 18ms/step - loss: 9.4876 - mae: 9.4876\n",
            "Epoch 83/500\n",
            "2/2 [==============================] - 0s 13ms/step - loss: 10.9163 - mae: 10.9163\n",
            "Epoch 84/500\n",
            "2/2 [==============================] - 0s 14ms/step - loss: 23.3895 - mae: 23.3895\n",
            "Epoch 85/500\n",
            "2/2 [==============================] - 0s 25ms/step - loss: 8.4512 - mae: 8.4512\n",
            "Epoch 86/500\n",
            "2/2 [==============================] - 0s 15ms/step - loss: 9.1100 - mae: 9.1100\n",
            "Epoch 87/500\n",
            "2/2 [==============================] - 0s 11ms/step - loss: 22.4841 - mae: 22.4841\n",
            "Epoch 88/500\n",
            "2/2 [==============================] - 0s 20ms/step - loss: 15.0047 - mae: 15.0047\n",
            "Epoch 89/500\n",
            "2/2 [==============================] - 0s 10ms/step - loss: 8.7044 - mae: 8.7044\n",
            "Epoch 90/500\n",
            "2/2 [==============================] - 0s 13ms/step - loss: 16.8779 - mae: 16.8779\n",
            "Epoch 91/500\n",
            "2/2 [==============================] - 0s 22ms/step - loss: 13.2087 - mae: 13.2087\n",
            "Epoch 92/500\n",
            "2/2 [==============================] - 0s 9ms/step - loss: 10.7857 - mae: 10.7857\n",
            "Epoch 93/500\n",
            "2/2 [==============================] - 0s 12ms/step - loss: 10.4973 - mae: 10.4973\n",
            "Epoch 94/500\n",
            "2/2 [==============================] - 0s 13ms/step - loss: 16.0610 - mae: 16.0610\n",
            "Epoch 95/500\n",
            "2/2 [==============================] - 0s 10ms/step - loss: 12.3317 - mae: 12.3317\n",
            "Epoch 96/500\n",
            "2/2 [==============================] - 0s 11ms/step - loss: 15.6690 - mae: 15.6690\n",
            "Epoch 97/500\n",
            "2/2 [==============================] - 0s 13ms/step - loss: 18.3203 - mae: 18.3203\n",
            "Epoch 98/500\n",
            "2/2 [==============================] - 0s 44ms/step - loss: 10.3891 - mae: 10.3891\n",
            "Epoch 99/500\n",
            "2/2 [==============================] - 0s 25ms/step - loss: 22.4635 - mae: 22.4635\n",
            "Epoch 100/500\n",
            "2/2 [==============================] - 0s 21ms/step - loss: 10.1372 - mae: 10.1372\n",
            "Epoch 101/500\n",
            "2/2 [==============================] - 0s 15ms/step - loss: 32.8818 - mae: 32.8818\n",
            "Epoch 102/500\n",
            "2/2 [==============================] - 0s 16ms/step - loss: 9.9504 - mae: 9.9504\n",
            "Epoch 103/500\n",
            "2/2 [==============================] - 0s 26ms/step - loss: 20.5964 - mae: 20.5964\n",
            "Epoch 104/500\n",
            "2/2 [==============================] - 0s 32ms/step - loss: 9.4123 - mae: 9.4123\n",
            "Epoch 105/500\n",
            "2/2 [==============================] - 0s 37ms/step - loss: 19.4274 - mae: 19.4274\n",
            "Epoch 106/500\n",
            "2/2 [==============================] - 0s 17ms/step - loss: 25.7044 - mae: 25.7044\n",
            "Epoch 107/500\n",
            "2/2 [==============================] - 0s 15ms/step - loss: 15.4781 - mae: 15.4781\n",
            "Epoch 108/500\n",
            "2/2 [==============================] - 0s 8ms/step - loss: 8.4156 - mae: 8.4156\n",
            "Epoch 109/500\n",
            "2/2 [==============================] - 0s 24ms/step - loss: 11.4495 - mae: 11.4495\n",
            "Epoch 110/500\n",
            "2/2 [==============================] - 0s 18ms/step - loss: 8.2094 - mae: 8.2094\n",
            "Epoch 111/500\n",
            "2/2 [==============================] - 0s 12ms/step - loss: 29.2139 - mae: 29.2139\n",
            "Epoch 112/500\n",
            "2/2 [==============================] - 0s 13ms/step - loss: 10.2634 - mae: 10.2634\n",
            "Epoch 113/500\n",
            "2/2 [==============================] - 0s 13ms/step - loss: 23.8849 - mae: 23.8849\n",
            "Epoch 114/500\n",
            "2/2 [==============================] - 0s 13ms/step - loss: 9.6189 - mae: 9.6189\n",
            "Epoch 115/500\n",
            "2/2 [==============================] - 0s 18ms/step - loss: 18.0887 - mae: 18.0887\n",
            "Epoch 116/500\n",
            "2/2 [==============================] - 0s 20ms/step - loss: 11.5259 - mae: 11.5259\n",
            "Epoch 117/500\n",
            "2/2 [==============================] - 0s 11ms/step - loss: 19.0175 - mae: 19.0175\n",
            "Epoch 118/500\n",
            "2/2 [==============================] - 0s 18ms/step - loss: 17.7940 - mae: 17.7940\n",
            "Epoch 119/500\n",
            "2/2 [==============================] - 0s 16ms/step - loss: 17.0177 - mae: 17.0177\n",
            "Epoch 120/500\n",
            "2/2 [==============================] - 0s 19ms/step - loss: 15.7869 - mae: 15.7869\n",
            "Epoch 121/500\n",
            "2/2 [==============================] - 0s 16ms/step - loss: 12.4282 - mae: 12.4282\n",
            "Epoch 122/500\n",
            "2/2 [==============================] - 0s 11ms/step - loss: 16.1747 - mae: 16.1747\n",
            "Epoch 123/500\n",
            "2/2 [==============================] - 0s 17ms/step - loss: 14.3356 - mae: 14.3356\n",
            "Epoch 124/500\n",
            "2/2 [==============================] - 0s 11ms/step - loss: 16.1051 - mae: 16.1051\n",
            "Epoch 125/500\n",
            "2/2 [==============================] - 0s 22ms/step - loss: 21.9921 - mae: 21.9921\n",
            "Epoch 126/500\n",
            "2/2 [==============================] - 0s 29ms/step - loss: 16.7974 - mae: 16.7974\n",
            "Epoch 127/500\n",
            "2/2 [==============================] - 0s 16ms/step - loss: 10.0590 - mae: 10.0590\n",
            "Epoch 128/500\n",
            "2/2 [==============================] - 0s 19ms/step - loss: 17.7297 - mae: 17.7297\n",
            "Epoch 129/500\n",
            "2/2 [==============================] - 0s 17ms/step - loss: 13.2931 - mae: 13.2931\n",
            "Epoch 130/500\n",
            "2/2 [==============================] - 0s 17ms/step - loss: 23.1866 - mae: 23.1866\n",
            "Epoch 131/500\n",
            "2/2 [==============================] - 0s 35ms/step - loss: 15.2503 - mae: 15.2503\n",
            "Epoch 132/500\n",
            "2/2 [==============================] - 0s 41ms/step - loss: 13.3807 - mae: 13.3807\n",
            "Epoch 133/500\n",
            "2/2 [==============================] - 0s 24ms/step - loss: 14.4257 - mae: 14.4257\n",
            "Epoch 134/500\n",
            "2/2 [==============================] - 0s 11ms/step - loss: 6.0077 - mae: 6.0077\n",
            "Epoch 135/500\n",
            "2/2 [==============================] - 0s 20ms/step - loss: 12.9525 - mae: 12.9525\n",
            "Epoch 136/500\n",
            "2/2 [==============================] - 0s 14ms/step - loss: 8.2654 - mae: 8.2654\n",
            "Epoch 137/500\n",
            "2/2 [==============================] - 0s 18ms/step - loss: 29.2580 - mae: 29.2580\n",
            "Epoch 138/500\n",
            "2/2 [==============================] - 0s 12ms/step - loss: 9.2887 - mae: 9.2887\n",
            "Epoch 139/500\n",
            "2/2 [==============================] - 0s 16ms/step - loss: 8.4885 - mae: 8.4885\n",
            "Epoch 140/500\n",
            "2/2 [==============================] - 0s 24ms/step - loss: 11.2283 - mae: 11.2283\n",
            "Epoch 141/500\n",
            "2/2 [==============================] - 0s 11ms/step - loss: 14.0246 - mae: 14.0246\n",
            "Epoch 142/500\n",
            "2/2 [==============================] - 0s 11ms/step - loss: 8.0125 - mae: 8.0125\n",
            "Epoch 143/500\n",
            "2/2 [==============================] - 0s 19ms/step - loss: 22.4815 - mae: 22.4815\n",
            "Epoch 144/500\n",
            "2/2 [==============================] - 0s 22ms/step - loss: 10.4663 - mae: 10.4663\n",
            "Epoch 145/500\n",
            "2/2 [==============================] - 0s 10ms/step - loss: 11.4683 - mae: 11.4683\n",
            "Epoch 146/500\n",
            "2/2 [==============================] - 0s 15ms/step - loss: 26.5394 - mae: 26.5394\n",
            "Epoch 147/500\n",
            "2/2 [==============================] - 0s 33ms/step - loss: 22.5236 - mae: 22.5236\n",
            "Epoch 148/500\n",
            "2/2 [==============================] - 0s 13ms/step - loss: 15.6721 - mae: 15.6721\n",
            "Epoch 149/500\n",
            "2/2 [==============================] - 0s 12ms/step - loss: 13.0787 - mae: 13.0787\n",
            "Epoch 150/500\n",
            "2/2 [==============================] - 0s 12ms/step - loss: 12.4408 - mae: 12.4408\n",
            "Epoch 151/500\n",
            "2/2 [==============================] - 0s 14ms/step - loss: 14.6182 - mae: 14.6182\n",
            "Epoch 152/500\n",
            "2/2 [==============================] - 0s 13ms/step - loss: 18.2832 - mae: 18.2832\n",
            "Epoch 153/500\n",
            "2/2 [==============================] - 0s 14ms/step - loss: 10.7084 - mae: 10.7084\n",
            "Epoch 154/500\n",
            "2/2 [==============================] - 0s 12ms/step - loss: 14.9029 - mae: 14.9029\n",
            "Epoch 155/500\n",
            "2/2 [==============================] - 0s 15ms/step - loss: 9.3135 - mae: 9.3135\n",
            "Epoch 156/500\n",
            "2/2 [==============================] - 0s 12ms/step - loss: 14.7446 - mae: 14.7446\n",
            "Epoch 157/500\n",
            "2/2 [==============================] - 0s 12ms/step - loss: 9.6583 - mae: 9.6583\n",
            "Epoch 158/500\n",
            "2/2 [==============================] - 0s 17ms/step - loss: 14.9397 - mae: 14.9397\n",
            "Epoch 159/500\n",
            "2/2 [==============================] - 0s 14ms/step - loss: 11.7207 - mae: 11.7207\n",
            "Epoch 160/500\n",
            "2/2 [==============================] - 0s 33ms/step - loss: 13.2858 - mae: 13.2858\n",
            "Epoch 161/500\n",
            "2/2 [==============================] - 0s 16ms/step - loss: 12.4216 - mae: 12.4216\n",
            "Epoch 162/500\n",
            "2/2 [==============================] - 0s 20ms/step - loss: 11.5181 - mae: 11.5181\n",
            "Epoch 163/500\n",
            "2/2 [==============================] - 0s 17ms/step - loss: 18.1627 - mae: 18.1627\n",
            "Epoch 164/500\n",
            "2/2 [==============================] - 0s 12ms/step - loss: 15.2856 - mae: 15.2856\n",
            "Epoch 165/500\n",
            "2/2 [==============================] - 0s 12ms/step - loss: 13.0210 - mae: 13.0210\n",
            "Epoch 166/500\n",
            "2/2 [==============================] - 0s 12ms/step - loss: 15.3756 - mae: 15.3756\n",
            "Epoch 167/500\n",
            "2/2 [==============================] - 0s 16ms/step - loss: 16.5747 - mae: 16.5747\n",
            "Epoch 168/500\n",
            "2/2 [==============================] - 0s 13ms/step - loss: 25.8414 - mae: 25.8414\n",
            "Epoch 169/500\n",
            "2/2 [==============================] - 0s 22ms/step - loss: 15.8294 - mae: 15.8294\n",
            "Epoch 170/500\n",
            "2/2 [==============================] - 0s 24ms/step - loss: 11.5058 - mae: 11.5058\n",
            "Epoch 171/500\n",
            "2/2 [==============================] - 0s 29ms/step - loss: 19.9633 - mae: 19.9633\n",
            "Epoch 172/500\n",
            "2/2 [==============================] - 0s 13ms/step - loss: 22.3632 - mae: 22.3632\n",
            "Epoch 173/500\n",
            "2/2 [==============================] - 0s 11ms/step - loss: 10.1693 - mae: 10.1693\n",
            "Epoch 174/500\n",
            "2/2 [==============================] - 0s 12ms/step - loss: 19.9267 - mae: 19.9267\n",
            "Epoch 175/500\n",
            "2/2 [==============================] - 0s 11ms/step - loss: 27.5599 - mae: 27.5599\n",
            "Epoch 176/500\n",
            "2/2 [==============================] - 0s 10ms/step - loss: 11.6093 - mae: 11.6093\n",
            "Epoch 177/500\n",
            "2/2 [==============================] - 0s 13ms/step - loss: 5.8766 - mae: 5.8766\n",
            "Epoch 178/500\n",
            "2/2 [==============================] - 0s 12ms/step - loss: 27.7975 - mae: 27.7975\n",
            "Epoch 179/500\n",
            "2/2 [==============================] - 0s 11ms/step - loss: 8.9203 - mae: 8.9203\n",
            "Epoch 180/500\n",
            "2/2 [==============================] - 0s 14ms/step - loss: 22.6797 - mae: 22.6797\n",
            "Epoch 181/500\n",
            "2/2 [==============================] - 0s 18ms/step - loss: 9.1872 - mae: 9.1872\n",
            "Epoch 182/500\n",
            "2/2 [==============================] - 0s 19ms/step - loss: 18.0140 - mae: 18.0140\n",
            "Epoch 183/500\n",
            "2/2 [==============================] - 0s 31ms/step - loss: 12.3487 - mae: 12.3487\n",
            "Epoch 184/500\n",
            "2/2 [==============================] - 0s 12ms/step - loss: 14.1983 - mae: 14.1983\n",
            "Epoch 185/500\n",
            "2/2 [==============================] - 0s 19ms/step - loss: 14.7538 - mae: 14.7538\n",
            "Epoch 186/500\n",
            "2/2 [==============================] - 0s 22ms/step - loss: 8.9395 - mae: 8.9395\n",
            "Epoch 187/500\n",
            "2/2 [==============================] - 0s 18ms/step - loss: 20.6074 - mae: 20.6074\n",
            "Epoch 188/500\n",
            "2/2 [==============================] - 0s 31ms/step - loss: 9.6117 - mae: 9.6117\n",
            "Epoch 189/500\n",
            "2/2 [==============================] - 0s 22ms/step - loss: 12.0381 - mae: 12.0381\n",
            "Epoch 190/500\n",
            "2/2 [==============================] - 0s 26ms/step - loss: 22.5731 - mae: 22.5731\n",
            "Epoch 191/500\n",
            "2/2 [==============================] - 0s 26ms/step - loss: 24.1635 - mae: 24.1635\n",
            "Epoch 192/500\n",
            "2/2 [==============================] - 0s 16ms/step - loss: 8.1955 - mae: 8.1955\n",
            "Epoch 193/500\n",
            "2/2 [==============================] - 0s 15ms/step - loss: 12.4032 - mae: 12.4032\n",
            "Epoch 194/500\n",
            "2/2 [==============================] - 0s 36ms/step - loss: 7.8978 - mae: 7.8978\n",
            "Epoch 195/500\n",
            "2/2 [==============================] - 0s 16ms/step - loss: 20.8384 - mae: 20.8384\n",
            "Epoch 196/500\n",
            "2/2 [==============================] - 0s 20ms/step - loss: 10.5571 - mae: 10.5571\n",
            "Epoch 197/500\n",
            "2/2 [==============================] - 0s 20ms/step - loss: 15.7120 - mae: 15.7120\n",
            "Epoch 198/500\n",
            "2/2 [==============================] - 0s 13ms/step - loss: 12.7524 - mae: 12.7524\n",
            "Epoch 199/500\n",
            "2/2 [==============================] - 0s 20ms/step - loss: 24.4222 - mae: 24.4222\n",
            "Epoch 200/500\n",
            "2/2 [==============================] - 0s 17ms/step - loss: 15.1712 - mae: 15.1712\n",
            "Epoch 201/500\n",
            "2/2 [==============================] - 0s 19ms/step - loss: 10.5352 - mae: 10.5352\n",
            "Epoch 202/500\n",
            "2/2 [==============================] - 0s 9ms/step - loss: 11.2803 - mae: 11.2803\n",
            "Epoch 203/500\n",
            "2/2 [==============================] - 0s 21ms/step - loss: 16.2507 - mae: 16.2507\n",
            "Epoch 204/500\n",
            "2/2 [==============================] - 0s 12ms/step - loss: 7.4078 - mae: 7.4078\n",
            "Epoch 205/500\n",
            "2/2 [==============================] - 0s 19ms/step - loss: 29.3842 - mae: 29.3842\n",
            "Epoch 206/500\n",
            "2/2 [==============================] - 0s 12ms/step - loss: 9.3760 - mae: 9.3760\n",
            "Epoch 207/500\n",
            "2/2 [==============================] - 0s 11ms/step - loss: 23.1617 - mae: 23.1617\n",
            "Epoch 208/500\n",
            "2/2 [==============================] - 0s 14ms/step - loss: 19.6667 - mae: 19.6667\n",
            "Epoch 209/500\n",
            "2/2 [==============================] - 0s 12ms/step - loss: 17.1093 - mae: 17.1093\n",
            "Epoch 210/500\n",
            "2/2 [==============================] - 0s 12ms/step - loss: 8.9113 - mae: 8.9113\n",
            "Epoch 211/500\n",
            "2/2 [==============================] - 0s 11ms/step - loss: 18.8208 - mae: 18.8208\n",
            "Epoch 212/500\n",
            "2/2 [==============================] - 0s 18ms/step - loss: 16.8726 - mae: 16.8726\n",
            "Epoch 213/500\n",
            "2/2 [==============================] - 0s 14ms/step - loss: 10.9595 - mae: 10.9595\n",
            "Epoch 214/500\n",
            "2/2 [==============================] - 0s 13ms/step - loss: 22.1368 - mae: 22.1368\n",
            "Epoch 215/500\n",
            "2/2 [==============================] - 0s 22ms/step - loss: 22.3613 - mae: 22.3613\n",
            "Epoch 216/500\n",
            "2/2 [==============================] - 0s 18ms/step - loss: 7.3290 - mae: 7.3290\n",
            "Epoch 217/500\n",
            "2/2 [==============================] - 0s 21ms/step - loss: 8.8211 - mae: 8.8211\n",
            "Epoch 218/500\n",
            "2/2 [==============================] - 0s 18ms/step - loss: 29.7288 - mae: 29.7288\n",
            "Epoch 219/500\n",
            "2/2 [==============================] - 0s 14ms/step - loss: 12.7368 - mae: 12.7368\n",
            "Epoch 220/500\n",
            "2/2 [==============================] - 0s 25ms/step - loss: 24.2804 - mae: 24.2804\n",
            "Epoch 221/500\n",
            "2/2 [==============================] - 0s 19ms/step - loss: 19.7884 - mae: 19.7884\n",
            "Epoch 222/500\n",
            "2/2 [==============================] - 0s 13ms/step - loss: 6.9342 - mae: 6.9342\n",
            "Epoch 223/500\n",
            "2/2 [==============================] - 0s 16ms/step - loss: 17.4453 - mae: 17.4453\n",
            "Epoch 224/500\n",
            "2/2 [==============================] - 0s 18ms/step - loss: 17.2906 - mae: 17.2906\n",
            "Epoch 225/500\n",
            "2/2 [==============================] - 0s 12ms/step - loss: 12.6569 - mae: 12.6569\n",
            "Epoch 226/500\n",
            "2/2 [==============================] - 0s 19ms/step - loss: 15.7222 - mae: 15.7222\n",
            "Epoch 227/500\n",
            "2/2 [==============================] - 0s 23ms/step - loss: 17.0346 - mae: 17.0346\n",
            "Epoch 228/500\n",
            "2/2 [==============================] - 0s 12ms/step - loss: 14.6897 - mae: 14.6897\n",
            "Epoch 229/500\n",
            "2/2 [==============================] - 0s 11ms/step - loss: 15.2358 - mae: 15.2358\n",
            "Epoch 230/500\n",
            "2/2 [==============================] - 0s 12ms/step - loss: 16.9596 - mae: 16.9596\n",
            "Epoch 231/500\n",
            "2/2 [==============================] - 0s 12ms/step - loss: 20.0305 - mae: 20.0305\n",
            "Epoch 232/500\n",
            "2/2 [==============================] - 0s 17ms/step - loss: 12.8859 - mae: 12.8859\n",
            "Epoch 233/500\n",
            "2/2 [==============================] - 0s 11ms/step - loss: 23.4131 - mae: 23.4131\n",
            "Epoch 234/500\n",
            "2/2 [==============================] - 0s 20ms/step - loss: 19.6592 - mae: 19.6592\n",
            "Epoch 235/500\n",
            "2/2 [==============================] - 0s 12ms/step - loss: 7.8018 - mae: 7.8018\n",
            "Epoch 236/500\n",
            "2/2 [==============================] - 0s 19ms/step - loss: 20.9648 - mae: 20.9648\n",
            "Epoch 237/500\n",
            "2/2 [==============================] - 0s 23ms/step - loss: 10.2150 - mae: 10.2150\n",
            "Epoch 238/500\n",
            "2/2 [==============================] - 0s 48ms/step - loss: 9.3998 - mae: 9.3998\n",
            "Epoch 239/500\n",
            "2/2 [==============================] - 0s 39ms/step - loss: 26.9807 - mae: 26.9807\n",
            "Epoch 240/500\n",
            "2/2 [==============================] - 0s 17ms/step - loss: 18.2680 - mae: 18.2680\n",
            "Epoch 241/500\n",
            "2/2 [==============================] - 0s 9ms/step - loss: 7.8956 - mae: 7.8956\n",
            "Epoch 242/500\n",
            "2/2 [==============================] - 0s 9ms/step - loss: 7.6866 - mae: 7.6866\n",
            "Epoch 243/500\n",
            "2/2 [==============================] - 0s 7ms/step - loss: 35.3477 - mae: 35.3477\n",
            "Epoch 244/500\n",
            "2/2 [==============================] - 0s 17ms/step - loss: 7.6588 - mae: 7.6588\n",
            "Epoch 245/500\n",
            "2/2 [==============================] - 0s 12ms/step - loss: 8.2429 - mae: 8.2429\n",
            "Epoch 246/500\n",
            "2/2 [==============================] - 0s 26ms/step - loss: 18.1849 - mae: 18.1849\n",
            "Epoch 247/500\n",
            "2/2 [==============================] - 0s 20ms/step - loss: 14.2336 - mae: 14.2336\n",
            "Epoch 248/500\n",
            "2/2 [==============================] - 0s 23ms/step - loss: 17.2953 - mae: 17.2953\n",
            "Epoch 249/500\n",
            "2/2 [==============================] - 0s 18ms/step - loss: 9.5321 - mae: 9.5321\n",
            "Epoch 250/500\n",
            "2/2 [==============================] - 0s 16ms/step - loss: 13.8898 - mae: 13.8898\n",
            "Epoch 251/500\n",
            "2/2 [==============================] - 0s 35ms/step - loss: 16.7257 - mae: 16.7257\n",
            "Epoch 252/500\n",
            "2/2 [==============================] - 0s 17ms/step - loss: 7.2933 - mae: 7.2933\n",
            "Epoch 253/500\n",
            "2/2 [==============================] - 0s 17ms/step - loss: 6.3383 - mae: 6.3383\n",
            "Epoch 254/500\n",
            "2/2 [==============================] - 0s 15ms/step - loss: 16.5664 - mae: 16.5664\n",
            "Epoch 255/500\n",
            "2/2 [==============================] - 0s 22ms/step - loss: 19.1481 - mae: 19.1481\n",
            "Epoch 256/500\n",
            "2/2 [==============================] - 0s 15ms/step - loss: 20.0754 - mae: 20.0754\n",
            "Epoch 257/500\n",
            "2/2 [==============================] - 0s 39ms/step - loss: 9.6506 - mae: 9.6506\n",
            "Epoch 258/500\n",
            "2/2 [==============================] - 0s 30ms/step - loss: 32.5697 - mae: 32.5697\n",
            "Epoch 259/500\n",
            "2/2 [==============================] - 0s 35ms/step - loss: 12.0688 - mae: 12.0688\n",
            "Epoch 260/500\n",
            "2/2 [==============================] - 0s 16ms/step - loss: 15.3219 - mae: 15.3219\n",
            "Epoch 261/500\n",
            "2/2 [==============================] - 0s 12ms/step - loss: 21.7693 - mae: 21.7693\n",
            "Epoch 262/500\n",
            "2/2 [==============================] - 0s 13ms/step - loss: 27.2113 - mae: 27.2113\n",
            "Epoch 263/500\n",
            "2/2 [==============================] - 0s 10ms/step - loss: 5.5822 - mae: 5.5822\n",
            "Epoch 264/500\n",
            "2/2 [==============================] - 0s 37ms/step - loss: 33.6469 - mae: 33.6469\n",
            "Epoch 265/500\n",
            "2/2 [==============================] - 0s 25ms/step - loss: 11.4316 - mae: 11.4316\n",
            "Epoch 266/500\n",
            "2/2 [==============================] - 0s 18ms/step - loss: 6.4247 - mae: 6.4247\n",
            "Epoch 267/500\n",
            "2/2 [==============================] - 0s 32ms/step - loss: 7.1361 - mae: 7.1361\n",
            "Epoch 268/500\n",
            "2/2 [==============================] - 0s 15ms/step - loss: 29.2884 - mae: 29.2884\n",
            "Epoch 269/500\n",
            "2/2 [==============================] - 0s 20ms/step - loss: 14.6647 - mae: 14.6647\n",
            "Epoch 270/500\n",
            "2/2 [==============================] - 0s 34ms/step - loss: 11.8792 - mae: 11.8792\n",
            "Epoch 271/500\n",
            "2/2 [==============================] - 0s 26ms/step - loss: 14.0426 - mae: 14.0426\n",
            "Epoch 272/500\n",
            "2/2 [==============================] - 0s 13ms/step - loss: 15.6191 - mae: 15.6191\n",
            "Epoch 273/500\n",
            "2/2 [==============================] - 0s 15ms/step - loss: 32.2613 - mae: 32.2613\n",
            "Epoch 274/500\n",
            "2/2 [==============================] - 0s 43ms/step - loss: 12.8611 - mae: 12.8611\n",
            "Epoch 275/500\n",
            "2/2 [==============================] - 0s 29ms/step - loss: 22.5694 - mae: 22.5694\n",
            "Epoch 276/500\n",
            "2/2 [==============================] - 0s 16ms/step - loss: 23.3879 - mae: 23.3879\n",
            "Epoch 277/500\n",
            "2/2 [==============================] - 0s 15ms/step - loss: 6.9214 - mae: 6.9214\n",
            "Epoch 278/500\n",
            "2/2 [==============================] - 0s 22ms/step - loss: 17.2665 - mae: 17.2665\n",
            "Epoch 279/500\n",
            "2/2 [==============================] - 0s 26ms/step - loss: 15.6000 - mae: 15.6000\n",
            "Epoch 280/500\n",
            "2/2 [==============================] - 0s 34ms/step - loss: 10.5149 - mae: 10.5149\n",
            "Epoch 281/500\n",
            "2/2 [==============================] - 0s 25ms/step - loss: 10.6324 - mae: 10.6324\n",
            "Epoch 282/500\n",
            "2/2 [==============================] - 0s 27ms/step - loss: 15.4247 - mae: 15.4247\n",
            "Epoch 283/500\n",
            "2/2 [==============================] - 0s 20ms/step - loss: 6.8037 - mae: 6.8037\n",
            "Epoch 284/500\n",
            "2/2 [==============================] - 0s 35ms/step - loss: 13.3205 - mae: 13.3205\n",
            "Epoch 285/500\n",
            "2/2 [==============================] - 0s 31ms/step - loss: 9.9043 - mae: 9.9043\n",
            "Epoch 286/500\n",
            "2/2 [==============================] - 0s 20ms/step - loss: 29.4851 - mae: 29.4851\n",
            "Epoch 287/500\n",
            "2/2 [==============================] - 0s 21ms/step - loss: 7.5142 - mae: 7.5142\n",
            "Epoch 288/500\n",
            "2/2 [==============================] - 0s 18ms/step - loss: 21.6337 - mae: 21.6337\n",
            "Epoch 289/500\n",
            "2/2 [==============================] - 0s 20ms/step - loss: 8.5344 - mae: 8.5344\n",
            "Epoch 290/500\n",
            "2/2 [==============================] - 0s 24ms/step - loss: 24.4384 - mae: 24.4384\n",
            "Epoch 291/500\n",
            "2/2 [==============================] - 0s 24ms/step - loss: 9.9714 - mae: 9.9714\n",
            "Epoch 292/500\n",
            "2/2 [==============================] - 0s 31ms/step - loss: 12.0276 - mae: 12.0276\n",
            "Epoch 293/500\n",
            "2/2 [==============================] - 0s 34ms/step - loss: 18.7812 - mae: 18.7812\n",
            "Epoch 294/500\n",
            "2/2 [==============================] - 0s 37ms/step - loss: 27.0982 - mae: 27.0982\n",
            "Epoch 295/500\n",
            "2/2 [==============================] - 0s 50ms/step - loss: 27.8130 - mae: 27.8130\n",
            "Epoch 296/500\n",
            "2/2 [==============================] - 0s 25ms/step - loss: 15.3933 - mae: 15.3933\n",
            "Epoch 297/500\n",
            "2/2 [==============================] - 0s 31ms/step - loss: 12.4682 - mae: 12.4682\n",
            "Epoch 298/500\n",
            "2/2 [==============================] - 0s 45ms/step - loss: 14.2310 - mae: 14.2310\n",
            "Epoch 299/500\n",
            "2/2 [==============================] - 0s 32ms/step - loss: 13.6225 - mae: 13.6225\n",
            "Epoch 300/500\n",
            "2/2 [==============================] - 0s 26ms/step - loss: 25.1218 - mae: 25.1218\n",
            "Epoch 301/500\n",
            "2/2 [==============================] - 0s 21ms/step - loss: 14.7970 - mae: 14.7970\n",
            "Epoch 302/500\n",
            "2/2 [==============================] - 0s 24ms/step - loss: 8.9320 - mae: 8.9320\n",
            "Epoch 303/500\n",
            "2/2 [==============================] - 0s 23ms/step - loss: 11.4448 - mae: 11.4448\n",
            "Epoch 304/500\n",
            "2/2 [==============================] - 0s 35ms/step - loss: 9.8425 - mae: 9.8425\n",
            "Epoch 305/500\n",
            "2/2 [==============================] - 0s 25ms/step - loss: 17.7049 - mae: 17.7049\n",
            "Epoch 306/500\n",
            "2/2 [==============================] - 0s 23ms/step - loss: 29.4140 - mae: 29.4140\n",
            "Epoch 307/500\n",
            "2/2 [==============================] - 0s 37ms/step - loss: 8.0685 - mae: 8.0685\n",
            "Epoch 308/500\n",
            "2/2 [==============================] - 0s 40ms/step - loss: 14.6146 - mae: 14.6146\n",
            "Epoch 309/500\n",
            "2/2 [==============================] - 0s 38ms/step - loss: 8.1470 - mae: 8.1470\n",
            "Epoch 310/500\n",
            "2/2 [==============================] - 0s 28ms/step - loss: 17.2306 - mae: 17.2306\n",
            "Epoch 311/500\n",
            "2/2 [==============================] - 0s 21ms/step - loss: 16.0250 - mae: 16.0250\n",
            "Epoch 312/500\n",
            "2/2 [==============================] - 0s 13ms/step - loss: 14.3156 - mae: 14.3156\n",
            "Epoch 313/500\n",
            "2/2 [==============================] - 0s 18ms/step - loss: 15.1663 - mae: 15.1663\n",
            "Epoch 314/500\n",
            "2/2 [==============================] - 0s 21ms/step - loss: 16.5397 - mae: 16.5397\n",
            "Epoch 315/500\n",
            "2/2 [==============================] - 0s 10ms/step - loss: 15.6121 - mae: 15.6121\n",
            "Epoch 316/500\n",
            "2/2 [==============================] - 0s 23ms/step - loss: 19.8569 - mae: 19.8569\n",
            "Epoch 317/500\n",
            "2/2 [==============================] - 0s 33ms/step - loss: 20.1875 - mae: 20.1875\n",
            "Epoch 318/500\n",
            "2/2 [==============================] - 0s 20ms/step - loss: 9.4759 - mae: 9.4759\n",
            "Epoch 319/500\n",
            "2/2 [==============================] - 0s 18ms/step - loss: 12.2010 - mae: 12.2010\n",
            "Epoch 320/500\n",
            "2/2 [==============================] - 0s 27ms/step - loss: 16.2758 - mae: 16.2758\n",
            "Epoch 321/500\n",
            "2/2 [==============================] - 0s 35ms/step - loss: 48.2841 - mae: 48.2841\n",
            "Epoch 322/500\n",
            "2/2 [==============================] - 0s 20ms/step - loss: 16.0588 - mae: 16.0588\n",
            "Epoch 323/500\n",
            "2/2 [==============================] - 0s 22ms/step - loss: 8.1665 - mae: 8.1665\n",
            "Epoch 324/500\n",
            "2/2 [==============================] - 0s 16ms/step - loss: 25.6739 - mae: 25.6739\n",
            "Epoch 325/500\n",
            "2/2 [==============================] - 0s 21ms/step - loss: 11.5361 - mae: 11.5361\n",
            "Epoch 326/500\n",
            "2/2 [==============================] - 0s 42ms/step - loss: 6.7151 - mae: 6.7151\n",
            "Epoch 327/500\n",
            "2/2 [==============================] - 0s 10ms/step - loss: 11.1424 - mae: 11.1424\n",
            "Epoch 328/500\n",
            "2/2 [==============================] - 0s 16ms/step - loss: 14.4530 - mae: 14.4530\n",
            "Epoch 329/500\n",
            "2/2 [==============================] - 0s 17ms/step - loss: 16.8957 - mae: 16.8957\n",
            "Epoch 330/500\n",
            "2/2 [==============================] - 0s 10ms/step - loss: 8.3047 - mae: 8.3047\n",
            "Epoch 331/500\n",
            "2/2 [==============================] - 0s 16ms/step - loss: 16.7176 - mae: 16.7176\n",
            "Epoch 332/500\n",
            "2/2 [==============================] - 0s 43ms/step - loss: 11.0573 - mae: 11.0573\n",
            "Epoch 333/500\n",
            "2/2 [==============================] - 0s 26ms/step - loss: 18.5154 - mae: 18.5154\n",
            "Epoch 334/500\n",
            "2/2 [==============================] - 0s 24ms/step - loss: 11.7334 - mae: 11.7334\n",
            "Epoch 335/500\n",
            "2/2 [==============================] - 0s 39ms/step - loss: 16.0997 - mae: 16.0997\n",
            "Epoch 336/500\n",
            "2/2 [==============================] - 0s 26ms/step - loss: 16.1879 - mae: 16.1879\n",
            "Epoch 337/500\n",
            "2/2 [==============================] - 0s 23ms/step - loss: 14.9710 - mae: 14.9710\n",
            "Epoch 338/500\n",
            "2/2 [==============================] - 0s 23ms/step - loss: 23.4802 - mae: 23.4802\n",
            "Epoch 339/500\n",
            "2/2 [==============================] - 0s 21ms/step - loss: 20.7627 - mae: 20.7627\n",
            "Epoch 340/500\n",
            "2/2 [==============================] - 0s 18ms/step - loss: 8.7413 - mae: 8.7413\n",
            "Epoch 341/500\n",
            "2/2 [==============================] - 0s 18ms/step - loss: 17.6145 - mae: 17.6145\n",
            "Epoch 342/500\n",
            "2/2 [==============================] - 0s 8ms/step - loss: 7.0070 - mae: 7.0070\n",
            "Epoch 343/500\n",
            "2/2 [==============================] - 0s 11ms/step - loss: 6.9905 - mae: 6.9905\n",
            "Epoch 344/500\n",
            "2/2 [==============================] - 0s 15ms/step - loss: 22.8036 - mae: 22.8036\n",
            "Epoch 345/500\n",
            "2/2 [==============================] - 0s 17ms/step - loss: 6.5939 - mae: 6.5939\n",
            "Epoch 346/500\n",
            "2/2 [==============================] - 0s 9ms/step - loss: 15.6304 - mae: 15.6304\n",
            "Epoch 347/500\n",
            "2/2 [==============================] - 0s 31ms/step - loss: 5.2804 - mae: 5.2804\n",
            "Epoch 348/500\n",
            "2/2 [==============================] - 0s 12ms/step - loss: 17.9020 - mae: 17.9020\n",
            "Epoch 349/500\n",
            "2/2 [==============================] - 0s 11ms/step - loss: 15.5379 - mae: 15.5379\n",
            "Epoch 350/500\n",
            "2/2 [==============================] - 0s 14ms/step - loss: 13.8781 - mae: 13.8781\n",
            "Epoch 351/500\n",
            "2/2 [==============================] - 0s 14ms/step - loss: 12.1566 - mae: 12.1566\n",
            "Epoch 352/500\n",
            "2/2 [==============================] - 0s 21ms/step - loss: 6.3384 - mae: 6.3384\n",
            "Epoch 353/500\n",
            "2/2 [==============================] - 0s 16ms/step - loss: 31.5344 - mae: 31.5344\n",
            "Epoch 354/500\n",
            "2/2 [==============================] - 0s 21ms/step - loss: 10.2892 - mae: 10.2892\n",
            "Epoch 355/500\n",
            "2/2 [==============================] - 0s 20ms/step - loss: 23.6414 - mae: 23.6414\n",
            "Epoch 356/500\n",
            "2/2 [==============================] - 0s 19ms/step - loss: 21.6373 - mae: 21.6373\n",
            "Epoch 357/500\n",
            "2/2 [==============================] - 0s 20ms/step - loss: 10.7635 - mae: 10.7635\n",
            "Epoch 358/500\n",
            "2/2 [==============================] - 0s 20ms/step - loss: 23.1164 - mae: 23.1164\n",
            "Epoch 359/500\n",
            "2/2 [==============================] - 0s 14ms/step - loss: 8.8925 - mae: 8.8925\n",
            "Epoch 360/500\n",
            "2/2 [==============================] - 0s 15ms/step - loss: 17.8568 - mae: 17.8568\n",
            "Epoch 361/500\n",
            "2/2 [==============================] - 0s 14ms/step - loss: 8.7230 - mae: 8.7230\n",
            "Epoch 362/500\n",
            "2/2 [==============================] - 0s 10ms/step - loss: 19.2613 - mae: 19.2613\n",
            "Epoch 363/500\n",
            "2/2 [==============================] - 0s 36ms/step - loss: 37.3062 - mae: 37.3062\n",
            "Epoch 364/500\n",
            "2/2 [==============================] - 0s 15ms/step - loss: 7.2146 - mae: 7.2146\n",
            "Epoch 365/500\n",
            "2/2 [==============================] - 0s 18ms/step - loss: 20.5120 - mae: 20.5120\n",
            "Epoch 366/500\n",
            "2/2 [==============================] - 0s 16ms/step - loss: 12.6103 - mae: 12.6103\n",
            "Epoch 367/500\n",
            "2/2 [==============================] - 0s 16ms/step - loss: 4.4265 - mae: 4.4265\n",
            "Epoch 368/500\n",
            "2/2 [==============================] - 0s 13ms/step - loss: 17.7284 - mae: 17.7284\n",
            "Epoch 369/500\n",
            "2/2 [==============================] - 0s 8ms/step - loss: 18.8710 - mae: 18.8710\n",
            "Epoch 370/500\n",
            "2/2 [==============================] - 0s 7ms/step - loss: 23.0529 - mae: 23.0529\n",
            "Epoch 371/500\n",
            "2/2 [==============================] - 0s 17ms/step - loss: 5.3785 - mae: 5.3785\n",
            "Epoch 372/500\n",
            "2/2 [==============================] - 0s 12ms/step - loss: 19.8307 - mae: 19.8307\n",
            "Epoch 373/500\n",
            "2/2 [==============================] - 0s 8ms/step - loss: 26.0652 - mae: 26.0652\n",
            "Epoch 374/500\n",
            "2/2 [==============================] - 0s 7ms/step - loss: 8.9607 - mae: 8.9607\n",
            "Epoch 375/500\n",
            "2/2 [==============================] - 0s 19ms/step - loss: 24.5850 - mae: 24.5850\n",
            "Epoch 376/500\n",
            "2/2 [==============================] - 0s 7ms/step - loss: 21.6237 - mae: 21.6237\n",
            "Epoch 377/500\n",
            "2/2 [==============================] - 0s 18ms/step - loss: 12.3013 - mae: 12.3013\n",
            "Epoch 378/500\n",
            "2/2 [==============================] - 0s 8ms/step - loss: 10.2349 - mae: 10.2349\n",
            "Epoch 379/500\n",
            "2/2 [==============================] - 0s 7ms/step - loss: 25.0279 - mae: 25.0279\n",
            "Epoch 380/500\n",
            "2/2 [==============================] - 0s 12ms/step - loss: 12.3801 - mae: 12.3801\n",
            "Epoch 381/500\n",
            "2/2 [==============================] - 0s 8ms/step - loss: 6.4053 - mae: 6.4053\n",
            "Epoch 382/500\n",
            "2/2 [==============================] - 0s 7ms/step - loss: 16.3116 - mae: 16.3116\n",
            "Epoch 383/500\n",
            "2/2 [==============================] - 0s 7ms/step - loss: 10.2526 - mae: 10.2526\n",
            "Epoch 384/500\n",
            "2/2 [==============================] - 0s 7ms/step - loss: 26.6409 - mae: 26.6409\n",
            "Epoch 385/500\n",
            "2/2 [==============================] - 0s 8ms/step - loss: 20.8282 - mae: 20.8282\n",
            "Epoch 386/500\n",
            "2/2 [==============================] - 0s 8ms/step - loss: 7.6459 - mae: 7.6459\n",
            "Epoch 387/500\n",
            "2/2 [==============================] - 0s 13ms/step - loss: 25.4876 - mae: 25.4876\n",
            "Epoch 388/500\n",
            "2/2 [==============================] - 0s 7ms/step - loss: 6.3960 - mae: 6.3960\n",
            "Epoch 389/500\n",
            "2/2 [==============================] - 0s 9ms/step - loss: 5.9935 - mae: 5.9935\n",
            "Epoch 390/500\n",
            "2/2 [==============================] - 0s 8ms/step - loss: 23.6451 - mae: 23.6451\n",
            "Epoch 391/500\n",
            "2/2 [==============================] - 0s 11ms/step - loss: 29.0439 - mae: 29.0439\n",
            "Epoch 392/500\n",
            "2/2 [==============================] - 0s 9ms/step - loss: 17.2822 - mae: 17.2822\n",
            "Epoch 393/500\n",
            "2/2 [==============================] - 0s 17ms/step - loss: 12.3849 - mae: 12.3849\n",
            "Epoch 394/500\n",
            "2/2 [==============================] - 0s 19ms/step - loss: 29.1248 - mae: 29.1248\n",
            "Epoch 395/500\n",
            "2/2 [==============================] - 0s 17ms/step - loss: 8.5208 - mae: 8.5208\n",
            "Epoch 396/500\n",
            "2/2 [==============================] - 0s 16ms/step - loss: 23.1221 - mae: 23.1221\n",
            "Epoch 397/500\n",
            "2/2 [==============================] - 0s 18ms/step - loss: 25.2986 - mae: 25.2986\n",
            "Epoch 398/500\n",
            "2/2 [==============================] - 0s 10ms/step - loss: 12.8908 - mae: 12.8908\n",
            "Epoch 399/500\n",
            "2/2 [==============================] - 0s 14ms/step - loss: 15.1961 - mae: 15.1961\n",
            "Epoch 400/500\n",
            "2/2 [==============================] - 0s 14ms/step - loss: 7.6806 - mae: 7.6806\n",
            "Epoch 401/500\n",
            "2/2 [==============================] - 0s 18ms/step - loss: 26.4209 - mae: 26.4209\n",
            "Epoch 402/500\n",
            "2/2 [==============================] - 0s 17ms/step - loss: 9.8383 - mae: 9.8383\n",
            "Epoch 403/500\n",
            "2/2 [==============================] - 0s 9ms/step - loss: 6.5609 - mae: 6.5609\n",
            "Epoch 404/500\n",
            "2/2 [==============================] - 0s 11ms/step - loss: 17.5003 - mae: 17.5003\n",
            "Epoch 405/500\n",
            "2/2 [==============================] - 0s 9ms/step - loss: 18.4945 - mae: 18.4945\n",
            "Epoch 406/500\n",
            "2/2 [==============================] - 0s 7ms/step - loss: 40.1711 - mae: 40.1711\n",
            "Epoch 407/500\n",
            "2/2 [==============================] - 0s 16ms/step - loss: 10.0537 - mae: 10.0537\n",
            "Epoch 408/500\n",
            "2/2 [==============================] - 0s 7ms/step - loss: 20.2551 - mae: 20.2551\n",
            "Epoch 409/500\n",
            "2/2 [==============================] - 0s 24ms/step - loss: 23.8924 - mae: 23.8924\n",
            "Epoch 410/500\n",
            "2/2 [==============================] - 0s 6ms/step - loss: 19.9799 - mae: 19.9799\n",
            "Epoch 411/500\n",
            "2/2 [==============================] - 0s 10ms/step - loss: 31.0538 - mae: 31.0538\n",
            "Epoch 412/500\n",
            "2/2 [==============================] - 0s 12ms/step - loss: 6.4420 - mae: 6.4420\n",
            "Epoch 413/500\n",
            "2/2 [==============================] - 0s 12ms/step - loss: 9.9804 - mae: 9.9804\n",
            "Epoch 414/500\n",
            "2/2 [==============================] - 0s 20ms/step - loss: 15.1932 - mae: 15.1932\n",
            "Epoch 415/500\n",
            "2/2 [==============================] - 0s 14ms/step - loss: 22.2705 - mae: 22.2705\n",
            "Epoch 416/500\n",
            "2/2 [==============================] - 0s 13ms/step - loss: 27.4901 - mae: 27.4901\n",
            "Epoch 417/500\n",
            "2/2 [==============================] - 0s 23ms/step - loss: 14.7788 - mae: 14.7788\n",
            "Epoch 418/500\n",
            "2/2 [==============================] - 0s 23ms/step - loss: 14.9978 - mae: 14.9978\n",
            "Epoch 419/500\n",
            "2/2 [==============================] - 0s 12ms/step - loss: 15.2610 - mae: 15.2610\n",
            "Epoch 420/500\n",
            "2/2 [==============================] - 0s 9ms/step - loss: 19.5781 - mae: 19.5781\n",
            "Epoch 421/500\n",
            "2/2 [==============================] - 0s 10ms/step - loss: 25.9896 - mae: 25.9896\n",
            "Epoch 422/500\n",
            "2/2 [==============================] - 0s 6ms/step - loss: 10.0740 - mae: 10.0740\n",
            "Epoch 423/500\n",
            "2/2 [==============================] - 0s 11ms/step - loss: 14.9916 - mae: 14.9916\n",
            "Epoch 424/500\n",
            "2/2 [==============================] - 0s 22ms/step - loss: 10.2889 - mae: 10.2889\n",
            "Epoch 425/500\n",
            "2/2 [==============================] - 0s 12ms/step - loss: 12.7670 - mae: 12.7670\n",
            "Epoch 426/500\n",
            "2/2 [==============================] - 0s 14ms/step - loss: 12.5641 - mae: 12.5641\n",
            "Epoch 427/500\n",
            "2/2 [==============================] - 0s 16ms/step - loss: 17.3097 - mae: 17.3097\n",
            "Epoch 428/500\n",
            "2/2 [==============================] - 0s 14ms/step - loss: 15.4070 - mae: 15.4070\n",
            "Epoch 429/500\n",
            "2/2 [==============================] - 0s 49ms/step - loss: 24.1472 - mae: 24.1472\n",
            "Epoch 430/500\n",
            "2/2 [==============================] - 0s 11ms/step - loss: 16.6304 - mae: 16.6304\n",
            "Epoch 431/500\n",
            "2/2 [==============================] - 0s 26ms/step - loss: 8.0946 - mae: 8.0946\n",
            "Epoch 432/500\n",
            "2/2 [==============================] - 0s 15ms/step - loss: 28.7051 - mae: 28.7051\n",
            "Epoch 433/500\n",
            "2/2 [==============================] - 0s 14ms/step - loss: 6.8301 - mae: 6.8301\n",
            "Epoch 434/500\n",
            "2/2 [==============================] - 0s 14ms/step - loss: 18.4938 - mae: 18.4938\n",
            "Epoch 435/500\n",
            "2/2 [==============================] - 0s 20ms/step - loss: 6.5338 - mae: 6.5338\n",
            "Epoch 436/500\n",
            "2/2 [==============================] - 0s 12ms/step - loss: 20.4132 - mae: 20.4132\n",
            "Epoch 437/500\n",
            "2/2 [==============================] - 0s 39ms/step - loss: 10.1247 - mae: 10.1247\n",
            "Epoch 438/500\n",
            "2/2 [==============================] - 0s 19ms/step - loss: 16.8939 - mae: 16.8939\n",
            "Epoch 439/500\n",
            "2/2 [==============================] - 0s 23ms/step - loss: 24.5746 - mae: 24.5746\n",
            "Epoch 440/500\n",
            "2/2 [==============================] - 0s 7ms/step - loss: 12.9326 - mae: 12.9326\n",
            "Epoch 441/500\n",
            "2/2 [==============================] - 0s 12ms/step - loss: 18.7548 - mae: 18.7548\n",
            "Epoch 442/500\n",
            "2/2 [==============================] - 0s 17ms/step - loss: 10.0774 - mae: 10.0774\n",
            "Epoch 443/500\n",
            "2/2 [==============================] - 0s 13ms/step - loss: 13.7937 - mae: 13.7937\n",
            "Epoch 444/500\n",
            "2/2 [==============================] - 0s 15ms/step - loss: 24.7958 - mae: 24.7958\n",
            "Epoch 445/500\n",
            "2/2 [==============================] - 0s 11ms/step - loss: 11.9188 - mae: 11.9188\n",
            "Epoch 446/500\n",
            "2/2 [==============================] - 0s 16ms/step - loss: 13.5009 - mae: 13.5009\n",
            "Epoch 447/500\n",
            "2/2 [==============================] - 0s 26ms/step - loss: 17.2982 - mae: 17.2982\n",
            "Epoch 448/500\n",
            "2/2 [==============================] - 0s 20ms/step - loss: 12.7257 - mae: 12.7257\n",
            "Epoch 449/500\n",
            "2/2 [==============================] - 0s 26ms/step - loss: 11.6892 - mae: 11.6892\n",
            "Epoch 450/500\n",
            "2/2 [==============================] - 0s 30ms/step - loss: 14.1663 - mae: 14.1663\n",
            "Epoch 451/500\n",
            "2/2 [==============================] - 0s 12ms/step - loss: 25.8417 - mae: 25.8417\n",
            "Epoch 452/500\n",
            "2/2 [==============================] - 0s 14ms/step - loss: 15.9683 - mae: 15.9683\n",
            "Epoch 453/500\n",
            "2/2 [==============================] - 0s 13ms/step - loss: 7.2552 - mae: 7.2552\n",
            "Epoch 454/500\n",
            "2/2 [==============================] - 0s 8ms/step - loss: 5.3970 - mae: 5.3970\n",
            "Epoch 455/500\n",
            "2/2 [==============================] - 0s 12ms/step - loss: 5.2136 - mae: 5.2136\n",
            "Epoch 456/500\n",
            "2/2 [==============================] - 0s 51ms/step - loss: 17.3971 - mae: 17.3971\n",
            "Epoch 457/500\n",
            "2/2 [==============================] - 0s 10ms/step - loss: 11.2604 - mae: 11.2604\n",
            "Epoch 458/500\n",
            "2/2 [==============================] - 0s 19ms/step - loss: 28.4427 - mae: 28.4427\n",
            "Epoch 459/500\n",
            "2/2 [==============================] - 0s 15ms/step - loss: 7.3849 - mae: 7.3849\n",
            "Epoch 460/500\n",
            "2/2 [==============================] - 0s 28ms/step - loss: 20.7069 - mae: 20.7069\n",
            "Epoch 461/500\n",
            "2/2 [==============================] - 0s 18ms/step - loss: 10.9308 - mae: 10.9308\n",
            "Epoch 462/500\n",
            "2/2 [==============================] - 0s 16ms/step - loss: 13.2735 - mae: 13.2735\n",
            "Epoch 463/500\n",
            "2/2 [==============================] - 0s 16ms/step - loss: 21.1561 - mae: 21.1561\n",
            "Epoch 464/500\n",
            "2/2 [==============================] - 0s 30ms/step - loss: 19.7004 - mae: 19.7004\n",
            "Epoch 465/500\n",
            "2/2 [==============================] - 0s 15ms/step - loss: 10.5220 - mae: 10.5220\n",
            "Epoch 466/500\n",
            "2/2 [==============================] - 0s 13ms/step - loss: 10.2708 - mae: 10.2708\n",
            "Epoch 467/500\n",
            "2/2 [==============================] - 0s 11ms/step - loss: 25.0435 - mae: 25.0435\n",
            "Epoch 468/500\n",
            "2/2 [==============================] - 0s 33ms/step - loss: 16.1403 - mae: 16.1403\n",
            "Epoch 469/500\n",
            "2/2 [==============================] - 0s 18ms/step - loss: 10.8260 - mae: 10.8260\n",
            "Epoch 470/500\n",
            "2/2 [==============================] - 0s 21ms/step - loss: 15.2827 - mae: 15.2827\n",
            "Epoch 471/500\n",
            "2/2 [==============================] - 0s 14ms/step - loss: 19.8941 - mae: 19.8941\n",
            "Epoch 472/500\n",
            "2/2 [==============================] - 0s 33ms/step - loss: 28.2494 - mae: 28.2494\n",
            "Epoch 473/500\n",
            "2/2 [==============================] - 0s 11ms/step - loss: 17.8700 - mae: 17.8700\n",
            "Epoch 474/500\n",
            "2/2 [==============================] - 0s 9ms/step - loss: 7.3172 - mae: 7.3172\n",
            "Epoch 475/500\n",
            "2/2 [==============================] - 0s 9ms/step - loss: 18.6224 - mae: 18.6224\n",
            "Epoch 476/500\n",
            "2/2 [==============================] - 0s 13ms/step - loss: 4.6600 - mae: 4.6600\n",
            "Epoch 477/500\n",
            "2/2 [==============================] - 0s 17ms/step - loss: 14.1331 - mae: 14.1331\n",
            "Epoch 478/500\n",
            "2/2 [==============================] - 0s 19ms/step - loss: 17.9026 - mae: 17.9026\n",
            "Epoch 479/500\n",
            "2/2 [==============================] - 0s 11ms/step - loss: 16.5842 - mae: 16.5842\n",
            "Epoch 480/500\n",
            "2/2 [==============================] - 0s 9ms/step - loss: 14.2165 - mae: 14.2165\n",
            "Epoch 481/500\n",
            "2/2 [==============================] - 0s 15ms/step - loss: 23.7649 - mae: 23.7649\n",
            "Epoch 482/500\n",
            "2/2 [==============================] - 0s 32ms/step - loss: 21.3898 - mae: 21.3898\n",
            "Epoch 483/500\n",
            "2/2 [==============================] - 0s 12ms/step - loss: 15.1408 - mae: 15.1408\n",
            "Epoch 484/500\n",
            "2/2 [==============================] - 0s 19ms/step - loss: 5.9251 - mae: 5.9251\n",
            "Epoch 485/500\n",
            "2/2 [==============================] - 0s 13ms/step - loss: 34.2185 - mae: 34.2185\n",
            "Epoch 486/500\n",
            "2/2 [==============================] - 0s 13ms/step - loss: 7.7680 - mae: 7.7680\n",
            "Epoch 487/500\n",
            "2/2 [==============================] - 0s 21ms/step - loss: 6.3924 - mae: 6.3924\n",
            "Epoch 488/500\n",
            "2/2 [==============================] - 0s 14ms/step - loss: 13.1362 - mae: 13.1362\n",
            "Epoch 489/500\n",
            "2/2 [==============================] - 0s 14ms/step - loss: 11.5239 - mae: 11.5239\n",
            "Epoch 490/500\n",
            "2/2 [==============================] - 0s 11ms/step - loss: 23.1201 - mae: 23.1201\n",
            "Epoch 491/500\n",
            "2/2 [==============================] - 0s 11ms/step - loss: 24.0006 - mae: 24.0006\n",
            "Epoch 492/500\n",
            "2/2 [==============================] - 0s 16ms/step - loss: 11.0568 - mae: 11.0568\n",
            "Epoch 493/500\n",
            "2/2 [==============================] - 0s 14ms/step - loss: 13.6199 - mae: 13.6199\n",
            "Epoch 494/500\n",
            "2/2 [==============================] - 0s 12ms/step - loss: 16.3582 - mae: 16.3582\n",
            "Epoch 495/500\n",
            "2/2 [==============================] - 0s 20ms/step - loss: 14.7233 - mae: 14.7233\n",
            "Epoch 496/500\n",
            "2/2 [==============================] - 0s 14ms/step - loss: 26.0657 - mae: 26.0657\n",
            "Epoch 497/500\n",
            "2/2 [==============================] - 0s 9ms/step - loss: 10.9212 - mae: 10.9212\n",
            "Epoch 498/500\n",
            "2/2 [==============================] - 0s 25ms/step - loss: 6.9413 - mae: 6.9413\n",
            "Epoch 499/500\n",
            "2/2 [==============================] - 0s 6ms/step - loss: 21.2407 - mae: 21.2407\n",
            "Epoch 500/500\n",
            "2/2 [==============================] - 0s 12ms/step - loss: 29.6491 - mae: 29.6491\n"
          ]
        },
        {
          "output_type": "execute_result",
          "data": {
            "text/plain": [
              "<keras.src.callbacks.History at 0x7dd95fa42650>"
            ]
          },
          "metadata": {},
          "execution_count": 35
        }
      ]
    },
    {
      "cell_type": "code",
      "source": [
        "\n",
        "y_pred_3= model_3.predict(X_test)\n",
        "plot_prediction(predictions=y_pred_3)"
      ],
      "metadata": {
        "colab": {
          "base_uri": "https://localhost:8080/",
          "height": 447
        },
        "id": "4ujH6SXLyRMf",
        "outputId": "4df1a6b1-bc8c-4669-ddb0-5d5b71b522e6"
      },
      "execution_count": 36,
      "outputs": [
        {
          "output_type": "stream",
          "name": "stdout",
          "text": [
            "1/1 [==============================] - 0s 53ms/step\n"
          ]
        },
        {
          "output_type": "display_data",
          "data": {
            "text/plain": [
              "<Figure size 640x480 with 1 Axes>"
            ],
            "image/png": "[encoded data removed]"
          },
          "metadata": {}
        }
      ]
    },
    {
      "cell_type": "code",
      "source": [
        "mae_3=tf.metrics.mean_absolute_error(y_test,tf.squeeze(y_pred_3))\n",
        "mse_3=tf.metrics.mean_squared_error(y_test,tf.squeeze(y_pred_3))\n",
        "mae_3,mse_3"
      ],
      "metadata": {
        "colab": {
          "base_uri": "https://localhost:8080/"
        },
        "id": "gJtSY60NyTGD",
        "outputId": "177884f6-e7ee-4776-c67d-d3648ebed54b"
      },
      "execution_count": 37,
      "outputs": [
        {
          "output_type": "execute_result",
          "data": {
            "text/plain": [
              "(<tf.Tensor: shape=(), dtype=float32, numpy=19.259003>,\n",
              " <tf.Tensor: shape=(), dtype=float32, numpy=382.15628>)"
            ]
          },
          "metadata": {},
          "execution_count": 37
        }
      ]
    },
    {
      "cell_type": "markdown",
      "source": [
        "###comparing the results of all the three modles"
      ],
      "metadata": {
        "id": "WWZ-c_oeytjQ"
      }
    },
    {
      "cell_type": "code",
      "source": [
        "#lets built up the models as model data frame\n",
        "import pandas as pd\n",
        "model_results =[['model_1',mae_1.numpy(),mse_1.numpy()],\n",
        "                ['model_2',mae_1.numpy(),mse_2.numpy()],\n",
        "                ['model_3',mae_3.numpy(),mse_3.numpy()]]\n",
        "model_results= pd.DataFrame(model_results,columns=['models','mae','mse'])\n",
        "model_results"
      ],
      "metadata": {
        "colab": {
          "base_uri": "https://localhost:8080/",
          "height": 143
        },
        "id": "5xaRV2qByxzV",
        "outputId": "223ad183-da61-416e-db07-a0e0e16378f3"
      },
      "execution_count": 38,
      "outputs": [
        {
          "output_type": "execute_result",
          "data": {
            "text/plain": [
              "    models        mae          mse\n",
              "0  model_1   6.006366    40.724270\n",
              "1  model_2   6.006366  1343.829346\n",
              "2  model_3  19.259003   382.156281"
            ],
            "text/html": [
              "\n",
              "  <div id=\"df-8f417cbe-b35e-445e-808e-424356403221\" class=\"colab-df-container\">\n",
              "    <div>\n",
              "<style scoped>\n",
              "    .dataframe tbody tr th:only-of-type {\n",
              "        vertical-align: middle;\n",
              "    }\n",
              "\n",
              "    .dataframe tbody tr th {\n",
              "        vertical-align: top;\n",
              "    }\n",
              "\n",
              "    .dataframe thead th {\n",
              "        text-align: right;\n",
              "    }\n",
              "</style>\n",
              "<table border=\"1\" class=\"dataframe\">\n",
              "  <thead>\n",
              "    <tr style=\"text-align: right;\">\n",
              "      <th></th>\n",
              "      <th>models</th>\n",
              "      <th>mae</th>\n",
              "      <th>mse</th>\n",
              "    </tr>\n",
              "  </thead>\n",
              "  <tbody>\n",
              "    <tr>\n",
              "      <th>0</th>\n",
              "      <td>model_1</td>\n",
              "      <td>6.006366</td>\n",
              "      <td>40.724270</td>\n",
              "    </tr>\n",
              "    <tr>\n",
              "      <th>1</th>\n",
              "      <td>model_2</td>\n",
              "      <td>6.006366</td>\n",
              "      <td>1343.829346</td>\n",
              "    </tr>\n",
              "    <tr>\n",
              "      <th>2</th>\n",
              "      <td>model_3</td>\n",
              "      <td>19.259003</td>\n",
              "      <td>382.156281</td>\n",
              "    </tr>\n",
              "  </tbody>\n",
              "</table>\n",
              "</div>\n",
              "    <div class=\"colab-df-buttons\">\n",
              "\n",
              "  <div class=\"colab-df-container\">\n",
              "    <button class=\"colab-df-convert\" onclick=\"convertToInteractive('df-8f417cbe-b35e-445e-808e-424356403221')\"\n",
              "            title=\"Convert this dataframe to an interactive table.\"\n",
              "            style=\"display:none;\">\n",
              "\n",
              "  <svg xmlns=\"http://www.w3.org/2000/svg\" height=\"24px\" viewBox=\"0 -960 960 960\">\n",
              "    <path d=\"M120-120v-720h720v720H120Zm60-500h600v-160H180v160Zm220 220h160v-160H400v160Zm0 220h160v-160H400v160ZM180-400h160v-160H180v160Zm440 0h160v-160H620v160ZM180-180h160v-160H180v160Zm440 0h160v-160H620v160Z\"/>\n",
              "  </svg>\n",
              "    </button>\n",
              "\n",
              "  <style>\n",
              "    .colab-df-container {\n",
              "      display:flex;\n",
              "      gap: 12px;\n",
              "    }\n",
              "\n",
              "    .colab-df-convert {\n",
              "      background-color: #E8F0FE;\n",
              "      border: none;\n",
              "      border-radius: 50%;\n",
              "      cursor: pointer;\n",
              "      display: none;\n",
              "      fill: #1967D2;\n",
              "      height: 32px;\n",
              "      padding: 0 0 0 0;\n",
              "      width: 32px;\n",
              "    }\n",
              "\n",
              "    .colab-df-convert:hover {\n",
              "      background-color: #E2EBFA;\n",
              "      box-shadow: 0px 1px 2px rgba(60, 64, 67, 0.3), 0px 1px 3px 1px rgba(60, 64, 67, 0.15);\n",
              "      fill: #174EA6;\n",
              "    }\n",
              "\n",
              "    .colab-df-buttons div {\n",
              "      margin-bottom: 4px;\n",
              "    }\n",
              "\n",
              "    [theme=dark] .colab-df-convert {\n",
              "      background-color: #3B4455;\n",
              "      fill: #D2E3FC;\n",
              "    }\n",
              "\n",
              "    [theme=dark] .colab-df-convert:hover {\n",
              "      background-color: #434B5C;\n",
              "      box-shadow: 0px 1px 3px 1px rgba(0, 0, 0, 0.15);\n",
              "      filter: drop-shadow(0px 1px 2px rgba(0, 0, 0, 0.3));\n",
              "      fill: #FFFFFF;\n",
              "    }\n",
              "  </style>\n",
              "\n",
              "    <script>\n",
              "      const buttonEl =\n",
              "        document.querySelector('#df-8f417cbe-b35e-445e-808e-424356403221 button.colab-df-convert');\n",
              "      buttonEl.style.display =\n",
              "        google.colab.kernel.accessAllowed ? 'block' : 'none';\n",
              "\n",
              "      async function convertToInteractive(key) {\n",
              "        const element = document.querySelector('#df-8f417cbe-b35e-445e-808e-424356403221');\n",
              "        const dataTable =\n",
              "          await google.colab.kernel.invokeFunction('convertToInteractive',\n",
              "                                                    [key], {});\n",
              "        if (!dataTable) return;\n",
              "\n",
              "        const docLinkHtml = 'Like what you see? Visit the ' +\n",
              "          '<a target=\"_blank\" href=https://colab.research.google.com/notebooks/data_table.ipynb>data table notebook</a>'\n",
              "          + ' to learn more about interactive tables.';\n",
              "        element.innerHTML = '';\n",
              "        dataTable['output_type'] = 'display_data';\n",
              "        await google.colab.output.renderOutput(dataTable, element);\n",
              "        const docLink = document.createElement('div');\n",
              "        docLink.innerHTML = docLinkHtml;\n",
              "        element.appendChild(docLink);\n",
              "      }\n",
              "    </script>\n",
              "  </div>\n",
              "\n",
              "\n",
              "<div id=\"df-5e11f416-236c-4925-9299-fcb6ede9943a\">\n",
              "  <button class=\"colab-df-quickchart\" onclick=\"quickchart('df-5e11f416-236c-4925-9299-fcb6ede9943a')\"\n",
              "            title=\"Suggest charts.\"\n",
              "            style=\"display:none;\">\n",
              "\n",
              "<svg xmlns=\"http://www.w3.org/2000/svg\" height=\"24px\"viewBox=\"0 0 24 24\"\n",
              "     width=\"24px\">\n",
              "    <g>\n",
              "        <path d=\"M19 3H5c-1.1 0-2 .9-2 2v14c0 1.1.9 2 2 2h14c1.1 0 2-.9 2-2V5c0-1.1-.9-2-2-2zM9 17H7v-7h2v7zm4 0h-2V7h2v10zm4 0h-2v-4h2v4z\"/>\n",
              "    </g>\n",
              "</svg>\n",
              "  </button>\n",
              "\n",
              "<style>\n",
              "  .colab-df-quickchart {\n",
              "      --bg-color: #E8F0FE;\n",
              "      --fill-color: #1967D2;\n",
              "      --hover-bg-color: #E2EBFA;\n",
              "      --hover-fill-color: #174EA6;\n",
              "      --disabled-fill-color: #AAA;\n",
              "      --disabled-bg-color: #DDD;\n",
              "  }\n",
              "\n",
              "  [theme=dark] .colab-df-quickchart {\n",
              "      --bg-color: #3B4455;\n",
              "      --fill-color: #D2E3FC;\n",
              "      --hover-bg-color: #434B5C;\n",
              "      --hover-fill-color: #FFFFFF;\n",
              "      --disabled-bg-color: #3B4455;\n",
              "      --disabled-fill-color: #666;\n",
              "  }\n",
              "\n",
              "  .colab-df-quickchart {\n",
              "    background-color: var(--bg-color);\n",
              "    border: none;\n",
              "    border-radius: 50%;\n",
              "    cursor: pointer;\n",
              "    display: none;\n",
              "    fill: var(--fill-color);\n",
              "    height: 32px;\n",
              "    padding: 0;\n",
              "    width: 32px;\n",
              "  }\n",
              "\n",
              "  .colab-df-quickchart:hover {\n",
              "    background-color: var(--hover-bg-color);\n",
              "    box-shadow: 0 1px 2px rgba(60, 64, 67, 0.3), 0 1px 3px 1px rgba(60, 64, 67, 0.15);\n",
              "    fill: var(--button-hover-fill-color);\n",
              "  }\n",
              "\n",
              "  .colab-df-quickchart-complete:disabled,\n",
              "  .colab-df-quickchart-complete:disabled:hover {\n",
              "    background-color: var(--disabled-bg-color);\n",
              "    fill: var(--disabled-fill-color);\n",
              "    box-shadow: none;\n",
              "  }\n",
              "\n",
              "  .colab-df-spinner {\n",
              "    border: 2px solid var(--fill-color);\n",
              "    border-color: transparent;\n",
              "    border-bottom-color: var(--fill-color);\n",
              "    animation:\n",
              "      spin 1s steps(1) infinite;\n",
              "  }\n",
              "\n",
              "  @keyframes spin {\n",
              "    0% {\n",
              "      border-color: transparent;\n",
              "      border-bottom-color: var(--fill-color);\n",
              "      border-left-color: var(--fill-color);\n",
              "    }\n",
              "    20% {\n",
              "      border-color: transparent;\n",
              "      border-left-color: var(--fill-color);\n",
              "      border-top-color: var(--fill-color);\n",
              "    }\n",
              "    30% {\n",
              "      border-color: transparent;\n",
              "      border-left-color: var(--fill-color);\n",
              "      border-top-color: var(--fill-color);\n",
              "      border-right-color: var(--fill-color);\n",
              "    }\n",
              "    40% {\n",
              "      border-color: transparent;\n",
              "      border-right-color: var(--fill-color);\n",
              "      border-top-color: var(--fill-color);\n",
              "    }\n",
              "    60% {\n",
              "      border-color: transparent;\n",
              "      border-right-color: var(--fill-color);\n",
              "    }\n",
              "    80% {\n",
              "      border-color: transparent;\n",
              "      border-right-color: var(--fill-color);\n",
              "      border-bottom-color: var(--fill-color);\n",
              "    }\n",
              "    90% {\n",
              "      border-color: transparent;\n",
              "      border-bottom-color: var(--fill-color);\n",
              "    }\n",
              "  }\n",
              "</style>\n",
              "\n",
              "  <script>\n",
              "    async function quickchart(key) {\n",
              "      const quickchartButtonEl =\n",
              "        document.querySelector('#' + key + ' button');\n",
              "      quickchartButtonEl.disabled = true;  // To prevent multiple clicks.\n",
              "      quickchartButtonEl.classList.add('colab-df-spinner');\n",
              "      try {\n",
              "        const charts = await google.colab.kernel.invokeFunction(\n",
              "            'suggestCharts', [key], {});\n",
              "      } catch (error) {\n",
              "        console.error('Error during call to suggestCharts:', error);\n",
              "      }\n",
              "      quickchartButtonEl.classList.remove('colab-df-spinner');\n",
              "      quickchartButtonEl.classList.add('colab-df-quickchart-complete');\n",
              "    }\n",
              "    (() => {\n",
              "      let quickchartButtonEl =\n",
              "        document.querySelector('#df-5e11f416-236c-4925-9299-fcb6ede9943a button');\n",
              "      quickchartButtonEl.style.display =\n",
              "        google.colab.kernel.accessAllowed ? 'block' : 'none';\n",
              "    })();\n",
              "  </script>\n",
              "</div>\n",
              "    </div>\n",
              "  </div>\n"
            ]
          },
          "metadata": {},
          "execution_count": 38
        }
      ]
    },
    {
      "cell_type": "markdown",
      "source": [
        "above model_2 works best , we have conpared from one small model to big modles to see how each modles preforms\n"
      ],
      "metadata": {
        "id": "AtWQTQtR0jUX"
      }
    },
    {
      "cell_type": "markdown",
      "source": [
        "##Tracking the experiment\n",
        "\n",
        "there are tools which helps to track our experiment\n",
        "*Tensorboard libary to tensor flow to track the experiment\n",
        "*weights and biases tracking all kinds of machine learning models\n"
      ],
      "metadata": {
        "id": "koQWjTfF1B43"
      }
    },
    {
      "cell_type": "markdown",
      "source": [
        "### Saving the models\n",
        "now we undestood that model_2 is the machinelearning model which act good\n",
        "saving our modles helps us to use the model outside the google colab\n",
        " There are two models we can save the format\n",
        "\n",
        " 1)saved modle\n",
        " 2)HDF5 model\n",
        "  "
      ],
      "metadata": {
        "id": "jowk6AqQ1qQ_"
      }
    },
    {
      "cell_type": "code",
      "source": [
        "model_2.save('the_best_model_saved')#if you are using it within tensorflow env then use this"
      ],
      "metadata": {
        "id": "Jz2COpSfzyLt"
      },
      "execution_count": 39,
      "outputs": []
    },
    {
      "cell_type": "code",
      "source": [
        "#save the modle using the HDF5 format,if you want take the modle outside thn the tensorflow env then use this\n",
        "\n",
        "\n",
        "model_2.save('the_best_model_hdf5.h5')"
      ],
      "metadata": {
        "id": "Q9Rjym5r3MRb",
        "colab": {
          "base_uri": "https://localhost:8080/"
        },
        "outputId": "8ac515ad-83e1-4037-9cb2-65f64e8e4f87"
      },
      "execution_count": 40,
      "outputs": [
        {
          "output_type": "stream",
          "name": "stderr",
          "text": [
            "/usr/local/lib/python3.10/dist-packages/keras/src/engine/training.py:3000: UserWarning: You are saving your model as an HDF5 file via `model.save()`. This file format is considered legacy. We recommend using instead the native Keras format, e.g. `model.save('my_model.keras')`.\n",
            "  saving_api.save_model(\n"
          ]
        }
      ]
    },
    {
      "cell_type": "code",
      "source": [
        "#now we can upload the best model and see\n",
        "tf.keras.models.load_model('/content/the_best_model_saved').summary()"
      ],
      "metadata": {
        "colab": {
          "base_uri": "https://localhost:8080/"
        },
        "id": "fjcmVaXW6wzI",
        "outputId": "ef1ebce9-e86c-4042-a975-dfd031fffdea"
      },
      "execution_count": 41,
      "outputs": [
        {
          "output_type": "stream",
          "name": "stdout",
          "text": [
            "Model: \"sequential_6\"\n",
            "_________________________________________________________________\n",
            " Layer (type)                Output Shape              Param #   \n",
            "=================================================================\n",
            " dense_7 (Dense)             (None, 10)                20        \n",
            "                                                                 \n",
            " dense_8 (Dense)             (None, 1)                 11        \n",
            "                                                                 \n",
            "=================================================================\n",
            "Total params: 31 (124.00 Byte)\n",
            "Trainable params: 31 (124.00 Byte)\n",
            "Non-trainable params: 0 (0.00 Byte)\n",
            "_________________________________________________________________\n"
          ]
        }
      ]
    },
    {
      "cell_type": "code",
      "source": [
        "loaded_model = tf.keras.models.load_model('/content/the_best_model_hdf5.h5')\n",
        "loaded_model.summary()"
      ],
      "metadata": {
        "colab": {
          "base_uri": "https://localhost:8080/"
        },
        "id": "yX4YY09_8GC1",
        "outputId": "b2ebf2b8-3f8f-46da-b63f-61b409e21670"
      },
      "execution_count": 42,
      "outputs": [
        {
          "output_type": "stream",
          "name": "stdout",
          "text": [
            "Model: \"sequential_6\"\n",
            "_________________________________________________________________\n",
            " Layer (type)                Output Shape              Param #   \n",
            "=================================================================\n",
            " dense_7 (Dense)             (None, 10)                20        \n",
            "                                                                 \n",
            " dense_8 (Dense)             (None, 1)                 11        \n",
            "                                                                 \n",
            "=================================================================\n",
            "Total params: 31 (124.00 Byte)\n",
            "Trainable params: 31 (124.00 Byte)\n",
            "Non-trainable params: 0 (0.00 Byte)\n",
            "_________________________________________________________________\n"
          ]
        }
      ]
    },
    {
      "cell_type": "code",
      "source": [
        "# checking whether the loaded model and predicted model is having the same predictions.\n",
        "model_2_preds =model_2.predict(X_test)\n",
        "loaded_model_preds = loaded_model.predict(X_test)\n",
        "model_2_preds == loaded_model_preds"
      ],
      "metadata": {
        "colab": {
          "base_uri": "https://localhost:8080/"
        },
        "id": "MrTN1za68L7M",
        "outputId": "328e8c13-4d8b-47c4-e2ad-9206318c5058"
      },
      "execution_count": 43,
      "outputs": [
        {
          "output_type": "stream",
          "name": "stdout",
          "text": [
            "1/1 [==============================] - 0s 24ms/step\n",
            "1/1 [==============================] - 0s 52ms/step\n"
          ]
        },
        {
          "output_type": "execute_result",
          "data": {
            "text/plain": [
              "array([[ True],\n",
              "       [ True],\n",
              "       [ True],\n",
              "       [ True],\n",
              "       [ True],\n",
              "       [ True],\n",
              "       [ True],\n",
              "       [ True],\n",
              "       [ True],\n",
              "       [ True]])"
            ]
          },
          "metadata": {},
          "execution_count": 43
        }
      ]
    },
    {
      "cell_type": "markdown",
      "source": [
        "#Moving on the a Larger Example"
      ],
      "metadata": {
        "id": "IFPWGvmPAyI7"
      }
    },
    {
      "cell_type": "code",
      "source": [
        "insurance_csv = pd.read_csv('https://raw.githubusercontent.com/stedy/Machine-Learning-with-R-datasets/master/insurance.csv')\n",
        "insurance_csv"
      ],
      "metadata": {
        "colab": {
          "base_uri": "https://localhost:8080/",
          "height": 423
        },
        "id": "vq1OA34h_4xE",
        "outputId": "47f9b8c1-af5b-4d10-c552-7ce6a13827a4"
      },
      "execution_count": 44,
      "outputs": [
        {
          "output_type": "execute_result",
          "data": {
            "text/plain": [
              "      age     sex     bmi  children smoker     region      charges\n",
              "0      19  female  27.900         0    yes  southwest  16884.92400\n",
              "1      18    male  33.770         1     no  southeast   1725.55230\n",
              "2      28    male  33.000         3     no  southeast   4449.46200\n",
              "3      33    male  22.705         0     no  northwest  21984.47061\n",
              "4      32    male  28.880         0     no  northwest   3866.85520\n",
              "...   ...     ...     ...       ...    ...        ...          ...\n",
              "1333   50    male  30.970         3     no  northwest  10600.54830\n",
              "1334   18  female  31.920         0     no  northeast   2205.98080\n",
              "1335   18  female  36.850         0     no  southeast   1629.83350\n",
              "1336   21  female  25.800         0     no  southwest   2007.94500\n",
              "1337   61  female  29.070         0    yes  northwest  29141.36030\n",
              "\n",
              "[1338 rows x 7 columns]"
            ],
            "text/html": [
              "\n",
              "  <div id=\"df-ef0e80fb-2df1-44e5-8d53-b6b87f154c0b\" class=\"colab-df-container\">\n",
              "    <div>\n",
              "<style scoped>\n",
              "    .dataframe tbody tr th:only-of-type {\n",
              "        vertical-align: middle;\n",
              "    }\n",
              "\n",
              "    .dataframe tbody tr th {\n",
              "        vertical-align: top;\n",
              "    }\n",
              "\n",
              "    .dataframe thead th {\n",
              "        text-align: right;\n",
              "    }\n",
              "</style>\n",
              "<table border=\"1\" class=\"dataframe\">\n",
              "  <thead>\n",
              "    <tr style=\"text-align: right;\">\n",
              "      <th></th>\n",
              "      <th>age</th>\n",
              "      <th>sex</th>\n",
              "      <th>bmi</th>\n",
              "      <th>children</th>\n",
              "      <th>smoker</th>\n",
              "      <th>region</th>\n",
              "      <th>charges</th>\n",
              "    </tr>\n",
              "  </thead>\n",
              "  <tbody>\n",
              "    <tr>\n",
              "      <th>0</th>\n",
              "      <td>19</td>\n",
              "      <td>female</td>\n",
              "      <td>27.900</td>\n",
              "      <td>0</td>\n",
              "      <td>yes</td>\n",
              "      <td>southwest</td>\n",
              "      <td>16884.92400</td>\n",
              "    </tr>\n",
              "    <tr>\n",
              "      <th>1</th>\n",
              "      <td>18</td>\n",
              "      <td>male</td>\n",
              "      <td>33.770</td>\n",
              "      <td>1</td>\n",
              "      <td>no</td>\n",
              "      <td>southeast</td>\n",
              "      <td>1725.55230</td>\n",
              "    </tr>\n",
              "    <tr>\n",
              "      <th>2</th>\n",
              "      <td>28</td>\n",
              "      <td>male</td>\n",
              "      <td>33.000</td>\n",
              "      <td>3</td>\n",
              "      <td>no</td>\n",
              "      <td>southeast</td>\n",
              "      <td>4449.46200</td>\n",
              "    </tr>\n",
              "    <tr>\n",
              "      <th>3</th>\n",
              "      <td>33</td>\n",
              "      <td>male</td>\n",
              "      <td>22.705</td>\n",
              "      <td>0</td>\n",
              "      <td>no</td>\n",
              "      <td>northwest</td>\n",
              "      <td>21984.47061</td>\n",
              "    </tr>\n",
              "    <tr>\n",
              "      <th>4</th>\n",
              "      <td>32</td>\n",
              "      <td>male</td>\n",
              "      <td>28.880</td>\n",
              "      <td>0</td>\n",
              "      <td>no</td>\n",
              "      <td>northwest</td>\n",
              "      <td>3866.85520</td>\n",
              "    </tr>\n",
              "    <tr>\n",
              "      <th>...</th>\n",
              "      <td>...</td>\n",
              "      <td>...</td>\n",
              "      <td>...</td>\n",
              "      <td>...</td>\n",
              "      <td>...</td>\n",
              "      <td>...</td>\n",
              "      <td>...</td>\n",
              "    </tr>\n",
              "    <tr>\n",
              "      <th>1333</th>\n",
              "      <td>50</td>\n",
              "      <td>male</td>\n",
              "      <td>30.970</td>\n",
              "      <td>3</td>\n",
              "      <td>no</td>\n",
              "      <td>northwest</td>\n",
              "      <td>10600.54830</td>\n",
              "    </tr>\n",
              "    <tr>\n",
              "      <th>1334</th>\n",
              "      <td>18</td>\n",
              "      <td>female</td>\n",
              "      <td>31.920</td>\n",
              "      <td>0</td>\n",
              "      <td>no</td>\n",
              "      <td>northeast</td>\n",
              "      <td>2205.98080</td>\n",
              "    </tr>\n",
              "    <tr>\n",
              "      <th>1335</th>\n",
              "      <td>18</td>\n",
              "      <td>female</td>\n",
              "      <td>36.850</td>\n",
              "      <td>0</td>\n",
              "      <td>no</td>\n",
              "      <td>southeast</td>\n",
              "      <td>1629.83350</td>\n",
              "    </tr>\n",
              "    <tr>\n",
              "      <th>1336</th>\n",
              "      <td>21</td>\n",
              "      <td>female</td>\n",
              "      <td>25.800</td>\n",
              "      <td>0</td>\n",
              "      <td>no</td>\n",
              "      <td>southwest</td>\n",
              "      <td>2007.94500</td>\n",
              "    </tr>\n",
              "    <tr>\n",
              "      <th>1337</th>\n",
              "      <td>61</td>\n",
              "      <td>female</td>\n",
              "      <td>29.070</td>\n",
              "      <td>0</td>\n",
              "      <td>yes</td>\n",
              "      <td>northwest</td>\n",
              "      <td>29141.36030</td>\n",
              "    </tr>\n",
              "  </tbody>\n",
              "</table>\n",
              "<p>1338 rows × 7 columns</p>\n",
              "</div>\n",
              "    <div class=\"colab-df-buttons\">\n",
              "\n",
              "  <div class=\"colab-df-container\">\n",
              "    <button class=\"colab-df-convert\" onclick=\"convertToInteractive('df-ef0e80fb-2df1-44e5-8d53-b6b87f154c0b')\"\n",
              "            title=\"Convert this dataframe to an interactive table.\"\n",
              "            style=\"display:none;\">\n",
              "\n",
              "  <svg xmlns=\"http://www.w3.org/2000/svg\" height=\"24px\" viewBox=\"0 -960 960 960\">\n",
              "    <path d=\"M120-120v-720h720v720H120Zm60-500h600v-160H180v160Zm220 220h160v-160H400v160Zm0 220h160v-160H400v160ZM180-400h160v-160H180v160Zm440 0h160v-160H620v160ZM180-180h160v-160H180v160Zm440 0h160v-160H620v160Z\"/>\n",
              "  </svg>\n",
              "    </button>\n",
              "\n",
              "  <style>\n",
              "    .colab-df-container {\n",
              "      display:flex;\n",
              "      gap: 12px;\n",
              "    }\n",
              "\n",
              "    .colab-df-convert {\n",
              "      background-color: #E8F0FE;\n",
              "      border: none;\n",
              "      border-radius: 50%;\n",
              "      cursor: pointer;\n",
              "      display: none;\n",
              "      fill: #1967D2;\n",
              "      height: 32px;\n",
              "      padding: 0 0 0 0;\n",
              "      width: 32px;\n",
              "    }\n",
              "\n",
              "    .colab-df-convert:hover {\n",
              "      background-color: #E2EBFA;\n",
              "      box-shadow: 0px 1px 2px rgba(60, 64, 67, 0.3), 0px 1px 3px 1px rgba(60, 64, 67, 0.15);\n",
              "      fill: #174EA6;\n",
              "    }\n",
              "\n",
              "    .colab-df-buttons div {\n",
              "      margin-bottom: 4px;\n",
              "    }\n",
              "\n",
              "    [theme=dark] .colab-df-convert {\n",
              "      background-color: #3B4455;\n",
              "      fill: #D2E3FC;\n",
              "    }\n",
              "\n",
              "    [theme=dark] .colab-df-convert:hover {\n",
              "      background-color: #434B5C;\n",
              "      box-shadow: 0px 1px 3px 1px rgba(0, 0, 0, 0.15);\n",
              "      filter: drop-shadow(0px 1px 2px rgba(0, 0, 0, 0.3));\n",
              "      fill: #FFFFFF;\n",
              "    }\n",
              "  </style>\n",
              "\n",
              "    <script>\n",
              "      const buttonEl =\n",
              "        document.querySelector('#df-ef0e80fb-2df1-44e5-8d53-b6b87f154c0b button.colab-df-convert');\n",
              "      buttonEl.style.display =\n",
              "        google.colab.kernel.accessAllowed ? 'block' : 'none';\n",
              "\n",
              "      async function convertToInteractive(key) {\n",
              "        const element = document.querySelector('#df-ef0e80fb-2df1-44e5-8d53-b6b87f154c0b');\n",
              "        const dataTable =\n",
              "          await google.colab.kernel.invokeFunction('convertToInteractive',\n",
              "                                                    [key], {});\n",
              "        if (!dataTable) return;\n",
              "\n",
              "        const docLinkHtml = 'Like what you see? Visit the ' +\n",
              "          '<a target=\"_blank\" href=https://colab.research.google.com/notebooks/data_table.ipynb>data table notebook</a>'\n",
              "          + ' to learn more about interactive tables.';\n",
              "        element.innerHTML = '';\n",
              "        dataTable['output_type'] = 'display_data';\n",
              "        await google.colab.output.renderOutput(dataTable, element);\n",
              "        const docLink = document.createElement('div');\n",
              "        docLink.innerHTML = docLinkHtml;\n",
              "        element.appendChild(docLink);\n",
              "      }\n",
              "    </script>\n",
              "  </div>\n",
              "\n",
              "\n",
              "<div id=\"df-2b8863d5-1708-4a95-89fb-efcfc89bcc70\">\n",
              "  <button class=\"colab-df-quickchart\" onclick=\"quickchart('df-2b8863d5-1708-4a95-89fb-efcfc89bcc70')\"\n",
              "            title=\"Suggest charts.\"\n",
              "            style=\"display:none;\">\n",
              "\n",
              "<svg xmlns=\"http://www.w3.org/2000/svg\" height=\"24px\"viewBox=\"0 0 24 24\"\n",
              "     width=\"24px\">\n",
              "    <g>\n",
              "        <path d=\"M19 3H5c-1.1 0-2 .9-2 2v14c0 1.1.9 2 2 2h14c1.1 0 2-.9 2-2V5c0-1.1-.9-2-2-2zM9 17H7v-7h2v7zm4 0h-2V7h2v10zm4 0h-2v-4h2v4z\"/>\n",
              "    </g>\n",
              "</svg>\n",
              "  </button>\n",
              "\n",
              "<style>\n",
              "  .colab-df-quickchart {\n",
              "      --bg-color: #E8F0FE;\n",
              "      --fill-color: #1967D2;\n",
              "      --hover-bg-color: #E2EBFA;\n",
              "      --hover-fill-color: #174EA6;\n",
              "      --disabled-fill-color: #AAA;\n",
              "      --disabled-bg-color: #DDD;\n",
              "  }\n",
              "\n",
              "  [theme=dark] .colab-df-quickchart {\n",
              "      --bg-color: #3B4455;\n",
              "      --fill-color: #D2E3FC;\n",
              "      --hover-bg-color: #434B5C;\n",
              "      --hover-fill-color: #FFFFFF;\n",
              "      --disabled-bg-color: #3B4455;\n",
              "      --disabled-fill-color: #666;\n",
              "  }\n",
              "\n",
              "  .colab-df-quickchart {\n",
              "    background-color: var(--bg-color);\n",
              "    border: none;\n",
              "    border-radius: 50%;\n",
              "    cursor: pointer;\n",
              "    display: none;\n",
              "    fill: var(--fill-color);\n",
              "    height: 32px;\n",
              "    padding: 0;\n",
              "    width: 32px;\n",
              "  }\n",
              "\n",
              "  .colab-df-quickchart:hover {\n",
              "    background-color: var(--hover-bg-color);\n",
              "    box-shadow: 0 1px 2px rgba(60, 64, 67, 0.3), 0 1px 3px 1px rgba(60, 64, 67, 0.15);\n",
              "    fill: var(--button-hover-fill-color);\n",
              "  }\n",
              "\n",
              "  .colab-df-quickchart-complete:disabled,\n",
              "  .colab-df-quickchart-complete:disabled:hover {\n",
              "    background-color: var(--disabled-bg-color);\n",
              "    fill: var(--disabled-fill-color);\n",
              "    box-shadow: none;\n",
              "  }\n",
              "\n",
              "  .colab-df-spinner {\n",
              "    border: 2px solid var(--fill-color);\n",
              "    border-color: transparent;\n",
              "    border-bottom-color: var(--fill-color);\n",
              "    animation:\n",
              "      spin 1s steps(1) infinite;\n",
              "  }\n",
              "\n",
              "  @keyframes spin {\n",
              "    0% {\n",
              "      border-color: transparent;\n",
              "      border-bottom-color: var(--fill-color);\n",
              "      border-left-color: var(--fill-color);\n",
              "    }\n",
              "    20% {\n",
              "      border-color: transparent;\n",
              "      border-left-color: var(--fill-color);\n",
              "      border-top-color: var(--fill-color);\n",
              "    }\n",
              "    30% {\n",
              "      border-color: transparent;\n",
              "      border-left-color: var(--fill-color);\n",
              "      border-top-color: var(--fill-color);\n",
              "      border-right-color: var(--fill-color);\n",
              "    }\n",
              "    40% {\n",
              "      border-color: transparent;\n",
              "      border-right-color: var(--fill-color);\n",
              "      border-top-color: var(--fill-color);\n",
              "    }\n",
              "    60% {\n",
              "      border-color: transparent;\n",
              "      border-right-color: var(--fill-color);\n",
              "    }\n",
              "    80% {\n",
              "      border-color: transparent;\n",
              "      border-right-color: var(--fill-color);\n",
              "      border-bottom-color: var(--fill-color);\n",
              "    }\n",
              "    90% {\n",
              "      border-color: transparent;\n",
              "      border-bottom-color: var(--fill-color);\n",
              "    }\n",
              "  }\n",
              "</style>\n",
              "\n",
              "  <script>\n",
              "    async function quickchart(key) {\n",
              "      const quickchartButtonEl =\n",
              "        document.querySelector('#' + key + ' button');\n",
              "      quickchartButtonEl.disabled = true;  // To prevent multiple clicks.\n",
              "      quickchartButtonEl.classList.add('colab-df-spinner');\n",
              "      try {\n",
              "        const charts = await google.colab.kernel.invokeFunction(\n",
              "            'suggestCharts', [key], {});\n",
              "      } catch (error) {\n",
              "        console.error('Error during call to suggestCharts:', error);\n",
              "      }\n",
              "      quickchartButtonEl.classList.remove('colab-df-spinner');\n",
              "      quickchartButtonEl.classList.add('colab-df-quickchart-complete');\n",
              "    }\n",
              "    (() => {\n",
              "      let quickchartButtonEl =\n",
              "        document.querySelector('#df-2b8863d5-1708-4a95-89fb-efcfc89bcc70 button');\n",
              "      quickchartButtonEl.style.display =\n",
              "        google.colab.kernel.accessAllowed ? 'block' : 'none';\n",
              "    })();\n",
              "  </script>\n",
              "</div>\n",
              "    </div>\n",
              "  </div>\n"
            ]
          },
          "metadata": {},
          "execution_count": 44
        }
      ]
    },
    {
      "cell_type": "code",
      "source": [
        "insurance_csv.isnull().sum()# clean data no missing value"
      ],
      "metadata": {
        "colab": {
          "base_uri": "https://localhost:8080/"
        },
        "id": "a3GgPke9Ex4Y",
        "outputId": "d3ab1422-e206-44b4-ae6c-06cc4a7e5a47"
      },
      "execution_count": 45,
      "outputs": [
        {
          "output_type": "execute_result",
          "data": {
            "text/plain": [
              "age         0\n",
              "sex         0\n",
              "bmi         0\n",
              "children    0\n",
              "smoker      0\n",
              "region      0\n",
              "charges     0\n",
              "dtype: int64"
            ]
          },
          "metadata": {},
          "execution_count": 45
        }
      ]
    },
    {
      "cell_type": "code",
      "source": [
        "insurance_csv['region'].unique()"
      ],
      "metadata": {
        "colab": {
          "base_uri": "https://localhost:8080/"
        },
        "id": "SOCsNz-lE7fn",
        "outputId": "02327e3d-0b1b-4161-da6e-9b77248205dd"
      },
      "execution_count": 46,
      "outputs": [
        {
          "output_type": "execute_result",
          "data": {
            "text/plain": [
              "array(['southwest', 'southeast', 'northwest', 'northeast'], dtype=object)"
            ]
          },
          "metadata": {},
          "execution_count": 46
        }
      ]
    },
    {
      "cell_type": "code",
      "source": [
        "#preparing the dataset to pass in\n",
        "insurance_df =pd.get_dummies(insurance_csv)\n",
        "insurance_df.head()"
      ],
      "metadata": {
        "colab": {
          "base_uri": "https://localhost:8080/",
          "height": 226
        },
        "id": "JTw9eTmbFEsu",
        "outputId": "1cc14dd6-1454-49c2-f5e4-09c81681172c"
      },
      "execution_count": 47,
      "outputs": [
        {
          "output_type": "execute_result",
          "data": {
            "text/plain": [
              "   age     bmi  children      charges  sex_female  sex_male  smoker_no  \\\n",
              "0   19  27.900         0  16884.92400           1         0          0   \n",
              "1   18  33.770         1   1725.55230           0         1          1   \n",
              "2   28  33.000         3   4449.46200           0         1          1   \n",
              "3   33  22.705         0  21984.47061           0         1          1   \n",
              "4   32  28.880         0   3866.85520           0         1          1   \n",
              "\n",
              "   smoker_yes  region_northeast  region_northwest  region_southeast  \\\n",
              "0           1                 0                 0                 0   \n",
              "1           0                 0                 0                 1   \n",
              "2           0                 0                 0                 1   \n",
              "3           0                 0                 1                 0   \n",
              "4           0                 0                 1                 0   \n",
              "\n",
              "   region_southwest  \n",
              "0                 1  \n",
              "1                 0  \n",
              "2                 0  \n",
              "3                 0  \n",
              "4                 0  "
            ],
            "text/html": [
              "\n",
              "  <div id=\"df-1b4e5499-a8e7-40e9-999a-885ceb2d518c\" class=\"colab-df-container\">\n",
              "    <div>\n",
              "<style scoped>\n",
              "    .dataframe tbody tr th:only-of-type {\n",
              "        vertical-align: middle;\n",
              "    }\n",
              "\n",
              "    .dataframe tbody tr th {\n",
              "        vertical-align: top;\n",
              "    }\n",
              "\n",
              "    .dataframe thead th {\n",
              "        text-align: right;\n",
              "    }\n",
              "</style>\n",
              "<table border=\"1\" class=\"dataframe\">\n",
              "  <thead>\n",
              "    <tr style=\"text-align: right;\">\n",
              "      <th></th>\n",
              "      <th>age</th>\n",
              "      <th>bmi</th>\n",
              "      <th>children</th>\n",
              "      <th>charges</th>\n",
              "      <th>sex_female</th>\n",
              "      <th>sex_male</th>\n",
              "      <th>smoker_no</th>\n",
              "      <th>smoker_yes</th>\n",
              "      <th>region_northeast</th>\n",
              "      <th>region_northwest</th>\n",
              "      <th>region_southeast</th>\n",
              "      <th>region_southwest</th>\n",
              "    </tr>\n",
              "  </thead>\n",
              "  <tbody>\n",
              "    <tr>\n",
              "      <th>0</th>\n",
              "      <td>19</td>\n",
              "      <td>27.900</td>\n",
              "      <td>0</td>\n",
              "      <td>16884.92400</td>\n",
              "      <td>1</td>\n",
              "      <td>0</td>\n",
              "      <td>0</td>\n",
              "      <td>1</td>\n",
              "      <td>0</td>\n",
              "      <td>0</td>\n",
              "      <td>0</td>\n",
              "      <td>1</td>\n",
              "    </tr>\n",
              "    <tr>\n",
              "      <th>1</th>\n",
              "      <td>18</td>\n",
              "      <td>33.770</td>\n",
              "      <td>1</td>\n",
              "      <td>1725.55230</td>\n",
              "      <td>0</td>\n",
              "      <td>1</td>\n",
              "      <td>1</td>\n",
              "      <td>0</td>\n",
              "      <td>0</td>\n",
              "      <td>0</td>\n",
              "      <td>1</td>\n",
              "      <td>0</td>\n",
              "    </tr>\n",
              "    <tr>\n",
              "      <th>2</th>\n",
              "      <td>28</td>\n",
              "      <td>33.000</td>\n",
              "      <td>3</td>\n",
              "      <td>4449.46200</td>\n",
              "      <td>0</td>\n",
              "      <td>1</td>\n",
              "      <td>1</td>\n",
              "      <td>0</td>\n",
              "      <td>0</td>\n",
              "      <td>0</td>\n",
              "      <td>1</td>\n",
              "      <td>0</td>\n",
              "    </tr>\n",
              "    <tr>\n",
              "      <th>3</th>\n",
              "      <td>33</td>\n",
              "      <td>22.705</td>\n",
              "      <td>0</td>\n",
              "      <td>21984.47061</td>\n",
              "      <td>0</td>\n",
              "      <td>1</td>\n",
              "      <td>1</td>\n",
              "      <td>0</td>\n",
              "      <td>0</td>\n",
              "      <td>1</td>\n",
              "      <td>0</td>\n",
              "      <td>0</td>\n",
              "    </tr>\n",
              "    <tr>\n",
              "      <th>4</th>\n",
              "      <td>32</td>\n",
              "      <td>28.880</td>\n",
              "      <td>0</td>\n",
              "      <td>3866.85520</td>\n",
              "      <td>0</td>\n",
              "      <td>1</td>\n",
              "      <td>1</td>\n",
              "      <td>0</td>\n",
              "      <td>0</td>\n",
              "      <td>1</td>\n",
              "      <td>0</td>\n",
              "      <td>0</td>\n",
              "    </tr>\n",
              "  </tbody>\n",
              "</table>\n",
              "</div>\n",
              "    <div class=\"colab-df-buttons\">\n",
              "\n",
              "  <div class=\"colab-df-container\">\n",
              "    <button class=\"colab-df-convert\" onclick=\"convertToInteractive('df-1b4e5499-a8e7-40e9-999a-885ceb2d518c')\"\n",
              "            title=\"Convert this dataframe to an interactive table.\"\n",
              "            style=\"display:none;\">\n",
              "\n",
              "  <svg xmlns=\"http://www.w3.org/2000/svg\" height=\"24px\" viewBox=\"0 -960 960 960\">\n",
              "    <path d=\"M120-120v-720h720v720H120Zm60-500h600v-160H180v160Zm220 220h160v-160H400v160Zm0 220h160v-160H400v160ZM180-400h160v-160H180v160Zm440 0h160v-160H620v160ZM180-180h160v-160H180v160Zm440 0h160v-160H620v160Z\"/>\n",
              "  </svg>\n",
              "    </button>\n",
              "\n",
              "  <style>\n",
              "    .colab-df-container {\n",
              "      display:flex;\n",
              "      gap: 12px;\n",
              "    }\n",
              "\n",
              "    .colab-df-convert {\n",
              "      background-color: #E8F0FE;\n",
              "      border: none;\n",
              "      border-radius: 50%;\n",
              "      cursor: pointer;\n",
              "      display: none;\n",
              "      fill: #1967D2;\n",
              "      height: 32px;\n",
              "      padding: 0 0 0 0;\n",
              "      width: 32px;\n",
              "    }\n",
              "\n",
              "    .colab-df-convert:hover {\n",
              "      background-color: #E2EBFA;\n",
              "      box-shadow: 0px 1px 2px rgba(60, 64, 67, 0.3), 0px 1px 3px 1px rgba(60, 64, 67, 0.15);\n",
              "      fill: #174EA6;\n",
              "    }\n",
              "\n",
              "    .colab-df-buttons div {\n",
              "      margin-bottom: 4px;\n",
              "    }\n",
              "\n",
              "    [theme=dark] .colab-df-convert {\n",
              "      background-color: #3B4455;\n",
              "      fill: #D2E3FC;\n",
              "    }\n",
              "\n",
              "    [theme=dark] .colab-df-convert:hover {\n",
              "      background-color: #434B5C;\n",
              "      box-shadow: 0px 1px 3px 1px rgba(0, 0, 0, 0.15);\n",
              "      filter: drop-shadow(0px 1px 2px rgba(0, 0, 0, 0.3));\n",
              "      fill: #FFFFFF;\n",
              "    }\n",
              "  </style>\n",
              "\n",
              "    <script>\n",
              "      const buttonEl =\n",
              "        document.querySelector('#df-1b4e5499-a8e7-40e9-999a-885ceb2d518c button.colab-df-convert');\n",
              "      buttonEl.style.display =\n",
              "        google.colab.kernel.accessAllowed ? 'block' : 'none';\n",
              "\n",
              "      async function convertToInteractive(key) {\n",
              "        const element = document.querySelector('#df-1b4e5499-a8e7-40e9-999a-885ceb2d518c');\n",
              "        const dataTable =\n",
              "          await google.colab.kernel.invokeFunction('convertToInteractive',\n",
              "                                                    [key], {});\n",
              "        if (!dataTable) return;\n",
              "\n",
              "        const docLinkHtml = 'Like what you see? Visit the ' +\n",
              "          '<a target=\"_blank\" href=https://colab.research.google.com/notebooks/data_table.ipynb>data table notebook</a>'\n",
              "          + ' to learn more about interactive tables.';\n",
              "        element.innerHTML = '';\n",
              "        dataTable['output_type'] = 'display_data';\n",
              "        await google.colab.output.renderOutput(dataTable, element);\n",
              "        const docLink = document.createElement('div');\n",
              "        docLink.innerHTML = docLinkHtml;\n",
              "        element.appendChild(docLink);\n",
              "      }\n",
              "    </script>\n",
              "  </div>\n",
              "\n",
              "\n",
              "<div id=\"df-e26c84c5-3108-4d46-8937-c5689f7d309d\">\n",
              "  <button class=\"colab-df-quickchart\" onclick=\"quickchart('df-e26c84c5-3108-4d46-8937-c5689f7d309d')\"\n",
              "            title=\"Suggest charts.\"\n",
              "            style=\"display:none;\">\n",
              "\n",
              "<svg xmlns=\"http://www.w3.org/2000/svg\" height=\"24px\"viewBox=\"0 0 24 24\"\n",
              "     width=\"24px\">\n",
              "    <g>\n",
              "        <path d=\"M19 3H5c-1.1 0-2 .9-2 2v14c0 1.1.9 2 2 2h14c1.1 0 2-.9 2-2V5c0-1.1-.9-2-2-2zM9 17H7v-7h2v7zm4 0h-2V7h2v10zm4 0h-2v-4h2v4z\"/>\n",
              "    </g>\n",
              "</svg>\n",
              "  </button>\n",
              "\n",
              "<style>\n",
              "  .colab-df-quickchart {\n",
              "      --bg-color: #E8F0FE;\n",
              "      --fill-color: #1967D2;\n",
              "      --hover-bg-color: #E2EBFA;\n",
              "      --hover-fill-color: #174EA6;\n",
              "      --disabled-fill-color: #AAA;\n",
              "      --disabled-bg-color: #DDD;\n",
              "  }\n",
              "\n",
              "  [theme=dark] .colab-df-quickchart {\n",
              "      --bg-color: #3B4455;\n",
              "      --fill-color: #D2E3FC;\n",
              "      --hover-bg-color: #434B5C;\n",
              "      --hover-fill-color: #FFFFFF;\n",
              "      --disabled-bg-color: #3B4455;\n",
              "      --disabled-fill-color: #666;\n",
              "  }\n",
              "\n",
              "  .colab-df-quickchart {\n",
              "    background-color: var(--bg-color);\n",
              "    border: none;\n",
              "    border-radius: 50%;\n",
              "    cursor: pointer;\n",
              "    display: none;\n",
              "    fill: var(--fill-color);\n",
              "    height: 32px;\n",
              "    padding: 0;\n",
              "    width: 32px;\n",
              "  }\n",
              "\n",
              "  .colab-df-quickchart:hover {\n",
              "    background-color: var(--hover-bg-color);\n",
              "    box-shadow: 0 1px 2px rgba(60, 64, 67, 0.3), 0 1px 3px 1px rgba(60, 64, 67, 0.15);\n",
              "    fill: var(--button-hover-fill-color);\n",
              "  }\n",
              "\n",
              "  .colab-df-quickchart-complete:disabled,\n",
              "  .colab-df-quickchart-complete:disabled:hover {\n",
              "    background-color: var(--disabled-bg-color);\n",
              "    fill: var(--disabled-fill-color);\n",
              "    box-shadow: none;\n",
              "  }\n",
              "\n",
              "  .colab-df-spinner {\n",
              "    border: 2px solid var(--fill-color);\n",
              "    border-color: transparent;\n",
              "    border-bottom-color: var(--fill-color);\n",
              "    animation:\n",
              "      spin 1s steps(1) infinite;\n",
              "  }\n",
              "\n",
              "  @keyframes spin {\n",
              "    0% {\n",
              "      border-color: transparent;\n",
              "      border-bottom-color: var(--fill-color);\n",
              "      border-left-color: var(--fill-color);\n",
              "    }\n",
              "    20% {\n",
              "      border-color: transparent;\n",
              "      border-left-color: var(--fill-color);\n",
              "      border-top-color: var(--fill-color);\n",
              "    }\n",
              "    30% {\n",
              "      border-color: transparent;\n",
              "      border-left-color: var(--fill-color);\n",
              "      border-top-color: var(--fill-color);\n",
              "      border-right-color: var(--fill-color);\n",
              "    }\n",
              "    40% {\n",
              "      border-color: transparent;\n",
              "      border-right-color: var(--fill-color);\n",
              "      border-top-color: var(--fill-color);\n",
              "    }\n",
              "    60% {\n",
              "      border-color: transparent;\n",
              "      border-right-color: var(--fill-color);\n",
              "    }\n",
              "    80% {\n",
              "      border-color: transparent;\n",
              "      border-right-color: var(--fill-color);\n",
              "      border-bottom-color: var(--fill-color);\n",
              "    }\n",
              "    90% {\n",
              "      border-color: transparent;\n",
              "      border-bottom-color: var(--fill-color);\n",
              "    }\n",
              "  }\n",
              "</style>\n",
              "\n",
              "  <script>\n",
              "    async function quickchart(key) {\n",
              "      const quickchartButtonEl =\n",
              "        document.querySelector('#' + key + ' button');\n",
              "      quickchartButtonEl.disabled = true;  // To prevent multiple clicks.\n",
              "      quickchartButtonEl.classList.add('colab-df-spinner');\n",
              "      try {\n",
              "        const charts = await google.colab.kernel.invokeFunction(\n",
              "            'suggestCharts', [key], {});\n",
              "      } catch (error) {\n",
              "        console.error('Error during call to suggestCharts:', error);\n",
              "      }\n",
              "      quickchartButtonEl.classList.remove('colab-df-spinner');\n",
              "      quickchartButtonEl.classList.add('colab-df-quickchart-complete');\n",
              "    }\n",
              "    (() => {\n",
              "      let quickchartButtonEl =\n",
              "        document.querySelector('#df-e26c84c5-3108-4d46-8937-c5689f7d309d button');\n",
              "      quickchartButtonEl.style.display =\n",
              "        google.colab.kernel.accessAllowed ? 'block' : 'none';\n",
              "    })();\n",
              "  </script>\n",
              "</div>\n",
              "    </div>\n",
              "  </div>\n"
            ]
          },
          "metadata": {},
          "execution_count": 47
        }
      ]
    },
    {
      "cell_type": "code",
      "source": [
        "X = insurance_df[['age', 'bmi', 'children','sex_female', 'sex_male',\n",
        "       'smoker_no', 'smoker_yes', 'region_northeast', 'region_northwest',\n",
        "       'region_southeast', 'region_southwest']]\n",
        "y= insurance_df['charges']"
      ],
      "metadata": {
        "id": "BLyX3S3oIbMD"
      },
      "execution_count": 48,
      "outputs": []
    },
    {
      "cell_type": "code",
      "source": [
        "from sklearn.model_selection import train_test_split\n",
        "\n",
        "X_train,X_test,y_train,y_test = train_test_split(X,y, test_size = 0.3, random_state = 42)"
      ],
      "metadata": {
        "id": "Kn9x80XxKOMd"
      },
      "execution_count": 49,
      "outputs": []
    },
    {
      "cell_type": "markdown",
      "source": [
        "Strated traing our model\n",
        "model one has 2 layers and 100 epochs\n",
        "\n",
        "model two has 3 layers and it was observed with sgd () it was not learning further so we shifted to Adams () which gave a siginificant results.\n",
        "\n",
        "model three again trained with three layers but then we incresed the epoch and it was found after ceratian epoch there is no improvment.\n",
        "\n",
        "\n"
      ],
      "metadata": {
        "id": "1tKfri38ai07"
      }
    },
    {
      "cell_type": "code",
      "source": [
        "from keras.src.engine.training import optimizer\n",
        "#Set the random seed\n",
        "tf.random.set_seed = 42\n",
        "#create a model using sequntial API\n",
        "in_model = tf.keras.Sequential([\n",
        "    tf.keras.layers.Dense(10),\n",
        "    tf.keras.layers.Dense(1)])\n",
        "\n",
        "#complie the model\n",
        "in_model.compile(loss=tf.keras.losses.mae,optimizer=tf.keras.optimizers.SGD(),metrics =[\"mae\"])\n",
        "\n",
        "#fit the model\n",
        "in_model.fit(X_train,y_train,epochs=100,verbose = 0)"
      ],
      "metadata": {
        "colab": {
          "base_uri": "https://localhost:8080/"
        },
        "id": "71-DyTgnJrCB",
        "outputId": "a9b81bdb-10f5-472c-9f6a-23b5205bdc4f"
      },
      "execution_count": 51,
      "outputs": [
        {
          "output_type": "execute_result",
          "data": {
            "text/plain": [
              "<keras.src.callbacks.History at 0x7dd96c5bff70>"
            ]
          },
          "metadata": {},
          "execution_count": 51
        }
      ]
    },
    {
      "cell_type": "code",
      "source": [
        "y_preds = in_model.predict(X_test)"
      ],
      "metadata": {
        "colab": {
          "base_uri": "https://localhost:8080/"
        },
        "id": "czZi3LE1KDM2",
        "outputId": "980db46e-1f16-4d89-a6a4-8d65a9eb8881"
      },
      "execution_count": 52,
      "outputs": [
        {
          "output_type": "stream",
          "name": "stdout",
          "text": [
            "13/13 [==============================] - 0s 2ms/step\n"
          ]
        }
      ]
    },
    {
      "cell_type": "markdown",
      "source": [
        "# 'evalution metrics'\n",
        "mae = tf.metrics.mean_absolute_error(y_test,y_preds)\n",
        "mae\n"
      ],
      "metadata": {
        "id": "29m7uhr0MFNW"
      }
    },
    {
      "cell_type": "code",
      "source": [
        "in_model.evaluate(X_test,y_test)"
      ],
      "metadata": {
        "colab": {
          "base_uri": "https://localhost:8080/"
        },
        "id": "XQTJy2uHNy3D",
        "outputId": "091f1597-dd05-4652-e8d7-0dfa4bb688f7"
      },
      "execution_count": 53,
      "outputs": [
        {
          "output_type": "stream",
          "name": "stdout",
          "text": [
            "13/13 [==============================] - 0s 2ms/step - loss: 8975.9033 - mae: 8975.9033\n"
          ]
        },
        {
          "output_type": "execute_result",
          "data": {
            "text/plain": [
              "[8975.9033203125, 8975.9033203125]"
            ]
          },
          "metadata": {},
          "execution_count": 53
        }
      ]
    },
    {
      "cell_type": "code",
      "source": [
        "len(X.columns)"
      ],
      "metadata": {
        "colab": {
          "base_uri": "https://localhost:8080/"
        },
        "id": "In1Y95nVRDe_",
        "outputId": "8b804302-3e01-4e31-c17f-b8c5c5bec7b6"
      },
      "execution_count": 54,
      "outputs": [
        {
          "output_type": "execute_result",
          "data": {
            "text/plain": [
              "11"
            ]
          },
          "metadata": {},
          "execution_count": 54
        }
      ]
    },
    {
      "cell_type": "code",
      "source": [
        "tf.random.set_seed = 42\n",
        "#create a model using sequntial API\n",
        "in_model_2 = tf.keras.Sequential([\n",
        "    tf.keras.layers.Dense(200),\n",
        "   tf.keras.layers.Dense(100),\n",
        "    tf.keras.layers.Dense(1)])\n",
        "\n",
        "#complie the model\n",
        "in_model_2.compile(loss=tf.keras.losses.mae,optimizer=tf.keras.optimizers.Adam(),metrics =[\"mae\"])\n",
        "\n",
        "#fit the model\n",
        "in_model_2.fit(X_train,y_train,epochs=500,verbose = 0)"
      ],
      "metadata": {
        "colab": {
          "base_uri": "https://localhost:8080/"
        },
        "id": "tEpDctd6QJJ-",
        "outputId": "a0ddb941-039c-4fb1-b7da-bb8d25db504f"
      },
      "execution_count": 55,
      "outputs": [
        {
          "output_type": "execute_result",
          "data": {
            "text/plain": [
              "<keras.src.callbacks.History at 0x7dd95312b430>"
            ]
          },
          "metadata": {},
          "execution_count": 55
        }
      ]
    },
    {
      "cell_type": "code",
      "source": [
        "in_model_2.evaluate(X_test,y_test)"
      ],
      "metadata": {
        "colab": {
          "base_uri": "https://localhost:8080/"
        },
        "id": "nvcaDAi0SA49",
        "outputId": "5475098b-966b-49d1-a4ac-200d87156e8c"
      },
      "execution_count": 56,
      "outputs": [
        {
          "output_type": "stream",
          "name": "stdout",
          "text": [
            "13/13 [==============================] - 0s 2ms/step - loss: 3176.3850 - mae: 3176.3850\n"
          ]
        },
        {
          "output_type": "execute_result",
          "data": {
            "text/plain": [
              "[3176.385009765625, 3176.385009765625]"
            ]
          },
          "metadata": {},
          "execution_count": 56
        }
      ]
    },
    {
      "cell_type": "code",
      "source": [
        "tf.random.set_seed = 42\n",
        "#create a model using sequntial API\n",
        "in_model_3 = tf.keras.Sequential([\n",
        "    tf.keras.layers.Dense(200),\n",
        "   tf.keras.layers.Dense(100),\n",
        "    tf.keras.layers.Dense(100)])\n",
        "\n",
        "#complie the model\n",
        "in_model_3.compile(loss=tf.keras.losses.mae,optimizer=tf.keras.optimizers.Adam(),metrics =[\"mae\"])\n",
        "\n",
        "#fit the model\n",
        "for_lose_cuve = in_model_3.fit(X_train,y_train,epochs=600,verbose = 0)"
      ],
      "metadata": {
        "id": "VsQWC9KNUliN"
      },
      "execution_count": 57,
      "outputs": []
    },
    {
      "cell_type": "code",
      "source": [
        "in_model_3.evaluate(X_test,y_test)"
      ],
      "metadata": {
        "colab": {
          "base_uri": "https://localhost:8080/"
        },
        "id": "0TgEJceIWuK8",
        "outputId": "78e6f8f3-22d5-4274-a5cf-e01170818e5e"
      },
      "execution_count": 58,
      "outputs": [
        {
          "output_type": "stream",
          "name": "stdout",
          "text": [
            "13/13 [==============================] - 0s 2ms/step - loss: 3177.7898 - mae: 3177.7898\n"
          ]
        },
        {
          "output_type": "execute_result",
          "data": {
            "text/plain": [
              "[3177.789794921875, 3177.789794921875]"
            ]
          },
          "metadata": {},
          "execution_count": 58
        }
      ]
    },
    {
      "cell_type": "code",
      "source": [
        "pd.DataFrame(for_lose_cuve.history).plot()\n",
        "plt.ylabel('loss')\n",
        "plt.xlabel('epochs')"
      ],
      "metadata": {
        "colab": {
          "base_uri": "https://localhost:8080/",
          "height": 466
        },
        "id": "inERfE7RXSuB",
        "outputId": "43aab84a-be5c-49cf-9955-ebc6e1f400be"
      },
      "execution_count": 59,
      "outputs": [
        {
          "output_type": "execute_result",
          "data": {
            "text/plain": [
              "Text(0.5, 0, 'epochs')"
            ]
          },
          "metadata": {},
          "execution_count": 59
        },
        {
          "output_type": "display_data",
          "data": {
            "text/plain": [
              "<Figure size 640x480 with 1 Axes>"
            ],
            "image/png": "[encoded data removed]"
          },
          "metadata": {}
        }
      ]
    },
    {
      "cell_type": "markdown",
      "source": [
        "When shall we stop training the modle and whwn can we know that the training model has stooped learning\n",
        "\n",
        "\n",
        "for this we have something known Early stopping callback"
      ],
      "metadata": {
        "id": "Kw1EORRObJyF"
      }
    },
    {
      "cell_type": "markdown",
      "source": [
        "##Preproceesind data (Normalization) and may be standardisation\n"
      ],
      "metadata": {
        "id": "CVgrNo_8jCgZ"
      }
    },
    {
      "cell_type": "code",
      "source": [
        "#normalization is done in NN\n",
        "\n",
        "insurance_csv"
      ],
      "metadata": {
        "colab": {
          "base_uri": "https://localhost:8080/",
          "height": 423
        },
        "id": "dm9jK3x4YArE",
        "outputId": "1b7464c5-5991-4fb4-d068-f23f8c94debd"
      },
      "execution_count": 60,
      "outputs": [
        {
          "output_type": "execute_result",
          "data": {
            "text/plain": [
              "      age     sex     bmi  children smoker     region      charges\n",
              "0      19  female  27.900         0    yes  southwest  16884.92400\n",
              "1      18    male  33.770         1     no  southeast   1725.55230\n",
              "2      28    male  33.000         3     no  southeast   4449.46200\n",
              "3      33    male  22.705         0     no  northwest  21984.47061\n",
              "4      32    male  28.880         0     no  northwest   3866.85520\n",
              "...   ...     ...     ...       ...    ...        ...          ...\n",
              "1333   50    male  30.970         3     no  northwest  10600.54830\n",
              "1334   18  female  31.920         0     no  northeast   2205.98080\n",
              "1335   18  female  36.850         0     no  southeast   1629.83350\n",
              "1336   21  female  25.800         0     no  southwest   2007.94500\n",
              "1337   61  female  29.070         0    yes  northwest  29141.36030\n",
              "\n",
              "[1338 rows x 7 columns]"
            ],
            "text/html": [
              "\n",
              "  <div id=\"df-cda3df92-a8b4-49d4-9c56-716c0fa57f52\" class=\"colab-df-container\">\n",
              "    <div>\n",
              "<style scoped>\n",
              "    .dataframe tbody tr th:only-of-type {\n",
              "        vertical-align: middle;\n",
              "    }\n",
              "\n",
              "    .dataframe tbody tr th {\n",
              "        vertical-align: top;\n",
              "    }\n",
              "\n",
              "    .dataframe thead th {\n",
              "        text-align: right;\n",
              "    }\n",
              "</style>\n",
              "<table border=\"1\" class=\"dataframe\">\n",
              "  <thead>\n",
              "    <tr style=\"text-align: right;\">\n",
              "      <th></th>\n",
              "      <th>age</th>\n",
              "      <th>sex</th>\n",
              "      <th>bmi</th>\n",
              "      <th>children</th>\n",
              "      <th>smoker</th>\n",
              "      <th>region</th>\n",
              "      <th>charges</th>\n",
              "    </tr>\n",
              "  </thead>\n",
              "  <tbody>\n",
              "    <tr>\n",
              "      <th>0</th>\n",
              "      <td>19</td>\n",
              "      <td>female</td>\n",
              "      <td>27.900</td>\n",
              "      <td>0</td>\n",
              "      <td>yes</td>\n",
              "      <td>southwest</td>\n",
              "      <td>16884.92400</td>\n",
              "    </tr>\n",
              "    <tr>\n",
              "      <th>1</th>\n",
              "      <td>18</td>\n",
              "      <td>male</td>\n",
              "      <td>33.770</td>\n",
              "      <td>1</td>\n",
              "      <td>no</td>\n",
              "      <td>southeast</td>\n",
              "      <td>1725.55230</td>\n",
              "    </tr>\n",
              "    <tr>\n",
              "      <th>2</th>\n",
              "      <td>28</td>\n",
              "      <td>male</td>\n",
              "      <td>33.000</td>\n",
              "      <td>3</td>\n",
              "      <td>no</td>\n",
              "      <td>southeast</td>\n",
              "      <td>4449.46200</td>\n",
              "    </tr>\n",
              "    <tr>\n",
              "      <th>3</th>\n",
              "      <td>33</td>\n",
              "      <td>male</td>\n",
              "      <td>22.705</td>\n",
              "      <td>0</td>\n",
              "      <td>no</td>\n",
              "      <td>northwest</td>\n",
              "      <td>21984.47061</td>\n",
              "    </tr>\n",
              "    <tr>\n",
              "      <th>4</th>\n",
              "      <td>32</td>\n",
              "      <td>male</td>\n",
              "      <td>28.880</td>\n",
              "      <td>0</td>\n",
              "      <td>no</td>\n",
              "      <td>northwest</td>\n",
              "      <td>3866.85520</td>\n",
              "    </tr>\n",
              "    <tr>\n",
              "      <th>...</th>\n",
              "      <td>...</td>\n",
              "      <td>...</td>\n",
              "      <td>...</td>\n",
              "      <td>...</td>\n",
              "      <td>...</td>\n",
              "      <td>...</td>\n",
              "      <td>...</td>\n",
              "    </tr>\n",
              "    <tr>\n",
              "      <th>1333</th>\n",
              "      <td>50</td>\n",
              "      <td>male</td>\n",
              "      <td>30.970</td>\n",
              "      <td>3</td>\n",
              "      <td>no</td>\n",
              "      <td>northwest</td>\n",
              "      <td>10600.54830</td>\n",
              "    </tr>\n",
              "    <tr>\n",
              "      <th>1334</th>\n",
              "      <td>18</td>\n",
              "      <td>female</td>\n",
              "      <td>31.920</td>\n",
              "      <td>0</td>\n",
              "      <td>no</td>\n",
              "      <td>northeast</td>\n",
              "      <td>2205.98080</td>\n",
              "    </tr>\n",
              "    <tr>\n",
              "      <th>1335</th>\n",
              "      <td>18</td>\n",
              "      <td>female</td>\n",
              "      <td>36.850</td>\n",
              "      <td>0</td>\n",
              "      <td>no</td>\n",
              "      <td>southeast</td>\n",
              "      <td>1629.83350</td>\n",
              "    </tr>\n",
              "    <tr>\n",
              "      <th>1336</th>\n",
              "      <td>21</td>\n",
              "      <td>female</td>\n",
              "      <td>25.800</td>\n",
              "      <td>0</td>\n",
              "      <td>no</td>\n",
              "      <td>southwest</td>\n",
              "      <td>2007.94500</td>\n",
              "    </tr>\n",
              "    <tr>\n",
              "      <th>1337</th>\n",
              "      <td>61</td>\n",
              "      <td>female</td>\n",
              "      <td>29.070</td>\n",
              "      <td>0</td>\n",
              "      <td>yes</td>\n",
              "      <td>northwest</td>\n",
              "      <td>29141.36030</td>\n",
              "    </tr>\n",
              "  </tbody>\n",
              "</table>\n",
              "<p>1338 rows × 7 columns</p>\n",
              "</div>\n",
              "    <div class=\"colab-df-buttons\">\n",
              "\n",
              "  <div class=\"colab-df-container\">\n",
              "    <button class=\"colab-df-convert\" onclick=\"convertToInteractive('df-cda3df92-a8b4-49d4-9c56-716c0fa57f52')\"\n",
              "            title=\"Convert this dataframe to an interactive table.\"\n",
              "            style=\"display:none;\">\n",
              "\n",
              "  <svg xmlns=\"http://www.w3.org/2000/svg\" height=\"24px\" viewBox=\"0 -960 960 960\">\n",
              "    <path d=\"M120-120v-720h720v720H120Zm60-500h600v-160H180v160Zm220 220h160v-160H400v160Zm0 220h160v-160H400v160ZM180-400h160v-160H180v160Zm440 0h160v-160H620v160ZM180-180h160v-160H180v160Zm440 0h160v-160H620v160Z\"/>\n",
              "  </svg>\n",
              "    </button>\n",
              "\n",
              "  <style>\n",
              "    .colab-df-container {\n",
              "      display:flex;\n",
              "      gap: 12px;\n",
              "    }\n",
              "\n",
              "    .colab-df-convert {\n",
              "      background-color: #E8F0FE;\n",
              "      border: none;\n",
              "      border-radius: 50%;\n",
              "      cursor: pointer;\n",
              "      display: none;\n",
              "      fill: #1967D2;\n",
              "      height: 32px;\n",
              "      padding: 0 0 0 0;\n",
              "      width: 32px;\n",
              "    }\n",
              "\n",
              "    .colab-df-convert:hover {\n",
              "      background-color: #E2EBFA;\n",
              "      box-shadow: 0px 1px 2px rgba(60, 64, 67, 0.3), 0px 1px 3px 1px rgba(60, 64, 67, 0.15);\n",
              "      fill: #174EA6;\n",
              "    }\n",
              "\n",
              "    .colab-df-buttons div {\n",
              "      margin-bottom: 4px;\n",
              "    }\n",
              "\n",
              "    [theme=dark] .colab-df-convert {\n",
              "      background-color: #3B4455;\n",
              "      fill: #D2E3FC;\n",
              "    }\n",
              "\n",
              "    [theme=dark] .colab-df-convert:hover {\n",
              "      background-color: #434B5C;\n",
              "      box-shadow: 0px 1px 3px 1px rgba(0, 0, 0, 0.15);\n",
              "      filter: drop-shadow(0px 1px 2px rgba(0, 0, 0, 0.3));\n",
              "      fill: #FFFFFF;\n",
              "    }\n",
              "  </style>\n",
              "\n",
              "    <script>\n",
              "      const buttonEl =\n",
              "        document.querySelector('#df-cda3df92-a8b4-49d4-9c56-716c0fa57f52 button.colab-df-convert');\n",
              "      buttonEl.style.display =\n",
              "        google.colab.kernel.accessAllowed ? 'block' : 'none';\n",
              "\n",
              "      async function convertToInteractive(key) {\n",
              "        const element = document.querySelector('#df-cda3df92-a8b4-49d4-9c56-716c0fa57f52');\n",
              "        const dataTable =\n",
              "          await google.colab.kernel.invokeFunction('convertToInteractive',\n",
              "                                                    [key], {});\n",
              "        if (!dataTable) return;\n",
              "\n",
              "        const docLinkHtml = 'Like what you see? Visit the ' +\n",
              "          '<a target=\"_blank\" href=https://colab.research.google.com/notebooks/data_table.ipynb>data table notebook</a>'\n",
              "          + ' to learn more about interactive tables.';\n",
              "        element.innerHTML = '';\n",
              "        dataTable['output_type'] = 'display_data';\n",
              "        await google.colab.output.renderOutput(dataTable, element);\n",
              "        const docLink = document.createElement('div');\n",
              "        docLink.innerHTML = docLinkHtml;\n",
              "        element.appendChild(docLink);\n",
              "      }\n",
              "    </script>\n",
              "  </div>\n",
              "\n",
              "\n",
              "<div id=\"df-5afcd0de-5162-47a2-81ff-9ff5462dbfd7\">\n",
              "  <button class=\"colab-df-quickchart\" onclick=\"quickchart('df-5afcd0de-5162-47a2-81ff-9ff5462dbfd7')\"\n",
              "            title=\"Suggest charts.\"\n",
              "            style=\"display:none;\">\n",
              "\n",
              "<svg xmlns=\"http://www.w3.org/2000/svg\" height=\"24px\"viewBox=\"0 0 24 24\"\n",
              "     width=\"24px\">\n",
              "    <g>\n",
              "        <path d=\"M19 3H5c-1.1 0-2 .9-2 2v14c0 1.1.9 2 2 2h14c1.1 0 2-.9 2-2V5c0-1.1-.9-2-2-2zM9 17H7v-7h2v7zm4 0h-2V7h2v10zm4 0h-2v-4h2v4z\"/>\n",
              "    </g>\n",
              "</svg>\n",
              "  </button>\n",
              "\n",
              "<style>\n",
              "  .colab-df-quickchart {\n",
              "      --bg-color: #E8F0FE;\n",
              "      --fill-color: #1967D2;\n",
              "      --hover-bg-color: #E2EBFA;\n",
              "      --hover-fill-color: #174EA6;\n",
              "      --disabled-fill-color: #AAA;\n",
              "      --disabled-bg-color: #DDD;\n",
              "  }\n",
              "\n",
              "  [theme=dark] .colab-df-quickchart {\n",
              "      --bg-color: #3B4455;\n",
              "      --fill-color: #D2E3FC;\n",
              "      --hover-bg-color: #434B5C;\n",
              "      --hover-fill-color: #FFFFFF;\n",
              "      --disabled-bg-color: #3B4455;\n",
              "      --disabled-fill-color: #666;\n",
              "  }\n",
              "\n",
              "  .colab-df-quickchart {\n",
              "    background-color: var(--bg-color);\n",
              "    border: none;\n",
              "    border-radius: 50%;\n",
              "    cursor: pointer;\n",
              "    display: none;\n",
              "    fill: var(--fill-color);\n",
              "    height: 32px;\n",
              "    padding: 0;\n",
              "    width: 32px;\n",
              "  }\n",
              "\n",
              "  .colab-df-quickchart:hover {\n",
              "    background-color: var(--hover-bg-color);\n",
              "    box-shadow: 0 1px 2px rgba(60, 64, 67, 0.3), 0 1px 3px 1px rgba(60, 64, 67, 0.15);\n",
              "    fill: var(--button-hover-fill-color);\n",
              "  }\n",
              "\n",
              "  .colab-df-quickchart-complete:disabled,\n",
              "  .colab-df-quickchart-complete:disabled:hover {\n",
              "    background-color: var(--disabled-bg-color);\n",
              "    fill: var(--disabled-fill-color);\n",
              "    box-shadow: none;\n",
              "  }\n",
              "\n",
              "  .colab-df-spinner {\n",
              "    border: 2px solid var(--fill-color);\n",
              "    border-color: transparent;\n",
              "    border-bottom-color: var(--fill-color);\n",
              "    animation:\n",
              "      spin 1s steps(1) infinite;\n",
              "  }\n",
              "\n",
              "  @keyframes spin {\n",
              "    0% {\n",
              "      border-color: transparent;\n",
              "      border-bottom-color: var(--fill-color);\n",
              "      border-left-color: var(--fill-color);\n",
              "    }\n",
              "    20% {\n",
              "      border-color: transparent;\n",
              "      border-left-color: var(--fill-color);\n",
              "      border-top-color: var(--fill-color);\n",
              "    }\n",
              "    30% {\n",
              "      border-color: transparent;\n",
              "      border-left-color: var(--fill-color);\n",
              "      border-top-color: var(--fill-color);\n",
              "      border-right-color: var(--fill-color);\n",
              "    }\n",
              "    40% {\n",
              "      border-color: transparent;\n",
              "      border-right-color: var(--fill-color);\n",
              "      border-top-color: var(--fill-color);\n",
              "    }\n",
              "    60% {\n",
              "      border-color: transparent;\n",
              "      border-right-color: var(--fill-color);\n",
              "    }\n",
              "    80% {\n",
              "      border-color: transparent;\n",
              "      border-right-color: var(--fill-color);\n",
              "      border-bottom-color: var(--fill-color);\n",
              "    }\n",
              "    90% {\n",
              "      border-color: transparent;\n",
              "      border-bottom-color: var(--fill-color);\n",
              "    }\n",
              "  }\n",
              "</style>\n",
              "\n",
              "  <script>\n",
              "    async function quickchart(key) {\n",
              "      const quickchartButtonEl =\n",
              "        document.querySelector('#' + key + ' button');\n",
              "      quickchartButtonEl.disabled = true;  // To prevent multiple clicks.\n",
              "      quickchartButtonEl.classList.add('colab-df-spinner');\n",
              "      try {\n",
              "        const charts = await google.colab.kernel.invokeFunction(\n",
              "            'suggestCharts', [key], {});\n",
              "      } catch (error) {\n",
              "        console.error('Error during call to suggestCharts:', error);\n",
              "      }\n",
              "      quickchartButtonEl.classList.remove('colab-df-spinner');\n",
              "      quickchartButtonEl.classList.add('colab-df-quickchart-complete');\n",
              "    }\n",
              "    (() => {\n",
              "      let quickchartButtonEl =\n",
              "        document.querySelector('#df-5afcd0de-5162-47a2-81ff-9ff5462dbfd7 button');\n",
              "      quickchartButtonEl.style.display =\n",
              "        google.colab.kernel.accessAllowed ? 'block' : 'none';\n",
              "    })();\n",
              "  </script>\n",
              "</div>\n",
              "    </div>\n",
              "  </div>\n"
            ]
          },
          "metadata": {},
          "execution_count": 60
        }
      ]
    },
    {
      "cell_type": "code",
      "source": [
        "\n",
        "from sklearn.preprocessing import MinMaxScaler,OneHotEncoder\n",
        "from sklearn.compose import make_column_transformer\n",
        "\n",
        "#create column transfomer\n",
        "column_trn = make_column_transformer((MinMaxScaler(),['age','bmi','children']),(OneHotEncoder(handle_unknown='ignore'),['sex','smoker','region']))\n",
        "\n",
        "X = insurance_csv[['age', 'bmi', 'children','sex',\n",
        "       'smoker',  'region']]\n",
        "y= insurance_csv['charges']\n",
        "\n",
        "\n",
        "X_train,X_test,y_train,y_test = train_test_split(X,y, test_size = 0.3, random_state = 42)\n",
        "\n",
        "column_trn.fit(X_train)\n",
        "\n",
        "X_train_normal = column_trn.transform(X_train)\n",
        "X_test_normal = column_trn.transform(X_test)"
      ],
      "metadata": {
        "id": "14EOnbtLjSmZ"
      },
      "execution_count": 74,
      "outputs": []
    },
    {
      "cell_type": "code",
      "source": [
        "\n",
        "X_train_normal"
      ],
      "metadata": {
        "colab": {
          "base_uri": "https://localhost:8080/"
        },
        "id": "MqNdtS4mpvln",
        "outputId": "c2bf3017-d696-48f0-cac3-2a1d1f7d9930"
      },
      "execution_count": 75,
      "outputs": [
        {
          "output_type": "execute_result",
          "data": {
            "text/plain": [
              "array([[0.93478261, 0.40893193, 0.        , ..., 1.        , 0.        ,\n",
              "        0.        ],\n",
              "       [0.60869565, 0.31315577, 0.        , ..., 0.        , 0.        ,\n",
              "        1.        ],\n",
              "       [0.7826087 , 0.42884046, 0.6       , ..., 0.        , 1.        ,\n",
              "        0.        ],\n",
              "       ...,\n",
              "       [0.86956522, 0.24791499, 0.        , ..., 0.        , 0.        ,\n",
              "        0.        ],\n",
              "       [0.41304348, 0.85122411, 0.4       , ..., 0.        , 0.        ,\n",
              "        1.        ],\n",
              "       [0.80434783, 0.37503363, 0.        , ..., 0.        , 0.        ,\n",
              "        1.        ]])"
            ]
          },
          "metadata": {},
          "execution_count": 75
        }
      ]
    },
    {
      "cell_type": "code",
      "source": [
        "#build a nerual netwok to fit the normalised data\n",
        "tf.random.set_seed = 42\n",
        "#create a model using sequntial API\n",
        "in_model_normal = tf.keras.Sequential([\n",
        "    tf.keras.layers.Dense(200),\n",
        "   tf.keras.layers.Dense(100),\n",
        "    tf.keras.layers.Dense(1)])\n",
        "\n",
        "#complie the model\n",
        "in_model_normal.compile(loss=tf.keras.losses.mae,optimizer=tf.keras.optimizers.Adam(),metrics =[\"mae\"])\n",
        "\n",
        "#fit the model\n",
        "in_model_normal.fit(X_train_normal,y_train,epochs=100,verbose = 0)"
      ],
      "metadata": {
        "colab": {
          "base_uri": "https://localhost:8080/"
        },
        "id": "9y9Lo4Opc1Ts",
        "outputId": "49bdb405-b9ec-4fbf-c747-eafc73bfde8e"
      },
      "execution_count": 78,
      "outputs": [
        {
          "output_type": "execute_result",
          "data": {
            "text/plain": [
              "<keras.src.callbacks.History at 0x7dd96cf5f8e0>"
            ]
          },
          "metadata": {},
          "execution_count": 78
        }
      ]
    },
    {
      "cell_type": "code",
      "source": [
        "in_model_normal.evaluate(X_test_normal,y_test)"
      ],
      "metadata": {
        "colab": {
          "base_uri": "https://localhost:8080/"
        },
        "id": "Xhb7o5iogR7Z",
        "outputId": "de55cfc5-1604-43f4-d396-f07672f2c29e"
      },
      "execution_count": 79,
      "outputs": [
        {
          "output_type": "stream",
          "name": "stdout",
          "text": [
            "13/13 [==============================] - 0s 2ms/step - loss: 3151.8621 - mae: 3151.8621\n"
          ]
        },
        {
          "output_type": "execute_result",
          "data": {
            "text/plain": [
              "[3151.862060546875, 3151.862060546875]"
            ]
          },
          "metadata": {},
          "execution_count": 79
        }
      ]
    }
  ]
}