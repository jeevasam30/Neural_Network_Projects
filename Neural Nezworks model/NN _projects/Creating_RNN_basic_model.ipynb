{
  "nbformat": 4,
  "nbformat_minor": 0,
  "metadata": {
    "colab": {
      "provenance": []
    },
    "kernelspec": {
      "name": "python3",
      "display_name": "Python 3"
    },
    "language_info": {
      "name": "python"
    }
  },
  "cells": [
    {
      "cell_type": "markdown",
      "source": [],
      "metadata": {
        "id": "MWaMhDhW3tuU"
      }
    },
    {
      "cell_type": "markdown",
      "source": [
        "#About the data\n",
        "\n",
        "google stock price where we are only interseted in open google stock price\n",
        "\n",
        "so the first two columns in the dataset is only important,which is the open columns\n"
      ],
      "metadata": {
        "id": "ZsE3Rx_n3vPS"
      }
    },
    {
      "cell_type": "markdown",
      "source": [
        "###Prepocessing the data"
      ],
      "metadata": {
        "id": "m7jFWDq959qS"
      }
    },
    {
      "cell_type": "code",
      "source": [
        "import numpy as np\n",
        "import matplotlib.pyplot as plt\n",
        "import pandas as pd"
      ],
      "metadata": {
        "id": "s-rlDXuz2NTS"
      },
      "execution_count": 1,
      "outputs": []
    },
    {
      "cell_type": "code",
      "execution_count": 2,
      "metadata": {
        "id": "zabtjTX0z6Am"
      },
      "outputs": [],
      "source": [
        "dataset_train = pd.read_csv('Google_Stock_Price_Train.csv')"
      ]
    },
    {
      "cell_type": "code",
      "source": [
        "dataset_train.shape"
      ],
      "metadata": {
        "colab": {
          "base_uri": "https://localhost:8080/"
        },
        "id": "cVrMMVVH3J58",
        "outputId": "f3f0ce93-d22c-450b-afaa-6424c09514bd"
      },
      "execution_count": 9,
      "outputs": [
        {
          "output_type": "execute_result",
          "data": {
            "text/plain": [
              "(1258, 6)"
            ]
          },
          "metadata": {},
          "execution_count": 9
        }
      ]
    },
    {
      "cell_type": "code",
      "source": [
        "train_dataset = dataset_train.iloc[:, 1:2].values#extarcting the column for normalizing\n"
      ],
      "metadata": {
        "id": "VSZG53b92Oqd"
      },
      "execution_count": 10,
      "outputs": []
    },
    {
      "cell_type": "markdown",
      "source": [
        "Neural Network alway should be normalized or scaled\n",
        "\n",
        "here we are using minmax scaling to get all the stock prices between 0 and 1\n"
      ],
      "metadata": {
        "id": "O7zddvqb4qVV"
      }
    },
    {
      "cell_type": "code",
      "source": [
        "from pandas.core.tools.datetimes import Scalar\n",
        "from sklearn.preprocessing import MinMaxScaler\n",
        "scalar = MinMaxScaler()\n",
        "training_set_scaled = scalar.fit_transform(train_dataset)\n",
        "training_set_scaled"
      ],
      "metadata": {
        "colab": {
          "base_uri": "https://localhost:8080/"
        },
        "id": "dfvoKLXR5u5w",
        "outputId": "bf805a39-d9c7-45e9-a27f-af1d012900e4"
      },
      "execution_count": 20,
      "outputs": [
        {
          "output_type": "execute_result",
          "data": {
            "text/plain": [
              "array([[0.08581368],\n",
              "       [0.09701243],\n",
              "       [0.09433366],\n",
              "       ...,\n",
              "       [0.95725128],\n",
              "       [0.93796041],\n",
              "       [0.93688146]])"
            ]
          },
          "metadata": {},
          "execution_count": 20
        }
      ]
    },
    {
      "cell_type": "markdown",
      "source": [
        "###Building the model"
      ],
      "metadata": {
        "id": "EAg-knQi6DFb"
      }
    },
    {
      "cell_type": "markdown",
      "source": [
        "for RNN we need to always give the past input with which it predcits the next output for this we are providng 60 time steps"
      ],
      "metadata": {
        "id": "ak1vcXx85dz0"
      }
    },
    {
      "cell_type": "code",
      "source": [
        "X_train = []\n",
        "y_train = []\n",
        "for i in range(60, 1258):\n",
        "    X_train.append(training_set_scaled[i-60:i, 0])\n",
        "    y_train.append(training_set_scaled[i, 0])\n",
        "X_train, y_train = np.array(X_train), np.array(y_train)"
      ],
      "metadata": {
        "id": "azwEg-9FHkko"
      },
      "execution_count": 21,
      "outputs": []
    },
    {
      "cell_type": "code",
      "source": [
        "X_train = np.reshape(X_train, (X_train.shape[0], X_train.shape[1], 1)) #input shape for the neural_network"
      ],
      "metadata": {
        "id": "OKqIKtiiJA3S"
      },
      "execution_count": 26,
      "outputs": []
    },
    {
      "cell_type": "code",
      "source": [
        "X_train.shape"
      ],
      "metadata": {
        "colab": {
          "base_uri": "https://localhost:8080/"
        },
        "id": "EjXFTr97JDOb",
        "outputId": "0f049ec3-d524-4e21-8945-15caaee87019"
      },
      "execution_count": 28,
      "outputs": [
        {
          "output_type": "execute_result",
          "data": {
            "text/plain": [
              "(1198, 60, 1)"
            ]
          },
          "metadata": {},
          "execution_count": 28
        }
      ]
    },
    {
      "cell_type": "code",
      "source": [
        "from keras.models import Sequential\n",
        "from keras.layers import Dense\n",
        "from keras.layers import LSTM\n",
        "from keras.layers import Dropout"
      ],
      "metadata": {
        "id": "XvnEzvCoJRZK"
      },
      "execution_count": 30,
      "outputs": []
    },
    {
      "cell_type": "markdown",
      "source": [
        "unit (number of memory units)\n",
        "\n",
        "return_sequences = True (Creating a sta cked LSTN layer one after the other we have to set it True once we stop adding the LstM layer then it should be set to false but which is done default )\n",
        "\n",
        "input_shape (input shape time steps and indicators)"
      ],
      "metadata": {
        "id": "M0JVUP1zLrrL"
      }
    },
    {
      "cell_type": "code",
      "source": [
        "regressor = Sequential()\n",
        "regressor.add(LSTM(units = 50, return_sequences = True, input_shape = (X_train.shape[1], 1)))#Adding the first  LSTM which involves the input\n",
        "regressor.add(Dropout(0.2)) #'regulristaion is used to avoid overfitting we are dropping 20 % of neurons be dropped out (ie 20% of 50 which is 10)\n",
        "regressor.add(LSTM(units = 50, return_sequences = True)) #Adding the second layer\n",
        "regressor.add(Dropout(0.2))\n",
        "regressor.add(LSTM(units = 50, return_sequences = True))#Adding the third layer\n",
        "regressor.add(Dropout(0.2))\n",
        "regressor.add(LSTM(units = 50))\n",
        "regressor.add(Dropout(0.2))\n",
        "regressor.add(Dense(units = 1))\n",
        "\n",
        "#compileing the model\n",
        "regressor.compile(optimizer = 'adam', loss = 'mean_squared_error')\n",
        "\n",
        "# fitting the model\n",
        "\n",
        "regressor.fit(X_train, y_train, epochs = 100, batch_size = 32)"
      ],
      "metadata": {
        "colab": {
          "base_uri": "https://localhost:8080/"
        },
        "id": "8-VrQKrcLOBX",
        "outputId": "fd5c7f12-d096-421c-8a14-f2c7d492b419"
      },
      "execution_count": 32,
      "outputs": [
        {
          "output_type": "stream",
          "name": "stdout",
          "text": [
            "Epoch 1/100\n",
            "38/38 [==============================] - 15s 158ms/step - loss: 0.0492\n",
            "Epoch 2/100\n",
            "38/38 [==============================] - 5s 120ms/step - loss: 0.0064\n",
            "Epoch 3/100\n",
            "38/38 [==============================] - 6s 154ms/step - loss: 0.0057\n",
            "Epoch 4/100\n",
            "38/38 [==============================] - 5s 124ms/step - loss: 0.0055\n",
            "Epoch 5/100\n",
            "38/38 [==============================] - 5s 123ms/step - loss: 0.0058\n",
            "Epoch 6/100\n",
            "38/38 [==============================] - 6s 157ms/step - loss: 0.0048\n",
            "Epoch 7/100\n",
            "38/38 [==============================] - 5s 124ms/step - loss: 0.0044\n",
            "Epoch 8/100\n",
            "38/38 [==============================] - 6s 150ms/step - loss: 0.0043\n",
            "Epoch 9/100\n",
            "38/38 [==============================] - 7s 193ms/step - loss: 0.0041\n",
            "Epoch 10/100\n",
            "38/38 [==============================] - 10s 256ms/step - loss: 0.0046\n",
            "Epoch 11/100\n",
            "38/38 [==============================] - 6s 163ms/step - loss: 0.0042\n",
            "Epoch 12/100\n",
            "38/38 [==============================] - 8s 210ms/step - loss: 0.0041\n",
            "Epoch 13/100\n",
            "38/38 [==============================] - 6s 159ms/step - loss: 0.0047\n",
            "Epoch 14/100\n",
            "38/38 [==============================] - 6s 162ms/step - loss: 0.0045\n",
            "Epoch 15/100\n",
            "38/38 [==============================] - 5s 125ms/step - loss: 0.0038\n",
            "Epoch 16/100\n",
            "38/38 [==============================] - 6s 157ms/step - loss: 0.0046\n",
            "Epoch 17/100\n",
            "38/38 [==============================] - 5s 122ms/step - loss: 0.0043\n",
            "Epoch 18/100\n",
            "38/38 [==============================] - 5s 135ms/step - loss: 0.0037\n",
            "Epoch 19/100\n",
            "38/38 [==============================] - 6s 143ms/step - loss: 0.0042\n",
            "Epoch 20/100\n",
            "38/38 [==============================] - 5s 123ms/step - loss: 0.0036\n",
            "Epoch 21/100\n",
            "38/38 [==============================] - 6s 157ms/step - loss: 0.0035\n",
            "Epoch 22/100\n",
            "38/38 [==============================] - 5s 123ms/step - loss: 0.0034\n",
            "Epoch 23/100\n",
            "38/38 [==============================] - 5s 128ms/step - loss: 0.0032\n",
            "Epoch 24/100\n",
            "38/38 [==============================] - 6s 148ms/step - loss: 0.0031\n",
            "Epoch 25/100\n",
            "38/38 [==============================] - 5s 126ms/step - loss: 0.0033\n",
            "Epoch 26/100\n",
            "38/38 [==============================] - 6s 158ms/step - loss: 0.0029\n",
            "Epoch 27/100\n",
            "38/38 [==============================] - 5s 122ms/step - loss: 0.0032\n",
            "Epoch 28/100\n",
            "38/38 [==============================] - 6s 162ms/step - loss: 0.0032\n",
            "Epoch 29/100\n",
            "38/38 [==============================] - 5s 137ms/step - loss: 0.0034\n",
            "Epoch 30/100\n",
            "38/38 [==============================] - 5s 126ms/step - loss: 0.0028\n",
            "Epoch 31/100\n",
            "38/38 [==============================] - 6s 163ms/step - loss: 0.0031\n",
            "Epoch 32/100\n",
            "38/38 [==============================] - 5s 130ms/step - loss: 0.0028\n",
            "Epoch 33/100\n",
            "38/38 [==============================] - 6s 162ms/step - loss: 0.0035\n",
            "Epoch 34/100\n",
            "38/38 [==============================] - 5s 129ms/step - loss: 0.0028\n",
            "Epoch 35/100\n",
            "38/38 [==============================] - 5s 126ms/step - loss: 0.0029\n",
            "Epoch 36/100\n",
            "38/38 [==============================] - 6s 160ms/step - loss: 0.0031\n",
            "Epoch 37/100\n",
            "38/38 [==============================] - 5s 126ms/step - loss: 0.0027\n",
            "Epoch 38/100\n",
            "38/38 [==============================] - 7s 173ms/step - loss: 0.0025\n",
            "Epoch 39/100\n",
            "38/38 [==============================] - 5s 126ms/step - loss: 0.0025\n",
            "Epoch 40/100\n",
            "38/38 [==============================] - 7s 196ms/step - loss: 0.0027\n",
            "Epoch 41/100\n",
            "38/38 [==============================] - 6s 165ms/step - loss: 0.0029\n",
            "Epoch 42/100\n",
            "38/38 [==============================] - 6s 158ms/step - loss: 0.0030\n",
            "Epoch 43/100\n",
            "38/38 [==============================] - 5s 130ms/step - loss: 0.0026\n",
            "Epoch 44/100\n",
            "38/38 [==============================] - 6s 156ms/step - loss: 0.0027\n",
            "Epoch 45/100\n",
            "38/38 [==============================] - 6s 168ms/step - loss: 0.0023\n",
            "Epoch 46/100\n",
            "38/38 [==============================] - 6s 149ms/step - loss: 0.0023\n",
            "Epoch 47/100\n",
            "38/38 [==============================] - 6s 159ms/step - loss: 0.0023\n",
            "Epoch 48/100\n",
            "38/38 [==============================] - 6s 155ms/step - loss: 0.0027\n",
            "Epoch 49/100\n",
            "38/38 [==============================] - 6s 162ms/step - loss: 0.0023\n",
            "Epoch 50/100\n",
            "38/38 [==============================] - 5s 129ms/step - loss: 0.0023\n",
            "Epoch 51/100\n",
            "38/38 [==============================] - 6s 155ms/step - loss: 0.0023\n",
            "Epoch 52/100\n",
            "38/38 [==============================] - 5s 130ms/step - loss: 0.0026\n",
            "Epoch 53/100\n",
            "38/38 [==============================] - 5s 130ms/step - loss: 0.0025\n",
            "Epoch 54/100\n",
            "38/38 [==============================] - 6s 162ms/step - loss: 0.0029\n",
            "Epoch 55/100\n",
            "38/38 [==============================] - 5s 126ms/step - loss: 0.0024\n",
            "Epoch 56/100\n",
            "38/38 [==============================] - 6s 162ms/step - loss: 0.0023\n",
            "Epoch 57/100\n",
            "38/38 [==============================] - 5s 128ms/step - loss: 0.0025\n",
            "Epoch 58/100\n",
            "38/38 [==============================] - 5s 138ms/step - loss: 0.0024\n",
            "Epoch 59/100\n",
            "38/38 [==============================] - 6s 149ms/step - loss: 0.0020\n",
            "Epoch 60/100\n",
            "38/38 [==============================] - 5s 129ms/step - loss: 0.0023\n",
            "Epoch 61/100\n",
            "38/38 [==============================] - 7s 186ms/step - loss: 0.0021\n",
            "Epoch 62/100\n",
            "38/38 [==============================] - 5s 129ms/step - loss: 0.0024\n",
            "Epoch 63/100\n",
            "38/38 [==============================] - 6s 168ms/step - loss: 0.0020\n",
            "Epoch 64/100\n",
            "38/38 [==============================] - 6s 165ms/step - loss: 0.0021\n",
            "Epoch 65/100\n",
            "38/38 [==============================] - 8s 219ms/step - loss: 0.0023\n",
            "Epoch 66/100\n",
            "38/38 [==============================] - 10s 251ms/step - loss: 0.0023\n",
            "Epoch 67/100\n",
            "38/38 [==============================] - 5s 140ms/step - loss: 0.0019\n",
            "Epoch 68/100\n",
            "38/38 [==============================] - 5s 132ms/step - loss: 0.0021\n",
            "Epoch 69/100\n",
            "38/38 [==============================] - 6s 168ms/step - loss: 0.0024\n",
            "Epoch 70/100\n",
            "38/38 [==============================] - 12s 312ms/step - loss: 0.0019\n",
            "Epoch 71/100\n",
            "38/38 [==============================] - 6s 143ms/step - loss: 0.0020\n",
            "Epoch 72/100\n",
            "38/38 [==============================] - 6s 154ms/step - loss: 0.0020\n",
            "Epoch 73/100\n",
            "38/38 [==============================] - 5s 133ms/step - loss: 0.0019\n",
            "Epoch 74/100\n",
            "38/38 [==============================] - 5s 128ms/step - loss: 0.0020\n",
            "Epoch 75/100\n",
            "38/38 [==============================] - 6s 161ms/step - loss: 0.0021\n",
            "Epoch 76/100\n",
            "38/38 [==============================] - 5s 130ms/step - loss: 0.0020\n",
            "Epoch 77/100\n",
            "38/38 [==============================] - 6s 161ms/step - loss: 0.0021\n",
            "Epoch 78/100\n",
            "38/38 [==============================] - 5s 132ms/step - loss: 0.0019\n",
            "Epoch 79/100\n",
            "38/38 [==============================] - 5s 144ms/step - loss: 0.0018\n",
            "Epoch 80/100\n",
            "38/38 [==============================] - 6s 148ms/step - loss: 0.0019\n",
            "Epoch 81/100\n",
            "38/38 [==============================] - 5s 128ms/step - loss: 0.0017\n",
            "Epoch 82/100\n",
            "38/38 [==============================] - 6s 163ms/step - loss: 0.0017\n",
            "Epoch 83/100\n",
            "38/38 [==============================] - 7s 189ms/step - loss: 0.0016\n",
            "Epoch 84/100\n",
            "38/38 [==============================] - 11s 296ms/step - loss: 0.0018\n",
            "Epoch 85/100\n",
            "38/38 [==============================] - 6s 158ms/step - loss: 0.0018\n",
            "Epoch 86/100\n",
            "38/38 [==============================] - 5s 129ms/step - loss: 0.0016\n",
            "Epoch 87/100\n",
            "38/38 [==============================] - 5s 145ms/step - loss: 0.0017\n",
            "Epoch 88/100\n",
            "38/38 [==============================] - 6s 157ms/step - loss: 0.0016\n",
            "Epoch 89/100\n",
            "38/38 [==============================] - 5s 127ms/step - loss: 0.0016\n",
            "Epoch 90/100\n",
            "38/38 [==============================] - 6s 161ms/step - loss: 0.0016\n",
            "Epoch 91/100\n",
            "38/38 [==============================] - 5s 131ms/step - loss: 0.0017\n",
            "Epoch 92/100\n",
            "38/38 [==============================] - 6s 145ms/step - loss: 0.0019\n",
            "Epoch 93/100\n",
            "38/38 [==============================] - 5s 140ms/step - loss: 0.0014\n",
            "Epoch 94/100\n",
            "38/38 [==============================] - 5s 130ms/step - loss: 0.0016\n",
            "Epoch 95/100\n",
            "38/38 [==============================] - 6s 161ms/step - loss: 0.0017\n",
            "Epoch 96/100\n",
            "38/38 [==============================] - 5s 143ms/step - loss: 0.0015\n",
            "Epoch 97/100\n",
            "38/38 [==============================] - 7s 174ms/step - loss: 0.0016\n",
            "Epoch 98/100\n",
            "38/38 [==============================] - 5s 127ms/step - loss: 0.0016\n",
            "Epoch 99/100\n",
            "38/38 [==============================] - 6s 146ms/step - loss: 0.0017\n",
            "Epoch 100/100\n",
            "38/38 [==============================] - 5s 140ms/step - loss: 0.0014\n"
          ]
        },
        {
          "output_type": "execute_result",
          "data": {
            "text/plain": [
              "<keras.src.callbacks.History at 0x7d635a62ab30>"
            ]
          },
          "metadata": {},
          "execution_count": 32
        }
      ]
    },
    {
      "cell_type": "markdown",
      "source": [
        "#Making the predictions and visualising"
      ],
      "metadata": {
        "id": "ePcO46QCNsRO"
      }
    },
    {
      "cell_type": "code",
      "source": [
        "dataset_test = pd.read_csv('Google_Stock_Price_Test.csv')\n",
        "real_stock_price = dataset_test.iloc[:, 1:2].values"
      ],
      "metadata": {
        "id": "oY26V6rINqe9"
      },
      "execution_count": 33,
      "outputs": []
    },
    {
      "cell_type": "code",
      "source": [
        "dataset_total = pd.concat((dataset_train['Open'], dataset_test['Open']), axis = 0)\n",
        "inputs = dataset_total[len(dataset_total) - len(dataset_test) - 60:].values\n",
        "inputs = inputs.reshape(-1,1)\n",
        "inputs = scalar.transform(inputs)\n",
        "X_test = []\n",
        "for i in range(60, 80):\n",
        "    X_test.append(inputs[i-60:i, 0])\n",
        "X_test = np.array(X_test)\n",
        "X_test = np.reshape(X_test, (X_test.shape[0], X_test.shape[1], 1))\n",
        "predicted_stock_price = regressor.predict(X_test)\n",
        "predicted_stock_price = scalar.inverse_transform(predicted_stock_price)"
      ],
      "metadata": {
        "colab": {
          "base_uri": "https://localhost:8080/"
        },
        "id": "yJ0mncrJM0Gx",
        "outputId": "18ec268c-0c8a-43bb-9f91-52879cb493d1"
      },
      "execution_count": 34,
      "outputs": [
        {
          "output_type": "stream",
          "name": "stdout",
          "text": [
            "1/1 [==============================] - 2s 2s/step\n"
          ]
        }
      ]
    },
    {
      "cell_type": "code",
      "source": [
        "plt.plot(real_stock_price, color = 'red', label = 'Real Google Stock Price')\n",
        "plt.plot(predicted_stock_price, color = 'blue', label = 'Predicted Google Stock Price')\n",
        "plt.title('Google Stock Price Prediction')\n",
        "plt.xlabel('Time')\n",
        "plt.ylabel('Google Stock Price')\n",
        "plt.legend()\n",
        "plt.show()"
      ],
      "metadata": {
        "colab": {
          "base_uri": "https://localhost:8080/",
          "height": 472
        },
        "id": "pGG1AS07OP8N",
        "outputId": "42de0fae-c79c-4887-c639-7e76665a7d5d"
      },
      "execution_count": 35,
      "outputs": [
        {
          "output_type": "display_data",
          "data": {
            "text/plain": [
              "<Figure size 640x480 with 1 Axes>"
            ],
            "image/png": "[encoded data removed]"
          },
          "metadata": {}
        }
      ]
    },
    {
      "cell_type": "markdown",
      "source": [
        "#Evaluating the RNN model"
      ],
      "metadata": {
        "id": "-f9EHE6SPcy9"
      }
    },
    {
      "cell_type": "markdown",
      "source": [
        "our specific Stock Price Prediction problem, evaluating the model with the RMSE does not make much sense, since we are more interested in the directions taken by our predictions, rather than the closeness of their values to the real stock price. We want to check if our predictions follow the same directions as the real stock price and we don’t really care whether our predictions are close the real stock price. The predictions could indeed be close but often taking the opposite direction from the real stock price"
      ],
      "metadata": {
        "id": "gb9uKOmaPjp4"
      }
    },
    {
      "cell_type": "code",
      "source": [
        "import math\n",
        "from sklearn.metrics import mean_squared_error\n",
        "rmse = math.sqrt(mean_squared_error(real_stock_price, predicted_stock_price))"
      ],
      "metadata": {
        "id": "xC7Zd7HdPnlm"
      },
      "execution_count": 36,
      "outputs": []
    },
    {
      "cell_type": "code",
      "source": [
        "rmse"
      ],
      "metadata": {
        "colab": {
          "base_uri": "https://localhost:8080/"
        },
        "id": "N3L6okAIPwgJ",
        "outputId": "3e96d848-7b41-4d69-cc2a-7ab7f99fc2af"
      },
      "execution_count": 37,
      "outputs": [
        {
          "output_type": "execute_result",
          "data": {
            "text/plain": [
              "20.396115213864473"
            ]
          },
          "metadata": {},
          "execution_count": 37
        }
      ]
    },
    {
      "cell_type": "markdown",
      "source": [
        "#Improving the RNN model\n",
        "Getting more training data: we trained our model on the past 5 years of the Google Stock Price but it would be even better to train it on the past 10 years.\n",
        "Increasing the number of timesteps: the model remembered the stock prices from the 60 previous financial days to predict the stock price of the next day. That’s because we chose a number of 60 timesteps (3 months). You could try to increase the number of timesteps, by choosing for example 120 timesteps (6 months).\n",
        "Adding some other indicators: if you have the financial instinct that the stock price of some other companies might be correlated to the one of Google, you could add this other stock price as a new indicator in the training data.\n",
        "Adding more LSTM layers: we built a RNN with four LSTM layers but you could try with even more.\n",
        "Adding more neurones in the LSTM layers: we highlighted the fact that we needed a high number of neurones in the LSTM layers to respond better to the complexity of the problem and we chose to include 50 neurones in each of our 4 LSTM layers. You could try an architecture with even more neurones in each of the 4 (or more) LSTM layers."
      ],
      "metadata": {
        "id": "HL74iezcQCoF"
      }
    },
    {
      "cell_type": "code",
      "source": [],
      "metadata": {
        "id": "xlfpaj9iPx_C"
      },
      "execution_count": null,
      "outputs": []
    }
  ]
}